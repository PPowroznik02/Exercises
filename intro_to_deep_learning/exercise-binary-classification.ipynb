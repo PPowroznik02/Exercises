{
 "cells": [
  {
   "cell_type": "markdown",
   "id": "341bd5c6",
   "metadata": {
    "papermill": {
     "duration": 0.003459,
     "end_time": "2025-09-01T22:22:14.141909",
     "exception": false,
     "start_time": "2025-09-01T22:22:14.138450",
     "status": "completed"
    },
    "tags": []
   },
   "source": [
    "**This notebook is an exercise in the [Intro to Deep Learning](https://www.kaggle.com/learn/intro-to-deep-learning) course.  You can reference the tutorial at [this link](https://www.kaggle.com/ryanholbrook/binary-classification).**\n",
    "\n",
    "---\n"
   ]
  },
  {
   "cell_type": "markdown",
   "id": "57db2cae",
   "metadata": {
    "papermill": {
     "duration": 0.002601,
     "end_time": "2025-09-01T22:22:14.147544",
     "exception": false,
     "start_time": "2025-09-01T22:22:14.144943",
     "status": "completed"
    },
    "tags": []
   },
   "source": [
    "# Introduction #\n",
    "\n",
    "In this exercise, you'll build a model to predict hotel cancellations with a binary classifier."
   ]
  },
  {
   "cell_type": "code",
   "execution_count": 1,
   "id": "122b3764",
   "metadata": {
    "execution": {
     "iopub.execute_input": "2025-09-01T22:22:14.154606Z",
     "iopub.status.busy": "2025-09-01T22:22:14.154298Z",
     "iopub.status.idle": "2025-09-01T22:22:14.973433Z",
     "shell.execute_reply": "2025-09-01T22:22:14.972547Z"
    },
    "lines_to_next_cell": 0,
    "papermill": {
     "duration": 0.82521,
     "end_time": "2025-09-01T22:22:14.975600",
     "exception": false,
     "start_time": "2025-09-01T22:22:14.150390",
     "status": "completed"
    },
    "tags": []
   },
   "outputs": [
    {
     "name": "stderr",
     "output_type": "stream",
     "text": [
      "/tmp/ipykernel_26/3338970720.py:3: MatplotlibDeprecationWarning: The seaborn styles shipped by Matplotlib are deprecated since 3.6, as they no longer correspond to the styles shipped by seaborn. However, they will remain available as 'seaborn-v0_8-<style>'. Alternatively, directly use the seaborn API instead.\n",
      "  plt.style.use('seaborn-whitegrid')\n"
     ]
    }
   ],
   "source": [
    "# Setup plotting\n",
    "import matplotlib.pyplot as plt\n",
    "plt.style.use('seaborn-whitegrid')\n",
    "# Set Matplotlib defaults\n",
    "plt.rc('figure', autolayout=True)\n",
    "plt.rc('axes', labelweight='bold', labelsize='large',\n",
    "       titleweight='bold', titlesize=18, titlepad=10)\n",
    "plt.rc('animation', html='html5')\n",
    "\n",
    "# Setup feedback system\n",
    "from learntools.core import binder\n",
    "binder.bind(globals())\n",
    "from learntools.deep_learning_intro.ex6 import *"
   ]
  },
  {
   "cell_type": "markdown",
   "id": "e4cc6e74",
   "metadata": {
    "papermill": {
     "duration": 0.002795,
     "end_time": "2025-09-01T22:22:14.981624",
     "exception": false,
     "start_time": "2025-09-01T22:22:14.978829",
     "status": "completed"
    },
    "tags": []
   },
   "source": [
    "First, load the *Hotel Cancellations* dataset."
   ]
  },
  {
   "cell_type": "code",
   "execution_count": 2,
   "id": "1e131505",
   "metadata": {
    "execution": {
     "iopub.execute_input": "2025-09-01T22:22:14.988854Z",
     "iopub.status.busy": "2025-09-01T22:22:14.988051Z",
     "iopub.status.idle": "2025-09-01T22:22:17.347834Z",
     "shell.execute_reply": "2025-09-01T22:22:17.347087Z"
    },
    "lines_to_next_cell": 2,
    "papermill": {
     "duration": 2.365501,
     "end_time": "2025-09-01T22:22:17.349942",
     "exception": false,
     "start_time": "2025-09-01T22:22:14.984441",
     "status": "completed"
    },
    "tags": []
   },
   "outputs": [],
   "source": [
    "import pandas as pd\n",
    "\n",
    "from sklearn.model_selection import train_test_split\n",
    "from sklearn.preprocessing import StandardScaler, OneHotEncoder\n",
    "from sklearn.impute import SimpleImputer\n",
    "from sklearn.pipeline import make_pipeline\n",
    "from sklearn.compose import make_column_transformer\n",
    "\n",
    "hotel = pd.read_csv('../input/dl-course-data/hotel.csv')\n",
    "\n",
    "X = hotel.copy()\n",
    "y = X.pop('is_canceled')\n",
    "\n",
    "X['arrival_date_month'] = \\\n",
    "    X['arrival_date_month'].map(\n",
    "        {'January':1, 'February': 2, 'March':3,\n",
    "         'April':4, 'May':5, 'June':6, 'July':7,\n",
    "         'August':8, 'September':9, 'October':10,\n",
    "         'November':11, 'December':12}\n",
    "    )\n",
    "\n",
    "features_num = [\n",
    "    \"lead_time\", \"arrival_date_week_number\",\n",
    "    \"arrival_date_day_of_month\", \"stays_in_weekend_nights\",\n",
    "    \"stays_in_week_nights\", \"adults\", \"children\", \"babies\",\n",
    "    \"is_repeated_guest\", \"previous_cancellations\",\n",
    "    \"previous_bookings_not_canceled\", \"required_car_parking_spaces\",\n",
    "    \"total_of_special_requests\", \"adr\",\n",
    "]\n",
    "features_cat = [\n",
    "    \"hotel\", \"arrival_date_month\", \"meal\",\n",
    "    \"market_segment\", \"distribution_channel\",\n",
    "    \"reserved_room_type\", \"deposit_type\", \"customer_type\",\n",
    "]\n",
    "\n",
    "transformer_num = make_pipeline(\n",
    "    SimpleImputer(strategy=\"constant\"), # there are a few missing values\n",
    "    StandardScaler(),\n",
    ")\n",
    "transformer_cat = make_pipeline(\n",
    "    SimpleImputer(strategy=\"constant\", fill_value=\"NA\"),\n",
    "    OneHotEncoder(handle_unknown='ignore'),\n",
    ")\n",
    "\n",
    "preprocessor = make_column_transformer(\n",
    "    (transformer_num, features_num),\n",
    "    (transformer_cat, features_cat),\n",
    ")\n",
    "\n",
    "# stratify - make sure classes are evenlly represented across splits\n",
    "X_train, X_valid, y_train, y_valid = \\\n",
    "    train_test_split(X, y, stratify=y, train_size=0.75)\n",
    "\n",
    "X_train = preprocessor.fit_transform(X_train)\n",
    "X_valid = preprocessor.transform(X_valid)\n",
    "\n",
    "input_shape = [X_train.shape[1]]"
   ]
  },
  {
   "cell_type": "markdown",
   "id": "209cd5c2",
   "metadata": {
    "papermill": {
     "duration": 0.003668,
     "end_time": "2025-09-01T22:22:17.357394",
     "exception": false,
     "start_time": "2025-09-01T22:22:17.353726",
     "status": "completed"
    },
    "tags": []
   },
   "source": [
    "# 1) Define Model #\n",
    "\n",
    "The model we'll use this time will have both batch normalization and dropout layers. To ease reading we've broken the diagram into blocks, but you can define it layer by layer as usual.\n",
    "\n",
    "Define a model with an architecture given by this diagram:\n",
    "\n",
    "<figure style=\"padding: 1em;\">\n",
    "<img src=\"https://storage.googleapis.com/kaggle-media/learn/images/V04o59Z.png\" width=\"400\" alt=\"Diagram of network architecture: BatchNorm, Dense, BatchNorm, Dropout, Dense, BatchNorm, Dropout, Dense.\">\n",
    "<figcaption style=\"textalign: center; font-style: italic\"><center>Diagram of a binary classifier.</center></figcaption>\n",
    "</figure>\n"
   ]
  },
  {
   "cell_type": "code",
   "execution_count": 3,
   "id": "4c6abcff",
   "metadata": {
    "execution": {
     "iopub.execute_input": "2025-09-01T22:22:17.365548Z",
     "iopub.status.busy": "2025-09-01T22:22:17.365239Z",
     "iopub.status.idle": "2025-09-01T22:22:30.502719Z",
     "shell.execute_reply": "2025-09-01T22:22:30.501857Z"
    },
    "lines_to_next_cell": 2,
    "papermill": {
     "duration": 13.14344,
     "end_time": "2025-09-01T22:22:30.504559",
     "exception": false,
     "start_time": "2025-09-01T22:22:17.361119",
     "status": "completed"
    },
    "tags": []
   },
   "outputs": [
    {
     "name": "stderr",
     "output_type": "stream",
     "text": [
      "2025-09-01 22:22:19.341122: E external/local_xla/xla/stream_executor/cuda/cuda_dnn.cc:9261] Unable to register cuDNN factory: Attempting to register factory for plugin cuDNN when one has already been registered\n",
      "2025-09-01 22:22:19.341232: E external/local_xla/xla/stream_executor/cuda/cuda_fft.cc:607] Unable to register cuFFT factory: Attempting to register factory for plugin cuFFT when one has already been registered\n",
      "2025-09-01 22:22:19.486997: E external/local_xla/xla/stream_executor/cuda/cuda_blas.cc:1515] Unable to register cuBLAS factory: Attempting to register factory for plugin cuBLAS when one has already been registered\n"
     ]
    },
    {
     "data": {
      "application/javascript": [
       "parent.postMessage({\"jupyterEvent\": \"custom.exercise_interaction\", \"data\": {\"outcomeType\": 1, \"valueTowardsCompletion\": 0.3333333333333333, \"interactionType\": 1, \"questionType\": 2, \"questionId\": \"1_Q1\", \"learnToolsVersion\": \"0.3.4\", \"failureMessage\": \"\", \"exceptionClass\": \"\", \"trace\": \"\"}}, \"*\")"
      ],
      "text/plain": [
       "<IPython.core.display.Javascript object>"
      ]
     },
     "metadata": {},
     "output_type": "display_data"
    },
    {
     "data": {
      "text/markdown": [
       "<span style=\"color:#33cc33\">Correct</span>"
      ],
      "text/plain": [
       "Correct"
      ]
     },
     "metadata": {},
     "output_type": "display_data"
    }
   ],
   "source": [
    "from tensorflow import keras\n",
    "from tensorflow.keras import layers\n",
    "\n",
    "# YOUR CODE HERE: define the model given in the diagram\n",
    "model = keras.Sequential([\n",
    "    layers.Input(shape=input_shape),\n",
    "    layers.BatchNormalization(),\n",
    "    \n",
    "    layers.Dense(256, activation='relu'),\n",
    "    layers.BatchNormalization(),\n",
    "    layers.Dropout(0.3),\n",
    "\n",
    "    layers.Dense(256, activation='relu'),\n",
    "    layers.BatchNormalization(),\n",
    "    layers.Dropout(0.3),\n",
    "\n",
    "    layers.Dense(1, activation='sigmoid')\n",
    "])\n",
    "\n",
    "# Check your answer\n",
    "q_1.check()"
   ]
  },
  {
   "cell_type": "markdown",
   "id": "025f320a",
   "metadata": {
    "papermill": {
     "duration": 0.003703,
     "end_time": "2025-09-01T22:22:30.511665",
     "exception": false,
     "start_time": "2025-09-01T22:22:30.507962",
     "status": "completed"
    },
    "tags": []
   },
   "source": [
    "# 2) Add Optimizer, Loss, and Metric #\n",
    "\n",
    "Now compile the model with the Adam optimizer and binary versions of the cross-entropy loss and accuracy metric."
   ]
  },
  {
   "cell_type": "code",
   "execution_count": 4,
   "id": "1e5c1630",
   "metadata": {
    "execution": {
     "iopub.execute_input": "2025-09-01T22:22:30.519211Z",
     "iopub.status.busy": "2025-09-01T22:22:30.518951Z",
     "iopub.status.idle": "2025-09-01T22:22:30.537554Z",
     "shell.execute_reply": "2025-09-01T22:22:30.536709Z"
    },
    "lines_to_next_cell": 0,
    "papermill": {
     "duration": 0.024289,
     "end_time": "2025-09-01T22:22:30.539252",
     "exception": false,
     "start_time": "2025-09-01T22:22:30.514963",
     "status": "completed"
    },
    "tags": []
   },
   "outputs": [
    {
     "data": {
      "application/javascript": [
       "parent.postMessage({\"jupyterEvent\": \"custom.exercise_interaction\", \"data\": {\"outcomeType\": 1, \"valueTowardsCompletion\": 0.3333333333333333, \"interactionType\": 1, \"questionType\": 2, \"questionId\": \"2_Q2\", \"learnToolsVersion\": \"0.3.4\", \"failureMessage\": \"\", \"exceptionClass\": \"\", \"trace\": \"\"}}, \"*\")"
      ],
      "text/plain": [
       "<IPython.core.display.Javascript object>"
      ]
     },
     "metadata": {},
     "output_type": "display_data"
    },
    {
     "data": {
      "text/markdown": [
       "<span style=\"color:#33cc33\">Correct</span>"
      ],
      "text/plain": [
       "Correct"
      ]
     },
     "metadata": {},
     "output_type": "display_data"
    }
   ],
   "source": [
    "# YOUR CODE HERE\n",
    "model.compile(\n",
    "    optimizer='adam',\n",
    "    loss='binary_crossentropy',\n",
    "    metrics=['binary_accuracy']\n",
    ")\n",
    "\n",
    "# Check your answer\n",
    "q_2.check()"
   ]
  },
  {
   "cell_type": "code",
   "execution_count": 5,
   "id": "3800876e",
   "metadata": {
    "execution": {
     "iopub.execute_input": "2025-09-01T22:22:30.547108Z",
     "iopub.status.busy": "2025-09-01T22:22:30.546869Z",
     "iopub.status.idle": "2025-09-01T22:22:30.550051Z",
     "shell.execute_reply": "2025-09-01T22:22:30.549319Z"
    },
    "lines_to_next_cell": 0,
    "papermill": {
     "duration": 0.009002,
     "end_time": "2025-09-01T22:22:30.551705",
     "exception": false,
     "start_time": "2025-09-01T22:22:30.542703",
     "status": "completed"
    },
    "tags": []
   },
   "outputs": [],
   "source": [
    "# Lines below will give you a hint or solution code\n",
    "#q_2.hint()\n",
    "#q_2.solution()"
   ]
  },
  {
   "cell_type": "markdown",
   "id": "7cbc8aed",
   "metadata": {
    "papermill": {
     "duration": 0.003176,
     "end_time": "2025-09-01T22:22:30.558326",
     "exception": false,
     "start_time": "2025-09-01T22:22:30.555150",
     "status": "completed"
    },
    "tags": []
   },
   "source": [
    "Finally, run this cell to train the model and view the learning curves. It may run for around 60 to 70 epochs, which could take a minute or two."
   ]
  },
  {
   "cell_type": "code",
   "execution_count": 6,
   "id": "be54a87d",
   "metadata": {
    "execution": {
     "iopub.execute_input": "2025-09-01T22:22:30.566025Z",
     "iopub.status.busy": "2025-09-01T22:22:30.565800Z",
     "iopub.status.idle": "2025-09-01T22:23:06.779102Z",
     "shell.execute_reply": "2025-09-01T22:23:06.778294Z"
    },
    "papermill": {
     "duration": 36.21917,
     "end_time": "2025-09-01T22:23:06.780834",
     "exception": false,
     "start_time": "2025-09-01T22:22:30.561664",
     "status": "completed"
    },
    "tags": []
   },
   "outputs": [
    {
     "name": "stdout",
     "output_type": "stream",
     "text": [
      "Epoch 1/200\n"
     ]
    },
    {
     "name": "stderr",
     "output_type": "stream",
     "text": [
      "WARNING: All log messages before absl::InitializeLog() is called are written to STDERR\n",
      "I0000 00:00:1756765354.581411      66 device_compiler.h:186] Compiled cluster using XLA!  This line is logged at most once for the lifetime of the process.\n"
     ]
    },
    {
     "name": "stdout",
     "output_type": "stream",
     "text": [
      "175/175 [==============================] - 6s 6ms/step - loss: 0.4839 - binary_accuracy: 0.7717 - val_loss: 0.4347 - val_binary_accuracy: 0.7948\n",
      "Epoch 2/200\n",
      "175/175 [==============================] - 1s 5ms/step - loss: 0.4240 - binary_accuracy: 0.8017 - val_loss: 0.4016 - val_binary_accuracy: 0.8137\n",
      "Epoch 3/200\n",
      "175/175 [==============================] - 1s 5ms/step - loss: 0.4092 - binary_accuracy: 0.8090 - val_loss: 0.3952 - val_binary_accuracy: 0.8166\n",
      "Epoch 4/200\n",
      "175/175 [==============================] - 1s 5ms/step - loss: 0.4019 - binary_accuracy: 0.8131 - val_loss: 0.3917 - val_binary_accuracy: 0.8203\n",
      "Epoch 5/200\n",
      "175/175 [==============================] - 1s 5ms/step - loss: 0.3971 - binary_accuracy: 0.8151 - val_loss: 0.3902 - val_binary_accuracy: 0.8201\n",
      "Epoch 6/200\n",
      "175/175 [==============================] - 1s 5ms/step - loss: 0.3934 - binary_accuracy: 0.8166 - val_loss: 0.3839 - val_binary_accuracy: 0.8224\n",
      "Epoch 7/200\n",
      "175/175 [==============================] - 1s 5ms/step - loss: 0.3884 - binary_accuracy: 0.8185 - val_loss: 0.3810 - val_binary_accuracy: 0.8240\n",
      "Epoch 8/200\n",
      "175/175 [==============================] - 1s 5ms/step - loss: 0.3846 - binary_accuracy: 0.8217 - val_loss: 0.3802 - val_binary_accuracy: 0.8264\n",
      "Epoch 9/200\n",
      "175/175 [==============================] - 1s 5ms/step - loss: 0.3817 - binary_accuracy: 0.8237 - val_loss: 0.3762 - val_binary_accuracy: 0.8267\n",
      "Epoch 10/200\n",
      "175/175 [==============================] - 1s 5ms/step - loss: 0.3779 - binary_accuracy: 0.8248 - val_loss: 0.3724 - val_binary_accuracy: 0.8295\n",
      "Epoch 11/200\n",
      "175/175 [==============================] - 1s 5ms/step - loss: 0.3765 - binary_accuracy: 0.8253 - val_loss: 0.3719 - val_binary_accuracy: 0.8305\n",
      "Epoch 12/200\n",
      "175/175 [==============================] - 1s 5ms/step - loss: 0.3746 - binary_accuracy: 0.8267 - val_loss: 0.3707 - val_binary_accuracy: 0.8291\n",
      "Epoch 13/200\n",
      "175/175 [==============================] - 1s 5ms/step - loss: 0.3731 - binary_accuracy: 0.8265 - val_loss: 0.3696 - val_binary_accuracy: 0.8312\n",
      "Epoch 14/200\n",
      "175/175 [==============================] - 1s 5ms/step - loss: 0.3698 - binary_accuracy: 0.8292 - val_loss: 0.3672 - val_binary_accuracy: 0.8334\n",
      "Epoch 15/200\n",
      "175/175 [==============================] - 1s 5ms/step - loss: 0.3683 - binary_accuracy: 0.8297 - val_loss: 0.3656 - val_binary_accuracy: 0.8326\n",
      "Epoch 16/200\n",
      "175/175 [==============================] - 1s 5ms/step - loss: 0.3653 - binary_accuracy: 0.8318 - val_loss: 0.3639 - val_binary_accuracy: 0.8333\n",
      "Epoch 17/200\n",
      "175/175 [==============================] - 1s 5ms/step - loss: 0.3648 - binary_accuracy: 0.8321 - val_loss: 0.3638 - val_binary_accuracy: 0.8354\n",
      "Epoch 18/200\n",
      "175/175 [==============================] - 1s 5ms/step - loss: 0.3636 - binary_accuracy: 0.8312 - val_loss: 0.3643 - val_binary_accuracy: 0.8336\n",
      "Epoch 19/200\n",
      "175/175 [==============================] - 1s 5ms/step - loss: 0.3606 - binary_accuracy: 0.8336 - val_loss: 0.3624 - val_binary_accuracy: 0.8345\n",
      "Epoch 20/200\n",
      "175/175 [==============================] - 1s 5ms/step - loss: 0.3591 - binary_accuracy: 0.8340 - val_loss: 0.3619 - val_binary_accuracy: 0.8332\n",
      "Epoch 21/200\n",
      "175/175 [==============================] - 1s 5ms/step - loss: 0.3578 - binary_accuracy: 0.8340 - val_loss: 0.3602 - val_binary_accuracy: 0.8365\n",
      "Epoch 22/200\n",
      "175/175 [==============================] - 1s 5ms/step - loss: 0.3557 - binary_accuracy: 0.8353 - val_loss: 0.3565 - val_binary_accuracy: 0.8380\n",
      "Epoch 23/200\n",
      "175/175 [==============================] - 1s 5ms/step - loss: 0.3553 - binary_accuracy: 0.8355 - val_loss: 0.3588 - val_binary_accuracy: 0.8359\n",
      "Epoch 24/200\n",
      "175/175 [==============================] - 1s 5ms/step - loss: 0.3553 - binary_accuracy: 0.8360 - val_loss: 0.3589 - val_binary_accuracy: 0.8346\n",
      "Epoch 25/200\n",
      "175/175 [==============================] - 1s 5ms/step - loss: 0.3529 - binary_accuracy: 0.8362 - val_loss: 0.3549 - val_binary_accuracy: 0.8355\n",
      "Epoch 26/200\n",
      "175/175 [==============================] - 1s 5ms/step - loss: 0.3515 - binary_accuracy: 0.8375 - val_loss: 0.3566 - val_binary_accuracy: 0.8381\n",
      "Epoch 27/200\n",
      "175/175 [==============================] - 1s 5ms/step - loss: 0.3511 - binary_accuracy: 0.8381 - val_loss: 0.3584 - val_binary_accuracy: 0.8368\n",
      "Epoch 28/200\n",
      "175/175 [==============================] - 1s 5ms/step - loss: 0.3487 - binary_accuracy: 0.8381 - val_loss: 0.3551 - val_binary_accuracy: 0.8378\n",
      "Epoch 29/200\n",
      "175/175 [==============================] - 1s 5ms/step - loss: 0.3481 - binary_accuracy: 0.8381 - val_loss: 0.3529 - val_binary_accuracy: 0.8390\n",
      "Epoch 30/200\n",
      "175/175 [==============================] - 1s 5ms/step - loss: 0.3488 - binary_accuracy: 0.8387 - val_loss: 0.3528 - val_binary_accuracy: 0.8394\n",
      "Epoch 31/200\n",
      "175/175 [==============================] - 1s 5ms/step - loss: 0.3468 - binary_accuracy: 0.8400 - val_loss: 0.3557 - val_binary_accuracy: 0.8364\n",
      "Epoch 32/200\n",
      "175/175 [==============================] - 1s 5ms/step - loss: 0.3462 - binary_accuracy: 0.8395 - val_loss: 0.3529 - val_binary_accuracy: 0.8366\n",
      "Epoch 33/200\n",
      "175/175 [==============================] - 1s 5ms/step - loss: 0.3441 - binary_accuracy: 0.8416 - val_loss: 0.3560 - val_binary_accuracy: 0.8352\n",
      "Epoch 34/200\n",
      "175/175 [==============================] - 1s 5ms/step - loss: 0.3446 - binary_accuracy: 0.8405 - val_loss: 0.3535 - val_binary_accuracy: 0.8385\n"
     ]
    },
    {
     "data": {
      "text/plain": [
       "<Axes: title={'center': 'Accuracy'}>"
      ]
     },
     "execution_count": 6,
     "metadata": {},
     "output_type": "execute_result"
    },
    {
     "data": {
      "image/png": "[encoded data removed]",
      "text/plain": [
       "<Figure size 640x480 with 1 Axes>"
      ]
     },
     "metadata": {},
     "output_type": "display_data"
    },
    {
     "data": {
      "image/png": "[encoded data removed]",
      "text/plain": [
       "<Figure size 640x480 with 1 Axes>"
      ]
     },
     "metadata": {},
     "output_type": "display_data"
    }
   ],
   "source": [
    "early_stopping = keras.callbacks.EarlyStopping(\n",
    "    patience=5,\n",
    "    min_delta=0.001,\n",
    "    restore_best_weights=True,\n",
    ")\n",
    "history = model.fit(\n",
    "    X_train, y_train,\n",
    "    validation_data=(X_valid, y_valid),\n",
    "    batch_size=512,\n",
    "    epochs=200,\n",
    "    callbacks=[early_stopping],\n",
    ")\n",
    "\n",
    "history_df = pd.DataFrame(history.history)\n",
    "history_df.loc[:, ['loss', 'val_loss']].plot(title=\"Cross-entropy\")\n",
    "history_df.loc[:, ['binary_accuracy', 'val_binary_accuracy']].plot(title=\"Accuracy\")"
   ]
  },
  {
   "cell_type": "markdown",
   "id": "f1cc2eca",
   "metadata": {
    "papermill": {
     "duration": 0.031769,
     "end_time": "2025-09-01T22:23:06.845783",
     "exception": false,
     "start_time": "2025-09-01T22:23:06.814014",
     "status": "completed"
    },
    "tags": []
   },
   "source": [
    "# 3) Train and Evaluate #\n",
    "\n",
    "\n",
    "What do you think about the learning curves? Does it look like the model underfit or overfit? Was the cross-entropy loss a good stand-in for accuracy?"
   ]
  },
  {
   "cell_type": "code",
   "execution_count": 7,
   "id": "1dbf33bd",
   "metadata": {
    "execution": {
     "iopub.execute_input": "2025-09-01T22:23:06.911494Z",
     "iopub.status.busy": "2025-09-01T22:23:06.910925Z",
     "iopub.status.idle": "2025-09-01T22:23:06.918037Z",
     "shell.execute_reply": "2025-09-01T22:23:06.917306Z"
    },
    "papermill": {
     "duration": 0.04173,
     "end_time": "2025-09-01T22:23:06.919752",
     "exception": false,
     "start_time": "2025-09-01T22:23:06.878022",
     "status": "completed"
    },
    "tags": []
   },
   "outputs": [
    {
     "data": {
      "application/javascript": [
       "parent.postMessage({\"jupyterEvent\": \"custom.exercise_interaction\", \"data\": {\"outcomeType\": 1, \"valueTowardsCompletion\": 0.3333333333333333, \"interactionType\": 1, \"questionType\": 4, \"questionId\": \"3_Q3\", \"learnToolsVersion\": \"0.3.4\", \"failureMessage\": \"\", \"exceptionClass\": \"\", \"trace\": \"\"}}, \"*\")"
      ],
      "text/plain": [
       "<IPython.core.display.Javascript object>"
      ]
     },
     "metadata": {},
     "output_type": "display_data"
    },
    {
     "data": {
      "text/markdown": [
       "<span style=\"color:#33cc33\">Correct:</span> \n",
       "\n",
       "Though we can see the training loss continuing to fall, the early stopping callback prevented any overfitting. Moreover, the accuracy rose at the same rate as the cross-entropy fell, so it appears that minimizing cross-entropy was a good stand-in. All in all, it looks like this training was a success!"
      ],
      "text/plain": [
       "Correct: \n",
       "\n",
       "Though we can see the training loss continuing to fall, the early stopping callback prevented any overfitting. Moreover, the accuracy rose at the same rate as the cross-entropy fell, so it appears that minimizing cross-entropy was a good stand-in. All in all, it looks like this training was a success!"
      ]
     },
     "metadata": {},
     "output_type": "display_data"
    }
   ],
   "source": [
    "# View the solution (Run this cell to receive credit!)\n",
    "q_3.check()"
   ]
  },
  {
   "cell_type": "markdown",
   "id": "e203310d",
   "metadata": {
    "papermill": {
     "duration": 0.032113,
     "end_time": "2025-09-01T22:23:06.984342",
     "exception": false,
     "start_time": "2025-09-01T22:23:06.952229",
     "status": "completed"
    },
    "tags": []
   },
   "source": [
    "# Conclusion #\n",
    "\n",
    "Congratulations! You've completed Kaggle's *Introduction to Deep Learning* course!\n",
    "\n",
    "With your new skills you're ready to take on more advanced applications like computer vision and sentiment classification. What would you like to do next?\n",
    "\n",
    "Why not try one of our *Getting Started* competitions?\n",
    "\n",
    "- Classify images with TPUs in [**Petals to the Metal**](https://www.kaggle.com/c/tpu-getting-started)\n",
    "- Create art with GANs in [**I'm Something of a Painter Myself**](https://www.kaggle.com/c/gan-getting-started)\n",
    "- Classify Tweets in [**Real or Not? NLP with Disaster Tweets**](https://www.kaggle.com/c/nlp-getting-started)\n",
    "- Detect contradiction and entailment in [**Contradictory, My Dear Watson**](https://www.kaggle.com/c/contradictory-my-dear-watson)\n",
    "\n",
    "Until next time, Kagglers!"
   ]
  },
  {
   "cell_type": "markdown",
   "id": "8dcf7e14",
   "metadata": {
    "papermill": {
     "duration": 0.031527,
     "end_time": "2025-09-01T22:23:07.048094",
     "exception": false,
     "start_time": "2025-09-01T22:23:07.016567",
     "status": "completed"
    },
    "tags": []
   },
   "source": [
    "---\n",
    "\n",
    "\n",
    "\n",
    "\n",
    "*Have questions or comments? Visit the [course discussion forum](https://www.kaggle.com/learn/intro-to-deep-learning/discussion) to chat with other learners.*"
   ]
  }
 ],
 "metadata": {
  "jupytext": {
   "cell_metadata_filter": "-all",
   "formats": "ipynb"
  },
  "kaggle": {
   "accelerator": "gpu",
   "dataSources": [
    {
     "datasetId": 829369,
     "sourceId": 1480608,
     "sourceType": "datasetVersion"
    }
   ],
   "dockerImageVersionId": 30648,
   "isGpuEnabled": true,
   "isInternetEnabled": false,
   "language": "python",
   "sourceType": "notebook"
  },
  "kernelspec": {
   "display_name": "Python 3",
   "language": "python",
   "name": "python3"
  },
  "language_info": {
   "codemirror_mode": {
    "name": "ipython",
    "version": 3
   },
   "file_extension": ".py",
   "mimetype": "text/x-python",
   "name": "python",
   "nbconvert_exporter": "python",
   "pygments_lexer": "ipython3",
   "version": "3.10.13"
  },
  "papermill": {
   "default_parameters": {},
   "duration": 58.232284,
   "end_time": "2025-09-01T22:23:09.723519",
   "environment_variables": {},
   "exception": null,
   "input_path": "__notebook__.ipynb",
   "output_path": "__notebook__.ipynb",
   "parameters": {},
   "start_time": "2025-09-01T22:22:11.491235",
   "version": "2.5.0"
  }
 },
 "nbformat": 4,
 "nbformat_minor": 5
}
