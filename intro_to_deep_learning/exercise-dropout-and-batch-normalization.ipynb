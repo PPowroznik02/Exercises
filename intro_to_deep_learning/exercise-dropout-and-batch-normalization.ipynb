{
 "cells": [
  {
   "cell_type": "markdown",
   "id": "60b87fb7",
   "metadata": {
    "papermill": {
     "duration": 0.004188,
     "end_time": "2025-09-01T22:20:08.250471",
     "exception": false,
     "start_time": "2025-09-01T22:20:08.246283",
     "status": "completed"
    },
    "tags": []
   },
   "source": [
    "**This notebook is an exercise in the [Intro to Deep Learning](https://www.kaggle.com/learn/intro-to-deep-learning) course.  You can reference the tutorial at [this link](https://www.kaggle.com/ryanholbrook/dropout-and-batch-normalization).**\n",
    "\n",
    "---\n"
   ]
  },
  {
   "cell_type": "markdown",
   "id": "126f35e3",
   "metadata": {
    "papermill": {
     "duration": 0.003279,
     "end_time": "2025-09-01T22:20:08.257565",
     "exception": false,
     "start_time": "2025-09-01T22:20:08.254286",
     "status": "completed"
    },
    "tags": []
   },
   "source": [
    "# Introduction #\n",
    "\n",
    "In this exercise, you'll add dropout to the *Spotify* model from Exercise 4 and see how batch normalization can let you successfully train models on difficult datasets.\n",
    "\n",
    "Run the next cell to get started!"
   ]
  },
  {
   "cell_type": "code",
   "execution_count": 1,
   "id": "9abf475f",
   "metadata": {
    "execution": {
     "iopub.execute_input": "2025-09-01T22:20:08.265890Z",
     "iopub.status.busy": "2025-09-01T22:20:08.265614Z",
     "iopub.status.idle": "2025-09-01T22:20:09.182687Z",
     "shell.execute_reply": "2025-09-01T22:20:09.181999Z"
    },
    "papermill": {
     "duration": 0.923409,
     "end_time": "2025-09-01T22:20:09.184630",
     "exception": false,
     "start_time": "2025-09-01T22:20:08.261221",
     "status": "completed"
    },
    "tags": []
   },
   "outputs": [
    {
     "name": "stderr",
     "output_type": "stream",
     "text": [
      "/tmp/ipykernel_26/195640296.py:3: MatplotlibDeprecationWarning: The seaborn styles shipped by Matplotlib are deprecated since 3.6, as they no longer correspond to the styles shipped by seaborn. However, they will remain available as 'seaborn-v0_8-<style>'. Alternatively, directly use the seaborn API instead.\n",
      "  plt.style.use('seaborn-whitegrid')\n"
     ]
    }
   ],
   "source": [
    "# Setup plotting\n",
    "import matplotlib.pyplot as plt\n",
    "plt.style.use('seaborn-whitegrid')\n",
    "# Set Matplotlib defaults\n",
    "plt.rc('figure', autolayout=True)\n",
    "plt.rc('axes', labelweight='bold', labelsize='large',\n",
    "       titleweight='bold', titlesize=18, titlepad=10)\n",
    "plt.rc('animation', html='html5')\n",
    "\n",
    "# Setup feedback system\n",
    "from learntools.core import binder\n",
    "binder.bind(globals())\n",
    "from learntools.deep_learning_intro.ex5 import *"
   ]
  },
  {
   "cell_type": "markdown",
   "id": "5650c648",
   "metadata": {
    "papermill": {
     "duration": 0.003623,
     "end_time": "2025-09-01T22:20:09.192273",
     "exception": false,
     "start_time": "2025-09-01T22:20:09.188650",
     "status": "completed"
    },
    "tags": []
   },
   "source": [
    "First load the *Spotify* dataset."
   ]
  },
  {
   "cell_type": "code",
   "execution_count": 2,
   "id": "546f98fa",
   "metadata": {
    "execution": {
     "iopub.execute_input": "2025-09-01T22:20:09.201349Z",
     "iopub.status.busy": "2025-09-01T22:20:09.200608Z",
     "iopub.status.idle": "2025-09-01T22:20:24.363933Z",
     "shell.execute_reply": "2025-09-01T22:20:24.362962Z"
    },
    "papermill": {
     "duration": 15.169771,
     "end_time": "2025-09-01T22:20:24.365757",
     "exception": false,
     "start_time": "2025-09-01T22:20:09.195986",
     "status": "completed"
    },
    "tags": []
   },
   "outputs": [
    {
     "name": "stderr",
     "output_type": "stream",
     "text": [
      "2025-09-01 22:20:12.988993: E external/local_xla/xla/stream_executor/cuda/cuda_dnn.cc:9261] Unable to register cuDNN factory: Attempting to register factory for plugin cuDNN when one has already been registered\n",
      "2025-09-01 22:20:12.989121: E external/local_xla/xla/stream_executor/cuda/cuda_fft.cc:607] Unable to register cuFFT factory: Attempting to register factory for plugin cuFFT when one has already been registered\n",
      "2025-09-01 22:20:13.163221: E external/local_xla/xla/stream_executor/cuda/cuda_blas.cc:1515] Unable to register cuBLAS factory: Attempting to register factory for plugin cuBLAS when one has already been registered\n"
     ]
    },
    {
     "name": "stdout",
     "output_type": "stream",
     "text": [
      "Input shape: [18]\n"
     ]
    }
   ],
   "source": [
    "import pandas as pd\n",
    "from sklearn.preprocessing import StandardScaler, OneHotEncoder\n",
    "from sklearn.compose import make_column_transformer\n",
    "from sklearn.model_selection import GroupShuffleSplit\n",
    "\n",
    "from tensorflow import keras\n",
    "from tensorflow.keras import layers\n",
    "from tensorflow.keras import callbacks\n",
    "\n",
    "spotify = pd.read_csv('../input/dl-course-data/spotify.csv')\n",
    "\n",
    "X = spotify.copy().dropna()\n",
    "y = X.pop('track_popularity')\n",
    "artists = X['track_artist']\n",
    "\n",
    "features_num = ['danceability', 'energy', 'key', 'loudness', 'mode',\n",
    "                'speechiness', 'acousticness', 'instrumentalness',\n",
    "                'liveness', 'valence', 'tempo', 'duration_ms']\n",
    "features_cat = ['playlist_genre']\n",
    "\n",
    "preprocessor = make_column_transformer(\n",
    "    (StandardScaler(), features_num),\n",
    "    (OneHotEncoder(), features_cat),\n",
    ")\n",
    "\n",
    "def group_split(X, y, group, train_size=0.75):\n",
    "    splitter = GroupShuffleSplit(train_size=train_size)\n",
    "    train, test = next(splitter.split(X, y, groups=group))\n",
    "    return (X.iloc[train], X.iloc[test], y.iloc[train], y.iloc[test])\n",
    "\n",
    "X_train, X_valid, y_train, y_valid = group_split(X, y, artists)\n",
    "\n",
    "X_train = preprocessor.fit_transform(X_train)\n",
    "X_valid = preprocessor.transform(X_valid)\n",
    "y_train = y_train / 100\n",
    "y_valid = y_valid / 100\n",
    "\n",
    "input_shape = [X_train.shape[1]]\n",
    "print(\"Input shape: {}\".format(input_shape))"
   ]
  },
  {
   "cell_type": "markdown",
   "id": "224ec8c6",
   "metadata": {
    "papermill": {
     "duration": 0.004166,
     "end_time": "2025-09-01T22:20:24.374346",
     "exception": false,
     "start_time": "2025-09-01T22:20:24.370180",
     "status": "completed"
    },
    "tags": []
   },
   "source": [
    "# 1) Add Dropout to Spotify Model\n",
    "\n",
    "Here is the last model from Exercise 4. Add two dropout layers, one after the `Dense` layer with 128 units, and one after the `Dense` layer with 64 units. Set the dropout rate on both to `0.3`."
   ]
  },
  {
   "cell_type": "code",
   "execution_count": 3,
   "id": "cdb32470",
   "metadata": {
    "execution": {
     "iopub.execute_input": "2025-09-01T22:20:24.384158Z",
     "iopub.status.busy": "2025-09-01T22:20:24.383851Z",
     "iopub.status.idle": "2025-09-01T22:20:25.412784Z",
     "shell.execute_reply": "2025-09-01T22:20:25.411897Z"
    },
    "lines_to_next_cell": 2,
    "papermill": {
     "duration": 1.036244,
     "end_time": "2025-09-01T22:20:25.414695",
     "exception": false,
     "start_time": "2025-09-01T22:20:24.378451",
     "status": "completed"
    },
    "tags": []
   },
   "outputs": [
    {
     "data": {
      "application/javascript": [
       "parent.postMessage({\"jupyterEvent\": \"custom.exercise_interaction\", \"data\": {\"outcomeType\": 1, \"valueTowardsCompletion\": 0.25, \"interactionType\": 1, \"questionType\": 2, \"questionId\": \"1_Q1\", \"learnToolsVersion\": \"0.3.4\", \"failureMessage\": \"\", \"exceptionClass\": \"\", \"trace\": \"\"}}, \"*\")"
      ],
      "text/plain": [
       "<IPython.core.display.Javascript object>"
      ]
     },
     "metadata": {},
     "output_type": "display_data"
    },
    {
     "data": {
      "text/markdown": [
       "<span style=\"color:#33cc33\">Correct</span>"
      ],
      "text/plain": [
       "Correct"
      ]
     },
     "metadata": {},
     "output_type": "display_data"
    }
   ],
   "source": [
    "# YOUR CODE HERE: Add two 30% dropout layers, one after 128 and one after 64\n",
    "model = keras.Sequential([\n",
    "    layers.Dense(128, activation='relu', input_shape=input_shape),\n",
    "    layers.Dropout(0.3),\n",
    "    layers.Dense(64, activation='relu'),\n",
    "    layers.Dropout(0.3),\n",
    "    layers.Dense(1)\n",
    "])\n",
    "\n",
    "# Check your answer\n",
    "q_1.check()"
   ]
  },
  {
   "cell_type": "code",
   "execution_count": 4,
   "id": "5fd83fbe",
   "metadata": {
    "execution": {
     "iopub.execute_input": "2025-09-01T22:20:25.424027Z",
     "iopub.status.busy": "2025-09-01T22:20:25.423757Z",
     "iopub.status.idle": "2025-09-01T22:20:25.427285Z",
     "shell.execute_reply": "2025-09-01T22:20:25.426472Z"
    },
    "papermill": {
     "duration": 0.01007,
     "end_time": "2025-09-01T22:20:25.428886",
     "exception": false,
     "start_time": "2025-09-01T22:20:25.418816",
     "status": "completed"
    },
    "tags": []
   },
   "outputs": [],
   "source": [
    "# Lines below will give you a hint or solution code\n",
    "#q_1.hint()\n",
    "#q_1.solution()"
   ]
  },
  {
   "cell_type": "markdown",
   "id": "469c1708",
   "metadata": {
    "papermill": {
     "duration": 0.003816,
     "end_time": "2025-09-01T22:20:25.436885",
     "exception": false,
     "start_time": "2025-09-01T22:20:25.433069",
     "status": "completed"
    },
    "tags": []
   },
   "source": [
    "Now run this next cell to train the model see the effect of adding dropout."
   ]
  },
  {
   "cell_type": "code",
   "execution_count": 5,
   "id": "4bda07bc",
   "metadata": {
    "execution": {
     "iopub.execute_input": "2025-09-01T22:20:25.446476Z",
     "iopub.status.busy": "2025-09-01T22:20:25.446216Z",
     "iopub.status.idle": "2025-09-01T22:20:36.782329Z",
     "shell.execute_reply": "2025-09-01T22:20:36.781411Z"
    },
    "papermill": {
     "duration": 11.34355,
     "end_time": "2025-09-01T22:20:36.784264",
     "exception": false,
     "start_time": "2025-09-01T22:20:25.440714",
     "status": "completed"
    },
    "tags": []
   },
   "outputs": [
    {
     "name": "stderr",
     "output_type": "stream",
     "text": [
      "WARNING: All log messages before absl::InitializeLog() is called are written to STDERR\n",
      "I0000 00:00:1756765228.015719      66 device_compiler.h:186] Compiled cluster using XLA!  This line is logged at most once for the lifetime of the process.\n"
     ]
    },
    {
     "name": "stdout",
     "output_type": "stream",
     "text": [
      "Minimum Validation Loss: 0.1941\n"
     ]
    },
    {
     "data": {
      "image/png": "[encoded data removed]",
      "text/plain": [
       "<Figure size 640x480 with 1 Axes>"
      ]
     },
     "metadata": {},
     "output_type": "display_data"
    }
   ],
   "source": [
    "model.compile(\n",
    "    optimizer='adam',\n",
    "    loss='mae',\n",
    ")\n",
    "history = model.fit(\n",
    "    X_train, y_train,\n",
    "    validation_data=(X_valid, y_valid),\n",
    "    batch_size=512,\n",
    "    epochs=50,\n",
    "    verbose=0,\n",
    ")\n",
    "history_df = pd.DataFrame(history.history)\n",
    "history_df.loc[:, ['loss', 'val_loss']].plot()\n",
    "print(\"Minimum Validation Loss: {:0.4f}\".format(history_df['val_loss'].min()))"
   ]
  },
  {
   "cell_type": "markdown",
   "id": "4db70efa",
   "metadata": {
    "papermill": {
     "duration": 0.004375,
     "end_time": "2025-09-01T22:20:36.793308",
     "exception": false,
     "start_time": "2025-09-01T22:20:36.788933",
     "status": "completed"
    },
    "tags": []
   },
   "source": [
    "# 2) Evaluate Dropout\n",
    "\n",
    "Recall from Exercise 4 that this model tended to overfit the data around epoch 5. Did adding dropout seem to help prevent overfitting this time?"
   ]
  },
  {
   "cell_type": "code",
   "execution_count": 6,
   "id": "fed1459a",
   "metadata": {
    "execution": {
     "iopub.execute_input": "2025-09-01T22:20:36.803745Z",
     "iopub.status.busy": "2025-09-01T22:20:36.803016Z",
     "iopub.status.idle": "2025-09-01T22:20:36.810023Z",
     "shell.execute_reply": "2025-09-01T22:20:36.809185Z"
    },
    "papermill": {
     "duration": 0.013894,
     "end_time": "2025-09-01T22:20:36.811734",
     "exception": false,
     "start_time": "2025-09-01T22:20:36.797840",
     "status": "completed"
    },
    "tags": []
   },
   "outputs": [
    {
     "data": {
      "application/javascript": [
       "parent.postMessage({\"jupyterEvent\": \"custom.exercise_interaction\", \"data\": {\"outcomeType\": 1, \"valueTowardsCompletion\": 0.25, \"interactionType\": 1, \"questionType\": 4, \"questionId\": \"2_Q2\", \"learnToolsVersion\": \"0.3.4\", \"failureMessage\": \"\", \"exceptionClass\": \"\", \"trace\": \"\"}}, \"*\")"
      ],
      "text/plain": [
       "<IPython.core.display.Javascript object>"
      ]
     },
     "metadata": {},
     "output_type": "display_data"
    },
    {
     "data": {
      "text/markdown": [
       "<span style=\"color:#33cc33\">Correct:</span> \n",
       "\n",
       "\n",
       "From the learning curves, you can see that the validation loss remains near a constant minimum even though the training loss continues to decrease. So we can see that adding dropout did prevent overfitting this time. Moreover, by making it harder for the network to fit spurious patterns, dropout may have encouraged the network to seek out more of the true patterns, possibly improving the validation loss some as well).\n"
      ],
      "text/plain": [
       "Correct: \n",
       "\n",
       "\n",
       "From the learning curves, you can see that the validation loss remains near a constant minimum even though the training loss continues to decrease. So we can see that adding dropout did prevent overfitting this time. Moreover, by making it harder for the network to fit spurious patterns, dropout may have encouraged the network to seek out more of the true patterns, possibly improving the validation loss some as well)."
      ]
     },
     "metadata": {},
     "output_type": "display_data"
    }
   ],
   "source": [
    "# View the solution (Run this cell to receive credit!)\n",
    "q_2.check()"
   ]
  },
  {
   "cell_type": "markdown",
   "id": "667f45eb",
   "metadata": {
    "papermill": {
     "duration": 0.004352,
     "end_time": "2025-09-01T22:20:36.820812",
     "exception": false,
     "start_time": "2025-09-01T22:20:36.816460",
     "status": "completed"
    },
    "tags": []
   },
   "source": [
    "Now, we'll switch topics to explore how batch normalization can fix problems in training.\n",
    "\n",
    "Load the *Concrete* dataset. We won't do any standardization this time. This will make the effect of batch normalization much more apparent."
   ]
  },
  {
   "cell_type": "code",
   "execution_count": 7,
   "id": "8c7ab108",
   "metadata": {
    "execution": {
     "iopub.execute_input": "2025-09-01T22:20:36.831133Z",
     "iopub.status.busy": "2025-09-01T22:20:36.830876Z",
     "iopub.status.idle": "2025-09-01T22:20:36.847779Z",
     "shell.execute_reply": "2025-09-01T22:20:36.847029Z"
    },
    "papermill": {
     "duration": 0.023959,
     "end_time": "2025-09-01T22:20:36.849468",
     "exception": false,
     "start_time": "2025-09-01T22:20:36.825509",
     "status": "completed"
    },
    "tags": []
   },
   "outputs": [],
   "source": [
    "import pandas as pd\n",
    "\n",
    "concrete = pd.read_csv('../input/dl-course-data/concrete.csv')\n",
    "df = concrete.copy()\n",
    "\n",
    "df_train = df.sample(frac=0.7, random_state=0)\n",
    "df_valid = df.drop(df_train.index)\n",
    "\n",
    "X_train = df_train.drop('CompressiveStrength', axis=1)\n",
    "X_valid = df_valid.drop('CompressiveStrength', axis=1)\n",
    "y_train = df_train['CompressiveStrength']\n",
    "y_valid = df_valid['CompressiveStrength']\n",
    "\n",
    "input_shape = [X_train.shape[1]]"
   ]
  },
  {
   "cell_type": "markdown",
   "id": "7d2faacf",
   "metadata": {
    "papermill": {
     "duration": 0.004373,
     "end_time": "2025-09-01T22:20:36.858678",
     "exception": false,
     "start_time": "2025-09-01T22:20:36.854305",
     "status": "completed"
    },
    "tags": []
   },
   "source": [
    "Run the following cell to train the network on the unstandardized *Concrete* data."
   ]
  },
  {
   "cell_type": "code",
   "execution_count": 8,
   "id": "b1c7e298",
   "metadata": {
    "execution": {
     "iopub.execute_input": "2025-09-01T22:20:36.868777Z",
     "iopub.status.busy": "2025-09-01T22:20:36.868532Z",
     "iopub.status.idle": "2025-09-01T22:20:43.830064Z",
     "shell.execute_reply": "2025-09-01T22:20:43.829203Z"
    },
    "papermill": {
     "duration": 6.968519,
     "end_time": "2025-09-01T22:20:43.831776",
     "exception": false,
     "start_time": "2025-09-01T22:20:36.863257",
     "status": "completed"
    },
    "tags": []
   },
   "outputs": [
    {
     "name": "stdout",
     "output_type": "stream",
     "text": [
      "Minimum Validation Loss: nan\n"
     ]
    },
    {
     "data": {
      "image/png": "[encoded data removed]",
      "text/plain": [
       "<Figure size 640x480 with 1 Axes>"
      ]
     },
     "metadata": {},
     "output_type": "display_data"
    }
   ],
   "source": [
    "model = keras.Sequential([\n",
    "    layers.Dense(512, activation='relu', input_shape=input_shape),\n",
    "    layers.Dense(512, activation='relu'),    \n",
    "    layers.Dense(512, activation='relu'),\n",
    "    layers.Dense(1),\n",
    "])\n",
    "model.compile(\n",
    "    optimizer='sgd', # SGD is more sensitive to differences of scale\n",
    "    loss='mae',\n",
    "    metrics=['mae'],\n",
    ")\n",
    "history = model.fit(\n",
    "    X_train, y_train,\n",
    "    validation_data=(X_valid, y_valid),\n",
    "    batch_size=64,\n",
    "    epochs=100,\n",
    "    verbose=0,\n",
    ")\n",
    "\n",
    "history_df = pd.DataFrame(history.history)\n",
    "history_df.loc[0:, ['loss', 'val_loss']].plot()\n",
    "print((\"Minimum Validation Loss: {:0.4f}\").format(history_df['val_loss'].min()))"
   ]
  },
  {
   "cell_type": "markdown",
   "id": "a62d7fd0",
   "metadata": {
    "papermill": {
     "duration": 0.004847,
     "end_time": "2025-09-01T22:20:43.842042",
     "exception": false,
     "start_time": "2025-09-01T22:20:43.837195",
     "status": "completed"
    },
    "tags": []
   },
   "source": [
    "Did you end up with a blank graph? Trying to train this network on this dataset will usually fail. Even when it does converge (due to a lucky weight initialization), it tends to converge to a very large number.\n",
    "\n",
    "# 3) Add Batch Normalization Layers\n",
    "\n",
    "Batch normalization can help correct problems like this.\n",
    "\n",
    "Add four `BatchNormalization` layers, one before each of the dense layers. (Remember to move the `input_shape` argument to the new first layer.)"
   ]
  },
  {
   "cell_type": "code",
   "execution_count": 9,
   "id": "d27dbb6c",
   "metadata": {
    "execution": {
     "iopub.execute_input": "2025-09-01T22:20:43.853055Z",
     "iopub.status.busy": "2025-09-01T22:20:43.852776Z",
     "iopub.status.idle": "2025-09-01T22:20:43.967322Z",
     "shell.execute_reply": "2025-09-01T22:20:43.966410Z"
    },
    "lines_to_next_cell": 0,
    "papermill": {
     "duration": 0.122134,
     "end_time": "2025-09-01T22:20:43.969116",
     "exception": false,
     "start_time": "2025-09-01T22:20:43.846982",
     "status": "completed"
    },
    "tags": []
   },
   "outputs": [
    {
     "data": {
      "application/javascript": [
       "parent.postMessage({\"jupyterEvent\": \"custom.exercise_interaction\", \"data\": {\"outcomeType\": 1, \"valueTowardsCompletion\": 0.25, \"interactionType\": 1, \"questionType\": 2, \"questionId\": \"3_Q3\", \"learnToolsVersion\": \"0.3.4\", \"failureMessage\": \"\", \"exceptionClass\": \"\", \"trace\": \"\"}}, \"*\")"
      ],
      "text/plain": [
       "<IPython.core.display.Javascript object>"
      ]
     },
     "metadata": {},
     "output_type": "display_data"
    },
    {
     "data": {
      "text/markdown": [
       "<span style=\"color:#33cc33\">Correct</span>"
      ],
      "text/plain": [
       "Correct"
      ]
     },
     "metadata": {},
     "output_type": "display_data"
    }
   ],
   "source": [
    "# YOUR CODE HERE: Add a BatchNormalization layer before each Dense layer\n",
    "model = keras.Sequential([\n",
    "    layers.Input(shape=input_shape),\n",
    "    layers.BatchNormalization(),\n",
    "    layers.Dense(512, activation='relu'),\n",
    "    layers.BatchNormalization(),\n",
    "    layers.Dense(512, activation='relu'),\n",
    "    layers.BatchNormalization(),\n",
    "    layers.Dense(512, activation='relu'),\n",
    "    layers.BatchNormalization(),\n",
    "    layers.Dense(1),\n",
    "])\n",
    "\n",
    "# Check your answer\n",
    "q_3.check()"
   ]
  },
  {
   "cell_type": "code",
   "execution_count": 10,
   "id": "effa1a51",
   "metadata": {
    "execution": {
     "iopub.execute_input": "2025-09-01T22:20:43.981138Z",
     "iopub.status.busy": "2025-09-01T22:20:43.980860Z",
     "iopub.status.idle": "2025-09-01T22:20:43.984401Z",
     "shell.execute_reply": "2025-09-01T22:20:43.983614Z"
    },
    "papermill": {
     "duration": 0.011424,
     "end_time": "2025-09-01T22:20:43.986106",
     "exception": false,
     "start_time": "2025-09-01T22:20:43.974682",
     "status": "completed"
    },
    "tags": []
   },
   "outputs": [],
   "source": [
    "# Lines below will give you a hint or solution code\n",
    "#q_3.hint()\n",
    "#q_3.solution()"
   ]
  },
  {
   "cell_type": "markdown",
   "id": "c7a35c47",
   "metadata": {
    "papermill": {
     "duration": 0.00513,
     "end_time": "2025-09-01T22:20:43.996449",
     "exception": false,
     "start_time": "2025-09-01T22:20:43.991319",
     "status": "completed"
    },
    "tags": []
   },
   "source": [
    "Run the next cell to see if batch normalization will let us train the model."
   ]
  },
  {
   "cell_type": "code",
   "execution_count": 11,
   "id": "5ac28dce",
   "metadata": {
    "execution": {
     "iopub.execute_input": "2025-09-01T22:20:44.008122Z",
     "iopub.status.busy": "2025-09-01T22:20:44.007896Z",
     "iopub.status.idle": "2025-09-01T22:20:54.738355Z",
     "shell.execute_reply": "2025-09-01T22:20:54.737507Z"
    },
    "papermill": {
     "duration": 10.738603,
     "end_time": "2025-09-01T22:20:54.740089",
     "exception": false,
     "start_time": "2025-09-01T22:20:44.001486",
     "status": "completed"
    },
    "tags": []
   },
   "outputs": [
    {
     "name": "stdout",
     "output_type": "stream",
     "text": [
      "Minimum Validation Loss: 3.9213\n"
     ]
    },
    {
     "data": {
      "image/png": "[encoded data removed]",
      "text/plain": [
       "<Figure size 640x480 with 1 Axes>"
      ]
     },
     "metadata": {},
     "output_type": "display_data"
    }
   ],
   "source": [
    "model.compile(\n",
    "    optimizer='sgd',\n",
    "    loss='mae',\n",
    "    metrics=['mae'],\n",
    ")\n",
    "EPOCHS = 100\n",
    "history = model.fit(\n",
    "    X_train, y_train,\n",
    "    validation_data=(X_valid, y_valid),\n",
    "    batch_size=64,\n",
    "    epochs=EPOCHS,\n",
    "    verbose=0,\n",
    ")\n",
    "\n",
    "history_df = pd.DataFrame(history.history)\n",
    "history_df.loc[0:, ['loss', 'val_loss']].plot()\n",
    "print((\"Minimum Validation Loss: {:0.4f}\").format(history_df['val_loss'].min()))"
   ]
  },
  {
   "cell_type": "markdown",
   "id": "304249ca",
   "metadata": {
    "papermill": {
     "duration": 0.005573,
     "end_time": "2025-09-01T22:20:54.751941",
     "exception": false,
     "start_time": "2025-09-01T22:20:54.746368",
     "status": "completed"
    },
    "tags": []
   },
   "source": [
    "# 4) Evaluate Batch Normalization\n",
    "\n",
    "Did adding batch normalization help?"
   ]
  },
  {
   "cell_type": "code",
   "execution_count": 12,
   "id": "375619ac",
   "metadata": {
    "execution": {
     "iopub.execute_input": "2025-09-01T22:20:54.764376Z",
     "iopub.status.busy": "2025-09-01T22:20:54.764075Z",
     "iopub.status.idle": "2025-09-01T22:20:54.770884Z",
     "shell.execute_reply": "2025-09-01T22:20:54.770062Z"
    },
    "lines_to_next_cell": 0,
    "papermill": {
     "duration": 0.015168,
     "end_time": "2025-09-01T22:20:54.772664",
     "exception": false,
     "start_time": "2025-09-01T22:20:54.757496",
     "status": "completed"
    },
    "tags": []
   },
   "outputs": [
    {
     "data": {
      "application/javascript": [
       "parent.postMessage({\"jupyterEvent\": \"custom.exercise_interaction\", \"data\": {\"outcomeType\": 1, \"valueTowardsCompletion\": 0.25, \"interactionType\": 1, \"questionType\": 4, \"questionId\": \"4_Q4\", \"learnToolsVersion\": \"0.3.4\", \"failureMessage\": \"\", \"exceptionClass\": \"\", \"trace\": \"\"}}, \"*\")"
      ],
      "text/plain": [
       "<IPython.core.display.Javascript object>"
      ]
     },
     "metadata": {},
     "output_type": "display_data"
    },
    {
     "data": {
      "text/markdown": [
       "<span style=\"color:#33cc33\">Correct:</span> \n",
       "\n",
       "\n",
       "You can see that adding batch normalization was a big improvement on the first attempt! By adaptively scaling the data as it passes through the network, batch normalization can let you train models on difficult datasets.\n"
      ],
      "text/plain": [
       "Correct: \n",
       "\n",
       "\n",
       "You can see that adding batch normalization was a big improvement on the first attempt! By adaptively scaling the data as it passes through the network, batch normalization can let you train models on difficult datasets."
      ]
     },
     "metadata": {},
     "output_type": "display_data"
    }
   ],
   "source": [
    "# View the solution (Run this cell to receive credit!)\n",
    "q_4.check()"
   ]
  },
  {
   "cell_type": "markdown",
   "id": "9a156cb3",
   "metadata": {
    "papermill": {
     "duration": 0.005478,
     "end_time": "2025-09-01T22:20:54.784134",
     "exception": false,
     "start_time": "2025-09-01T22:20:54.778656",
     "status": "completed"
    },
    "tags": []
   },
   "source": [
    "# Keep Going #\n",
    "\n",
    "[**Create neural networks**](https://www.kaggle.com/ryanholbrook/binary-classification) for binary classification."
   ]
  },
  {
   "cell_type": "markdown",
   "id": "00d19242",
   "metadata": {
    "papermill": {
     "duration": 0.005773,
     "end_time": "2025-09-01T22:20:54.795686",
     "exception": false,
     "start_time": "2025-09-01T22:20:54.789913",
     "status": "completed"
    },
    "tags": []
   },
   "source": [
    "---\n",
    "\n",
    "\n",
    "\n",
    "\n",
    "*Have questions or comments? Visit the [course discussion forum](https://www.kaggle.com/learn/intro-to-deep-learning/discussion) to chat with other learners.*"
   ]
  }
 ],
 "metadata": {
  "jupytext": {
   "cell_metadata_filter": "-all",
   "formats": "ipynb"
  },
  "kaggle": {
   "accelerator": "gpu",
   "dataSources": [
    {
     "datasetId": 829369,
     "sourceId": 1480608,
     "sourceType": "datasetVersion"
    }
   ],
   "dockerImageVersionId": 30648,
   "isGpuEnabled": true,
   "isInternetEnabled": false,
   "language": "python",
   "sourceType": "notebook"
  },
  "kernelspec": {
   "display_name": "Python 3",
   "language": "python",
   "name": "python3"
  },
  "language_info": {
   "codemirror_mode": {
    "name": "ipython",
    "version": 3
   },
   "file_extension": ".py",
   "mimetype": "text/x-python",
   "name": "python",
   "nbconvert_exporter": "python",
   "pygments_lexer": "ipython3",
   "version": "3.10.13"
  },
  "papermill": {
   "default_parameters": {},
   "duration": 52.299613,
   "end_time": "2025-09-01T22:20:57.747004",
   "environment_variables": {},
   "exception": null,
   "input_path": "__notebook__.ipynb",
   "output_path": "__notebook__.ipynb",
   "parameters": {},
   "start_time": "2025-09-01T22:20:05.447391",
   "version": "2.5.0"
  }
 },
 "nbformat": 4,
 "nbformat_minor": 5
}
