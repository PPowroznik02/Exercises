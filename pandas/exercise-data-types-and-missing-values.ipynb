{
 "cells": [
  {
   "cell_type": "markdown",
   "id": "b355f22d",
   "metadata": {
    "papermill": {
     "duration": 0.004009,
     "end_time": "2025-09-05T14:49:26.396813",
     "exception": false,
     "start_time": "2025-09-05T14:49:26.392804",
     "status": "completed"
    },
    "tags": []
   },
   "source": [
    "**This notebook is an exercise in the [Pandas](https://www.kaggle.com/learn/pandas) course.  You can reference the tutorial at [this link](https://www.kaggle.com/residentmario/data-types-and-missing-values).**\n",
    "\n",
    "---\n"
   ]
  },
  {
   "cell_type": "markdown",
   "id": "502b4388",
   "metadata": {
    "papermill": {
     "duration": 0.002944,
     "end_time": "2025-09-05T14:49:26.403201",
     "exception": false,
     "start_time": "2025-09-05T14:49:26.400257",
     "status": "completed"
    },
    "tags": []
   },
   "source": [
    "# Introduction\n",
    "\n",
    "Run the following cell to load your data and some utility functions."
   ]
  },
  {
   "cell_type": "code",
   "execution_count": 1,
   "id": "78dec2d8",
   "metadata": {
    "execution": {
     "iopub.execute_input": "2025-09-05T14:49:26.410985Z",
     "iopub.status.busy": "2025-09-05T14:49:26.410676Z",
     "iopub.status.idle": "2025-09-05T14:49:31.454120Z",
     "shell.execute_reply": "2025-09-05T14:49:31.453059Z"
    },
    "papermill": {
     "duration": 5.049343,
     "end_time": "2025-09-05T14:49:31.455754",
     "exception": false,
     "start_time": "2025-09-05T14:49:26.406411",
     "status": "completed"
    },
    "tags": []
   },
   "outputs": [
    {
     "name": "stdout",
     "output_type": "stream",
     "text": [
      "Setup complete.\n"
     ]
    }
   ],
   "source": [
    "import pandas as pd\n",
    "\n",
    "reviews = pd.read_csv(\"../input/wine-reviews/winemag-data-130k-v2.csv\", index_col=0)\n",
    "\n",
    "from learntools.core import binder; binder.bind(globals())\n",
    "from learntools.pandas.data_types_and_missing_data import *\n",
    "print(\"Setup complete.\")"
   ]
  },
  {
   "cell_type": "markdown",
   "id": "63796f36",
   "metadata": {
    "papermill": {
     "duration": 0.003145,
     "end_time": "2025-09-05T14:49:31.462635",
     "exception": false,
     "start_time": "2025-09-05T14:49:31.459490",
     "status": "completed"
    },
    "tags": []
   },
   "source": [
    "# Exercises"
   ]
  },
  {
   "cell_type": "markdown",
   "id": "0212631e",
   "metadata": {
    "papermill": {
     "duration": 0.002881,
     "end_time": "2025-09-05T14:49:31.468809",
     "exception": false,
     "start_time": "2025-09-05T14:49:31.465928",
     "status": "completed"
    },
    "tags": []
   },
   "source": [
    "## 1. \n",
    "What is the data type of the `points` column in the dataset?"
   ]
  },
  {
   "cell_type": "code",
   "execution_count": 2,
   "id": "364ce8d0",
   "metadata": {
    "execution": {
     "iopub.execute_input": "2025-09-05T14:49:31.476512Z",
     "iopub.status.busy": "2025-09-05T14:49:31.476141Z",
     "iopub.status.idle": "2025-09-05T14:49:31.484332Z",
     "shell.execute_reply": "2025-09-05T14:49:31.483542Z"
    },
    "papermill": {
     "duration": 0.013882,
     "end_time": "2025-09-05T14:49:31.485849",
     "exception": false,
     "start_time": "2025-09-05T14:49:31.471967",
     "status": "completed"
    },
    "tags": []
   },
   "outputs": [
    {
     "data": {
      "application/javascript": [
       "parent.postMessage({\"jupyterEvent\": \"custom.exercise_interaction\", \"data\": {\"outcomeType\": 1, \"valueTowardsCompletion\": 0.25, \"interactionType\": 1, \"questionType\": 1, \"questionId\": \"1_PointsDtype\", \"learnToolsVersion\": \"0.3.5\", \"failureMessage\": \"\", \"exceptionClass\": \"\", \"trace\": \"\"}}, \"*\")"
      ],
      "text/plain": [
       "<IPython.core.display.Javascript object>"
      ]
     },
     "metadata": {},
     "output_type": "display_data"
    },
    {
     "data": {
      "text/markdown": [
       "<span style=\"color:#33cc33\">Correct</span>"
      ],
      "text/plain": [
       "Correct"
      ]
     },
     "metadata": {},
     "output_type": "display_data"
    }
   ],
   "source": [
    "# Your code here\n",
    "dtype = reviews.points.dtype\n",
    "\n",
    "# Check your answer\n",
    "q1.check()"
   ]
  },
  {
   "cell_type": "code",
   "execution_count": 3,
   "id": "1431464a",
   "metadata": {
    "execution": {
     "iopub.execute_input": "2025-09-05T14:49:31.494367Z",
     "iopub.status.busy": "2025-09-05T14:49:31.494020Z",
     "iopub.status.idle": "2025-09-05T14:49:31.498202Z",
     "shell.execute_reply": "2025-09-05T14:49:31.497350Z"
    },
    "papermill": {
     "duration": 0.010308,
     "end_time": "2025-09-05T14:49:31.499907",
     "exception": false,
     "start_time": "2025-09-05T14:49:31.489599",
     "status": "completed"
    },
    "tags": []
   },
   "outputs": [],
   "source": [
    "#q1.hint()\n",
    "#q1.solution()"
   ]
  },
  {
   "cell_type": "markdown",
   "id": "4963335c",
   "metadata": {
    "papermill": {
     "duration": 0.003345,
     "end_time": "2025-09-05T14:49:31.507008",
     "exception": false,
     "start_time": "2025-09-05T14:49:31.503663",
     "status": "completed"
    },
    "tags": []
   },
   "source": [
    "## 2. \n",
    "Create a Series from entries in the `points` column, but convert the entries to strings. Hint: strings are `str` in native Python."
   ]
  },
  {
   "cell_type": "code",
   "execution_count": 4,
   "id": "4f4b2a04",
   "metadata": {
    "execution": {
     "iopub.execute_input": "2025-09-05T14:49:31.515226Z",
     "iopub.status.busy": "2025-09-05T14:49:31.514951Z",
     "iopub.status.idle": "2025-09-05T14:49:31.560854Z",
     "shell.execute_reply": "2025-09-05T14:49:31.559951Z"
    },
    "papermill": {
     "duration": 0.051977,
     "end_time": "2025-09-05T14:49:31.562490",
     "exception": false,
     "start_time": "2025-09-05T14:49:31.510513",
     "status": "completed"
    },
    "tags": []
   },
   "outputs": [
    {
     "data": {
      "application/javascript": [
       "parent.postMessage({\"jupyterEvent\": \"custom.exercise_interaction\", \"data\": {\"outcomeType\": 1, \"valueTowardsCompletion\": 0.25, \"interactionType\": 1, \"questionType\": 1, \"questionId\": \"2_StrPoints\", \"learnToolsVersion\": \"0.3.5\", \"failureMessage\": \"\", \"exceptionClass\": \"\", \"trace\": \"\"}}, \"*\")"
      ],
      "text/plain": [
       "<IPython.core.display.Javascript object>"
      ]
     },
     "metadata": {},
     "output_type": "display_data"
    },
    {
     "data": {
      "text/markdown": [
       "<span style=\"color:#33cc33\">Correct</span>"
      ],
      "text/plain": [
       "Correct"
      ]
     },
     "metadata": {},
     "output_type": "display_data"
    }
   ],
   "source": [
    "point_strings = reviews.points.astype('str')\n",
    "\n",
    "# Check your answer\n",
    "q2.check()"
   ]
  },
  {
   "cell_type": "code",
   "execution_count": 5,
   "id": "38692b13",
   "metadata": {
    "execution": {
     "iopub.execute_input": "2025-09-05T14:49:31.572665Z",
     "iopub.status.busy": "2025-09-05T14:49:31.571979Z",
     "iopub.status.idle": "2025-09-05T14:49:31.576331Z",
     "shell.execute_reply": "2025-09-05T14:49:31.575300Z"
    },
    "papermill": {
     "duration": 0.011696,
     "end_time": "2025-09-05T14:49:31.578070",
     "exception": false,
     "start_time": "2025-09-05T14:49:31.566374",
     "status": "completed"
    },
    "tags": []
   },
   "outputs": [],
   "source": [
    "#q2.hint()\n",
    "#q2.solution()"
   ]
  },
  {
   "cell_type": "markdown",
   "id": "b85b533b",
   "metadata": {
    "papermill": {
     "duration": 0.003441,
     "end_time": "2025-09-05T14:49:31.585394",
     "exception": false,
     "start_time": "2025-09-05T14:49:31.581953",
     "status": "completed"
    },
    "tags": []
   },
   "source": [
    "## 3.\n",
    "Sometimes the price column is null. How many reviews in the dataset are missing a price?"
   ]
  },
  {
   "cell_type": "code",
   "execution_count": 6,
   "id": "b6460706",
   "metadata": {
    "execution": {
     "iopub.execute_input": "2025-09-05T14:49:31.593990Z",
     "iopub.status.busy": "2025-09-05T14:49:31.593670Z",
     "iopub.status.idle": "2025-09-05T14:49:31.610422Z",
     "shell.execute_reply": "2025-09-05T14:49:31.609268Z"
    },
    "papermill": {
     "duration": 0.022785,
     "end_time": "2025-09-05T14:49:31.611913",
     "exception": false,
     "start_time": "2025-09-05T14:49:31.589128",
     "status": "completed"
    },
    "tags": []
   },
   "outputs": [
    {
     "data": {
      "application/javascript": [
       "parent.postMessage({\"jupyterEvent\": \"custom.exercise_interaction\", \"data\": {\"outcomeType\": 1, \"valueTowardsCompletion\": 0.25, \"interactionType\": 1, \"questionType\": 1, \"questionId\": \"3_CountMissingPrices\", \"learnToolsVersion\": \"0.3.5\", \"failureMessage\": \"\", \"exceptionClass\": \"\", \"trace\": \"\"}}, \"*\")"
      ],
      "text/plain": [
       "<IPython.core.display.Javascript object>"
      ]
     },
     "metadata": {},
     "output_type": "display_data"
    },
    {
     "data": {
      "text/markdown": [
       "<span style=\"color:#33cc33\">Correct</span>"
      ],
      "text/plain": [
       "Correct"
      ]
     },
     "metadata": {},
     "output_type": "display_data"
    }
   ],
   "source": [
    "n_missing_prices = reviews[pd.isnull(reviews.price)].shape[0]\n",
    "\n",
    "# Check your answer\n",
    "q3.check()"
   ]
  },
  {
   "cell_type": "code",
   "execution_count": 7,
   "id": "6b18a1d2",
   "metadata": {
    "execution": {
     "iopub.execute_input": "2025-09-05T14:49:31.621602Z",
     "iopub.status.busy": "2025-09-05T14:49:31.620642Z",
     "iopub.status.idle": "2025-09-05T14:49:31.625454Z",
     "shell.execute_reply": "2025-09-05T14:49:31.624373Z"
    },
    "papermill": {
     "duration": 0.011345,
     "end_time": "2025-09-05T14:49:31.627215",
     "exception": false,
     "start_time": "2025-09-05T14:49:31.615870",
     "status": "completed"
    },
    "tags": []
   },
   "outputs": [],
   "source": [
    "#q3.hint()\n",
    "#q3.solution()"
   ]
  },
  {
   "cell_type": "markdown",
   "id": "24ea179c",
   "metadata": {
    "papermill": {
     "duration": 0.003759,
     "end_time": "2025-09-05T14:49:31.635437",
     "exception": false,
     "start_time": "2025-09-05T14:49:31.631678",
     "status": "completed"
    },
    "tags": []
   },
   "source": [
    "## 4.\n",
    "What are the most common wine-producing regions? Create a Series counting the number of times each value occurs in the `region_1` field. This field is often missing data, so replace missing values with `Unknown`. Sort in descending order.  Your output should look something like this:\n",
    "\n",
    "```\n",
    "Unknown                    21247\n",
    "Napa Valley                 4480\n",
    "                           ...  \n",
    "Bardolino Superiore            1\n",
    "Primitivo del Tarantino        1\n",
    "Name: region_1, Length: 1230, dtype: int64\n",
    "```"
   ]
  },
  {
   "cell_type": "code",
   "execution_count": 8,
   "id": "585977bd",
   "metadata": {
    "execution": {
     "iopub.execute_input": "2025-09-05T14:49:31.644300Z",
     "iopub.status.busy": "2025-09-05T14:49:31.644013Z",
     "iopub.status.idle": "2025-09-05T14:49:31.693509Z",
     "shell.execute_reply": "2025-09-05T14:49:31.692659Z"
    },
    "papermill": {
     "duration": 0.055845,
     "end_time": "2025-09-05T14:49:31.695084",
     "exception": false,
     "start_time": "2025-09-05T14:49:31.639239",
     "status": "completed"
    },
    "tags": []
   },
   "outputs": [
    {
     "data": {
      "application/javascript": [
       "parent.postMessage({\"jupyterEvent\": \"custom.exercise_interaction\", \"data\": {\"outcomeType\": 1, \"valueTowardsCompletion\": 0.25, \"interactionType\": 1, \"questionType\": 2, \"questionId\": \"4_ReviewsPerRegion\", \"learnToolsVersion\": \"0.3.5\", \"failureMessage\": \"\", \"exceptionClass\": \"\", \"trace\": \"\"}}, \"*\")"
      ],
      "text/plain": [
       "<IPython.core.display.Javascript object>"
      ]
     },
     "metadata": {},
     "output_type": "display_data"
    },
    {
     "data": {
      "text/markdown": [
       "<span style=\"color:#33cc33\">Correct</span>"
      ],
      "text/plain": [
       "Correct"
      ]
     },
     "metadata": {},
     "output_type": "display_data"
    }
   ],
   "source": [
    "reviews_per_region = reviews.region_1.fillna(\"Unknown\").value_counts().sort_values(ascending=False)\n",
    "\n",
    "# Check your answer\n",
    "q4.check()"
   ]
  },
  {
   "cell_type": "code",
   "execution_count": 9,
   "id": "ec5e8a0c",
   "metadata": {
    "execution": {
     "iopub.execute_input": "2025-09-05T14:49:31.704518Z",
     "iopub.status.busy": "2025-09-05T14:49:31.704130Z",
     "iopub.status.idle": "2025-09-05T14:49:31.707993Z",
     "shell.execute_reply": "2025-09-05T14:49:31.707207Z"
    },
    "papermill": {
     "duration": 0.010456,
     "end_time": "2025-09-05T14:49:31.709602",
     "exception": false,
     "start_time": "2025-09-05T14:49:31.699146",
     "status": "completed"
    },
    "tags": []
   },
   "outputs": [],
   "source": [
    "# q4.hint()\n",
    "#q4.solution()"
   ]
  },
  {
   "cell_type": "markdown",
   "id": "94b56c2f",
   "metadata": {
    "papermill": {
     "duration": 0.003799,
     "end_time": "2025-09-05T14:49:31.717824",
     "exception": false,
     "start_time": "2025-09-05T14:49:31.714025",
     "status": "completed"
    },
    "tags": []
   },
   "source": [
    "# Keep going\n",
    "\n",
    "Move on to **[renaming and combining](https://www.kaggle.com/residentmario/renaming-and-combining)**."
   ]
  },
  {
   "cell_type": "markdown",
   "id": "2ce5fd20",
   "metadata": {
    "papermill": {
     "duration": 0.003647,
     "end_time": "2025-09-05T14:49:31.725372",
     "exception": false,
     "start_time": "2025-09-05T14:49:31.721725",
     "status": "completed"
    },
    "tags": []
   },
   "source": [
    "---\n",
    "\n",
    "\n",
    "\n",
    "\n",
    "*Have questions or comments? Visit the [course discussion forum](https://www.kaggle.com/learn/pandas/discussion) to chat with other learners.*"
   ]
  }
 ],
 "metadata": {
  "kaggle": {
   "accelerator": "none",
   "dataSources": [
    {
     "datasetId": 655,
     "sourceId": 1252,
     "sourceType": "datasetVersion"
    },
    {
     "datasetId": 2321,
     "sourceId": 3919,
     "sourceType": "datasetVersion"
    },
    {
     "datasetId": 2894,
     "sourceId": 4877,
     "sourceType": "datasetVersion"
    },
    {
     "datasetId": 3491,
     "sourceId": 5624,
     "sourceType": "datasetVersion"
    },
    {
     "datasetId": 1442,
     "sourceId": 8172,
     "sourceType": "datasetVersion"
    },
    {
     "datasetId": 9366,
     "sourceId": 13206,
     "sourceType": "datasetVersion"
    },
    {
     "datasetId": 179555,
     "sourceId": 403916,
     "sourceType": "datasetVersion"
    },
    {
     "datasetId": 4549,
     "sourceId": 466349,
     "sourceType": "datasetVersion"
    },
    {
     "datasetId": 2478,
     "sourceId": 1151655,
     "sourceType": "datasetVersion"
    },
    {
     "datasetId": 10128,
     "sourceId": 5438389,
     "sourceType": "datasetVersion"
    }
   ],
   "isGpuEnabled": false,
   "isInternetEnabled": false,
   "language": "python",
   "sourceType": "notebook"
  },
  "kernelspec": {
   "display_name": "Python 3",
   "language": "python",
   "name": "python3"
  },
  "language_info": {
   "codemirror_mode": {
    "name": "ipython",
    "version": 3
   },
   "file_extension": ".py",
   "mimetype": "text/x-python",
   "name": "python",
   "nbconvert_exporter": "python",
   "pygments_lexer": "ipython3",
   "version": "3.11.13"
  },
  "papermill": {
   "default_parameters": {},
   "duration": 11.3537,
   "end_time": "2025-09-05T14:49:32.348724",
   "environment_variables": {},
   "exception": null,
   "input_path": "__notebook__.ipynb",
   "output_path": "__notebook__.ipynb",
   "parameters": {},
   "start_time": "2025-09-05T14:49:20.995024",
   "version": "2.6.0"
  }
 },
 "nbformat": 4,
 "nbformat_minor": 5
}
