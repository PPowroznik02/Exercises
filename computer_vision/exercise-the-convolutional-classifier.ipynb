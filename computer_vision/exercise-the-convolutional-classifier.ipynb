{
 "cells": [
  {
   "cell_type": "markdown",
   "id": "43b357ee",
   "metadata": {
    "papermill": {
     "duration": 0.003936,
     "end_time": "2025-09-08T21:24:46.929691",
     "exception": false,
     "start_time": "2025-09-08T21:24:46.925755",
     "status": "completed"
    },
    "tags": []
   },
   "source": [
    "**This notebook is an exercise in the [Computer Vision](https://www.kaggle.com/learn/computer-vision) course.  You can reference the tutorial at [this link](https://www.kaggle.com/ryanholbrook/the-convolutional-classifier).**\n",
    "\n",
    "---\n"
   ]
  },
  {
   "cell_type": "markdown",
   "id": "a00c5c3d",
   "metadata": {
    "papermill": {
     "duration": 0.003115,
     "end_time": "2025-09-08T21:24:46.936277",
     "exception": false,
     "start_time": "2025-09-08T21:24:46.933162",
     "status": "completed"
    },
    "tags": []
   },
   "source": [
    "<blockquote style=\"margin-right:auto; margin-left:auto; padding: 1em; margin:24px;\">\n",
    "    <strong>Accelerate Training with a Kaggle GPU!</strong><br>\n",
    "Did you know Kaggle offers free time with a GPU accelerator? You can speed up training neural networks in this course by switching to <strong>GPU</strong> in the <em>Accelerator</em> option on the right. (It may already be turned on.) Two things to be aware of:\n",
    "<ul>\n",
    "<li>Changing the <em>Accelerator</em> option will cause the notebook session to restart. You'll need to rerun any setup code.\n",
    "<li>You can have only one GPU session at a time, so be sure to shut the notebook down after you've finished the exercise.\n",
    "</ul>\n",
    "</blockquote>"
   ]
  },
  {
   "cell_type": "markdown",
   "id": "564f6081",
   "metadata": {
    "papermill": {
     "duration": 0.003098,
     "end_time": "2025-09-08T21:24:46.942830",
     "exception": false,
     "start_time": "2025-09-08T21:24:46.939732",
     "status": "completed"
    },
    "tags": []
   },
   "source": [
    "# Introduction #\n",
    "\n",
    "In the tutorial, we saw how to build an image classifier by attaching a head of dense layers to a pretrained base. The base we used was from a model called **VGG16**. We saw that the VGG16 architecture was prone to overfitting this dataset. Over this course, you'll learn a number of ways you can improve upon this initial attempt.\n",
    "\n",
    "The first way you'll see is to use a base more appropriate to the dataset. The base this model comes from is called **InceptionV1** (also known as GoogLeNet). InceptionV1 was one of the early winners of the ImageNet competition. One of its successors, InceptionV4, is among the state of the art today.\n",
    "\n",
    "To get started, run the code cell below to set everything up."
   ]
  },
  {
   "cell_type": "code",
   "execution_count": 1,
   "id": "b519c2ec",
   "metadata": {
    "execution": {
     "iopub.execute_input": "2025-09-08T21:24:46.950749Z",
     "iopub.status.busy": "2025-09-08T21:24:46.950454Z",
     "iopub.status.idle": "2025-09-08T21:25:17.927994Z",
     "shell.execute_reply": "2025-09-08T21:25:17.927285Z"
    },
    "lines_to_next_cell": 2,
    "papermill": {
     "duration": 30.983886,
     "end_time": "2025-09-08T21:25:17.929961",
     "exception": false,
     "start_time": "2025-09-08T21:24:46.946075",
     "status": "completed"
    },
    "tags": []
   },
   "outputs": [
    {
     "name": "stderr",
     "output_type": "stream",
     "text": [
      "2025-09-08 21:24:49.542095: E external/local_xla/xla/stream_executor/cuda/cuda_dnn.cc:9261] Unable to register cuDNN factory: Attempting to register factory for plugin cuDNN when one has already been registered\n",
      "2025-09-08 21:24:49.542265: E external/local_xla/xla/stream_executor/cuda/cuda_fft.cc:607] Unable to register cuFFT factory: Attempting to register factory for plugin cuFFT when one has already been registered\n",
      "2025-09-08 21:24:49.672936: E external/local_xla/xla/stream_executor/cuda/cuda_blas.cc:1515] Unable to register cuBLAS factory: Attempting to register factory for plugin cuBLAS when one has already been registered\n"
     ]
    },
    {
     "name": "stdout",
     "output_type": "stream",
     "text": [
      "Found 5117 files belonging to 2 classes.\n",
      "Found 5051 files belonging to 2 classes.\n"
     ]
    }
   ],
   "source": [
    "# Setup feedback system\n",
    "from learntools.core import binder\n",
    "binder.bind(globals())\n",
    "from learntools.computer_vision.ex1 import *\n",
    "\n",
    "# Imports\n",
    "import os, warnings\n",
    "import matplotlib.pyplot as plt\n",
    "from matplotlib import gridspec\n",
    "\n",
    "import numpy as np\n",
    "import tensorflow as tf\n",
    "from tensorflow.keras.preprocessing import image_dataset_from_directory\n",
    "\n",
    "# Reproducability\n",
    "def set_seed(seed=31415):\n",
    "    np.random.seed(seed)\n",
    "    tf.random.set_seed(seed)\n",
    "    os.environ['PYTHONHASHSEED'] = str(seed)\n",
    "    os.environ['TF_DETERMINISTIC_OPS'] = '1'\n",
    "set_seed()\n",
    "\n",
    "# Set Matplotlib defaults\n",
    "plt.rc('figure', autolayout=True)\n",
    "plt.rc('axes', labelweight='bold', labelsize='large',\n",
    "       titleweight='bold', titlesize=18, titlepad=10)\n",
    "plt.rc('image', cmap='magma')\n",
    "warnings.filterwarnings(\"ignore\") # to clean up output cells\n",
    "\n",
    "\n",
    "# Load training and validation sets\n",
    "ds_train_ = image_dataset_from_directory(\n",
    "    '../input/car-or-truck/train',\n",
    "    labels='inferred',\n",
    "    label_mode='binary',\n",
    "    image_size=[128, 128],\n",
    "    interpolation='nearest',\n",
    "    batch_size=64,\n",
    "    shuffle=True,\n",
    ")\n",
    "ds_valid_ = image_dataset_from_directory(\n",
    "    '../input/car-or-truck/valid',\n",
    "    labels='inferred',\n",
    "    label_mode='binary',\n",
    "    image_size=[128, 128],\n",
    "    interpolation='nearest',\n",
    "    batch_size=64,\n",
    "    shuffle=False,\n",
    ")\n",
    "\n",
    "# Data Pipeline\n",
    "def convert_to_float(image, label):\n",
    "    image = tf.image.convert_image_dtype(image, dtype=tf.float32)\n",
    "    return image, label\n",
    "\n",
    "AUTOTUNE = tf.data.experimental.AUTOTUNE\n",
    "ds_train = (\n",
    "    ds_train_\n",
    "    .map(convert_to_float)\n",
    "    .cache()\n",
    "    .prefetch(buffer_size=AUTOTUNE)\n",
    ")\n",
    "ds_valid = (\n",
    "    ds_valid_\n",
    "    .map(convert_to_float)\n",
    "    .cache()\n",
    "    .prefetch(buffer_size=AUTOTUNE)\n",
    ")\n"
   ]
  },
  {
   "cell_type": "markdown",
   "id": "343cabab",
   "metadata": {
    "papermill": {
     "duration": 0.003512,
     "end_time": "2025-09-08T21:25:17.937308",
     "exception": false,
     "start_time": "2025-09-08T21:25:17.933796",
     "status": "completed"
    },
    "tags": []
   },
   "source": [
    "The **InceptionV1** model pretrained on ImageNet is available in the [TensorFlow Hub](https://www.tensorflow.org/hub/) repository, but we'll load it from a local copy. Run this cell to load InceptionV1 for your base."
   ]
  },
  {
   "cell_type": "code",
   "execution_count": 2,
   "id": "275c7921",
   "metadata": {
    "execution": {
     "iopub.execute_input": "2025-09-08T21:25:17.946663Z",
     "iopub.status.busy": "2025-09-08T21:25:17.945936Z",
     "iopub.status.idle": "2025-09-08T21:25:21.317745Z",
     "shell.execute_reply": "2025-09-08T21:25:21.316851Z"
    },
    "lines_to_next_cell": 0,
    "papermill": {
     "duration": 3.378196,
     "end_time": "2025-09-08T21:25:21.319766",
     "exception": false,
     "start_time": "2025-09-08T21:25:17.941570",
     "status": "completed"
    },
    "tags": []
   },
   "outputs": [],
   "source": [
    "import tensorflow_hub as hub\n",
    "\n",
    "pretrained_base = tf.keras.models.load_model(\n",
    "    '../input/cv-course-models/cv-course-models/inceptionv1'\n",
    ")"
   ]
  },
  {
   "cell_type": "markdown",
   "id": "e6c35e1d",
   "metadata": {
    "papermill": {
     "duration": 0.003543,
     "end_time": "2025-09-08T21:25:21.327284",
     "exception": false,
     "start_time": "2025-09-08T21:25:21.323741",
     "status": "completed"
    },
    "tags": []
   },
   "source": [
    "# 1) Define Pretrained Base #\n",
    "\n",
    "Now that you have a pretrained base to do our feature extraction, decide whether this base should be trainable or not."
   ]
  },
  {
   "cell_type": "code",
   "execution_count": 3,
   "id": "c00290ba",
   "metadata": {
    "execution": {
     "iopub.execute_input": "2025-09-08T21:25:21.335585Z",
     "iopub.status.busy": "2025-09-08T21:25:21.335295Z",
     "iopub.status.idle": "2025-09-08T21:25:21.342948Z",
     "shell.execute_reply": "2025-09-08T21:25:21.342218Z"
    },
    "lines_to_next_cell": 0,
    "papermill": {
     "duration": 0.013684,
     "end_time": "2025-09-08T21:25:21.344508",
     "exception": false,
     "start_time": "2025-09-08T21:25:21.330824",
     "status": "completed"
    },
    "tags": []
   },
   "outputs": [
    {
     "data": {
      "application/javascript": [
       "parent.postMessage({\"jupyterEvent\": \"custom.exercise_interaction\", \"data\": {\"outcomeType\": 1, \"valueTowardsCompletion\": 0.25, \"interactionType\": 1, \"questionType\": 2, \"questionId\": \"1_Q1\", \"learnToolsVersion\": \"0.3.4\", \"failureMessage\": \"\", \"exceptionClass\": \"\", \"trace\": \"\"}}, \"*\")"
      ],
      "text/plain": [
       "<IPython.core.display.Javascript object>"
      ]
     },
     "metadata": {},
     "output_type": "display_data"
    },
    {
     "data": {
      "text/markdown": [
       "<span style=\"color:#33cc33\">Correct:</span> When doing transfer learning, it's generally not a good idea to retrain the entire base -- at least not without some care. The reason is that the random weights in the head will initially create large gradient updates, which propogate back into the base layers and destroy much of the pretraining. Using techniques known as **fine tuning** it's possible to further train the base on new data, but this requires some care to do well."
      ],
      "text/plain": [
       "Correct: When doing transfer learning, it's generally not a good idea to retrain the entire base -- at least not without some care. The reason is that the random weights in the head will initially create large gradient updates, which propogate back into the base layers and destroy much of the pretraining. Using techniques known as **fine tuning** it's possible to further train the base on new data, but this requires some care to do well."
      ]
     },
     "metadata": {},
     "output_type": "display_data"
    }
   ],
   "source": [
    "# YOUR_CODE_HERE\n",
    "pretrained_base.trainable = False\n",
    "\n",
    "# Check your answer\n",
    "q_1.check()"
   ]
  },
  {
   "cell_type": "code",
   "execution_count": 4,
   "id": "3d359373",
   "metadata": {
    "execution": {
     "iopub.execute_input": "2025-09-08T21:25:21.354065Z",
     "iopub.status.busy": "2025-09-08T21:25:21.353624Z",
     "iopub.status.idle": "2025-09-08T21:25:21.357028Z",
     "shell.execute_reply": "2025-09-08T21:25:21.356388Z"
    },
    "papermill": {
     "duration": 0.009542,
     "end_time": "2025-09-08T21:25:21.358676",
     "exception": false,
     "start_time": "2025-09-08T21:25:21.349134",
     "status": "completed"
    },
    "tags": []
   },
   "outputs": [],
   "source": [
    "# Lines below will give you a hint or solution code\n",
    "#q_1.hint()\n",
    "#q_1.solution()"
   ]
  },
  {
   "cell_type": "markdown",
   "id": "da31ec85",
   "metadata": {
    "papermill": {
     "duration": 0.003634,
     "end_time": "2025-09-08T21:25:21.366344",
     "exception": false,
     "start_time": "2025-09-08T21:25:21.362710",
     "status": "completed"
    },
    "tags": []
   },
   "source": [
    "# 2) Attach Head #\n",
    "\n",
    "Now that the base is defined to do the feature extraction, create a head of `Dense` layers to perform the classification, following this diagram:\n",
    "\n",
    "<figure>\n",
    "<img src=\"https://storage.googleapis.com/kaggle-media/learn/images/i5VU7Ry.png\" alt=\"Diagram of the dense head.\">\n",
    "</figure>\n"
   ]
  },
  {
   "cell_type": "code",
   "execution_count": 5,
   "id": "d760160d",
   "metadata": {
    "execution": {
     "iopub.execute_input": "2025-09-08T21:25:21.375019Z",
     "iopub.status.busy": "2025-09-08T21:25:21.374529Z",
     "iopub.status.idle": "2025-09-08T21:25:21.390664Z",
     "shell.execute_reply": "2025-09-08T21:25:21.389700Z"
    },
    "lines_to_next_cell": 0,
    "papermill": {
     "duration": 0.022266,
     "end_time": "2025-09-08T21:25:21.392345",
     "exception": false,
     "start_time": "2025-09-08T21:25:21.370079",
     "status": "completed"
    },
    "tags": []
   },
   "outputs": [
    {
     "data": {
      "application/javascript": [
       "parent.postMessage({\"jupyterEvent\": \"custom.exercise_interaction\", \"data\": {\"outcomeType\": 1, \"valueTowardsCompletion\": 0.25, \"interactionType\": 1, \"questionType\": 2, \"questionId\": \"2_Q2\", \"learnToolsVersion\": \"0.3.4\", \"failureMessage\": \"\", \"exceptionClass\": \"\", \"trace\": \"\"}}, \"*\")"
      ],
      "text/plain": [
       "<IPython.core.display.Javascript object>"
      ]
     },
     "metadata": {},
     "output_type": "display_data"
    },
    {
     "data": {
      "text/markdown": [
       "<span style=\"color:#33cc33\">Correct</span>"
      ],
      "text/plain": [
       "Correct"
      ]
     },
     "metadata": {},
     "output_type": "display_data"
    }
   ],
   "source": [
    "from tensorflow import keras\n",
    "from tensorflow.keras import layers\n",
    "\n",
    "model = keras.Sequential([\n",
    "    pretrained_base,\n",
    "    layers.Flatten(),\n",
    "    layers.Dense(6, activation='relu'),\n",
    "    layers.Dense(1, activation='sigmoid')\n",
    "])\n",
    "\n",
    "# Check your answer\n",
    "q_2.check()"
   ]
  },
  {
   "cell_type": "code",
   "execution_count": 6,
   "id": "41b8330e",
   "metadata": {
    "execution": {
     "iopub.execute_input": "2025-09-08T21:25:21.401129Z",
     "iopub.status.busy": "2025-09-08T21:25:21.400882Z",
     "iopub.status.idle": "2025-09-08T21:25:21.404123Z",
     "shell.execute_reply": "2025-09-08T21:25:21.403479Z"
    },
    "papermill": {
     "duration": 0.00935,
     "end_time": "2025-09-08T21:25:21.405678",
     "exception": false,
     "start_time": "2025-09-08T21:25:21.396328",
     "status": "completed"
    },
    "tags": []
   },
   "outputs": [],
   "source": [
    "# Lines below will give you a hint or solution code\n",
    "#q_2.hint()\n",
    "#q_2.solution()"
   ]
  },
  {
   "cell_type": "markdown",
   "id": "92d0c242",
   "metadata": {
    "papermill": {
     "duration": 0.003932,
     "end_time": "2025-09-08T21:25:21.413649",
     "exception": false,
     "start_time": "2025-09-08T21:25:21.409717",
     "status": "completed"
    },
    "tags": []
   },
   "source": [
    "# 3) Train #\n",
    "\n",
    "Before training a model in Keras, you need to specify an *optimizer* to perform the gradient descent, a *loss function* to be minimized, and (optionally) any *performance metrics*. The optimization algorithm we'll use for this course is called [\"Adam\"](https://keras.io/api/optimizers/adam/), which generally performs well regardless of what kind of problem you're trying to solve.\n",
    "\n",
    "The loss and the metrics, however, need to match the kind of problem you're trying to solve. Our problem is a **binary classification** problem: `Car` coded as 0, and `Truck` coded as 1. Choose an appropriate loss and an appropriate accuracy metric for binary classification."
   ]
  },
  {
   "cell_type": "code",
   "execution_count": 7,
   "id": "5ad616c4",
   "metadata": {
    "execution": {
     "iopub.execute_input": "2025-09-08T21:25:21.423289Z",
     "iopub.status.busy": "2025-09-08T21:25:21.422616Z",
     "iopub.status.idle": "2025-09-08T21:25:21.448367Z",
     "shell.execute_reply": "2025-09-08T21:25:21.447540Z"
    },
    "lines_to_next_cell": 0,
    "papermill": {
     "duration": 0.032204,
     "end_time": "2025-09-08T21:25:21.449926",
     "exception": false,
     "start_time": "2025-09-08T21:25:21.417722",
     "status": "completed"
    },
    "tags": []
   },
   "outputs": [
    {
     "data": {
      "application/javascript": [
       "parent.postMessage({\"jupyterEvent\": \"custom.exercise_interaction\", \"data\": {\"outcomeType\": 1, \"valueTowardsCompletion\": 0.25, \"interactionType\": 1, \"questionType\": 2, \"questionId\": \"3_Q3\", \"learnToolsVersion\": \"0.3.4\", \"failureMessage\": \"\", \"exceptionClass\": \"\", \"trace\": \"\"}}, \"*\")"
      ],
      "text/plain": [
       "<IPython.core.display.Javascript object>"
      ]
     },
     "metadata": {},
     "output_type": "display_data"
    },
    {
     "data": {
      "text/markdown": [
       "<span style=\"color:#33cc33\">Correct</span>"
      ],
      "text/plain": [
       "Correct"
      ]
     },
     "metadata": {},
     "output_type": "display_data"
    }
   ],
   "source": [
    "# YOUR CODE HERE: what loss function should you use for a binary\n",
    "# classification problem? (Your answer for each should be a string.)\n",
    "optimizer = tf.keras.optimizers.Adam(epsilon=0.01)\n",
    "model.compile(\n",
    "    optimizer=optimizer,\n",
    "    loss = 'binary_crossentropy',\n",
    "    metrics=['binary_accuracy'],\n",
    ")\n",
    "\n",
    "# Check your answer\n",
    "q_3.check()"
   ]
  },
  {
   "cell_type": "code",
   "execution_count": 8,
   "id": "b953e784",
   "metadata": {
    "execution": {
     "iopub.execute_input": "2025-09-08T21:25:21.459294Z",
     "iopub.status.busy": "2025-09-08T21:25:21.458762Z",
     "iopub.status.idle": "2025-09-08T21:25:21.461932Z",
     "shell.execute_reply": "2025-09-08T21:25:21.461144Z"
    },
    "lines_to_next_cell": 0,
    "papermill": {
     "duration": 0.009505,
     "end_time": "2025-09-08T21:25:21.463563",
     "exception": false,
     "start_time": "2025-09-08T21:25:21.454058",
     "status": "completed"
    },
    "tags": []
   },
   "outputs": [],
   "source": [
    "# Lines below will give you a hint or solution code\n",
    "#q_3.hint()\n",
    "#q_3.solution()"
   ]
  },
  {
   "cell_type": "code",
   "execution_count": 9,
   "id": "38c8b42c",
   "metadata": {
    "execution": {
     "iopub.execute_input": "2025-09-08T21:25:21.472758Z",
     "iopub.status.busy": "2025-09-08T21:25:21.472544Z",
     "iopub.status.idle": "2025-09-08T21:27:27.381342Z",
     "shell.execute_reply": "2025-09-08T21:27:27.380453Z"
    },
    "papermill": {
     "duration": 125.915532,
     "end_time": "2025-09-08T21:27:27.383142",
     "exception": false,
     "start_time": "2025-09-08T21:25:21.467610",
     "status": "completed"
    },
    "tags": []
   },
   "outputs": [
    {
     "name": "stdout",
     "output_type": "stream",
     "text": [
      "Epoch 1/30\n"
     ]
    },
    {
     "name": "stderr",
     "output_type": "stream",
     "text": [
      "WARNING: All log messages before absl::InitializeLog() is called are written to STDERR\n",
      "I0000 00:00:1757366729.113870      75 device_compiler.h:186] Compiled cluster using XLA!  This line is logged at most once for the lifetime of the process.\n"
     ]
    },
    {
     "name": "stdout",
     "output_type": "stream",
     "text": [
      "80/80 [==============================] - 27s 236ms/step - loss: 0.6579 - binary_accuracy: 0.6721 - val_loss: 0.6118 - val_binary_accuracy: 0.7492\n",
      "Epoch 2/30\n",
      "80/80 [==============================] - 3s 43ms/step - loss: 0.5885 - binary_accuracy: 0.7665 - val_loss: 0.5632 - val_binary_accuracy: 0.8070\n",
      "Epoch 3/30\n",
      "80/80 [==============================] - 3s 43ms/step - loss: 0.5519 - binary_accuracy: 0.8054 - val_loss: 0.5405 - val_binary_accuracy: 0.8242\n",
      "Epoch 4/30\n",
      "80/80 [==============================] - 3s 43ms/step - loss: 0.5294 - binary_accuracy: 0.8184 - val_loss: 0.5233 - val_binary_accuracy: 0.8301\n",
      "Epoch 5/30\n",
      "80/80 [==============================] - 3s 43ms/step - loss: 0.5102 - binary_accuracy: 0.8319 - val_loss: 0.5125 - val_binary_accuracy: 0.8305\n",
      "Epoch 6/30\n",
      "80/80 [==============================] - 3s 43ms/step - loss: 0.4936 - binary_accuracy: 0.8401 - val_loss: 0.4985 - val_binary_accuracy: 0.8337\n",
      "Epoch 7/30\n",
      "80/80 [==============================] - 3s 43ms/step - loss: 0.4771 - binary_accuracy: 0.8444 - val_loss: 0.4854 - val_binary_accuracy: 0.8339\n",
      "Epoch 8/30\n",
      "80/80 [==============================] - 3s 43ms/step - loss: 0.4621 - binary_accuracy: 0.8501 - val_loss: 0.4749 - val_binary_accuracy: 0.8371\n",
      "Epoch 9/30\n",
      "80/80 [==============================] - 3s 43ms/step - loss: 0.4489 - binary_accuracy: 0.8558 - val_loss: 0.4671 - val_binary_accuracy: 0.8359\n",
      "Epoch 10/30\n",
      "80/80 [==============================] - 3s 43ms/step - loss: 0.4367 - binary_accuracy: 0.8620 - val_loss: 0.4569 - val_binary_accuracy: 0.8337\n",
      "Epoch 11/30\n",
      "80/80 [==============================] - 3s 43ms/step - loss: 0.4241 - binary_accuracy: 0.8648 - val_loss: 0.4480 - val_binary_accuracy: 0.8365\n",
      "Epoch 12/30\n",
      "80/80 [==============================] - 3s 43ms/step - loss: 0.4128 - binary_accuracy: 0.8708 - val_loss: 0.4413 - val_binary_accuracy: 0.8367\n",
      "Epoch 13/30\n",
      "80/80 [==============================] - 3s 43ms/step - loss: 0.4013 - binary_accuracy: 0.8720 - val_loss: 0.4337 - val_binary_accuracy: 0.8396\n",
      "Epoch 14/30\n",
      "80/80 [==============================] - 3s 43ms/step - loss: 0.3911 - binary_accuracy: 0.8761 - val_loss: 0.4282 - val_binary_accuracy: 0.8410\n",
      "Epoch 15/30\n",
      "80/80 [==============================] - 3s 43ms/step - loss: 0.3824 - binary_accuracy: 0.8784 - val_loss: 0.4237 - val_binary_accuracy: 0.8422\n",
      "Epoch 16/30\n",
      "80/80 [==============================] - 3s 43ms/step - loss: 0.3735 - binary_accuracy: 0.8822 - val_loss: 0.4182 - val_binary_accuracy: 0.8414\n",
      "Epoch 17/30\n",
      "80/80 [==============================] - 3s 43ms/step - loss: 0.3655 - binary_accuracy: 0.8833 - val_loss: 0.4119 - val_binary_accuracy: 0.8448\n",
      "Epoch 18/30\n",
      "80/80 [==============================] - 3s 43ms/step - loss: 0.3564 - binary_accuracy: 0.8872 - val_loss: 0.4073 - val_binary_accuracy: 0.8434\n",
      "Epoch 19/30\n",
      "80/80 [==============================] - 3s 43ms/step - loss: 0.3487 - binary_accuracy: 0.8884 - val_loss: 0.4022 - val_binary_accuracy: 0.8448\n",
      "Epoch 20/30\n",
      "80/80 [==============================] - 3s 43ms/step - loss: 0.3413 - binary_accuracy: 0.8906 - val_loss: 0.3973 - val_binary_accuracy: 0.8438\n",
      "Epoch 21/30\n",
      "80/80 [==============================] - 3s 43ms/step - loss: 0.3340 - binary_accuracy: 0.8931 - val_loss: 0.3943 - val_binary_accuracy: 0.8462\n",
      "Epoch 22/30\n",
      "80/80 [==============================] - 3s 43ms/step - loss: 0.3274 - binary_accuracy: 0.8956 - val_loss: 0.3894 - val_binary_accuracy: 0.8456\n",
      "Epoch 23/30\n",
      "80/80 [==============================] - 3s 43ms/step - loss: 0.3207 - binary_accuracy: 0.8972 - val_loss: 0.3873 - val_binary_accuracy: 0.8458\n",
      "Epoch 24/30\n",
      "80/80 [==============================] - 3s 43ms/step - loss: 0.3150 - binary_accuracy: 0.8992 - val_loss: 0.3841 - val_binary_accuracy: 0.8452\n",
      "Epoch 25/30\n",
      "80/80 [==============================] - 3s 43ms/step - loss: 0.3095 - binary_accuracy: 0.9011 - val_loss: 0.3826 - val_binary_accuracy: 0.8456\n",
      "Epoch 26/30\n",
      "80/80 [==============================] - 3s 43ms/step - loss: 0.3039 - binary_accuracy: 0.9027 - val_loss: 0.3799 - val_binary_accuracy: 0.8476\n",
      "Epoch 27/30\n",
      "80/80 [==============================] - 3s 43ms/step - loss: 0.2989 - binary_accuracy: 0.9058 - val_loss: 0.3795 - val_binary_accuracy: 0.8466\n",
      "Epoch 28/30\n",
      "80/80 [==============================] - 3s 43ms/step - loss: 0.2938 - binary_accuracy: 0.9072 - val_loss: 0.3736 - val_binary_accuracy: 0.8507\n",
      "Epoch 29/30\n",
      "80/80 [==============================] - 3s 43ms/step - loss: 0.2891 - binary_accuracy: 0.9080 - val_loss: 0.3731 - val_binary_accuracy: 0.8505\n",
      "Epoch 30/30\n",
      "80/80 [==============================] - 3s 43ms/step - loss: 0.2844 - binary_accuracy: 0.9089 - val_loss: 0.3717 - val_binary_accuracy: 0.8505\n"
     ]
    }
   ],
   "source": [
    "history = model.fit(\n",
    "    ds_train,\n",
    "    validation_data=ds_valid,\n",
    "    epochs=30,\n",
    ")"
   ]
  },
  {
   "cell_type": "markdown",
   "id": "2fbe210f",
   "metadata": {
    "papermill": {
     "duration": 0.042863,
     "end_time": "2025-09-08T21:27:27.470553",
     "exception": false,
     "start_time": "2025-09-08T21:27:27.427690",
     "status": "completed"
    },
    "tags": []
   },
   "source": [
    "Run the cell below to plot the loss and metric curves for this training run."
   ]
  },
  {
   "cell_type": "code",
   "execution_count": 10,
   "id": "4a39a1ab",
   "metadata": {
    "execution": {
     "iopub.execute_input": "2025-09-08T21:27:27.610601Z",
     "iopub.status.busy": "2025-09-08T21:27:27.609817Z",
     "iopub.status.idle": "2025-09-08T21:27:28.168847Z",
     "shell.execute_reply": "2025-09-08T21:27:28.167955Z"
    },
    "papermill": {
     "duration": 0.656183,
     "end_time": "2025-09-08T21:27:28.170594",
     "exception": false,
     "start_time": "2025-09-08T21:27:27.514411",
     "status": "completed"
    },
    "tags": []
   },
   "outputs": [
    {
     "data": {
      "image/png": "[encoded data removed]",
      "text/plain": [
       "<Figure size 640x480 with 1 Axes>"
      ]
     },
     "metadata": {},
     "output_type": "display_data"
    },
    {
     "data": {
      "image/png": "[encoded data removed]",
      "text/plain": [
       "<Figure size 640x480 with 1 Axes>"
      ]
     },
     "metadata": {},
     "output_type": "display_data"
    }
   ],
   "source": [
    "import pandas as pd\n",
    "history_frame = pd.DataFrame(history.history)\n",
    "history_frame.loc[:, ['loss', 'val_loss']].plot()\n",
    "history_frame.loc[:, ['binary_accuracy', 'val_binary_accuracy']].plot();"
   ]
  },
  {
   "cell_type": "markdown",
   "id": "a9b856cb",
   "metadata": {
    "papermill": {
     "duration": 0.044386,
     "end_time": "2025-09-08T21:27:28.259936",
     "exception": false,
     "start_time": "2025-09-08T21:27:28.215550",
     "status": "completed"
    },
    "tags": []
   },
   "source": [
    "# 4) Examine Loss and Accuracy #\n",
    "\n",
    "Do you notice a difference between these learning curves and the curves for VGG16 from the tutorial? What does this difference tell you about what this model (InceptionV2) learned compared to VGG16? Are there ways in which one is better than the other? Worse?\n",
    "\n",
    "After you've thought about it, run the cell below to see the answer."
   ]
  },
  {
   "cell_type": "code",
   "execution_count": 11,
   "id": "207c58f4",
   "metadata": {
    "execution": {
     "iopub.execute_input": "2025-09-08T21:27:28.352787Z",
     "iopub.status.busy": "2025-09-08T21:27:28.352427Z",
     "iopub.status.idle": "2025-09-08T21:27:28.359502Z",
     "shell.execute_reply": "2025-09-08T21:27:28.358702Z"
    },
    "papermill": {
     "duration": 0.054644,
     "end_time": "2025-09-08T21:27:28.361084",
     "exception": false,
     "start_time": "2025-09-08T21:27:28.306440",
     "status": "completed"
    },
    "tags": []
   },
   "outputs": [
    {
     "data": {
      "application/javascript": [
       "parent.postMessage({\"jupyterEvent\": \"custom.exercise_interaction\", \"data\": {\"outcomeType\": 1, \"valueTowardsCompletion\": 0.25, \"interactionType\": 1, \"questionType\": 4, \"questionId\": \"4_Q4\", \"learnToolsVersion\": \"0.3.4\", \"failureMessage\": \"\", \"exceptionClass\": \"\", \"trace\": \"\"}}, \"*\")"
      ],
      "text/plain": [
       "<IPython.core.display.Javascript object>"
      ]
     },
     "metadata": {},
     "output_type": "display_data"
    },
    {
     "data": {
      "text/markdown": [
       "<span style=\"color:#33cc33\">Correct:</span> \n",
       "\n",
       "That the training loss and validation loss stay fairly close is evidence that the model isn't just memorizing the training data, but rather learning general properties of the two classes. But, because this model converges at a loss greater than the VGG16 model, it's likely that it is underfitting some, and could benefit from some extra capacity.\n"
      ],
      "text/plain": [
       "Correct: \n",
       "\n",
       "That the training loss and validation loss stay fairly close is evidence that the model isn't just memorizing the training data, but rather learning general properties of the two classes. But, because this model converges at a loss greater than the VGG16 model, it's likely that it is underfitting some, and could benefit from some extra capacity."
      ]
     },
     "metadata": {},
     "output_type": "display_data"
    }
   ],
   "source": [
    "# View the solution (Run this code cell to receive credit!)\n",
    "q_4.check()"
   ]
  },
  {
   "cell_type": "markdown",
   "id": "7e15f919",
   "metadata": {
    "papermill": {
     "duration": 0.044525,
     "end_time": "2025-09-08T21:27:28.451044",
     "exception": false,
     "start_time": "2025-09-08T21:27:28.406519",
     "status": "completed"
    },
    "tags": []
   },
   "source": [
    "# Conclusion #\n",
    "\n",
    "In this first lesson, you learned the basics of **convolutional image classifiers**, that they consist of a **base** for extracting features from images, and a **head** which uses the features to decide the image's class. You also saw how to build a classifier with **transfer learning** on pretrained base. "
   ]
  },
  {
   "cell_type": "markdown",
   "id": "390a2a62",
   "metadata": {
    "papermill": {
     "duration": 0.044907,
     "end_time": "2025-09-08T21:27:28.540225",
     "exception": false,
     "start_time": "2025-09-08T21:27:28.495318",
     "status": "completed"
    },
    "tags": []
   },
   "source": [
    "# Keep Going #\n",
    "\n",
    "Move on to [**Lesson 2**](https://www.kaggle.com/ryanholbrook/convolution-and-relu) for a detailed look at how the base does this feature extraction. (It's really cool!)"
   ]
  },
  {
   "cell_type": "markdown",
   "id": "794657ba",
   "metadata": {
    "papermill": {
     "duration": 0.046394,
     "end_time": "2025-09-08T21:27:28.633189",
     "exception": false,
     "start_time": "2025-09-08T21:27:28.586795",
     "status": "completed"
    },
    "tags": []
   },
   "source": [
    "---\n",
    "\n",
    "\n",
    "\n",
    "\n",
    "*Have questions or comments? Visit the [course discussion forum](https://www.kaggle.com/learn/computer-vision/discussion) to chat with other learners.*"
   ]
  }
 ],
 "metadata": {
  "jupytext": {
   "formats": "ipynb,md",
   "split_at_heading": true
  },
  "kaggle": {
   "accelerator": "gpu",
   "dataSources": [
    {
     "datasetId": 708136,
     "sourceId": 1338830,
     "sourceType": "datasetVersion"
    },
    {
     "datasetId": 701538,
     "sourceId": 1363948,
     "sourceType": "datasetVersion"
    },
    {
     "datasetId": 878523,
     "sourceId": 1495782,
     "sourceType": "datasetVersion"
    }
   ],
   "dockerImageVersionId": 30648,
   "isGpuEnabled": true,
   "isInternetEnabled": false,
   "language": "python",
   "sourceType": "notebook"
  },
  "kernelspec": {
   "display_name": "Python 3",
   "language": "python",
   "name": "python3"
  },
  "language_info": {
   "codemirror_mode": {
    "name": "ipython",
    "version": 3
   },
   "file_extension": ".py",
   "mimetype": "text/x-python",
   "name": "python",
   "nbconvert_exporter": "python",
   "pygments_lexer": "ipython3",
   "version": "3.10.13"
  },
  "papermill": {
   "default_parameters": {},
   "duration": 167.256807,
   "end_time": "2025-09-08T21:27:31.628178",
   "environment_variables": {},
   "exception": null,
   "input_path": "__notebook__.ipynb",
   "output_path": "__notebook__.ipynb",
   "parameters": {},
   "start_time": "2025-09-08T21:24:44.371371",
   "version": "2.5.0"
  }
 },
 "nbformat": 4,
 "nbformat_minor": 5
}
