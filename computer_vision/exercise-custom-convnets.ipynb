{
 "cells": [
  {
   "cell_type": "markdown",
   "id": "52ab5fac",
   "metadata": {
    "papermill": {
     "duration": 0.003387,
     "end_time": "2025-09-08T21:31:36.743229",
     "exception": false,
     "start_time": "2025-09-08T21:31:36.739842",
     "status": "completed"
    },
    "tags": []
   },
   "source": [
    "**This notebook is an exercise in the [Computer Vision](https://www.kaggle.com/learn/computer-vision) course.  You can reference the tutorial at [this link](https://www.kaggle.com/ryanholbrook/custom-convnets).**\n",
    "\n",
    "---\n"
   ]
  },
  {
   "cell_type": "markdown",
   "id": "97e8516f",
   "metadata": {
    "papermill": {
     "duration": 0.002712,
     "end_time": "2025-09-08T21:31:36.749000",
     "exception": false,
     "start_time": "2025-09-08T21:31:36.746288",
     "status": "completed"
    },
    "tags": []
   },
   "source": [
    "# Introduction #\n",
    "\n",
    "In these exercises, you'll build a custom convnet with performance competitive to the VGG16 model from Lesson 1.\n",
    "\n",
    "Get started by running the code cell below."
   ]
  },
  {
   "cell_type": "code",
   "execution_count": 1,
   "id": "2ea17e03",
   "metadata": {
    "execution": {
     "iopub.execute_input": "2025-09-08T21:31:36.756147Z",
     "iopub.status.busy": "2025-09-08T21:31:36.755619Z",
     "iopub.status.idle": "2025-09-08T21:32:00.667997Z",
     "shell.execute_reply": "2025-09-08T21:32:00.667316Z"
    },
    "papermill": {
     "duration": 23.918028,
     "end_time": "2025-09-08T21:32:00.669813",
     "exception": false,
     "start_time": "2025-09-08T21:31:36.751785",
     "status": "completed"
    },
    "tags": []
   },
   "outputs": [
    {
     "name": "stderr",
     "output_type": "stream",
     "text": [
      "2025-09-08 21:31:39.445664: E external/local_xla/xla/stream_executor/cuda/cuda_dnn.cc:9261] Unable to register cuDNN factory: Attempting to register factory for plugin cuDNN when one has already been registered\n",
      "2025-09-08 21:31:39.445784: E external/local_xla/xla/stream_executor/cuda/cuda_fft.cc:607] Unable to register cuFFT factory: Attempting to register factory for plugin cuFFT when one has already been registered\n",
      "2025-09-08 21:31:39.587214: E external/local_xla/xla/stream_executor/cuda/cuda_blas.cc:1515] Unable to register cuBLAS factory: Attempting to register factory for plugin cuBLAS when one has already been registered\n"
     ]
    },
    {
     "name": "stdout",
     "output_type": "stream",
     "text": [
      "Found 5117 files belonging to 2 classes.\n",
      "Found 5051 files belonging to 2 classes.\n"
     ]
    }
   ],
   "source": [
    "# Setup feedback system\n",
    "from learntools.core import binder\n",
    "binder.bind(globals())\n",
    "from learntools.computer_vision.ex5 import *\n",
    "\n",
    "# Imports\n",
    "import os, warnings\n",
    "import matplotlib.pyplot as plt\n",
    "from matplotlib import gridspec\n",
    "\n",
    "import numpy as np\n",
    "import tensorflow as tf\n",
    "from tensorflow.keras.preprocessing import image_dataset_from_directory\n",
    "\n",
    "# Reproducability\n",
    "def set_seed(seed=31415):\n",
    "    np.random.seed(seed)\n",
    "    tf.random.set_seed(seed)\n",
    "    os.environ['PYTHONHASHSEED'] = str(seed)\n",
    "    os.environ['TF_DETERMINISTIC_OPS'] = '1'\n",
    "set_seed()\n",
    "\n",
    "# Set Matplotlib defaults\n",
    "plt.rc('figure', autolayout=True)\n",
    "plt.rc('axes', labelweight='bold', labelsize='large',\n",
    "       titleweight='bold', titlesize=18, titlepad=10)\n",
    "plt.rc('image', cmap='magma')\n",
    "warnings.filterwarnings(\"ignore\") # to clean up output cells\n",
    "\n",
    "\n",
    "# Load training and validation sets\n",
    "ds_train_ = image_dataset_from_directory(\n",
    "    '../input/car-or-truck/train',\n",
    "    labels='inferred',\n",
    "    label_mode='binary',\n",
    "    image_size=[128, 128],\n",
    "    interpolation='nearest',\n",
    "    batch_size=64,\n",
    "    shuffle=True,\n",
    ")\n",
    "ds_valid_ = image_dataset_from_directory(\n",
    "    '../input/car-or-truck/valid',\n",
    "    labels='inferred',\n",
    "    label_mode='binary',\n",
    "    image_size=[128, 128],\n",
    "    interpolation='nearest',\n",
    "    batch_size=64,\n",
    "    shuffle=False,\n",
    ")\n",
    "\n",
    "# Data Pipeline\n",
    "def convert_to_float(image, label):\n",
    "    image = tf.image.convert_image_dtype(image, dtype=tf.float32)\n",
    "    return image, label\n",
    "\n",
    "AUTOTUNE = tf.data.experimental.AUTOTUNE\n",
    "ds_train = (\n",
    "    ds_train_\n",
    "    .map(convert_to_float)\n",
    "    .cache()\n",
    "    .prefetch(buffer_size=AUTOTUNE)\n",
    ")\n",
    "ds_valid = (\n",
    "    ds_valid_\n",
    "    .map(convert_to_float)\n",
    "    .cache()\n",
    "    .prefetch(buffer_size=AUTOTUNE)\n",
    ")\n"
   ]
  },
  {
   "cell_type": "markdown",
   "id": "0a993938",
   "metadata": {
    "papermill": {
     "duration": 0.002889,
     "end_time": "2025-09-08T21:32:00.676122",
     "exception": false,
     "start_time": "2025-09-08T21:32:00.673233",
     "status": "completed"
    },
    "tags": []
   },
   "source": [
    "# Design a Convnet #\n",
    "\n",
    "Let's design a convolutional network with a block architecture like we saw in the tutorial. The model from the example had three blocks, each with a single convolutional layer. Its performance on the \"Car or Truck\" problem was okay, but far from what the pretrained VGG16 could achieve. It might be that our simple network lacks the ability to extract sufficiently complex features. We could try improving the model either by adding more blocks or by adding convolutions to the blocks we have.\n",
    "\n",
    "Let's go with the second approach. We'll keep the three block structure, but increase the number of `Conv2D` layer in the second block to two, and in the third block to three.\n",
    "\n",
    "<figure>\n",
    "<!-- <img src=\"./images/2-convmodel-2.png\" width=\"250\" alt=\"Diagram of a convolutional model.\"> -->\n",
    "<img src=\"https://storage.googleapis.com/kaggle-media/learn/images/Vko6nCK.png\" width=\"250\" alt=\"Diagram of a convolutional model.\">\n",
    "</figure>\n",
    "\n",
    "# 1) Define Model #\n",
    "\n",
    "Given the diagram above, complete the model by defining the layers of the third block."
   ]
  },
  {
   "cell_type": "code",
   "execution_count": 2,
   "id": "306eddab",
   "metadata": {
    "execution": {
     "iopub.execute_input": "2025-09-08T21:32:00.683509Z",
     "iopub.status.busy": "2025-09-08T21:32:00.683003Z",
     "iopub.status.idle": "2025-09-08T21:32:00.816479Z",
     "shell.execute_reply": "2025-09-08T21:32:00.815608Z"
    },
    "lines_to_next_cell": 0,
    "papermill": {
     "duration": 0.139133,
     "end_time": "2025-09-08T21:32:00.818351",
     "exception": false,
     "start_time": "2025-09-08T21:32:00.679218",
     "status": "completed"
    },
    "tags": []
   },
   "outputs": [
    {
     "data": {
      "application/javascript": [
       "parent.postMessage({\"jupyterEvent\": \"custom.exercise_interaction\", \"data\": {\"outcomeType\": 1, \"valueTowardsCompletion\": 0.3333333333333333, \"interactionType\": 1, \"questionType\": 2, \"questionId\": \"1_Q1\", \"learnToolsVersion\": \"0.3.4\", \"failureMessage\": \"\", \"exceptionClass\": \"\", \"trace\": \"\"}}, \"*\")"
      ],
      "text/plain": [
       "<IPython.core.display.Javascript object>"
      ]
     },
     "metadata": {},
     "output_type": "display_data"
    },
    {
     "data": {
      "text/markdown": [
       "<span style=\"color:#33cc33\">Correct</span>"
      ],
      "text/plain": [
       "Correct"
      ]
     },
     "metadata": {},
     "output_type": "display_data"
    }
   ],
   "source": [
    "from tensorflow import keras\n",
    "from tensorflow.keras import layers\n",
    "\n",
    "model = keras.Sequential([\n",
    "    # Block One\n",
    "    layers.Conv2D(filters=32, kernel_size=3, activation='relu', padding='same',\n",
    "                  input_shape=[128, 128, 3]),\n",
    "    layers.MaxPool2D(),\n",
    "\n",
    "    # Block Two\n",
    "    layers.Conv2D(filters=64, kernel_size=3, activation='relu', padding='same'),\n",
    "    layers.MaxPool2D(),\n",
    "\n",
    "    # Block Three\n",
    "    layers.Conv2D(filters=128, kernel_size=3, activation='relu', padding='same'),\n",
    "    layers.Conv2D(filters=128, kernel_size=3, activation='relu', padding='same'),\n",
    "    layers.MaxPool2D(),\n",
    "\n",
    "    # Head\n",
    "    layers.Flatten(),\n",
    "    layers.Dense(6, activation='relu'),\n",
    "    layers.Dropout(0.2),\n",
    "    layers.Dense(1, activation='sigmoid'),\n",
    "])\n",
    "\n",
    "# Check your answer\n",
    "q_1.check()"
   ]
  },
  {
   "cell_type": "code",
   "execution_count": 3,
   "id": "29a01b8e",
   "metadata": {
    "execution": {
     "iopub.execute_input": "2025-09-08T21:32:00.826135Z",
     "iopub.status.busy": "2025-09-08T21:32:00.825842Z",
     "iopub.status.idle": "2025-09-08T21:32:00.829127Z",
     "shell.execute_reply": "2025-09-08T21:32:00.828399Z"
    },
    "papermill": {
     "duration": 0.009014,
     "end_time": "2025-09-08T21:32:00.830709",
     "exception": false,
     "start_time": "2025-09-08T21:32:00.821695",
     "status": "completed"
    },
    "tags": []
   },
   "outputs": [],
   "source": [
    "# Lines below will give you a hint or solution code\n",
    "#q_1.hint()\n",
    "#q_1.solution()"
   ]
  },
  {
   "cell_type": "markdown",
   "id": "e55c0bab",
   "metadata": {
    "papermill": {
     "duration": 0.003166,
     "end_time": "2025-09-08T21:32:00.837085",
     "exception": false,
     "start_time": "2025-09-08T21:32:00.833919",
     "status": "completed"
    },
    "tags": []
   },
   "source": [
    "# 2) Compile #\n",
    "\n",
    "To prepare for training, compile the model with an appropriate loss and accuracy metric for the \"Car or Truck\" dataset."
   ]
  },
  {
   "cell_type": "code",
   "execution_count": 4,
   "id": "728fba4c",
   "metadata": {
    "execution": {
     "iopub.execute_input": "2025-09-08T21:32:00.844342Z",
     "iopub.status.busy": "2025-09-08T21:32:00.844084Z",
     "iopub.status.idle": "2025-09-08T21:32:01.034698Z",
     "shell.execute_reply": "2025-09-08T21:32:01.033815Z"
    },
    "lines_to_next_cell": 0,
    "papermill": {
     "duration": 0.196096,
     "end_time": "2025-09-08T21:32:01.036338",
     "exception": false,
     "start_time": "2025-09-08T21:32:00.840242",
     "status": "completed"
    },
    "tags": []
   },
   "outputs": [
    {
     "data": {
      "application/javascript": [
       "parent.postMessage({\"jupyterEvent\": \"custom.exercise_interaction\", \"data\": {\"outcomeType\": 1, \"valueTowardsCompletion\": 0.3333333333333333, \"interactionType\": 1, \"questionType\": 2, \"questionId\": \"2_Q2\", \"learnToolsVersion\": \"0.3.4\", \"failureMessage\": \"\", \"exceptionClass\": \"\", \"trace\": \"\"}}, \"*\")"
      ],
      "text/plain": [
       "<IPython.core.display.Javascript object>"
      ]
     },
     "metadata": {},
     "output_type": "display_data"
    },
    {
     "data": {
      "text/markdown": [
       "<span style=\"color:#33cc33\">Correct</span>"
      ],
      "text/plain": [
       "Correct"
      ]
     },
     "metadata": {},
     "output_type": "display_data"
    }
   ],
   "source": [
    "model.compile(\n",
    "    optimizer=tf.keras.optimizers.Adam(epsilon=0.01),\n",
    "    # YOUR CODE HERE: Add loss and metric\n",
    "    loss='binary_crossentropy',\n",
    "    metrics=['binary_accuracy']\n",
    ")\n",
    "\n",
    "# Check your answer\n",
    "q_2.check()"
   ]
  },
  {
   "cell_type": "code",
   "execution_count": 5,
   "id": "de809c9c",
   "metadata": {
    "execution": {
     "iopub.execute_input": "2025-09-08T21:32:01.044638Z",
     "iopub.status.busy": "2025-09-08T21:32:01.044411Z",
     "iopub.status.idle": "2025-09-08T21:32:01.056041Z",
     "shell.execute_reply": "2025-09-08T21:32:01.055323Z"
    },
    "lines_to_next_cell": 0,
    "papermill": {
     "duration": 0.017749,
     "end_time": "2025-09-08T21:32:01.057730",
     "exception": false,
     "start_time": "2025-09-08T21:32:01.039981",
     "status": "completed"
    },
    "tags": []
   },
   "outputs": [
    {
     "data": {
      "application/javascript": [
       "parent.postMessage({\"jupyterEvent\": \"custom.exercise_interaction\", \"data\": {\"outcomeType\": 1, \"valueTowardsCompletion\": 0.3333333333333333, \"interactionType\": 1, \"questionType\": 2, \"questionId\": \"2_Q2\", \"learnToolsVersion\": \"0.3.4\", \"failureMessage\": \"\", \"exceptionClass\": \"\", \"trace\": \"\"}}, \"*\")"
      ],
      "text/plain": [
       "<IPython.core.display.Javascript object>"
      ]
     },
     "metadata": {},
     "output_type": "display_data"
    },
    {
     "data": {
      "text/markdown": [
       "<span style=\"color:#33cc33\">Correct</span>"
      ],
      "text/plain": [
       "Correct"
      ]
     },
     "metadata": {},
     "output_type": "display_data"
    }
   ],
   "source": [
    "model.compile(\n",
    "    optimizer=tf.keras.optimizers.Adam(epsilon=0.01),\n",
    "    loss='binary_crossentropy',\n",
    "    metrics=['binary_accuracy'],\n",
    ")\n",
    "q_2.assert_check_passed()"
   ]
  },
  {
   "cell_type": "code",
   "execution_count": 6,
   "id": "3f238c4b",
   "metadata": {
    "execution": {
     "iopub.execute_input": "2025-09-08T21:32:01.066121Z",
     "iopub.status.busy": "2025-09-08T21:32:01.065658Z",
     "iopub.status.idle": "2025-09-08T21:32:01.068986Z",
     "shell.execute_reply": "2025-09-08T21:32:01.068225Z"
    },
    "lines_to_next_cell": 0,
    "papermill": {
     "duration": 0.009183,
     "end_time": "2025-09-08T21:32:01.070524",
     "exception": false,
     "start_time": "2025-09-08T21:32:01.061341",
     "status": "completed"
    },
    "tags": []
   },
   "outputs": [],
   "source": [
    "# Lines below will give you a hint or solution code\n",
    "#q_2.hint()\n",
    "#q_2.solution()"
   ]
  },
  {
   "cell_type": "markdown",
   "id": "897f15de",
   "metadata": {
    "papermill": {
     "duration": 0.003365,
     "end_time": "2025-09-08T21:32:01.077568",
     "exception": false,
     "start_time": "2025-09-08T21:32:01.074203",
     "status": "completed"
    },
    "tags": []
   },
   "source": [
    "Finally, let's test the performance of this new model. First run this cell to fit the model to the training set."
   ]
  },
  {
   "cell_type": "code",
   "execution_count": 7,
   "id": "3c0c1e27",
   "metadata": {
    "execution": {
     "iopub.execute_input": "2025-09-08T21:32:01.086325Z",
     "iopub.status.busy": "2025-09-08T21:32:01.086047Z",
     "iopub.status.idle": "2025-09-08T21:34:53.651465Z",
     "shell.execute_reply": "2025-09-08T21:34:53.650467Z"
    },
    "papermill": {
     "duration": 172.572485,
     "end_time": "2025-09-08T21:34:53.653505",
     "exception": false,
     "start_time": "2025-09-08T21:32:01.081020",
     "status": "completed"
    },
    "tags": []
   },
   "outputs": [
    {
     "name": "stdout",
     "output_type": "stream",
     "text": [
      "Epoch 1/50\n"
     ]
    },
    {
     "name": "stderr",
     "output_type": "stream",
     "text": [
      "WARNING: All log messages before absl::InitializeLog() is called are written to STDERR\n",
      "I0000 00:00:1757367125.265422      73 device_compiler.h:186] Compiled cluster using XLA!  This line is logged at most once for the lifetime of the process.\n"
     ]
    },
    {
     "name": "stdout",
     "output_type": "stream",
     "text": [
      "80/80 [==============================] - 18s 164ms/step - loss: 0.6772 - binary_accuracy: 0.5746 - val_loss: 0.6637 - val_binary_accuracy: 0.6092\n",
      "Epoch 2/50\n",
      "80/80 [==============================] - 3s 39ms/step - loss: 0.6630 - binary_accuracy: 0.6009 - val_loss: 0.6534 - val_binary_accuracy: 0.6155\n",
      "Epoch 3/50\n",
      "80/80 [==============================] - 3s 39ms/step - loss: 0.6595 - binary_accuracy: 0.6070 - val_loss: 0.6584 - val_binary_accuracy: 0.6316\n",
      "Epoch 4/50\n",
      "80/80 [==============================] - 3s 39ms/step - loss: 0.6530 - binary_accuracy: 0.6121 - val_loss: 0.6456 - val_binary_accuracy: 0.6092\n",
      "Epoch 5/50\n",
      "80/80 [==============================] - 3s 39ms/step - loss: 0.6463 - binary_accuracy: 0.6168 - val_loss: 0.6337 - val_binary_accuracy: 0.6413\n",
      "Epoch 6/50\n",
      "80/80 [==============================] - 3s 39ms/step - loss: 0.6361 - binary_accuracy: 0.6324 - val_loss: 0.6272 - val_binary_accuracy: 0.6472\n",
      "Epoch 7/50\n",
      "80/80 [==============================] - 3s 39ms/step - loss: 0.6262 - binary_accuracy: 0.6508 - val_loss: 0.6186 - val_binary_accuracy: 0.6541\n",
      "Epoch 8/50\n",
      "80/80 [==============================] - 3s 39ms/step - loss: 0.6224 - binary_accuracy: 0.6473 - val_loss: 0.6195 - val_binary_accuracy: 0.6577\n",
      "Epoch 9/50\n",
      "80/80 [==============================] - 3s 39ms/step - loss: 0.6129 - binary_accuracy: 0.6635 - val_loss: 0.6125 - val_binary_accuracy: 0.6630\n",
      "Epoch 10/50\n",
      "80/80 [==============================] - 3s 39ms/step - loss: 0.6011 - binary_accuracy: 0.6627 - val_loss: 0.6062 - val_binary_accuracy: 0.6694\n",
      "Epoch 11/50\n",
      "80/80 [==============================] - 3s 39ms/step - loss: 0.5963 - binary_accuracy: 0.6633 - val_loss: 0.6062 - val_binary_accuracy: 0.6672\n",
      "Epoch 12/50\n",
      "80/80 [==============================] - 3s 39ms/step - loss: 0.5870 - binary_accuracy: 0.6758 - val_loss: 0.5938 - val_binary_accuracy: 0.6753\n",
      "Epoch 13/50\n",
      "80/80 [==============================] - 3s 39ms/step - loss: 0.5718 - binary_accuracy: 0.6832 - val_loss: 0.5715 - val_binary_accuracy: 0.7010\n",
      "Epoch 14/50\n",
      "80/80 [==============================] - 3s 39ms/step - loss: 0.5587 - binary_accuracy: 0.7110 - val_loss: 0.5599 - val_binary_accuracy: 0.7064\n",
      "Epoch 15/50\n",
      "80/80 [==============================] - 3s 39ms/step - loss: 0.5387 - binary_accuracy: 0.7287 - val_loss: 0.5427 - val_binary_accuracy: 0.7159\n",
      "Epoch 16/50\n",
      "80/80 [==============================] - 3s 39ms/step - loss: 0.5159 - binary_accuracy: 0.7438 - val_loss: 0.5186 - val_binary_accuracy: 0.7399\n",
      "Epoch 17/50\n",
      "80/80 [==============================] - 3s 39ms/step - loss: 0.5000 - binary_accuracy: 0.7510 - val_loss: 0.5151 - val_binary_accuracy: 0.7511\n",
      "Epoch 18/50\n",
      "80/80 [==============================] - 3s 39ms/step - loss: 0.4855 - binary_accuracy: 0.7684 - val_loss: 0.4969 - val_binary_accuracy: 0.7571\n",
      "Epoch 19/50\n",
      "80/80 [==============================] - 3s 39ms/step - loss: 0.4470 - binary_accuracy: 0.7887 - val_loss: 0.4677 - val_binary_accuracy: 0.7828\n",
      "Epoch 20/50\n",
      "80/80 [==============================] - 3s 39ms/step - loss: 0.4214 - binary_accuracy: 0.8050 - val_loss: 0.4755 - val_binary_accuracy: 0.7642\n",
      "Epoch 21/50\n",
      "80/80 [==============================] - 3s 39ms/step - loss: 0.3996 - binary_accuracy: 0.8247 - val_loss: 0.4331 - val_binary_accuracy: 0.7943\n",
      "Epoch 22/50\n",
      "80/80 [==============================] - 3s 40ms/step - loss: 0.3663 - binary_accuracy: 0.8409 - val_loss: 0.4388 - val_binary_accuracy: 0.7973\n",
      "Epoch 23/50\n",
      "80/80 [==============================] - 3s 40ms/step - loss: 0.3433 - binary_accuracy: 0.8470 - val_loss: 0.4670 - val_binary_accuracy: 0.7652\n",
      "Epoch 24/50\n",
      "80/80 [==============================] - 3s 39ms/step - loss: 0.3124 - binary_accuracy: 0.8661 - val_loss: 0.4928 - val_binary_accuracy: 0.7547\n",
      "Epoch 25/50\n",
      "80/80 [==============================] - 3s 40ms/step - loss: 0.3036 - binary_accuracy: 0.8706 - val_loss: 0.5047 - val_binary_accuracy: 0.7531\n",
      "Epoch 26/50\n",
      "80/80 [==============================] - 3s 40ms/step - loss: 0.2913 - binary_accuracy: 0.8732 - val_loss: 0.4262 - val_binary_accuracy: 0.8091\n",
      "Epoch 27/50\n",
      "80/80 [==============================] - 3s 39ms/step - loss: 0.2997 - binary_accuracy: 0.8693 - val_loss: 0.4182 - val_binary_accuracy: 0.8216\n",
      "Epoch 28/50\n",
      "80/80 [==============================] - 3s 39ms/step - loss: 0.2789 - binary_accuracy: 0.8812 - val_loss: 0.4028 - val_binary_accuracy: 0.8254\n",
      "Epoch 29/50\n",
      "80/80 [==============================] - 3s 39ms/step - loss: 0.2619 - binary_accuracy: 0.8890 - val_loss: 0.4356 - val_binary_accuracy: 0.8274\n",
      "Epoch 30/50\n",
      "80/80 [==============================] - 3s 39ms/step - loss: 0.2415 - binary_accuracy: 0.9023 - val_loss: 0.4279 - val_binary_accuracy: 0.8242\n",
      "Epoch 31/50\n",
      "80/80 [==============================] - 3s 39ms/step - loss: 0.2251 - binary_accuracy: 0.9070 - val_loss: 0.5246 - val_binary_accuracy: 0.8175\n",
      "Epoch 32/50\n",
      "80/80 [==============================] - 3s 39ms/step - loss: 0.1925 - binary_accuracy: 0.9222 - val_loss: 0.5737 - val_binary_accuracy: 0.8185\n",
      "Epoch 33/50\n",
      "80/80 [==============================] - 3s 39ms/step - loss: 0.1681 - binary_accuracy: 0.9363 - val_loss: 0.5633 - val_binary_accuracy: 0.8297\n",
      "Epoch 34/50\n",
      "80/80 [==============================] - 3s 40ms/step - loss: 0.1593 - binary_accuracy: 0.9416 - val_loss: 0.5734 - val_binary_accuracy: 0.8268\n",
      "Epoch 35/50\n",
      "80/80 [==============================] - 3s 39ms/step - loss: 0.1413 - binary_accuracy: 0.9472 - val_loss: 0.6719 - val_binary_accuracy: 0.8163\n",
      "Epoch 36/50\n",
      "80/80 [==============================] - 3s 39ms/step - loss: 0.1343 - binary_accuracy: 0.9508 - val_loss: 0.5917 - val_binary_accuracy: 0.8244\n",
      "Epoch 37/50\n",
      "80/80 [==============================] - 3s 39ms/step - loss: 0.1410 - binary_accuracy: 0.9457 - val_loss: 0.6410 - val_binary_accuracy: 0.8167\n",
      "Epoch 38/50\n",
      "80/80 [==============================] - 3s 39ms/step - loss: 0.1419 - binary_accuracy: 0.9472 - val_loss: 0.7061 - val_binary_accuracy: 0.8095\n",
      "Epoch 39/50\n",
      "80/80 [==============================] - 3s 39ms/step - loss: 0.1594 - binary_accuracy: 0.9380 - val_loss: 0.5289 - val_binary_accuracy: 0.8351\n",
      "Epoch 40/50\n",
      "80/80 [==============================] - 3s 39ms/step - loss: 0.1559 - binary_accuracy: 0.9400 - val_loss: 0.5531 - val_binary_accuracy: 0.8260\n",
      "Epoch 41/50\n",
      "80/80 [==============================] - 3s 39ms/step - loss: 0.1450 - binary_accuracy: 0.9482 - val_loss: 0.5190 - val_binary_accuracy: 0.8485\n",
      "Epoch 42/50\n",
      "80/80 [==============================] - 3s 39ms/step - loss: 0.1412 - binary_accuracy: 0.9508 - val_loss: 0.4668 - val_binary_accuracy: 0.8428\n",
      "Epoch 43/50\n",
      "80/80 [==============================] - 3s 39ms/step - loss: 0.1044 - binary_accuracy: 0.9648 - val_loss: 0.5566 - val_binary_accuracy: 0.8270\n",
      "Epoch 44/50\n",
      "80/80 [==============================] - 3s 39ms/step - loss: 0.0989 - binary_accuracy: 0.9730 - val_loss: 0.5314 - val_binary_accuracy: 0.8418\n",
      "Epoch 45/50\n",
      "80/80 [==============================] - 3s 39ms/step - loss: 0.0847 - binary_accuracy: 0.9744 - val_loss: 0.5808 - val_binary_accuracy: 0.8448\n",
      "Epoch 46/50\n",
      "80/80 [==============================] - 3s 39ms/step - loss: 0.0729 - binary_accuracy: 0.9795 - val_loss: 0.6840 - val_binary_accuracy: 0.8485\n",
      "Epoch 47/50\n",
      "80/80 [==============================] - 3s 39ms/step - loss: 0.0683 - binary_accuracy: 0.9805 - val_loss: 0.5961 - val_binary_accuracy: 0.8456\n",
      "Epoch 48/50\n",
      "80/80 [==============================] - 3s 39ms/step - loss: 0.0668 - binary_accuracy: 0.9818 - val_loss: 0.7090 - val_binary_accuracy: 0.8446\n",
      "Epoch 49/50\n",
      "80/80 [==============================] - 3s 39ms/step - loss: 0.0613 - binary_accuracy: 0.9848 - val_loss: 0.7992 - val_binary_accuracy: 0.8505\n",
      "Epoch 50/50\n",
      "80/80 [==============================] - 3s 39ms/step - loss: 0.0562 - binary_accuracy: 0.9863 - val_loss: 0.9057 - val_binary_accuracy: 0.8430\n"
     ]
    }
   ],
   "source": [
    "history = model.fit(\n",
    "    ds_train,\n",
    "    validation_data=ds_valid,\n",
    "    epochs=50,\n",
    ")"
   ]
  },
  {
   "cell_type": "markdown",
   "id": "c7754336",
   "metadata": {
    "papermill": {
     "duration": 0.094951,
     "end_time": "2025-09-08T21:34:53.889087",
     "exception": false,
     "start_time": "2025-09-08T21:34:53.794136",
     "status": "completed"
    },
    "tags": []
   },
   "source": [
    "And now run the cell below to plot the loss and metric curves for this training run."
   ]
  },
  {
   "cell_type": "code",
   "execution_count": 8,
   "id": "4c293c91",
   "metadata": {
    "execution": {
     "iopub.execute_input": "2025-09-08T21:34:54.078753Z",
     "iopub.status.busy": "2025-09-08T21:34:54.078418Z",
     "iopub.status.idle": "2025-09-08T21:34:54.623697Z",
     "shell.execute_reply": "2025-09-08T21:34:54.622817Z"
    },
    "papermill": {
     "duration": 0.643308,
     "end_time": "2025-09-08T21:34:54.625555",
     "exception": false,
     "start_time": "2025-09-08T21:34:53.982247",
     "status": "completed"
    },
    "tags": []
   },
   "outputs": [
    {
     "data": {
      "image/png": "[encoded data removed]",
      "text/plain": [
       "<Figure size 640x480 with 1 Axes>"
      ]
     },
     "metadata": {},
     "output_type": "display_data"
    },
    {
     "data": {
      "image/png": "[encoded data removed]",
      "text/plain": [
       "<Figure size 640x480 with 1 Axes>"
      ]
     },
     "metadata": {},
     "output_type": "display_data"
    }
   ],
   "source": [
    "import pandas as pd\n",
    "history_frame = pd.DataFrame(history.history)\n",
    "history_frame.loc[:, ['loss', 'val_loss']].plot()\n",
    "history_frame.loc[:, ['binary_accuracy', 'val_binary_accuracy']].plot();"
   ]
  },
  {
   "cell_type": "markdown",
   "id": "9f2dade2",
   "metadata": {
    "papermill": {
     "duration": 0.094598,
     "end_time": "2025-09-08T21:34:54.815770",
     "exception": false,
     "start_time": "2025-09-08T21:34:54.721172",
     "status": "completed"
    },
    "tags": []
   },
   "source": [
    "# 3) Train the Model #\n",
    "\n",
    "How would you interpret these training curves? Did this model improve upon the model from the tutorial?"
   ]
  },
  {
   "cell_type": "code",
   "execution_count": 9,
   "id": "daf2a378",
   "metadata": {
    "execution": {
     "iopub.execute_input": "2025-09-08T21:34:55.009322Z",
     "iopub.status.busy": "2025-09-08T21:34:55.008885Z",
     "iopub.status.idle": "2025-09-08T21:34:55.017521Z",
     "shell.execute_reply": "2025-09-08T21:34:55.016555Z"
    },
    "lines_to_next_cell": 0,
    "papermill": {
     "duration": 0.107856,
     "end_time": "2025-09-08T21:34:55.019041",
     "exception": false,
     "start_time": "2025-09-08T21:34:54.911185",
     "status": "completed"
    },
    "tags": []
   },
   "outputs": [
    {
     "data": {
      "application/javascript": [
       "parent.postMessage({\"jupyterEvent\": \"custom.exercise_interaction\", \"data\": {\"outcomeType\": 1, \"valueTowardsCompletion\": 0.3333333333333333, \"interactionType\": 1, \"questionType\": 4, \"questionId\": \"3_Q3\", \"learnToolsVersion\": \"0.3.4\", \"failureMessage\": \"\", \"exceptionClass\": \"\", \"trace\": \"\"}}, \"*\")"
      ],
      "text/plain": [
       "<IPython.core.display.Javascript object>"
      ]
     },
     "metadata": {},
     "output_type": "display_data"
    },
    {
     "data": {
      "text/markdown": [
       "<span style=\"color:#33cc33\">Correct:</span> \n",
       "\n",
       "\n",
       "The learning curves for the model from the tutorial diverged fairly rapidly. This would indicate that it was prone to overfitting and in need of some regularization. The additional layer in our new model would make it even more prone to overfitting. However, adding some regularization with the `Dropout` layer helped prevent this. These changes improved the validation accuracy of the model by several points.\n"
      ],
      "text/plain": [
       "Correct: \n",
       "\n",
       "\n",
       "The learning curves for the model from the tutorial diverged fairly rapidly. This would indicate that it was prone to overfitting and in need of some regularization. The additional layer in our new model would make it even more prone to overfitting. However, adding some regularization with the `Dropout` layer helped prevent this. These changes improved the validation accuracy of the model by several points."
      ]
     },
     "metadata": {},
     "output_type": "display_data"
    }
   ],
   "source": [
    "# View the solution (Run this code cell to receive credit!)\n",
    "q_3.check()"
   ]
  },
  {
   "cell_type": "markdown",
   "id": "f73500a8",
   "metadata": {
    "papermill": {
     "duration": 0.100217,
     "end_time": "2025-09-08T21:34:55.216889",
     "exception": false,
     "start_time": "2025-09-08T21:34:55.116672",
     "status": "completed"
    },
    "tags": []
   },
   "source": [
    "# Conclusion #\n",
    "\n",
    "These exercises showed you how to design a custom convolutional network to solve a specific classification problem. Though most models these days will be built on top of a pretrained base, it certain circumstances a smaller custom convnet might still be preferable -- such as with a smaller or unusual dataset or when computing resources are very limited. As you saw here, for certain problems they can perform just as well as a pretrained model.\n",
    "\n",
    "# Keep Going #\n",
    "\n",
    "Continue on to [**Lesson 6**](https://www.kaggle.com/ryanholbrook/data-augmentation), where you'll learn a widely-used technique that can give a boost to your training data: **data augmentation**."
   ]
  },
  {
   "cell_type": "markdown",
   "id": "a43c2bc7",
   "metadata": {
    "papermill": {
     "duration": 0.095461,
     "end_time": "2025-09-08T21:34:55.449395",
     "exception": false,
     "start_time": "2025-09-08T21:34:55.353934",
     "status": "completed"
    },
    "tags": []
   },
   "source": [
    "---\n",
    "\n",
    "\n",
    "\n",
    "\n",
    "*Have questions or comments? Visit the [course discussion forum](https://www.kaggle.com/learn/computer-vision/discussion) to chat with other learners.*"
   ]
  }
 ],
 "metadata": {
  "jupytext": {
   "formats": "md,ipynb"
  },
  "kaggle": {
   "accelerator": "gpu",
   "dataSources": [
    {
     "datasetId": 708136,
     "sourceId": 1338830,
     "sourceType": "datasetVersion"
    },
    {
     "datasetId": 701538,
     "sourceId": 1363948,
     "sourceType": "datasetVersion"
    },
    {
     "datasetId": 878523,
     "sourceId": 1495782,
     "sourceType": "datasetVersion"
    }
   ],
   "dockerImageVersionId": 30648,
   "isGpuEnabled": true,
   "isInternetEnabled": false,
   "language": "python",
   "sourceType": "notebook"
  },
  "kernelspec": {
   "display_name": "Python 3",
   "language": "python",
   "name": "python3"
  },
  "language_info": {
   "codemirror_mode": {
    "name": "ipython",
    "version": 3
   },
   "file_extension": ".py",
   "mimetype": "text/x-python",
   "name": "python",
   "nbconvert_exporter": "python",
   "pygments_lexer": "ipython3",
   "version": "3.10.13"
  },
  "papermill": {
   "default_parameters": {},
   "duration": 204.138244,
   "end_time": "2025-09-08T21:34:58.474916",
   "environment_variables": {},
   "exception": null,
   "input_path": "__notebook__.ipynb",
   "output_path": "__notebook__.ipynb",
   "parameters": {},
   "start_time": "2025-09-08T21:31:34.336672",
   "version": "2.5.0"
  }
 },
 "nbformat": 4,
 "nbformat_minor": 5
}
