{
 "cells": [
  {
   "cell_type": "markdown",
   "id": "0fee3cc3",
   "metadata": {
    "papermill": {
     "duration": 0.004174,
     "end_time": "2025-08-30T11:01:21.525440",
     "exception": false,
     "start_time": "2025-08-30T11:01:21.521266",
     "status": "completed"
    },
    "tags": []
   },
   "source": [
    "**This notebook is an exercise in the [Python](https://www.kaggle.com/learn/python) course.  You can reference the tutorial at [this link](https://www.kaggle.com/colinmorris/lists).**\n",
    "\n",
    "---\n"
   ]
  },
  {
   "cell_type": "markdown",
   "id": "3174d489",
   "metadata": {
    "papermill": {
     "duration": 0.003219,
     "end_time": "2025-08-30T11:01:21.532444",
     "exception": false,
     "start_time": "2025-08-30T11:01:21.529225",
     "status": "completed"
    },
    "tags": []
   },
   "source": [
    "Things get more interesting with lists. You'll apply your new knowledge to solve the questions below. Remember to run the following cell first."
   ]
  },
  {
   "cell_type": "code",
   "execution_count": 1,
   "id": "ea72f161",
   "metadata": {
    "execution": {
     "iopub.execute_input": "2025-08-30T11:01:21.540971Z",
     "iopub.status.busy": "2025-08-30T11:01:21.540096Z",
     "iopub.status.idle": "2025-08-30T11:01:23.378272Z",
     "shell.execute_reply": "2025-08-30T11:01:23.377342Z"
    },
    "papermill": {
     "duration": 1.84391,
     "end_time": "2025-08-30T11:01:23.379789",
     "exception": false,
     "start_time": "2025-08-30T11:01:21.535879",
     "status": "completed"
    },
    "tags": []
   },
   "outputs": [
    {
     "name": "stdout",
     "output_type": "stream",
     "text": [
      "Setup complete.\n"
     ]
    }
   ],
   "source": [
    "from learntools.core import binder; binder.bind(globals())\n",
    "from learntools.python.ex4 import *\n",
    "print('Setup complete.')"
   ]
  },
  {
   "cell_type": "markdown",
   "id": "f04b569e",
   "metadata": {
    "papermill": {
     "duration": 0.002869,
     "end_time": "2025-08-30T11:01:23.386124",
     "exception": false,
     "start_time": "2025-08-30T11:01:23.383255",
     "status": "completed"
    },
    "tags": []
   },
   "source": [
    "# 1.\n",
    "\n",
    "Complete the function below according to its docstring."
   ]
  },
  {
   "cell_type": "code",
   "execution_count": 2,
   "id": "77f5a457",
   "metadata": {
    "execution": {
     "iopub.execute_input": "2025-08-30T11:01:23.393527Z",
     "iopub.status.busy": "2025-08-30T11:01:23.392894Z",
     "iopub.status.idle": "2025-08-30T11:01:23.400419Z",
     "shell.execute_reply": "2025-08-30T11:01:23.399639Z"
    },
    "papermill": {
     "duration": 0.012456,
     "end_time": "2025-08-30T11:01:23.401569",
     "exception": false,
     "start_time": "2025-08-30T11:01:23.389113",
     "status": "completed"
    },
    "tags": []
   },
   "outputs": [
    {
     "data": {
      "application/javascript": [
       "parent.postMessage({\"jupyterEvent\": \"custom.exercise_interaction\", \"data\": {\"outcomeType\": 1, \"valueTowardsCompletion\": 0.2, \"interactionType\": 1, \"questionType\": 2, \"questionId\": \"1_SelectSecondItem\", \"learnToolsVersion\": \"0.3.5\", \"failureMessage\": \"\", \"exceptionClass\": \"\", \"trace\": \"\"}}, \"*\")"
      ],
      "text/plain": [
       "<IPython.core.display.Javascript object>"
      ]
     },
     "metadata": {},
     "output_type": "display_data"
    },
    {
     "data": {
      "text/markdown": [
       "<span style=\"color:#33cc33\">Correct</span>"
      ],
      "text/plain": [
       "Correct"
      ]
     },
     "metadata": {},
     "output_type": "display_data"
    }
   ],
   "source": [
    "def select_second(L):\n",
    "    \"\"\"Return the second element of the given list. If the list has no second\n",
    "    element, return None.\n",
    "    \"\"\"\n",
    "    if len(L) > 1:\n",
    "        return L[1]\n",
    "    else:\n",
    "        return None\n",
    "# Check your answer\n",
    "q1.check()"
   ]
  },
  {
   "cell_type": "code",
   "execution_count": 3,
   "id": "af7f71a6",
   "metadata": {
    "collapsed": true,
    "execution": {
     "iopub.execute_input": "2025-08-30T11:01:23.409203Z",
     "iopub.status.busy": "2025-08-30T11:01:23.408577Z",
     "iopub.status.idle": "2025-08-30T11:01:23.412338Z",
     "shell.execute_reply": "2025-08-30T11:01:23.411348Z"
    },
    "jupyter": {
     "outputs_hidden": true
    },
    "papermill": {
     "duration": 0.009034,
     "end_time": "2025-08-30T11:01:23.413802",
     "exception": false,
     "start_time": "2025-08-30T11:01:23.404768",
     "status": "completed"
    },
    "tags": []
   },
   "outputs": [],
   "source": [
    "#q1.hint()\n",
    "#q1.solution()"
   ]
  },
  {
   "cell_type": "markdown",
   "id": "4c962684",
   "metadata": {
    "papermill": {
     "duration": 0.003071,
     "end_time": "2025-08-30T11:01:23.420216",
     "exception": false,
     "start_time": "2025-08-30T11:01:23.417145",
     "status": "completed"
    },
    "tags": []
   },
   "source": [
    "# 2.\n",
    "\n",
    "You are analyzing sports teams.  Members of each team are stored in a list. The Coach is the first name in the list, the captain is the second name in the list, and other players are listed after that. \n",
    "These lists are stored in another list, which starts with the best team and proceeds through the list to the worst team last.  Complete the function below to select the **captain** of the worst team."
   ]
  },
  {
   "cell_type": "code",
   "execution_count": 4,
   "id": "a19a5e45",
   "metadata": {
    "execution": {
     "iopub.execute_input": "2025-08-30T11:01:23.428117Z",
     "iopub.status.busy": "2025-08-30T11:01:23.427777Z",
     "iopub.status.idle": "2025-08-30T11:01:23.435501Z",
     "shell.execute_reply": "2025-08-30T11:01:23.434678Z"
    },
    "papermill": {
     "duration": 0.013225,
     "end_time": "2025-08-30T11:01:23.436773",
     "exception": false,
     "start_time": "2025-08-30T11:01:23.423548",
     "status": "completed"
    },
    "tags": []
   },
   "outputs": [
    {
     "data": {
      "application/javascript": [
       "parent.postMessage({\"jupyterEvent\": \"custom.exercise_interaction\", \"data\": {\"outcomeType\": 1, \"valueTowardsCompletion\": 0.2, \"interactionType\": 1, \"questionType\": 2, \"questionId\": \"2_LosingTeamCaptain\", \"learnToolsVersion\": \"0.3.5\", \"failureMessage\": \"\", \"exceptionClass\": \"\", \"trace\": \"\"}}, \"*\")"
      ],
      "text/plain": [
       "<IPython.core.display.Javascript object>"
      ]
     },
     "metadata": {},
     "output_type": "display_data"
    },
    {
     "data": {
      "text/markdown": [
       "<span style=\"color:#33cc33\">Correct</span>"
      ],
      "text/plain": [
       "Correct"
      ]
     },
     "metadata": {},
     "output_type": "display_data"
    }
   ],
   "source": [
    "def losing_team_captain(teams):\n",
    "    \"\"\"Given a list of teams, where each team is a list of names, return the 2nd player (captain)\n",
    "    from the last listed team\n",
    "    \"\"\"\n",
    "    return teams[-1][1]\n",
    "\n",
    "# Check your answer\n",
    "q2.check()"
   ]
  },
  {
   "cell_type": "code",
   "execution_count": 5,
   "id": "a7b82d64",
   "metadata": {
    "collapsed": true,
    "execution": {
     "iopub.execute_input": "2025-08-30T11:01:23.445279Z",
     "iopub.status.busy": "2025-08-30T11:01:23.444666Z",
     "iopub.status.idle": "2025-08-30T11:01:23.448263Z",
     "shell.execute_reply": "2025-08-30T11:01:23.447462Z"
    },
    "jupyter": {
     "outputs_hidden": true
    },
    "papermill": {
     "duration": 0.008987,
     "end_time": "2025-08-30T11:01:23.449592",
     "exception": false,
     "start_time": "2025-08-30T11:01:23.440605",
     "status": "completed"
    },
    "tags": []
   },
   "outputs": [],
   "source": [
    "#q2.hint()\n",
    "#q2.solution()"
   ]
  },
  {
   "cell_type": "markdown",
   "id": "11aee314",
   "metadata": {
    "papermill": {
     "duration": 0.003242,
     "end_time": "2025-08-30T11:01:23.457267",
     "exception": false,
     "start_time": "2025-08-30T11:01:23.454025",
     "status": "completed"
    },
    "tags": []
   },
   "source": [
    "# 3.\n",
    "\n",
    "The next iteration of Mario Kart will feature an extra-infuriating new item, the *Purple Shell*. When used, it warps the last place racer into first place and the first place racer into last place. Complete the function below to implement the Purple Shell's effect."
   ]
  },
  {
   "cell_type": "code",
   "execution_count": 6,
   "id": "1e0d71b2",
   "metadata": {
    "execution": {
     "iopub.execute_input": "2025-08-30T11:01:23.465286Z",
     "iopub.status.busy": "2025-08-30T11:01:23.464858Z",
     "iopub.status.idle": "2025-08-30T11:01:23.471692Z",
     "shell.execute_reply": "2025-08-30T11:01:23.470906Z"
    },
    "papermill": {
     "duration": 0.012151,
     "end_time": "2025-08-30T11:01:23.472920",
     "exception": false,
     "start_time": "2025-08-30T11:01:23.460769",
     "status": "completed"
    },
    "tags": []
   },
   "outputs": [
    {
     "data": {
      "application/javascript": [
       "parent.postMessage({\"jupyterEvent\": \"custom.exercise_interaction\", \"data\": {\"outcomeType\": 1, \"valueTowardsCompletion\": 0.2, \"interactionType\": 1, \"questionType\": 2, \"questionId\": \"3_PurpleShell\", \"learnToolsVersion\": \"0.3.5\", \"failureMessage\": \"\", \"exceptionClass\": \"\", \"trace\": \"\"}}, \"*\")"
      ],
      "text/plain": [
       "<IPython.core.display.Javascript object>"
      ]
     },
     "metadata": {},
     "output_type": "display_data"
    },
    {
     "data": {
      "text/markdown": [
       "<span style=\"color:#33cc33\">Correct</span>"
      ],
      "text/plain": [
       "Correct"
      ]
     },
     "metadata": {},
     "output_type": "display_data"
    }
   ],
   "source": [
    "def purple_shell(racers):\n",
    "    \"\"\"Given a list of racers, set the first place racer (at the front of the list) to last\n",
    "    place and vice versa.\n",
    "    \n",
    "    >>> r = [\"Mario\", \"Bowser\", \"Luigi\"]\n",
    "    >>> purple_shell(r)\n",
    "    >>> r\n",
    "    [\"Luigi\", \"Bowser\", \"Mario\"]\n",
    "    \"\"\"\n",
    "    racers[0], racers[-1] = racers[-1], racers[0]\n",
    "    \n",
    "\n",
    "# Check your answer\n",
    "q3.check()"
   ]
  },
  {
   "cell_type": "code",
   "execution_count": 7,
   "id": "83446e7d",
   "metadata": {
    "collapsed": true,
    "execution": {
     "iopub.execute_input": "2025-08-30T11:01:23.481159Z",
     "iopub.status.busy": "2025-08-30T11:01:23.480922Z",
     "iopub.status.idle": "2025-08-30T11:01:23.484103Z",
     "shell.execute_reply": "2025-08-30T11:01:23.483502Z"
    },
    "jupyter": {
     "outputs_hidden": true
    },
    "papermill": {
     "duration": 0.008696,
     "end_time": "2025-08-30T11:01:23.485284",
     "exception": false,
     "start_time": "2025-08-30T11:01:23.476588",
     "status": "completed"
    },
    "tags": []
   },
   "outputs": [],
   "source": [
    "#q3.hint()\n",
    "#q3.solution()"
   ]
  },
  {
   "cell_type": "markdown",
   "id": "43e48073",
   "metadata": {
    "papermill": {
     "duration": 0.003422,
     "end_time": "2025-08-30T11:01:23.492453",
     "exception": false,
     "start_time": "2025-08-30T11:01:23.489031",
     "status": "completed"
    },
    "tags": []
   },
   "source": [
    "# 4.\n",
    "\n",
    "What are the lengths of the following lists? Fill in the variable `lengths` with your predictions. (Try to make a prediction for each list *without* just calling `len()` on it.)"
   ]
  },
  {
   "cell_type": "code",
   "execution_count": 8,
   "id": "c94d3e5a",
   "metadata": {
    "execution": {
     "iopub.execute_input": "2025-08-30T11:01:23.500664Z",
     "iopub.status.busy": "2025-08-30T11:01:23.500227Z",
     "iopub.status.idle": "2025-08-30T11:01:23.507659Z",
     "shell.execute_reply": "2025-08-30T11:01:23.507028Z"
    },
    "papermill": {
     "duration": 0.012683,
     "end_time": "2025-08-30T11:01:23.508738",
     "exception": false,
     "start_time": "2025-08-30T11:01:23.496055",
     "status": "completed"
    },
    "tags": []
   },
   "outputs": [
    {
     "data": {
      "application/javascript": [
       "parent.postMessage({\"jupyterEvent\": \"custom.exercise_interaction\", \"data\": {\"outcomeType\": 1, \"valueTowardsCompletion\": 0.2, \"interactionType\": 1, \"questionType\": 1, \"questionId\": \"4_UnderstandLen\", \"learnToolsVersion\": \"0.3.5\", \"failureMessage\": \"\", \"exceptionClass\": \"\", \"trace\": \"\"}}, \"*\")"
      ],
      "text/plain": [
       "<IPython.core.display.Javascript object>"
      ]
     },
     "metadata": {},
     "output_type": "display_data"
    },
    {
     "data": {
      "text/markdown": [
       "<span style=\"color:#33cc33\">Correct:</span> \n",
       "\n",
       "\n",
       "- a: There are three items in this list. Nothing tricky yet.\n",
       "- b: The list `[2, 3]` counts as a single item. It has one item before it. So we have 2 items in the list\n",
       "- c: The empty list has 0 items\n",
       "- d: The expression is the same as the list `[2, 3]`, which has length 2."
      ],
      "text/plain": [
       "Correct: \n",
       "\n",
       "\n",
       "- a: There are three items in this list. Nothing tricky yet.\n",
       "- b: The list `[2, 3]` counts as a single item. It has one item before it. So we have 2 items in the list\n",
       "- c: The empty list has 0 items\n",
       "- d: The expression is the same as the list `[2, 3]`, which has length 2."
      ]
     },
     "metadata": {},
     "output_type": "display_data"
    }
   ],
   "source": [
    "a = [1, 2, 3]\n",
    "b = [1, [2, 3]]\n",
    "c = []\n",
    "d = [1, 2, 3][1:]\n",
    "\n",
    "# Put your predictions in the list below. Lengths should contain 4 numbers, the\n",
    "# first being the length of a, the second being the length of b and so on.\n",
    "lengths = [3, 2, 0, 2]\n",
    "\n",
    "# Check your answer\n",
    "q4.check()"
   ]
  },
  {
   "cell_type": "code",
   "execution_count": 9,
   "id": "01f346d6",
   "metadata": {
    "collapsed": true,
    "execution": {
     "iopub.execute_input": "2025-08-30T11:01:23.517313Z",
     "iopub.status.busy": "2025-08-30T11:01:23.517096Z",
     "iopub.status.idle": "2025-08-30T11:01:23.520115Z",
     "shell.execute_reply": "2025-08-30T11:01:23.519561Z"
    },
    "jupyter": {
     "outputs_hidden": true
    },
    "papermill": {
     "duration": 0.008564,
     "end_time": "2025-08-30T11:01:23.521320",
     "exception": false,
     "start_time": "2025-08-30T11:01:23.512756",
     "status": "completed"
    },
    "tags": []
   },
   "outputs": [],
   "source": [
    "# line below provides some explanation\n",
    "#q4.solution()"
   ]
  },
  {
   "cell_type": "markdown",
   "id": "476c0738",
   "metadata": {
    "papermill": {
     "duration": 0.00405,
     "end_time": "2025-08-30T11:01:23.529407",
     "exception": false,
     "start_time": "2025-08-30T11:01:23.525357",
     "status": "completed"
    },
    "tags": []
   },
   "source": [
    "# 5. <span title=\"A bit spicy\" style=\"color: darkgreen \">🌶️</span>\n",
    "\n",
    "We're using lists to record people who attended our party and what order they arrived in. For example, the following list represents a party with 7 guests, in which Adela showed up first and Ford was the last to arrive:\n",
    "\n",
    "    party_attendees = ['Adela', 'Fleda', 'Owen', 'May', 'Mona', 'Gilbert', 'Ford']\n",
    "\n",
    "A guest is considered 'fashionably late' if they arrived after at least half of the party's guests. However, they must not be the very last guest (that's taking it too far). In the above example, Mona and Gilbert are the only guests who were fashionably late.\n",
    "\n",
    "Complete the function below which takes a list of party attendees as well as a person, and tells us whether that person is fashionably late."
   ]
  },
  {
   "cell_type": "code",
   "execution_count": 10,
   "id": "50fdaea1",
   "metadata": {
    "execution": {
     "iopub.execute_input": "2025-08-30T11:01:23.538846Z",
     "iopub.status.busy": "2025-08-30T11:01:23.538254Z",
     "iopub.status.idle": "2025-08-30T11:01:23.545338Z",
     "shell.execute_reply": "2025-08-30T11:01:23.544682Z"
    },
    "papermill": {
     "duration": 0.012974,
     "end_time": "2025-08-30T11:01:23.546422",
     "exception": false,
     "start_time": "2025-08-30T11:01:23.533448",
     "status": "completed"
    },
    "tags": []
   },
   "outputs": [
    {
     "data": {
      "application/javascript": [
       "parent.postMessage({\"jupyterEvent\": \"custom.exercise_interaction\", \"data\": {\"outcomeType\": 1, \"valueTowardsCompletion\": 0.2, \"interactionType\": 1, \"questionType\": 2, \"questionId\": \"5_FashionablyLate\", \"learnToolsVersion\": \"0.3.5\", \"failureMessage\": \"\", \"exceptionClass\": \"\", \"trace\": \"\"}}, \"*\")"
      ],
      "text/plain": [
       "<IPython.core.display.Javascript object>"
      ]
     },
     "metadata": {},
     "output_type": "display_data"
    },
    {
     "data": {
      "text/markdown": [
       "<span style=\"color:#33cc33\">Correct</span>"
      ],
      "text/plain": [
       "Correct"
      ]
     },
     "metadata": {},
     "output_type": "display_data"
    }
   ],
   "source": [
    "def fashionably_late(arrivals, name):\n",
    "    \"\"\"Given an ordered list of arrivals to the party and a name, return whether the guest with that\n",
    "    name was fashionably late.\n",
    "    \"\"\"\n",
    "    if name in arrivals:\n",
    "        idx = arrivals.index(name)\n",
    "        if idx == len(arrivals) - 1:\n",
    "            return False\n",
    "        elif idx < len(arrivals)/2:\n",
    "            return False\n",
    "        else:\n",
    "            return True\n",
    "\n",
    "# Check your answer\n",
    "q5.check()"
   ]
  },
  {
   "cell_type": "code",
   "execution_count": 11,
   "id": "fe068ef6",
   "metadata": {
    "collapsed": true,
    "execution": {
     "iopub.execute_input": "2025-08-30T11:01:23.556017Z",
     "iopub.status.busy": "2025-08-30T11:01:23.555378Z",
     "iopub.status.idle": "2025-08-30T11:01:23.558753Z",
     "shell.execute_reply": "2025-08-30T11:01:23.558001Z"
    },
    "jupyter": {
     "outputs_hidden": true
    },
    "papermill": {
     "duration": 0.009491,
     "end_time": "2025-08-30T11:01:23.560111",
     "exception": false,
     "start_time": "2025-08-30T11:01:23.550620",
     "status": "completed"
    },
    "tags": []
   },
   "outputs": [],
   "source": [
    "#q5.hint()\n",
    "#q5.solution()"
   ]
  },
  {
   "cell_type": "markdown",
   "id": "3632cbd1",
   "metadata": {
    "papermill": {
     "duration": 0.003735,
     "end_time": "2025-08-30T11:01:23.567945",
     "exception": false,
     "start_time": "2025-08-30T11:01:23.564210",
     "status": "completed"
    },
    "tags": []
   },
   "source": [
    "# Keep Going\n",
    "\n",
    "That's it for lists and tuples! Now you have the baseline knowledge to **[learn about loops](https://www.kaggle.com/colinmorris/loops-and-list-comprehensions)**, which is where lists and tuples get really interesting. "
   ]
  },
  {
   "cell_type": "markdown",
   "id": "b6e523d9",
   "metadata": {
    "papermill": {
     "duration": 0.003701,
     "end_time": "2025-08-30T11:01:23.575622",
     "exception": false,
     "start_time": "2025-08-30T11:01:23.571921",
     "status": "completed"
    },
    "tags": []
   },
   "source": [
    "---\n",
    "\n",
    "\n",
    "\n",
    "\n",
    "*Have questions or comments? Visit the [course discussion forum](https://www.kaggle.com/learn/python/discussion) to chat with other learners.*"
   ]
  }
 ],
 "metadata": {
  "kaggle": {
   "accelerator": "none",
   "dataSources": [],
   "isGpuEnabled": false,
   "isInternetEnabled": false,
   "language": "python",
   "sourceType": "notebook"
  },
  "kernelspec": {
   "display_name": "Python 3",
   "language": "python",
   "name": "python3"
  },
  "language_info": {
   "codemirror_mode": {
    "name": "ipython",
    "version": 3
   },
   "file_extension": ".py",
   "mimetype": "text/x-python",
   "name": "python",
   "nbconvert_exporter": "python",
   "pygments_lexer": "ipython3",
   "version": "3.11.13"
  },
  "learntools_metadata": {
   "lesson_index": 3,
   "type": "exercise"
  },
  "papermill": {
   "default_parameters": {},
   "duration": 7.796744,
   "end_time": "2025-08-30T11:01:23.997283",
   "environment_variables": {},
   "exception": null,
   "input_path": "__notebook__.ipynb",
   "output_path": "__notebook__.ipynb",
   "parameters": {},
   "start_time": "2025-08-30T11:01:16.200539",
   "version": "2.6.0"
  }
 },
 "nbformat": 4,
 "nbformat_minor": 5
}
