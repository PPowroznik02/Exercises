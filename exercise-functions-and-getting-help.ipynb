{
 "cells": [
  {
   "cell_type": "markdown",
   "id": "f144c5a6",
   "metadata": {
    "papermill": {
     "duration": 0.004267,
     "end_time": "2025-08-30T11:01:03.028979",
     "exception": false,
     "start_time": "2025-08-30T11:01:03.024712",
     "status": "completed"
    },
    "tags": []
   },
   "source": [
    "**This notebook is an exercise in the [Python](https://www.kaggle.com/learn/python) course.  You can reference the tutorial at [this link](https://www.kaggle.com/colinmorris/functions-and-getting-help).**\n",
    "\n",
    "---\n"
   ]
  },
  {
   "cell_type": "markdown",
   "id": "0ab04883",
   "metadata": {
    "papermill": {
     "duration": 0.004038,
     "end_time": "2025-08-30T11:01:03.036726",
     "exception": false,
     "start_time": "2025-08-30T11:01:03.032688",
     "status": "completed"
    },
    "tags": []
   },
   "source": [
    "Functions are powerful. Try writing some yourself.\n",
    "\n",
    "As before, don't forget to run the setup code below before jumping into question 1."
   ]
  },
  {
   "cell_type": "code",
   "execution_count": 1,
   "id": "9e0a0346",
   "metadata": {
    "_kg_hide-input": true,
    "_kg_hide-output": true,
    "execution": {
     "iopub.execute_input": "2025-08-30T11:01:03.046818Z",
     "iopub.status.busy": "2025-08-30T11:01:03.045560Z",
     "iopub.status.idle": "2025-08-30T11:01:05.417766Z",
     "shell.execute_reply": "2025-08-30T11:01:05.416357Z"
    },
    "papermill": {
     "duration": 2.379212,
     "end_time": "2025-08-30T11:01:05.420011",
     "exception": false,
     "start_time": "2025-08-30T11:01:03.040799",
     "status": "completed"
    },
    "tags": []
   },
   "outputs": [
    {
     "name": "stdout",
     "output_type": "stream",
     "text": [
      "Setup complete.\n"
     ]
    }
   ],
   "source": [
    "# SETUP. You don't need to worry for now about what this code does or how it works.\n",
    "from learntools.core import binder; binder.bind(globals())\n",
    "from learntools.python.ex2 import *\n",
    "print('Setup complete.')"
   ]
  },
  {
   "cell_type": "markdown",
   "id": "18f8356b",
   "metadata": {
    "papermill": {
     "duration": 0.003107,
     "end_time": "2025-08-30T11:01:05.427092",
     "exception": false,
     "start_time": "2025-08-30T11:01:05.423985",
     "status": "completed"
    },
    "tags": []
   },
   "source": [
    "# 1.\n",
    "\n",
    "Complete the body of the following function according to its docstring.\n",
    "\n",
    "HINT: Python has a built-in function `round`."
   ]
  },
  {
   "cell_type": "code",
   "execution_count": 2,
   "id": "ab8a14e1",
   "metadata": {
    "execution": {
     "iopub.execute_input": "2025-08-30T11:01:05.435636Z",
     "iopub.status.busy": "2025-08-30T11:01:05.435148Z",
     "iopub.status.idle": "2025-08-30T11:01:05.447332Z",
     "shell.execute_reply": "2025-08-30T11:01:05.445659Z"
    },
    "papermill": {
     "duration": 0.018641,
     "end_time": "2025-08-30T11:01:05.449174",
     "exception": false,
     "start_time": "2025-08-30T11:01:05.430533",
     "status": "completed"
    },
    "tags": []
   },
   "outputs": [
    {
     "data": {
      "application/javascript": [
       "parent.postMessage({\"jupyterEvent\": \"custom.exercise_interaction\", \"data\": {\"outcomeType\": 1, \"valueTowardsCompletion\": 0.16666666666666666, \"interactionType\": 1, \"questionType\": 2, \"questionId\": \"1_RoundFunctionProblem\", \"learnToolsVersion\": \"0.3.5\", \"failureMessage\": \"\", \"exceptionClass\": \"\", \"trace\": \"\"}}, \"*\")"
      ],
      "text/plain": [
       "<IPython.core.display.Javascript object>"
      ]
     },
     "metadata": {},
     "output_type": "display_data"
    },
    {
     "data": {
      "text/markdown": [
       "<span style=\"color:#33cc33\">Correct</span>"
      ],
      "text/plain": [
       "Correct"
      ]
     },
     "metadata": {},
     "output_type": "display_data"
    }
   ],
   "source": [
    "def round_to_two_places(num):\n",
    "    \"\"\"Return the given number rounded to two decimal places. \n",
    "    \n",
    "    >>> round_to_two_places(3.14159)\n",
    "    3.14\n",
    "    \"\"\"\n",
    "    # Replace this body with your own code.\n",
    "    # (\"pass\" is a keyword that does literally nothing. We used it as a placeholder\n",
    "    # because after we begin a code block, Python requires at least one line of code)\n",
    "    return(round(num, 2))\n",
    "\n",
    "# Check your answer\n",
    "q1.check()"
   ]
  },
  {
   "cell_type": "code",
   "execution_count": 3,
   "id": "09733553",
   "metadata": {
    "execution": {
     "iopub.execute_input": "2025-08-30T11:01:05.462609Z",
     "iopub.status.busy": "2025-08-30T11:01:05.459078Z",
     "iopub.status.idle": "2025-08-30T11:01:05.466962Z",
     "shell.execute_reply": "2025-08-30T11:01:05.465349Z"
    },
    "papermill": {
     "duration": 0.015457,
     "end_time": "2025-08-30T11:01:05.469088",
     "exception": false,
     "start_time": "2025-08-30T11:01:05.453631",
     "status": "completed"
    },
    "tags": []
   },
   "outputs": [],
   "source": [
    "# Uncomment the following for a hint\n",
    "#q1.hint()\n",
    "# Or uncomment the following to peek at the solution\n",
    "#q1.solution()"
   ]
  },
  {
   "cell_type": "markdown",
   "id": "4576215c",
   "metadata": {
    "papermill": {
     "duration": 0.003371,
     "end_time": "2025-08-30T11:01:05.476419",
     "exception": false,
     "start_time": "2025-08-30T11:01:05.473048",
     "status": "completed"
    },
    "tags": []
   },
   "source": [
    "# 2.\n",
    "The help for `round` says that `ndigits` (the second argument) may be negative.\n",
    "What do you think will happen when it is? Try some examples in the following cell."
   ]
  },
  {
   "cell_type": "code",
   "execution_count": 4,
   "id": "1656aae9",
   "metadata": {
    "execution": {
     "iopub.execute_input": "2025-08-30T11:01:05.485156Z",
     "iopub.status.busy": "2025-08-30T11:01:05.484751Z",
     "iopub.status.idle": "2025-08-30T11:01:05.492731Z",
     "shell.execute_reply": "2025-08-30T11:01:05.490854Z"
    },
    "papermill": {
     "duration": 0.015034,
     "end_time": "2025-08-30T11:01:05.495154",
     "exception": false,
     "start_time": "2025-08-30T11:01:05.480120",
     "status": "completed"
    },
    "tags": []
   },
   "outputs": [
    {
     "data": {
      "text/plain": [
       "338000.0"
      ]
     },
     "execution_count": 4,
     "metadata": {},
     "output_type": "execute_result"
    }
   ],
   "source": [
    "# Put your test code here\n",
    "round(338424.24, ndigits=-3)"
   ]
  },
  {
   "cell_type": "markdown",
   "id": "1e2c8e87",
   "metadata": {
    "papermill": {
     "duration": 0.003449,
     "end_time": "2025-08-30T11:01:05.502630",
     "exception": false,
     "start_time": "2025-08-30T11:01:05.499181",
     "status": "completed"
    },
    "tags": []
   },
   "source": [
    "Can you think of a case where this would be useful?  Once you're ready, run the code cell below to see the answer and to receive credit for completing the problem."
   ]
  },
  {
   "cell_type": "code",
   "execution_count": 5,
   "id": "bdd3862d",
   "metadata": {
    "execution": {
     "iopub.execute_input": "2025-08-30T11:01:05.512046Z",
     "iopub.status.busy": "2025-08-30T11:01:05.511550Z",
     "iopub.status.idle": "2025-08-30T11:01:05.521726Z",
     "shell.execute_reply": "2025-08-30T11:01:05.520314Z"
    },
    "papermill": {
     "duration": 0.017098,
     "end_time": "2025-08-30T11:01:05.523392",
     "exception": false,
     "start_time": "2025-08-30T11:01:05.506294",
     "status": "completed"
    },
    "tags": []
   },
   "outputs": [
    {
     "data": {
      "application/javascript": [
       "parent.postMessage({\"jupyterEvent\": \"custom.exercise_interaction\", \"data\": {\"interactionType\": 3, \"questionType\": 4, \"questionId\": \"2_RoundNdigitsProblem\", \"learnToolsVersion\": \"0.3.5\", \"valueTowardsCompletion\": 0.0, \"failureMessage\": \"\", \"exceptionClass\": \"\", \"trace\": \"\", \"outcomeType\": 4}}, \"*\")"
      ],
      "text/plain": [
       "<IPython.core.display.Javascript object>"
      ]
     },
     "metadata": {},
     "output_type": "display_data"
    },
    {
     "data": {
      "text/markdown": [
       "<span style=\"color:#33cc99\">Solution:</span> As you've seen, `ndigits=-1` rounds to the nearest 10, `ndigits=-2` rounds to the nearest 100 and so on. Where might this be useful? Suppose we're dealing with large numbers:\n",
       "\n",
       "> The area of Finland is 338,424 km²  \n",
       "> The area of Greenland is 2,166,086 km²\n",
       "\n",
       "We probably don't care whether it's really 338,424, or 338,425, or 338,177. All those digits of accuracy are just distracting. We can chop them off by calling `round()` with `ndigits=-3`:\n",
       "\n",
       "> The area of Finland is 338,000 km²  \n",
       "> The area of Greenland is 2,166,000 km²\n",
       "\n",
       "(We'll talk about how we would get the commas later when we talk about string formatting :))\n"
      ],
      "text/plain": [
       "Solution: As you've seen, `ndigits=-1` rounds to the nearest 10, `ndigits=-2` rounds to the nearest 100 and so on. Where might this be useful? Suppose we're dealing with large numbers:\n",
       "\n",
       "> The area of Finland is 338,424 km²  \n",
       "> The area of Greenland is 2,166,086 km²\n",
       "\n",
       "We probably don't care whether it's really 338,424, or 338,425, or 338,177. All those digits of accuracy are just distracting. We can chop them off by calling `round()` with `ndigits=-3`:\n",
       "\n",
       "> The area of Finland is 338,000 km²  \n",
       "> The area of Greenland is 2,166,000 km²\n",
       "\n",
       "(We'll talk about how we would get the commas later when we talk about string formatting :))"
      ]
     },
     "metadata": {},
     "output_type": "display_data"
    }
   ],
   "source": [
    "# Check your answer (Run this code cell to receive credit!)\n",
    "q2.solution()"
   ]
  },
  {
   "cell_type": "markdown",
   "id": "d06d2ece",
   "metadata": {
    "papermill": {
     "duration": 0.004054,
     "end_time": "2025-08-30T11:01:05.533534",
     "exception": false,
     "start_time": "2025-08-30T11:01:05.529480",
     "status": "completed"
    },
    "tags": []
   },
   "source": [
    "# 3.\n",
    "\n",
    "In the previous exercise, the candy-sharing friends Alice, Bob and Carol tried to split candies evenly. For the sake of their friendship, any candies left over would be smashed. For example, if they collectively bring home 91 candies, they'll take 30 each and smash 1.\n",
    "\n",
    "Below is a simple function that will calculate the number of candies to smash for *any* number of total candies.\n",
    "\n",
    "Modify it so that it optionally takes a second argument representing the number of friends the candies are being split between. If no second argument is provided, it should assume 3 friends, as before.\n",
    "\n",
    "Update the docstring to reflect this new behaviour."
   ]
  },
  {
   "cell_type": "code",
   "execution_count": 6,
   "id": "a83e5416",
   "metadata": {
    "execution": {
     "iopub.execute_input": "2025-08-30T11:01:05.544756Z",
     "iopub.status.busy": "2025-08-30T11:01:05.543744Z",
     "iopub.status.idle": "2025-08-30T11:01:05.554943Z",
     "shell.execute_reply": "2025-08-30T11:01:05.553626Z"
    },
    "papermill": {
     "duration": 0.019432,
     "end_time": "2025-08-30T11:01:05.557067",
     "exception": false,
     "start_time": "2025-08-30T11:01:05.537635",
     "status": "completed"
    },
    "tags": []
   },
   "outputs": [
    {
     "data": {
      "application/javascript": [
       "parent.postMessage({\"jupyterEvent\": \"custom.exercise_interaction\", \"data\": {\"outcomeType\": 1, \"valueTowardsCompletion\": 0.16666666666666666, \"interactionType\": 1, \"questionType\": 2, \"questionId\": \"3_CandySmashingFunctionProblem\", \"learnToolsVersion\": \"0.3.5\", \"failureMessage\": \"\", \"exceptionClass\": \"\", \"trace\": \"\"}}, \"*\")"
      ],
      "text/plain": [
       "<IPython.core.display.Javascript object>"
      ]
     },
     "metadata": {},
     "output_type": "display_data"
    },
    {
     "data": {
      "text/markdown": [
       "<span style=\"color:#33cc33\">Correct</span>"
      ],
      "text/plain": [
       "Correct"
      ]
     },
     "metadata": {},
     "output_type": "display_data"
    }
   ],
   "source": [
    "def to_smash(total_candies, num_friends=3):\n",
    "    \"\"\"Return the number of leftover candies that must be smashed after distributing\n",
    "    the given number of candies evenly between 3 friends.\n",
    "    \n",
    "    >>> to_smash(91)\n",
    "    1\n",
    "    \"\"\"\n",
    "    return total_candies % num_friends\n",
    "\n",
    "# Check your answer\n",
    "q3.check()"
   ]
  },
  {
   "cell_type": "code",
   "execution_count": 7,
   "id": "d4cea2a9",
   "metadata": {
    "execution": {
     "iopub.execute_input": "2025-08-30T11:01:05.568425Z",
     "iopub.status.busy": "2025-08-30T11:01:05.568081Z",
     "iopub.status.idle": "2025-08-30T11:01:05.573300Z",
     "shell.execute_reply": "2025-08-30T11:01:05.571977Z"
    },
    "papermill": {
     "duration": 0.013629,
     "end_time": "2025-08-30T11:01:05.574987",
     "exception": false,
     "start_time": "2025-08-30T11:01:05.561358",
     "status": "completed"
    },
    "tags": []
   },
   "outputs": [],
   "source": [
    "#q3.hint()"
   ]
  },
  {
   "cell_type": "code",
   "execution_count": 8,
   "id": "3aaa87f0",
   "metadata": {
    "execution": {
     "iopub.execute_input": "2025-08-30T11:01:05.586419Z",
     "iopub.status.busy": "2025-08-30T11:01:05.586078Z",
     "iopub.status.idle": "2025-08-30T11:01:05.591419Z",
     "shell.execute_reply": "2025-08-30T11:01:05.590131Z"
    },
    "papermill": {
     "duration": 0.013782,
     "end_time": "2025-08-30T11:01:05.593546",
     "exception": false,
     "start_time": "2025-08-30T11:01:05.579764",
     "status": "completed"
    },
    "tags": []
   },
   "outputs": [],
   "source": [
    "#q3.solution()"
   ]
  },
  {
   "cell_type": "markdown",
   "id": "a1c6f40f",
   "metadata": {
    "papermill": {
     "duration": 0.004168,
     "end_time": "2025-08-30T11:01:05.602359",
     "exception": false,
     "start_time": "2025-08-30T11:01:05.598191",
     "status": "completed"
    },
    "tags": []
   },
   "source": [
    "# 4. (Optional)\n",
    "\n",
    "It may not be fun, but reading and understanding error messages will be an important part of your Python career.\n",
    "\n",
    "Each code cell below contains some commented buggy code. For each cell...\n",
    "\n",
    "1. Read the code and predict what you think will happen when it's run.\n",
    "2. Then uncomment the code and run it to see what happens. (**Tip**: In the kernel editor, you can highlight several lines and press `ctrl`+`/` to toggle commenting.)\n",
    "3. Fix the code (so that it accomplishes its intended purpose without throwing an exception)\n",
    "\n",
    "<!-- TODO: should this be autochecked? Delta is probably pretty small. -->"
   ]
  },
  {
   "cell_type": "code",
   "execution_count": 9,
   "id": "5fd523ea",
   "metadata": {
    "execution": {
     "iopub.execute_input": "2025-08-30T11:01:05.614410Z",
     "iopub.status.busy": "2025-08-30T11:01:05.613920Z",
     "iopub.status.idle": "2025-08-30T11:01:05.621301Z",
     "shell.execute_reply": "2025-08-30T11:01:05.620064Z"
    },
    "papermill": {
     "duration": 0.01595,
     "end_time": "2025-08-30T11:01:05.623434",
     "exception": false,
     "start_time": "2025-08-30T11:01:05.607484",
     "status": "completed"
    },
    "tags": []
   },
   "outputs": [
    {
     "data": {
      "text/plain": [
       "10.0"
      ]
     },
     "execution_count": 9,
     "metadata": {},
     "output_type": "execute_result"
    }
   ],
   "source": [
    "round_to_two_places(9.9999)"
   ]
  },
  {
   "cell_type": "code",
   "execution_count": 10,
   "id": "c024a101",
   "metadata": {
    "execution": {
     "iopub.execute_input": "2025-08-30T11:01:05.634157Z",
     "iopub.status.busy": "2025-08-30T11:01:05.633668Z",
     "iopub.status.idle": "2025-08-30T11:01:05.639445Z",
     "shell.execute_reply": "2025-08-30T11:01:05.638134Z"
    },
    "papermill": {
     "duration": 0.013587,
     "end_time": "2025-08-30T11:01:05.641751",
     "exception": false,
     "start_time": "2025-08-30T11:01:05.628164",
     "status": "completed"
    },
    "tags": []
   },
   "outputs": [],
   "source": [
    "x = -10\n",
    "y = 5\n",
    "# # Which of the two variables above has the smallest absolute value?\n",
    "smallest_abs = min(abs(x), abs(y))"
   ]
  },
  {
   "cell_type": "code",
   "execution_count": 11,
   "id": "be302322",
   "metadata": {
    "execution": {
     "iopub.execute_input": "2025-08-30T11:01:05.653787Z",
     "iopub.status.busy": "2025-08-30T11:01:05.653427Z",
     "iopub.status.idle": "2025-08-30T11:01:05.660308Z",
     "shell.execute_reply": "2025-08-30T11:01:05.658963Z"
    },
    "papermill": {
     "duration": 0.015389,
     "end_time": "2025-08-30T11:01:05.662450",
     "exception": false,
     "start_time": "2025-08-30T11:01:05.647061",
     "status": "completed"
    },
    "tags": []
   },
   "outputs": [
    {
     "name": "stdout",
     "output_type": "stream",
     "text": [
      "5\n"
     ]
    }
   ],
   "source": [
    "def f(x):\n",
    "    y = abs(x)\n",
    "    return y\n",
    "\n",
    "print(f(5))"
   ]
  },
  {
   "cell_type": "markdown",
   "id": "d888d1cf",
   "metadata": {
    "papermill": {
     "duration": 0.004223,
     "end_time": "2025-08-30T11:01:05.671666",
     "exception": false,
     "start_time": "2025-08-30T11:01:05.667443",
     "status": "completed"
    },
    "tags": []
   },
   "source": [
    "# Keep Going\n",
    "\n",
    "Nice job with the code. Next up, you'll learn about *conditionals*, which you'll need to **[write interesting programs](https://www.kaggle.com/colinmorris/booleans-and-conditionals)**. "
   ]
  },
  {
   "cell_type": "markdown",
   "id": "8e191da5",
   "metadata": {
    "papermill": {
     "duration": 0.00405,
     "end_time": "2025-08-30T11:01:05.680153",
     "exception": false,
     "start_time": "2025-08-30T11:01:05.676103",
     "status": "completed"
    },
    "tags": []
   },
   "source": [
    "---\n",
    "\n",
    "\n",
    "\n",
    "\n",
    "*Have questions or comments? Visit the [course discussion forum](https://www.kaggle.com/learn/python/discussion) to chat with other learners.*"
   ]
  }
 ],
 "metadata": {
  "kaggle": {
   "accelerator": "none",
   "dataSources": [],
   "isGpuEnabled": false,
   "isInternetEnabled": false,
   "language": "python",
   "sourceType": "notebook"
  },
  "kernelspec": {
   "display_name": "Python 3",
   "language": "python",
   "name": "python3"
  },
  "language_info": {
   "codemirror_mode": {
    "name": "ipython",
    "version": 3
   },
   "file_extension": ".py",
   "mimetype": "text/x-python",
   "name": "python",
   "nbconvert_exporter": "python",
   "pygments_lexer": "ipython3",
   "version": "3.11.13"
  },
  "learntools_metadata": {
   "lesson_index": 1,
   "type": "exercise"
  },
  "papermill": {
   "default_parameters": {},
   "duration": 9.707036,
   "end_time": "2025-08-30T11:01:06.307351",
   "environment_variables": {},
   "exception": null,
   "input_path": "__notebook__.ipynb",
   "output_path": "__notebook__.ipynb",
   "parameters": {},
   "start_time": "2025-08-30T11:00:56.600315",
   "version": "2.6.0"
  }
 },
 "nbformat": 4,
 "nbformat_minor": 5
}
