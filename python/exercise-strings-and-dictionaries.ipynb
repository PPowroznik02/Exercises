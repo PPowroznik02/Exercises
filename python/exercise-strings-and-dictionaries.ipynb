{
 "cells": [
  {
   "cell_type": "markdown",
   "id": "e391bc9f",
   "metadata": {
    "papermill": {
     "duration": 0.005056,
     "end_time": "2025-09-03T11:04:43.994329",
     "exception": false,
     "start_time": "2025-09-03T11:04:43.989273",
     "status": "completed"
    },
    "tags": []
   },
   "source": [
    "**This notebook is an exercise in the [Python](https://www.kaggle.com/learn/python) course.  You can reference the tutorial at [this link](https://www.kaggle.com/colinmorris/strings-and-dictionaries).**\n",
    "\n",
    "---\n"
   ]
  },
  {
   "cell_type": "markdown",
   "id": "8daa8392",
   "metadata": {
    "papermill": {
     "duration": 0.003801,
     "end_time": "2025-09-03T11:04:44.002627",
     "exception": false,
     "start_time": "2025-09-03T11:04:43.998826",
     "status": "completed"
    },
    "tags": []
   },
   "source": [
    "You are almost done with the course. Nice job!\n",
    "\n",
    "We have a couple more interesting problems for you before you go. \n",
    "\n",
    "As always, run the setup code below before working on the questions."
   ]
  },
  {
   "cell_type": "code",
   "execution_count": 1,
   "id": "9614091e",
   "metadata": {
    "execution": {
     "iopub.execute_input": "2025-09-03T11:04:44.012895Z",
     "iopub.status.busy": "2025-09-03T11:04:44.012488Z",
     "iopub.status.idle": "2025-09-03T11:04:46.152151Z",
     "shell.execute_reply": "2025-09-03T11:04:46.150630Z"
    },
    "papermill": {
     "duration": 2.147548,
     "end_time": "2025-09-03T11:04:46.154432",
     "exception": false,
     "start_time": "2025-09-03T11:04:44.006884",
     "status": "completed"
    },
    "tags": []
   },
   "outputs": [
    {
     "name": "stdout",
     "output_type": "stream",
     "text": [
      "Setup complete.\n"
     ]
    }
   ],
   "source": [
    "from learntools.core import binder; binder.bind(globals())\n",
    "from learntools.python.ex6 import *\n",
    "print('Setup complete.')"
   ]
  },
  {
   "cell_type": "markdown",
   "id": "26b42bb8",
   "metadata": {
    "papermill": {
     "duration": 0.004636,
     "end_time": "2025-09-03T11:04:46.164051",
     "exception": false,
     "start_time": "2025-09-03T11:04:46.159415",
     "status": "completed"
    },
    "tags": []
   },
   "source": [
    "Let's start with a string lightning round to warm up. What are the lengths of the strings below?\n",
    "\n",
    "For each of the five strings below, predict what `len()` would return when passed that string. Use the variable `length` to record your answer, then run the cell to check whether you were right.  \n",
    "\n",
    "# 0a."
   ]
  },
  {
   "cell_type": "code",
   "execution_count": 2,
   "id": "f6ded91b",
   "metadata": {
    "execution": {
     "iopub.execute_input": "2025-09-03T11:04:46.174295Z",
     "iopub.status.busy": "2025-09-03T11:04:46.173769Z",
     "iopub.status.idle": "2025-09-03T11:04:46.183470Z",
     "shell.execute_reply": "2025-09-03T11:04:46.182507Z"
    },
    "papermill": {
     "duration": 0.016815,
     "end_time": "2025-09-03T11:04:46.185145",
     "exception": false,
     "start_time": "2025-09-03T11:04:46.168330",
     "status": "completed"
    },
    "tags": []
   },
   "outputs": [
    {
     "data": {
      "application/javascript": [
       "parent.postMessage({\"jupyterEvent\": \"custom.exercise_interaction\", \"data\": {\"outcomeType\": 1, \"valueTowardsCompletion\": 0.3333333333333333, \"interactionType\": 1, \"questionType\": 1, \"questionId\": \"0.1_ZA\", \"learnToolsVersion\": \"0.3.5\", \"failureMessage\": \"\", \"exceptionClass\": \"\", \"trace\": \"\"}}, \"*\")"
      ],
      "text/plain": [
       "<IPython.core.display.Javascript object>"
      ]
     },
     "metadata": {},
     "output_type": "display_data"
    },
    {
     "data": {
      "text/markdown": [
       "<span style=\"color:#33cc33\">Correct:</span> \n",
       "\n",
       "The empty string has length zero. Note that the empty string is also the only string that Python considers as False when converting to boolean."
      ],
      "text/plain": [
       "Correct: \n",
       "\n",
       "The empty string has length zero. Note that the empty string is also the only string that Python considers as False when converting to boolean."
      ]
     },
     "metadata": {},
     "output_type": "display_data"
    }
   ],
   "source": [
    "a = \"\"\n",
    "length = 0\n",
    "q0.a.check()"
   ]
  },
  {
   "cell_type": "markdown",
   "id": "68782ade",
   "metadata": {
    "papermill": {
     "duration": 0.004079,
     "end_time": "2025-09-03T11:04:46.193923",
     "exception": false,
     "start_time": "2025-09-03T11:04:46.189844",
     "status": "completed"
    },
    "tags": []
   },
   "source": [
    "# 0b."
   ]
  },
  {
   "cell_type": "code",
   "execution_count": 3,
   "id": "ab758fcc",
   "metadata": {
    "execution": {
     "iopub.execute_input": "2025-09-03T11:04:46.204583Z",
     "iopub.status.busy": "2025-09-03T11:04:46.203879Z",
     "iopub.status.idle": "2025-09-03T11:04:46.211869Z",
     "shell.execute_reply": "2025-09-03T11:04:46.211175Z"
    },
    "papermill": {
     "duration": 0.015156,
     "end_time": "2025-09-03T11:04:46.213497",
     "exception": false,
     "start_time": "2025-09-03T11:04:46.198341",
     "status": "completed"
    },
    "tags": []
   },
   "outputs": [
    {
     "data": {
      "application/javascript": [
       "parent.postMessage({\"jupyterEvent\": \"custom.exercise_interaction\", \"data\": {\"outcomeType\": 1, \"valueTowardsCompletion\": 0.3333333333333333, \"interactionType\": 1, \"questionType\": 1, \"questionId\": \"0.2_ZB\", \"learnToolsVersion\": \"0.3.5\", \"failureMessage\": \"\", \"exceptionClass\": \"\", \"trace\": \"\"}}, \"*\")"
      ],
      "text/plain": [
       "<IPython.core.display.Javascript object>"
      ]
     },
     "metadata": {},
     "output_type": "display_data"
    },
    {
     "data": {
      "text/markdown": [
       "<span style=\"color:#33cc33\">Correct:</span> \n",
       "\n",
       "Keep in mind Python includes spaces (and punctuation) when counting string length."
      ],
      "text/plain": [
       "Correct: \n",
       "\n",
       "Keep in mind Python includes spaces (and punctuation) when counting string length."
      ]
     },
     "metadata": {},
     "output_type": "display_data"
    }
   ],
   "source": [
    "b = \"it's ok\"\n",
    "length = 7\n",
    "q0.b.check()"
   ]
  },
  {
   "cell_type": "markdown",
   "id": "7b7d5ce6",
   "metadata": {
    "papermill": {
     "duration": 0.005302,
     "end_time": "2025-09-03T11:04:46.224169",
     "exception": false,
     "start_time": "2025-09-03T11:04:46.218867",
     "status": "completed"
    },
    "tags": []
   },
   "source": [
    "# 0c."
   ]
  },
  {
   "cell_type": "code",
   "execution_count": 4,
   "id": "aabb6c54",
   "metadata": {
    "execution": {
     "iopub.execute_input": "2025-09-03T11:04:46.236622Z",
     "iopub.status.busy": "2025-09-03T11:04:46.236297Z",
     "iopub.status.idle": "2025-09-03T11:04:46.244413Z",
     "shell.execute_reply": "2025-09-03T11:04:46.243372Z"
    },
    "papermill": {
     "duration": 0.015505,
     "end_time": "2025-09-03T11:04:46.245967",
     "exception": false,
     "start_time": "2025-09-03T11:04:46.230462",
     "status": "completed"
    },
    "tags": []
   },
   "outputs": [
    {
     "data": {
      "application/javascript": [
       "parent.postMessage({\"jupyterEvent\": \"custom.exercise_interaction\", \"data\": {\"outcomeType\": 1, \"valueTowardsCompletion\": 0.3333333333333333, \"interactionType\": 1, \"questionType\": 1, \"questionId\": \"0.3_ZC\", \"learnToolsVersion\": \"0.3.5\", \"failureMessage\": \"\", \"exceptionClass\": \"\", \"trace\": \"\"}}, \"*\")"
      ],
      "text/plain": [
       "<IPython.core.display.Javascript object>"
      ]
     },
     "metadata": {},
     "output_type": "display_data"
    },
    {
     "data": {
      "text/markdown": [
       "<span style=\"color:#33cc33\">Correct:</span> \n",
       "\n",
       "Even though we use different syntax to create it, the string `c` is identical to `b`. In particular, note that the backslash is not part of the string, so it doesn't contribute to its length."
      ],
      "text/plain": [
       "Correct: \n",
       "\n",
       "Even though we use different syntax to create it, the string `c` is identical to `b`. In particular, note that the backslash is not part of the string, so it doesn't contribute to its length."
      ]
     },
     "metadata": {},
     "output_type": "display_data"
    }
   ],
   "source": [
    "c = 'it\\'s ok'\n",
    "length = 7\n",
    "q0.c.check()"
   ]
  },
  {
   "cell_type": "markdown",
   "id": "4003671f",
   "metadata": {
    "papermill": {
     "duration": 0.004605,
     "end_time": "2025-09-03T11:04:46.255705",
     "exception": false,
     "start_time": "2025-09-03T11:04:46.251100",
     "status": "completed"
    },
    "tags": []
   },
   "source": [
    "# 0d."
   ]
  },
  {
   "cell_type": "code",
   "execution_count": 5,
   "id": "d3b7e1ee",
   "metadata": {
    "execution": {
     "iopub.execute_input": "2025-09-03T11:04:46.266634Z",
     "iopub.status.busy": "2025-09-03T11:04:46.266351Z",
     "iopub.status.idle": "2025-09-03T11:04:46.274605Z",
     "shell.execute_reply": "2025-09-03T11:04:46.273768Z"
    },
    "papermill": {
     "duration": 0.015399,
     "end_time": "2025-09-03T11:04:46.276021",
     "exception": false,
     "start_time": "2025-09-03T11:04:46.260622",
     "status": "completed"
    },
    "tags": []
   },
   "outputs": [
    {
     "data": {
      "application/javascript": [
       "parent.postMessage({\"jupyterEvent\": \"custom.exercise_interaction\", \"data\": {\"outcomeType\": 1, \"valueTowardsCompletion\": 0.3333333333333333, \"interactionType\": 1, \"questionType\": 1, \"questionId\": \"0.4_ZD\", \"learnToolsVersion\": \"0.3.5\", \"failureMessage\": \"\", \"exceptionClass\": \"\", \"trace\": \"\"}}, \"*\")"
      ],
      "text/plain": [
       "<IPython.core.display.Javascript object>"
      ]
     },
     "metadata": {},
     "output_type": "display_data"
    },
    {
     "data": {
      "text/markdown": [
       "<span style=\"color:#33cc33\">Correct:</span> \n",
       "\n",
       "The fact that this string was created using triple-quote syntax doesn't make any difference in terms of its content or length. This string is exactly the same as `'hey'`."
      ],
      "text/plain": [
       "Correct: \n",
       "\n",
       "The fact that this string was created using triple-quote syntax doesn't make any difference in terms of its content or length. This string is exactly the same as `'hey'`."
      ]
     },
     "metadata": {},
     "output_type": "display_data"
    }
   ],
   "source": [
    "d = \"\"\"hey\"\"\"\n",
    "length = 3\n",
    "q0.d.check()"
   ]
  },
  {
   "cell_type": "markdown",
   "id": "38d4aa88",
   "metadata": {
    "papermill": {
     "duration": 0.004712,
     "end_time": "2025-09-03T11:04:46.285983",
     "exception": false,
     "start_time": "2025-09-03T11:04:46.281271",
     "status": "completed"
    },
    "tags": []
   },
   "source": [
    "# 0e."
   ]
  },
  {
   "cell_type": "code",
   "execution_count": 6,
   "id": "8f83a2be",
   "metadata": {
    "execution": {
     "iopub.execute_input": "2025-09-03T11:04:46.297734Z",
     "iopub.status.busy": "2025-09-03T11:04:46.297414Z",
     "iopub.status.idle": "2025-09-03T11:04:46.305946Z",
     "shell.execute_reply": "2025-09-03T11:04:46.304897Z"
    },
    "papermill": {
     "duration": 0.016629,
     "end_time": "2025-09-03T11:04:46.307801",
     "exception": false,
     "start_time": "2025-09-03T11:04:46.291172",
     "status": "completed"
    },
    "tags": []
   },
   "outputs": [
    {
     "data": {
      "application/javascript": [
       "parent.postMessage({\"jupyterEvent\": \"custom.exercise_interaction\", \"data\": {\"outcomeType\": 1, \"valueTowardsCompletion\": 0.3333333333333333, \"interactionType\": 1, \"questionType\": 1, \"questionId\": \"0.5_ZE\", \"learnToolsVersion\": \"0.3.5\", \"failureMessage\": \"\", \"exceptionClass\": \"\", \"trace\": \"\"}}, \"*\")"
      ],
      "text/plain": [
       "<IPython.core.display.Javascript object>"
      ]
     },
     "metadata": {},
     "output_type": "display_data"
    },
    {
     "data": {
      "text/markdown": [
       "<span style=\"color:#33cc33\">Correct:</span> \n",
       "\n",
       "The newline character is just a single character! (Even though we represent it to Python using a combination of two characters.)"
      ],
      "text/plain": [
       "Correct: \n",
       "\n",
       "The newline character is just a single character! (Even though we represent it to Python using a combination of two characters.)"
      ]
     },
     "metadata": {},
     "output_type": "display_data"
    }
   ],
   "source": [
    "e = '\\n'\n",
    "length = 1\n",
    "q0.e.check()"
   ]
  },
  {
   "cell_type": "markdown",
   "id": "8e3d04c0",
   "metadata": {
    "papermill": {
     "duration": 0.004896,
     "end_time": "2025-09-03T11:04:46.318116",
     "exception": false,
     "start_time": "2025-09-03T11:04:46.313220",
     "status": "completed"
    },
    "tags": []
   },
   "source": [
    "# 1.\n",
    "\n",
    "There is a saying that \"Data scientists spend 80% of their time cleaning data, and 20% of their time complaining about cleaning data.\" Let's see if you can write a function to help clean US zip code data. Given a string, it should return whether or not that string represents a valid zip code. For our purposes, a valid zip code is any string consisting of exactly 5 digits.\n",
    "\n",
    "HINT: `str` has a method that will be useful here. Use `help(str)` to review a list of string methods."
   ]
  },
  {
   "cell_type": "code",
   "execution_count": 7,
   "id": "1ee5c657",
   "metadata": {
    "execution": {
     "iopub.execute_input": "2025-09-03T11:04:46.331170Z",
     "iopub.status.busy": "2025-09-03T11:04:46.330828Z",
     "iopub.status.idle": "2025-09-03T11:04:46.336215Z",
     "shell.execute_reply": "2025-09-03T11:04:46.334813Z"
    },
    "papermill": {
     "duration": 0.014595,
     "end_time": "2025-09-03T11:04:46.337950",
     "exception": false,
     "start_time": "2025-09-03T11:04:46.323355",
     "status": "completed"
    },
    "tags": []
   },
   "outputs": [],
   "source": [
    "# help(str)"
   ]
  },
  {
   "cell_type": "code",
   "execution_count": 8,
   "id": "5ced9cec",
   "metadata": {
    "execution": {
     "iopub.execute_input": "2025-09-03T11:04:46.349645Z",
     "iopub.status.busy": "2025-09-03T11:04:46.349351Z",
     "iopub.status.idle": "2025-09-03T11:04:46.357835Z",
     "shell.execute_reply": "2025-09-03T11:04:46.356908Z"
    },
    "papermill": {
     "duration": 0.016036,
     "end_time": "2025-09-03T11:04:46.359374",
     "exception": false,
     "start_time": "2025-09-03T11:04:46.343338",
     "status": "completed"
    },
    "tags": []
   },
   "outputs": [
    {
     "data": {
      "application/javascript": [
       "parent.postMessage({\"jupyterEvent\": \"custom.exercise_interaction\", \"data\": {\"outcomeType\": 1, \"valueTowardsCompletion\": 0.3333333333333333, \"interactionType\": 1, \"questionType\": 2, \"questionId\": \"1_ZipValidator\", \"learnToolsVersion\": \"0.3.5\", \"failureMessage\": \"\", \"exceptionClass\": \"\", \"trace\": \"\"}}, \"*\")"
      ],
      "text/plain": [
       "<IPython.core.display.Javascript object>"
      ]
     },
     "metadata": {},
     "output_type": "display_data"
    },
    {
     "data": {
      "text/markdown": [
       "<span style=\"color:#33cc33\">Correct</span>"
      ],
      "text/plain": [
       "Correct"
      ]
     },
     "metadata": {},
     "output_type": "display_data"
    }
   ],
   "source": [
    "def is_valid_zip(zip_code):\n",
    "    \"\"\"Returns whether the input string is a valid (5 digit) zip code\n",
    "    \"\"\"\n",
    "    return True if len(zip_code) == 5 and zip_code.isdigit() else False\n",
    "\n",
    "# Check your answer\n",
    "q1.check()"
   ]
  },
  {
   "cell_type": "code",
   "execution_count": 9,
   "id": "b6f16ee9",
   "metadata": {
    "execution": {
     "iopub.execute_input": "2025-09-03T11:04:46.372170Z",
     "iopub.status.busy": "2025-09-03T11:04:46.371840Z",
     "iopub.status.idle": "2025-09-03T11:04:46.376397Z",
     "shell.execute_reply": "2025-09-03T11:04:46.375233Z"
    },
    "papermill": {
     "duration": 0.012736,
     "end_time": "2025-09-03T11:04:46.378143",
     "exception": false,
     "start_time": "2025-09-03T11:04:46.365407",
     "status": "completed"
    },
    "tags": []
   },
   "outputs": [],
   "source": [
    "#q1.hint()\n",
    "#q1.solution()"
   ]
  },
  {
   "cell_type": "markdown",
   "id": "61066541",
   "metadata": {
    "papermill": {
     "duration": 0.005092,
     "end_time": "2025-09-03T11:04:46.388683",
     "exception": false,
     "start_time": "2025-09-03T11:04:46.383591",
     "status": "completed"
    },
    "tags": []
   },
   "source": [
    "# 2.\n",
    "\n",
    "A researcher has gathered thousands of news articles. But she wants to focus her attention on articles including a specific word. Complete the function below to help her filter her list of articles.\n",
    "\n",
    "Your function should meet the following criteria:\n",
    "\n",
    "- Do not include documents where the keyword string shows up only as a part of a larger word. For example, if she were looking for the keyword “closed”, you would not include the string “enclosed.” \n",
    "- She does not want you to distinguish upper case from lower case letters. So the phrase “Closed the case.” would be included when the keyword is “closed”\n",
    "- Do not let periods or commas affect what is matched. “It is closed.” would be included when the keyword is “closed”. But you can assume there are no other types of punctuation."
   ]
  },
  {
   "cell_type": "code",
   "execution_count": 10,
   "id": "54ac7a3b",
   "metadata": {
    "execution": {
     "iopub.execute_input": "2025-09-03T11:04:46.401233Z",
     "iopub.status.busy": "2025-09-03T11:04:46.400913Z",
     "iopub.status.idle": "2025-09-03T11:04:46.405122Z",
     "shell.execute_reply": "2025-09-03T11:04:46.404157Z"
    },
    "papermill": {
     "duration": 0.012548,
     "end_time": "2025-09-03T11:04:46.406606",
     "exception": false,
     "start_time": "2025-09-03T11:04:46.394058",
     "status": "completed"
    },
    "tags": []
   },
   "outputs": [],
   "source": [
    "# help(str)"
   ]
  },
  {
   "cell_type": "code",
   "execution_count": 11,
   "id": "9039a442",
   "metadata": {
    "execution": {
     "iopub.execute_input": "2025-09-03T11:04:46.418886Z",
     "iopub.status.busy": "2025-09-03T11:04:46.418612Z",
     "iopub.status.idle": "2025-09-03T11:04:46.427517Z",
     "shell.execute_reply": "2025-09-03T11:04:46.426613Z"
    },
    "papermill": {
     "duration": 0.016741,
     "end_time": "2025-09-03T11:04:46.428964",
     "exception": false,
     "start_time": "2025-09-03T11:04:46.412223",
     "status": "completed"
    },
    "tags": []
   },
   "outputs": [
    {
     "data": {
      "application/javascript": [
       "parent.postMessage({\"jupyterEvent\": \"custom.exercise_interaction\", \"data\": {\"outcomeType\": 1, \"valueTowardsCompletion\": 0.3333333333333333, \"interactionType\": 1, \"questionType\": 2, \"questionId\": \"2_WordSearch\", \"learnToolsVersion\": \"0.3.5\", \"failureMessage\": \"\", \"exceptionClass\": \"\", \"trace\": \"\"}}, \"*\")"
      ],
      "text/plain": [
       "<IPython.core.display.Javascript object>"
      ]
     },
     "metadata": {},
     "output_type": "display_data"
    },
    {
     "data": {
      "text/markdown": [
       "<span style=\"color:#33cc33\">Correct</span>"
      ],
      "text/plain": [
       "Correct"
      ]
     },
     "metadata": {},
     "output_type": "display_data"
    }
   ],
   "source": [
    "def word_search(doc_list, keyword):\n",
    "    \"\"\"\n",
    "    Takes a list of documents (each document is a string) and a keyword. \n",
    "    Returns list of the index values into the original list for all documents \n",
    "    containing the keyword.\n",
    "\n",
    "    Example:\n",
    "    doc_list = [\"The Learn Python Challenge Casino.\", \"They bought a car\", \"Casinoville\"]\n",
    "    >>> word_search(doc_list, 'casino')\n",
    "    >>> [0]\n",
    "    \"\"\"\n",
    "    indexes = []\n",
    "    for i, str in enumerate(doc_list):\n",
    "        str = str.lower()\n",
    "\n",
    "        tokens = str.split()\n",
    "        tokens = [token.rstrip('.,') for token in tokens]\n",
    "        \n",
    "        if keyword in tokens:\n",
    "            indexes.append(i)\n",
    "\n",
    "    return(indexes)\n",
    "\n",
    "# Check your answer\n",
    "q2.check()"
   ]
  },
  {
   "cell_type": "code",
   "execution_count": 12,
   "id": "4667ec5e",
   "metadata": {
    "execution": {
     "iopub.execute_input": "2025-09-03T11:04:46.441565Z",
     "iopub.status.busy": "2025-09-03T11:04:46.441246Z",
     "iopub.status.idle": "2025-09-03T11:04:46.445744Z",
     "shell.execute_reply": "2025-09-03T11:04:46.444710Z"
    },
    "papermill": {
     "duration": 0.012739,
     "end_time": "2025-09-03T11:04:46.447418",
     "exception": false,
     "start_time": "2025-09-03T11:04:46.434679",
     "status": "completed"
    },
    "tags": []
   },
   "outputs": [],
   "source": [
    "#q2.hint()\n",
    "#q2.solution()"
   ]
  },
  {
   "cell_type": "markdown",
   "id": "84e5340a",
   "metadata": {
    "papermill": {
     "duration": 0.005165,
     "end_time": "2025-09-03T11:04:46.458182",
     "exception": false,
     "start_time": "2025-09-03T11:04:46.453017",
     "status": "completed"
    },
    "tags": []
   },
   "source": [
    "# 3.\n",
    "\n",
    "Now the researcher wants to supply multiple keywords to search for. Complete the function below to help her.\n",
    "\n",
    "(You're encouraged to use the `word_search` function you just wrote when implementing this function. Reusing code in this way makes your programs more robust and readable - and it saves typing!)"
   ]
  },
  {
   "cell_type": "code",
   "execution_count": 13,
   "id": "4ecee73c",
   "metadata": {
    "execution": {
     "iopub.execute_input": "2025-09-03T11:04:46.470640Z",
     "iopub.status.busy": "2025-09-03T11:04:46.469976Z",
     "iopub.status.idle": "2025-09-03T11:04:46.478018Z",
     "shell.execute_reply": "2025-09-03T11:04:46.477079Z"
    },
    "papermill": {
     "duration": 0.015891,
     "end_time": "2025-09-03T11:04:46.479627",
     "exception": false,
     "start_time": "2025-09-03T11:04:46.463736",
     "status": "completed"
    },
    "tags": []
   },
   "outputs": [
    {
     "data": {
      "application/javascript": [
       "parent.postMessage({\"jupyterEvent\": \"custom.exercise_interaction\", \"data\": {\"outcomeType\": 1, \"valueTowardsCompletion\": 0.3333333333333333, \"interactionType\": 1, \"questionType\": 2, \"questionId\": \"3_MultiWordSearch\", \"learnToolsVersion\": \"0.3.5\", \"failureMessage\": \"\", \"exceptionClass\": \"\", \"trace\": \"\"}}, \"*\")"
      ],
      "text/plain": [
       "<IPython.core.display.Javascript object>"
      ]
     },
     "metadata": {},
     "output_type": "display_data"
    },
    {
     "data": {
      "text/markdown": [
       "<span style=\"color:#33cc33\">Correct</span>"
      ],
      "text/plain": [
       "Correct"
      ]
     },
     "metadata": {},
     "output_type": "display_data"
    }
   ],
   "source": [
    "def multi_word_search(doc_list, keywords):\n",
    "    \"\"\"\n",
    "    Takes list of documents (each document is a string) and a list of keywords.  \n",
    "    Returns a dictionary where each key is a keyword, and the value is a list of indices\n",
    "    (from doc_list) of the documents containing that keyword\n",
    "\n",
    "    >>> doc_list = [\"The Learn Python Challenge Casino.\", \"They bought a car and a casino\", \"Casinoville\"]\n",
    "    >>> keywords = ['casino', 'they']\n",
    "    >>> multi_word_search(doc_list, keywords)\n",
    "    {'casino': [0, 1], 'they': [1]}\n",
    "    \"\"\"\n",
    "    return {keyword: word_search(doc_list, keyword) for keyword in keywords}\n",
    "\n",
    "# Check your answer\n",
    "q3.check()"
   ]
  },
  {
   "cell_type": "code",
   "execution_count": 14,
   "id": "9c73df73",
   "metadata": {
    "execution": {
     "iopub.execute_input": "2025-09-03T11:04:46.492504Z",
     "iopub.status.busy": "2025-09-03T11:04:46.492211Z",
     "iopub.status.idle": "2025-09-03T11:04:46.496320Z",
     "shell.execute_reply": "2025-09-03T11:04:46.495538Z"
    },
    "papermill": {
     "duration": 0.012263,
     "end_time": "2025-09-03T11:04:46.497708",
     "exception": false,
     "start_time": "2025-09-03T11:04:46.485445",
     "status": "completed"
    },
    "tags": []
   },
   "outputs": [],
   "source": [
    "#q3.solution()"
   ]
  },
  {
   "cell_type": "markdown",
   "id": "5b9ff2f2",
   "metadata": {
    "papermill": {
     "duration": 0.005526,
     "end_time": "2025-09-03T11:04:46.509168",
     "exception": false,
     "start_time": "2025-09-03T11:04:46.503642",
     "status": "completed"
    },
    "tags": []
   },
   "source": [
    "# Keep Going\n",
    "\n",
    "You've learned a lot. But even the best programmers rely heavily on \"libraries\" of code from other programmers. You'll learn about that in **[the last lesson](https://www.kaggle.com/colinmorris/working-with-external-libraries)**.\n"
   ]
  },
  {
   "cell_type": "markdown",
   "id": "e5a6a87b",
   "metadata": {
    "papermill": {
     "duration": 0.005213,
     "end_time": "2025-09-03T11:04:46.519981",
     "exception": false,
     "start_time": "2025-09-03T11:04:46.514768",
     "status": "completed"
    },
    "tags": []
   },
   "source": [
    "---\n",
    "\n",
    "\n",
    "\n",
    "\n",
    "*Have questions or comments? Visit the [course discussion forum](https://www.kaggle.com/learn/python/discussion) to chat with other learners.*"
   ]
  }
 ],
 "metadata": {
  "kaggle": {
   "accelerator": "none",
   "dataSources": [],
   "isGpuEnabled": false,
   "isInternetEnabled": false,
   "language": "python",
   "sourceType": "notebook"
  },
  "kernelspec": {
   "display_name": "Python 3",
   "language": "python",
   "name": "python3"
  },
  "language_info": {
   "codemirror_mode": {
    "name": "ipython",
    "version": 3
   },
   "file_extension": ".py",
   "mimetype": "text/x-python",
   "name": "python",
   "nbconvert_exporter": "python",
   "pygments_lexer": "ipython3",
   "version": "3.11.13"
  },
  "learntools_metadata": {
   "lesson_index": 5,
   "type": "exercise"
  },
  "papermill": {
   "default_parameters": {},
   "duration": 8.983952,
   "end_time": "2025-09-03T11:04:47.147149",
   "environment_variables": {},
   "exception": null,
   "input_path": "__notebook__.ipynb",
   "output_path": "__notebook__.ipynb",
   "parameters": {},
   "start_time": "2025-09-03T11:04:38.163197",
   "version": "2.6.0"
  }
 },
 "nbformat": 4,
 "nbformat_minor": 5
}
