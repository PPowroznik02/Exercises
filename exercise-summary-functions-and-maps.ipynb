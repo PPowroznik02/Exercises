{
 "cells": [
  {
   "cell_type": "markdown",
   "id": "73db7781",
   "metadata": {
    "papermill": {
     "duration": 0.00566,
     "end_time": "2025-08-29T15:26:05.271216",
     "exception": false,
     "start_time": "2025-08-29T15:26:05.265556",
     "status": "completed"
    },
    "tags": []
   },
   "source": [
    "**This notebook is an exercise in the [Pandas](https://www.kaggle.com/learn/pandas) course.  You can reference the tutorial at [this link](https://www.kaggle.com/residentmario/summary-functions-and-maps).**\n",
    "\n",
    "---\n"
   ]
  },
  {
   "cell_type": "markdown",
   "id": "c5e07206",
   "metadata": {
    "papermill": {
     "duration": 0.004667,
     "end_time": "2025-08-29T15:26:05.281067",
     "exception": false,
     "start_time": "2025-08-29T15:26:05.276400",
     "status": "completed"
    },
    "tags": []
   },
   "source": [
    "# Introduction\n",
    "\n",
    "Now you are ready to get a deeper understanding of your data.\n",
    "\n",
    "Run the following cell to load your data and some utility functions (including code to check your answers)."
   ]
  },
  {
   "cell_type": "code",
   "execution_count": 1,
   "id": "4ee7c6f6",
   "metadata": {
    "execution": {
     "iopub.execute_input": "2025-08-29T15:26:05.292665Z",
     "iopub.status.busy": "2025-08-29T15:26:05.292227Z",
     "iopub.status.idle": "2025-08-29T15:26:13.717018Z",
     "shell.execute_reply": "2025-08-29T15:26:13.715723Z"
    },
    "papermill": {
     "duration": 8.432325,
     "end_time": "2025-08-29T15:26:13.718570",
     "exception": false,
     "start_time": "2025-08-29T15:26:05.286245",
     "status": "completed"
    },
    "tags": []
   },
   "outputs": [
    {
     "name": "stdout",
     "output_type": "stream",
     "text": [
      "Setup complete.\n"
     ]
    },
    {
     "name": "stderr",
     "output_type": "stream",
     "text": [
      "/usr/local/lib/python3.11/dist-packages/pandas/io/formats/format.py:1458: RuntimeWarning: invalid value encountered in greater\n",
      "  has_large_values = (abs_vals > 1e6).any()\n",
      "/usr/local/lib/python3.11/dist-packages/pandas/io/formats/format.py:1459: RuntimeWarning: invalid value encountered in less\n",
      "  has_small_values = ((abs_vals < 10 ** (-self.digits)) & (abs_vals > 0)).any()\n",
      "/usr/local/lib/python3.11/dist-packages/pandas/io/formats/format.py:1459: RuntimeWarning: invalid value encountered in greater\n",
      "  has_small_values = ((abs_vals < 10 ** (-self.digits)) & (abs_vals > 0)).any()\n"
     ]
    },
    {
     "data": {
      "text/html": [
       "<div>\n",
       "<style scoped>\n",
       "    .dataframe tbody tr th:only-of-type {\n",
       "        vertical-align: middle;\n",
       "    }\n",
       "\n",
       "    .dataframe tbody tr th {\n",
       "        vertical-align: top;\n",
       "    }\n",
       "\n",
       "    .dataframe thead th {\n",
       "        text-align: right;\n",
       "    }\n",
       "</style>\n",
       "<table border=\"1\" class=\"dataframe\">\n",
       "  <thead>\n",
       "    <tr style=\"text-align: right;\">\n",
       "      <th></th>\n",
       "      <th>country</th>\n",
       "      <th>description</th>\n",
       "      <th>designation</th>\n",
       "      <th>points</th>\n",
       "      <th>price</th>\n",
       "      <th>province</th>\n",
       "      <th>region_1</th>\n",
       "      <th>region_2</th>\n",
       "      <th>taster_name</th>\n",
       "      <th>taster_twitter_handle</th>\n",
       "      <th>title</th>\n",
       "      <th>variety</th>\n",
       "      <th>winery</th>\n",
       "    </tr>\n",
       "  </thead>\n",
       "  <tbody>\n",
       "    <tr>\n",
       "      <th>0</th>\n",
       "      <td>Italy</td>\n",
       "      <td>Aromas include tropical fruit, broom, brimston...</td>\n",
       "      <td>Vulkà Bianco</td>\n",
       "      <td>87</td>\n",
       "      <td>NaN</td>\n",
       "      <td>Sicily &amp; Sardinia</td>\n",
       "      <td>Etna</td>\n",
       "      <td>NaN</td>\n",
       "      <td>Kerin O’Keefe</td>\n",
       "      <td>@kerinokeefe</td>\n",
       "      <td>Nicosia 2013 Vulkà Bianco  (Etna)</td>\n",
       "      <td>White Blend</td>\n",
       "      <td>Nicosia</td>\n",
       "    </tr>\n",
       "    <tr>\n",
       "      <th>1</th>\n",
       "      <td>Portugal</td>\n",
       "      <td>This is ripe and fruity, a wine that is smooth...</td>\n",
       "      <td>Avidagos</td>\n",
       "      <td>87</td>\n",
       "      <td>15.0</td>\n",
       "      <td>Douro</td>\n",
       "      <td>NaN</td>\n",
       "      <td>NaN</td>\n",
       "      <td>Roger Voss</td>\n",
       "      <td>@vossroger</td>\n",
       "      <td>Quinta dos Avidagos 2011 Avidagos Red (Douro)</td>\n",
       "      <td>Portuguese Red</td>\n",
       "      <td>Quinta dos Avidagos</td>\n",
       "    </tr>\n",
       "    <tr>\n",
       "      <th>2</th>\n",
       "      <td>US</td>\n",
       "      <td>Tart and snappy, the flavors of lime flesh and...</td>\n",
       "      <td>NaN</td>\n",
       "      <td>87</td>\n",
       "      <td>14.0</td>\n",
       "      <td>Oregon</td>\n",
       "      <td>Willamette Valley</td>\n",
       "      <td>Willamette Valley</td>\n",
       "      <td>Paul Gregutt</td>\n",
       "      <td>@paulgwine</td>\n",
       "      <td>Rainstorm 2013 Pinot Gris (Willamette Valley)</td>\n",
       "      <td>Pinot Gris</td>\n",
       "      <td>Rainstorm</td>\n",
       "    </tr>\n",
       "    <tr>\n",
       "      <th>3</th>\n",
       "      <td>US</td>\n",
       "      <td>Pineapple rind, lemon pith and orange blossom ...</td>\n",
       "      <td>Reserve Late Harvest</td>\n",
       "      <td>87</td>\n",
       "      <td>13.0</td>\n",
       "      <td>Michigan</td>\n",
       "      <td>Lake Michigan Shore</td>\n",
       "      <td>NaN</td>\n",
       "      <td>Alexander Peartree</td>\n",
       "      <td>NaN</td>\n",
       "      <td>St. Julian 2013 Reserve Late Harvest Riesling ...</td>\n",
       "      <td>Riesling</td>\n",
       "      <td>St. Julian</td>\n",
       "    </tr>\n",
       "    <tr>\n",
       "      <th>4</th>\n",
       "      <td>US</td>\n",
       "      <td>Much like the regular bottling from 2012, this...</td>\n",
       "      <td>Vintner's Reserve Wild Child Block</td>\n",
       "      <td>87</td>\n",
       "      <td>65.0</td>\n",
       "      <td>Oregon</td>\n",
       "      <td>Willamette Valley</td>\n",
       "      <td>Willamette Valley</td>\n",
       "      <td>Paul Gregutt</td>\n",
       "      <td>@paulgwine</td>\n",
       "      <td>Sweet Cheeks 2012 Vintner's Reserve Wild Child...</td>\n",
       "      <td>Pinot Noir</td>\n",
       "      <td>Sweet Cheeks</td>\n",
       "    </tr>\n",
       "  </tbody>\n",
       "</table>\n",
       "</div>"
      ],
      "text/plain": [
       "    country                                        description  \\\n",
       "0     Italy  Aromas include tropical fruit, broom, brimston...   \n",
       "1  Portugal  This is ripe and fruity, a wine that is smooth...   \n",
       "2        US  Tart and snappy, the flavors of lime flesh and...   \n",
       "3        US  Pineapple rind, lemon pith and orange blossom ...   \n",
       "4        US  Much like the regular bottling from 2012, this...   \n",
       "\n",
       "                          designation  points  price           province  \\\n",
       "0                        Vulkà Bianco      87    NaN  Sicily & Sardinia   \n",
       "1                            Avidagos      87   15.0              Douro   \n",
       "2                                 NaN      87   14.0             Oregon   \n",
       "3                Reserve Late Harvest      87   13.0           Michigan   \n",
       "4  Vintner's Reserve Wild Child Block      87   65.0             Oregon   \n",
       "\n",
       "              region_1           region_2         taster_name  \\\n",
       "0                 Etna                NaN       Kerin O’Keefe   \n",
       "1                  NaN                NaN          Roger Voss   \n",
       "2    Willamette Valley  Willamette Valley        Paul Gregutt   \n",
       "3  Lake Michigan Shore                NaN  Alexander Peartree   \n",
       "4    Willamette Valley  Willamette Valley        Paul Gregutt   \n",
       "\n",
       "  taster_twitter_handle                                              title  \\\n",
       "0          @kerinokeefe                  Nicosia 2013 Vulkà Bianco  (Etna)   \n",
       "1            @vossroger      Quinta dos Avidagos 2011 Avidagos Red (Douro)   \n",
       "2           @paulgwine       Rainstorm 2013 Pinot Gris (Willamette Valley)   \n",
       "3                   NaN  St. Julian 2013 Reserve Late Harvest Riesling ...   \n",
       "4           @paulgwine   Sweet Cheeks 2012 Vintner's Reserve Wild Child...   \n",
       "\n",
       "          variety               winery  \n",
       "0     White Blend              Nicosia  \n",
       "1  Portuguese Red  Quinta dos Avidagos  \n",
       "2      Pinot Gris            Rainstorm  \n",
       "3        Riesling           St. Julian  \n",
       "4      Pinot Noir         Sweet Cheeks  "
      ]
     },
     "execution_count": 1,
     "metadata": {},
     "output_type": "execute_result"
    }
   ],
   "source": [
    "import pandas as pd\n",
    "pd.set_option(\"display.max_rows\", 5)\n",
    "reviews = pd.read_csv(\"../input/wine-reviews/winemag-data-130k-v2.csv\", index_col=0)\n",
    "\n",
    "from learntools.core import binder; binder.bind(globals())\n",
    "from learntools.pandas.summary_functions_and_maps import *\n",
    "print(\"Setup complete.\")\n",
    "\n",
    "reviews.head()"
   ]
  },
  {
   "cell_type": "markdown",
   "id": "230cd617",
   "metadata": {
    "papermill": {
     "duration": 0.005067,
     "end_time": "2025-08-29T15:26:13.729470",
     "exception": false,
     "start_time": "2025-08-29T15:26:13.724403",
     "status": "completed"
    },
    "tags": []
   },
   "source": [
    "# Exercises"
   ]
  },
  {
   "cell_type": "markdown",
   "id": "43638696",
   "metadata": {
    "papermill": {
     "duration": 0.004942,
     "end_time": "2025-08-29T15:26:13.739836",
     "exception": false,
     "start_time": "2025-08-29T15:26:13.734894",
     "status": "completed"
    },
    "tags": []
   },
   "source": [
    "## 1.\n",
    "\n",
    "What is the median of the `points` column in the `reviews` DataFrame?"
   ]
  },
  {
   "cell_type": "code",
   "execution_count": 2,
   "id": "89787358",
   "metadata": {
    "execution": {
     "iopub.execute_input": "2025-08-29T15:26:13.751790Z",
     "iopub.status.busy": "2025-08-29T15:26:13.751464Z",
     "iopub.status.idle": "2025-08-29T15:26:13.760197Z",
     "shell.execute_reply": "2025-08-29T15:26:13.759252Z"
    },
    "papermill": {
     "duration": 0.016575,
     "end_time": "2025-08-29T15:26:13.761749",
     "exception": false,
     "start_time": "2025-08-29T15:26:13.745174",
     "status": "completed"
    },
    "tags": []
   },
   "outputs": [
    {
     "data": {
      "application/javascript": [
       "parent.postMessage({\"jupyterEvent\": \"custom.exercise_interaction\", \"data\": {\"outcomeType\": 1, \"valueTowardsCompletion\": 0.14285714285714285, \"interactionType\": 1, \"questionType\": 1, \"questionId\": \"1_MedianPoints\", \"learnToolsVersion\": \"0.3.5\", \"failureMessage\": \"\", \"exceptionClass\": \"\", \"trace\": \"\"}}, \"*\")"
      ],
      "text/plain": [
       "<IPython.core.display.Javascript object>"
      ]
     },
     "metadata": {},
     "output_type": "display_data"
    },
    {
     "data": {
      "text/markdown": [
       "<span style=\"color:#33cc33\">Correct</span>"
      ],
      "text/plain": [
       "Correct"
      ]
     },
     "metadata": {},
     "output_type": "display_data"
    }
   ],
   "source": [
    "median_points = reviews.points.median()\n",
    "\n",
    "# Check your answer\n",
    "q1.check()"
   ]
  },
  {
   "cell_type": "code",
   "execution_count": 3,
   "id": "411355e8",
   "metadata": {
    "execution": {
     "iopub.execute_input": "2025-08-29T15:26:13.775626Z",
     "iopub.status.busy": "2025-08-29T15:26:13.774843Z",
     "iopub.status.idle": "2025-08-29T15:26:13.779003Z",
     "shell.execute_reply": "2025-08-29T15:26:13.777952Z"
    },
    "papermill": {
     "duration": 0.012625,
     "end_time": "2025-08-29T15:26:13.780924",
     "exception": false,
     "start_time": "2025-08-29T15:26:13.768299",
     "status": "completed"
    },
    "tags": []
   },
   "outputs": [],
   "source": [
    "#q1.hint()\n",
    "#q1.solution()"
   ]
  },
  {
   "cell_type": "markdown",
   "id": "18549c64",
   "metadata": {
    "papermill": {
     "duration": 0.005385,
     "end_time": "2025-08-29T15:26:13.792104",
     "exception": false,
     "start_time": "2025-08-29T15:26:13.786719",
     "status": "completed"
    },
    "tags": []
   },
   "source": [
    "## 2. \n",
    "What countries are represented in the dataset? (Your answer should not include any duplicates.)"
   ]
  },
  {
   "cell_type": "code",
   "execution_count": 4,
   "id": "13e871ac",
   "metadata": {
    "execution": {
     "iopub.execute_input": "2025-08-29T15:26:13.804487Z",
     "iopub.status.busy": "2025-08-29T15:26:13.804147Z",
     "iopub.status.idle": "2025-08-29T15:26:13.816469Z",
     "shell.execute_reply": "2025-08-29T15:26:13.815549Z"
    },
    "papermill": {
     "duration": 0.02039,
     "end_time": "2025-08-29T15:26:13.818127",
     "exception": false,
     "start_time": "2025-08-29T15:26:13.797737",
     "status": "completed"
    },
    "tags": []
   },
   "outputs": [
    {
     "data": {
      "application/javascript": [
       "parent.postMessage({\"jupyterEvent\": \"custom.exercise_interaction\", \"data\": {\"outcomeType\": 1, \"valueTowardsCompletion\": 0.14285714285714285, \"interactionType\": 1, \"questionType\": 2, \"questionId\": \"2_UniqueCountries\", \"learnToolsVersion\": \"0.3.5\", \"failureMessage\": \"\", \"exceptionClass\": \"\", \"trace\": \"\"}}, \"*\")"
      ],
      "text/plain": [
       "<IPython.core.display.Javascript object>"
      ]
     },
     "metadata": {},
     "output_type": "display_data"
    },
    {
     "data": {
      "text/markdown": [
       "<span style=\"color:#33cc33\">Correct</span>"
      ],
      "text/plain": [
       "Correct"
      ]
     },
     "metadata": {},
     "output_type": "display_data"
    }
   ],
   "source": [
    "countries = reviews.country.unique()\n",
    "\n",
    "# Check your answer\n",
    "q2.check()"
   ]
  },
  {
   "cell_type": "code",
   "execution_count": 5,
   "id": "e7b1787b",
   "metadata": {
    "execution": {
     "iopub.execute_input": "2025-08-29T15:26:13.831024Z",
     "iopub.status.busy": "2025-08-29T15:26:13.830706Z",
     "iopub.status.idle": "2025-08-29T15:26:13.834941Z",
     "shell.execute_reply": "2025-08-29T15:26:13.834116Z"
    },
    "papermill": {
     "duration": 0.012437,
     "end_time": "2025-08-29T15:26:13.836477",
     "exception": false,
     "start_time": "2025-08-29T15:26:13.824040",
     "status": "completed"
    },
    "tags": []
   },
   "outputs": [],
   "source": [
    "#q2.hint()\n",
    "#q2.solution()"
   ]
  },
  {
   "cell_type": "markdown",
   "id": "54466d47",
   "metadata": {
    "papermill": {
     "duration": 0.005571,
     "end_time": "2025-08-29T15:26:13.848048",
     "exception": false,
     "start_time": "2025-08-29T15:26:13.842477",
     "status": "completed"
    },
    "tags": []
   },
   "source": [
    "## 3.\n",
    "How often does each country appear in the dataset? Create a Series `reviews_per_country` mapping countries to the count of reviews of wines from that country."
   ]
  },
  {
   "cell_type": "code",
   "execution_count": 6,
   "id": "ac561f02",
   "metadata": {
    "execution": {
     "iopub.execute_input": "2025-08-29T15:26:13.861152Z",
     "iopub.status.busy": "2025-08-29T15:26:13.860396Z",
     "iopub.status.idle": "2025-08-29T15:26:13.884171Z",
     "shell.execute_reply": "2025-08-29T15:26:13.883097Z"
    },
    "papermill": {
     "duration": 0.032009,
     "end_time": "2025-08-29T15:26:13.885822",
     "exception": false,
     "start_time": "2025-08-29T15:26:13.853813",
     "status": "completed"
    },
    "tags": []
   },
   "outputs": [
    {
     "data": {
      "application/javascript": [
       "parent.postMessage({\"jupyterEvent\": \"custom.exercise_interaction\", \"data\": {\"outcomeType\": 1, \"valueTowardsCompletion\": 0.14285714285714285, \"interactionType\": 1, \"questionType\": 1, \"questionId\": \"3_ReviewsPerCountry\", \"learnToolsVersion\": \"0.3.5\", \"failureMessage\": \"\", \"exceptionClass\": \"\", \"trace\": \"\"}}, \"*\")"
      ],
      "text/plain": [
       "<IPython.core.display.Javascript object>"
      ]
     },
     "metadata": {},
     "output_type": "display_data"
    },
    {
     "data": {
      "text/markdown": [
       "<span style=\"color:#33cc33\">Correct</span>"
      ],
      "text/plain": [
       "Correct"
      ]
     },
     "metadata": {},
     "output_type": "display_data"
    }
   ],
   "source": [
    "reviews_per_country = reviews.country.value_counts()\n",
    "\n",
    "# Check your answer\n",
    "q3.check()"
   ]
  },
  {
   "cell_type": "code",
   "execution_count": 7,
   "id": "ce73cb60",
   "metadata": {
    "execution": {
     "iopub.execute_input": "2025-08-29T15:26:13.899270Z",
     "iopub.status.busy": "2025-08-29T15:26:13.898972Z",
     "iopub.status.idle": "2025-08-29T15:26:13.903416Z",
     "shell.execute_reply": "2025-08-29T15:26:13.902441Z"
    },
    "papermill": {
     "duration": 0.013225,
     "end_time": "2025-08-29T15:26:13.905299",
     "exception": false,
     "start_time": "2025-08-29T15:26:13.892074",
     "status": "completed"
    },
    "tags": []
   },
   "outputs": [],
   "source": [
    "#q3.hint()\n",
    "#q3.solution()"
   ]
  },
  {
   "cell_type": "markdown",
   "id": "901207b8",
   "metadata": {
    "papermill": {
     "duration": 0.005982,
     "end_time": "2025-08-29T15:26:13.917503",
     "exception": false,
     "start_time": "2025-08-29T15:26:13.911521",
     "status": "completed"
    },
    "tags": []
   },
   "source": [
    "## 4.\n",
    "Create variable `centered_price` containing a version of the `price` column with the mean price subtracted.\n",
    "\n",
    "(Note: this 'centering' transformation is a common preprocessing step before applying various machine learning algorithms.) "
   ]
  },
  {
   "cell_type": "code",
   "execution_count": 8,
   "id": "e5897919",
   "metadata": {
    "execution": {
     "iopub.execute_input": "2025-08-29T15:26:13.930980Z",
     "iopub.status.busy": "2025-08-29T15:26:13.930617Z",
     "iopub.status.idle": "2025-08-29T15:26:13.994243Z",
     "shell.execute_reply": "2025-08-29T15:26:13.993318Z"
    },
    "papermill": {
     "duration": 0.072276,
     "end_time": "2025-08-29T15:26:13.995883",
     "exception": false,
     "start_time": "2025-08-29T15:26:13.923607",
     "status": "completed"
    },
    "tags": []
   },
   "outputs": [
    {
     "data": {
      "application/javascript": [
       "parent.postMessage({\"jupyterEvent\": \"custom.exercise_interaction\", \"data\": {\"outcomeType\": 1, \"valueTowardsCompletion\": 0.14285714285714285, \"interactionType\": 1, \"questionType\": 1, \"questionId\": \"4_CenteredPrice\", \"learnToolsVersion\": \"0.3.5\", \"failureMessage\": \"\", \"exceptionClass\": \"\", \"trace\": \"\"}}, \"*\")"
      ],
      "text/plain": [
       "<IPython.core.display.Javascript object>"
      ]
     },
     "metadata": {},
     "output_type": "display_data"
    },
    {
     "data": {
      "text/markdown": [
       "<span style=\"color:#33cc33\">Correct</span>"
      ],
      "text/plain": [
       "Correct"
      ]
     },
     "metadata": {},
     "output_type": "display_data"
    }
   ],
   "source": [
    "mean = reviews.price.mean()\n",
    "centered_price = reviews.price.map(lambda p: p - mean)\n",
    "\n",
    "# Check your answer\n",
    "q4.check()"
   ]
  },
  {
   "cell_type": "code",
   "execution_count": 9,
   "id": "0b070e72",
   "metadata": {
    "execution": {
     "iopub.execute_input": "2025-08-29T15:26:14.009560Z",
     "iopub.status.busy": "2025-08-29T15:26:14.009272Z",
     "iopub.status.idle": "2025-08-29T15:26:14.013683Z",
     "shell.execute_reply": "2025-08-29T15:26:14.012840Z"
    },
    "papermill": {
     "duration": 0.012996,
     "end_time": "2025-08-29T15:26:14.015192",
     "exception": false,
     "start_time": "2025-08-29T15:26:14.002196",
     "status": "completed"
    },
    "tags": []
   },
   "outputs": [],
   "source": [
    "#q4.hint()\n",
    "#q4.solution()"
   ]
  },
  {
   "cell_type": "markdown",
   "id": "84c1119b",
   "metadata": {
    "papermill": {
     "duration": 0.005933,
     "end_time": "2025-08-29T15:26:14.027355",
     "exception": false,
     "start_time": "2025-08-29T15:26:14.021422",
     "status": "completed"
    },
    "tags": []
   },
   "source": [
    "## 5.\n",
    "I'm an economical wine buyer. Which wine is the \"best bargain\"? Create a variable `bargain_wine` with the title of the wine with the highest points-to-price ratio in the dataset."
   ]
  },
  {
   "cell_type": "code",
   "execution_count": 10,
   "id": "5fdff343",
   "metadata": {
    "execution": {
     "iopub.execute_input": "2025-08-29T15:26:14.040809Z",
     "iopub.status.busy": "2025-08-29T15:26:14.040465Z",
     "iopub.status.idle": "2025-08-29T15:26:14.084958Z",
     "shell.execute_reply": "2025-08-29T15:26:14.084102Z"
    },
    "papermill": {
     "duration": 0.053007,
     "end_time": "2025-08-29T15:26:14.086509",
     "exception": false,
     "start_time": "2025-08-29T15:26:14.033502",
     "status": "completed"
    },
    "tags": []
   },
   "outputs": [
    {
     "data": {
      "application/javascript": [
       "parent.postMessage({\"jupyterEvent\": \"custom.exercise_interaction\", \"data\": {\"outcomeType\": 1, \"valueTowardsCompletion\": 0.14285714285714285, \"interactionType\": 1, \"questionType\": 2, \"questionId\": \"5_BargainWine\", \"learnToolsVersion\": \"0.3.5\", \"failureMessage\": \"\", \"exceptionClass\": \"\", \"trace\": \"\"}}, \"*\")"
      ],
      "text/plain": [
       "<IPython.core.display.Javascript object>"
      ]
     },
     "metadata": {},
     "output_type": "display_data"
    },
    {
     "data": {
      "text/markdown": [
       "<span style=\"color:#33cc33\">Correct</span>"
      ],
      "text/plain": [
       "Correct"
      ]
     },
     "metadata": {},
     "output_type": "display_data"
    }
   ],
   "source": [
    "idx = (reviews.points/reviews.price).idxmax()\n",
    "bargain_wine = reviews.loc[idx, 'title']\n",
    "\n",
    "# Check your answer\n",
    "q5.check()"
   ]
  },
  {
   "cell_type": "code",
   "execution_count": 11,
   "id": "56fb8dcb",
   "metadata": {
    "execution": {
     "iopub.execute_input": "2025-08-29T15:26:14.101086Z",
     "iopub.status.busy": "2025-08-29T15:26:14.100342Z",
     "iopub.status.idle": "2025-08-29T15:26:14.104724Z",
     "shell.execute_reply": "2025-08-29T15:26:14.103718Z"
    },
    "papermill": {
     "duration": 0.013315,
     "end_time": "2025-08-29T15:26:14.106295",
     "exception": false,
     "start_time": "2025-08-29T15:26:14.092980",
     "status": "completed"
    },
    "tags": []
   },
   "outputs": [],
   "source": [
    "# q5.hint()\n",
    "# q5.solution()"
   ]
  },
  {
   "cell_type": "markdown",
   "id": "85cb0637",
   "metadata": {
    "papermill": {
     "duration": 0.006036,
     "end_time": "2025-08-29T15:26:14.118887",
     "exception": false,
     "start_time": "2025-08-29T15:26:14.112851",
     "status": "completed"
    },
    "tags": []
   },
   "source": [
    "## 6.\n",
    "There are only so many words you can use when describing a bottle of wine. Is a wine more likely to be \"tropical\" or \"fruity\"? Create a Series `descriptor_counts` counting how many times each of these two words appears in the `description` column in the dataset. (For simplicity, let's ignore the capitalized versions of these words.)"
   ]
  },
  {
   "cell_type": "code",
   "execution_count": 12,
   "id": "59dbceb9",
   "metadata": {
    "execution": {
     "iopub.execute_input": "2025-08-29T15:26:14.133474Z",
     "iopub.status.busy": "2025-08-29T15:26:14.132587Z",
     "iopub.status.idle": "2025-08-29T15:26:14.278890Z",
     "shell.execute_reply": "2025-08-29T15:26:14.277787Z"
    },
    "papermill": {
     "duration": 0.155116,
     "end_time": "2025-08-29T15:26:14.280364",
     "exception": false,
     "start_time": "2025-08-29T15:26:14.125248",
     "status": "completed"
    },
    "tags": []
   },
   "outputs": [
    {
     "data": {
      "application/javascript": [
       "parent.postMessage({\"jupyterEvent\": \"custom.exercise_interaction\", \"data\": {\"outcomeType\": 1, \"valueTowardsCompletion\": 0.14285714285714285, \"interactionType\": 1, \"questionType\": 1, \"questionId\": \"6_DescriptorCounts\", \"learnToolsVersion\": \"0.3.5\", \"failureMessage\": \"\", \"exceptionClass\": \"\", \"trace\": \"\"}}, \"*\")"
      ],
      "text/plain": [
       "<IPython.core.display.Javascript object>"
      ]
     },
     "metadata": {},
     "output_type": "display_data"
    },
    {
     "data": {
      "text/markdown": [
       "<span style=\"color:#33cc33\">Correct</span>"
      ],
      "text/plain": [
       "Correct"
      ]
     },
     "metadata": {},
     "output_type": "display_data"
    },
    {
     "data": {
      "text/plain": [
       "tropical    3607\n",
       "fruity      9090\n",
       "dtype: int64"
      ]
     },
     "execution_count": 12,
     "metadata": {},
     "output_type": "execute_result"
    }
   ],
   "source": [
    "n_trop = reviews.description.map(lambda desc: \"tropical\" in desc).sum()\n",
    "n_fruity = reviews.description.map(lambda desc: \"fruity\" in desc).sum()\n",
    "descriptor_counts = pd.Series([n_trop, n_fruity], index=['tropical', 'fruity'])\n",
    "\n",
    "# Check your answer\n",
    "q6.check()\n",
    "descriptor_counts"
   ]
  },
  {
   "cell_type": "code",
   "execution_count": 13,
   "id": "af34e0f9",
   "metadata": {
    "execution": {
     "iopub.execute_input": "2025-08-29T15:26:14.295756Z",
     "iopub.status.busy": "2025-08-29T15:26:14.294747Z",
     "iopub.status.idle": "2025-08-29T15:26:14.299123Z",
     "shell.execute_reply": "2025-08-29T15:26:14.298145Z"
    },
    "papermill": {
     "duration": 0.013792,
     "end_time": "2025-08-29T15:26:14.300955",
     "exception": false,
     "start_time": "2025-08-29T15:26:14.287163",
     "status": "completed"
    },
    "tags": []
   },
   "outputs": [],
   "source": [
    "# q6.hint()\n",
    "# q6.solution()"
   ]
  },
  {
   "cell_type": "markdown",
   "id": "2f158d6c",
   "metadata": {
    "papermill": {
     "duration": 0.006314,
     "end_time": "2025-08-29T15:26:14.314088",
     "exception": false,
     "start_time": "2025-08-29T15:26:14.307774",
     "status": "completed"
    },
    "tags": []
   },
   "source": [
    "## 7.\n",
    "We'd like to host these wine reviews on our website, but a rating system ranging from 80 to 100 points is too hard to understand - we'd like to translate them into simple star ratings. A score of 95 or higher counts as 3 stars, a score of at least 85 but less than 95 is 2 stars. Any other score is 1 star.\n",
    "\n",
    "Also, the Canadian Vintners Association bought a lot of ads on the site, so any wines from Canada should automatically get 3 stars, regardless of points.\n",
    "\n",
    "Create a series `star_ratings` with the number of stars corresponding to each review in the dataset."
   ]
  },
  {
   "cell_type": "code",
   "execution_count": 14,
   "id": "1db7a815",
   "metadata": {
    "execution": {
     "iopub.execute_input": "2025-08-29T15:26:14.328250Z",
     "iopub.status.busy": "2025-08-29T15:26:14.327957Z",
     "iopub.status.idle": "2025-08-29T15:26:16.830033Z",
     "shell.execute_reply": "2025-08-29T15:26:16.829133Z"
    },
    "papermill": {
     "duration": 2.511167,
     "end_time": "2025-08-29T15:26:16.831791",
     "exception": false,
     "start_time": "2025-08-29T15:26:14.320624",
     "status": "completed"
    },
    "tags": []
   },
   "outputs": [
    {
     "data": {
      "application/javascript": [
       "parent.postMessage({\"jupyterEvent\": \"custom.exercise_interaction\", \"data\": {\"outcomeType\": 1, \"valueTowardsCompletion\": 0.14285714285714285, \"interactionType\": 1, \"questionType\": 1, \"questionId\": \"7_StarRatings\", \"learnToolsVersion\": \"0.3.5\", \"failureMessage\": \"\", \"exceptionClass\": \"\", \"trace\": \"\"}}, \"*\")"
      ],
      "text/plain": [
       "<IPython.core.display.Javascript object>"
      ]
     },
     "metadata": {},
     "output_type": "display_data"
    },
    {
     "data": {
      "text/markdown": [
       "<span style=\"color:#33cc33\">Correct</span>"
      ],
      "text/plain": [
       "Correct"
      ]
     },
     "metadata": {},
     "output_type": "display_data"
    }
   ],
   "source": [
    "def stars(row):\n",
    "    if row.country == 'Canada':\n",
    "        return 3\n",
    "    elif row.points >= 95:\n",
    "        return 3\n",
    "    elif row.points >= 85:\n",
    "        return 2\n",
    "    else:\n",
    "        return 1\n",
    "    \n",
    "star_ratings = reviews.apply(stars, axis='columns')\n",
    "\n",
    "# Check your answer\n",
    "q7.check()"
   ]
  },
  {
   "cell_type": "code",
   "execution_count": 15,
   "id": "c48264d8",
   "metadata": {
    "execution": {
     "iopub.execute_input": "2025-08-29T15:26:16.846806Z",
     "iopub.status.busy": "2025-08-29T15:26:16.846521Z",
     "iopub.status.idle": "2025-08-29T15:26:16.850619Z",
     "shell.execute_reply": "2025-08-29T15:26:16.849628Z"
    },
    "papermill": {
     "duration": 0.013538,
     "end_time": "2025-08-29T15:26:16.852276",
     "exception": false,
     "start_time": "2025-08-29T15:26:16.838738",
     "status": "completed"
    },
    "tags": []
   },
   "outputs": [],
   "source": [
    "#q7.hint()\n",
    "#q7.solution()"
   ]
  },
  {
   "cell_type": "markdown",
   "id": "2aba75aa",
   "metadata": {
    "papermill": {
     "duration": 0.00646,
     "end_time": "2025-08-29T15:26:16.865711",
     "exception": false,
     "start_time": "2025-08-29T15:26:16.859251",
     "status": "completed"
    },
    "tags": []
   },
   "source": [
    "# Keep going\n",
    "Continue to **[grouping and sorting](https://www.kaggle.com/residentmario/grouping-and-sorting)**."
   ]
  },
  {
   "cell_type": "markdown",
   "id": "e0cdbfa9",
   "metadata": {
    "papermill": {
     "duration": 0.00647,
     "end_time": "2025-08-29T15:26:16.879051",
     "exception": false,
     "start_time": "2025-08-29T15:26:16.872581",
     "status": "completed"
    },
    "tags": []
   },
   "source": [
    "---\n",
    "\n",
    "\n",
    "\n",
    "\n",
    "*Have questions or comments? Visit the [course discussion forum](https://www.kaggle.com/learn/pandas/discussion) to chat with other learners.*"
   ]
  }
 ],
 "metadata": {
  "kaggle": {
   "accelerator": "none",
   "dataSources": [
    {
     "datasetId": 655,
     "sourceId": 1252,
     "sourceType": "datasetVersion"
    },
    {
     "datasetId": 2321,
     "sourceId": 3919,
     "sourceType": "datasetVersion"
    },
    {
     "datasetId": 2894,
     "sourceId": 4877,
     "sourceType": "datasetVersion"
    },
    {
     "datasetId": 3491,
     "sourceId": 5624,
     "sourceType": "datasetVersion"
    },
    {
     "datasetId": 1442,
     "sourceId": 8172,
     "sourceType": "datasetVersion"
    },
    {
     "datasetId": 9366,
     "sourceId": 13206,
     "sourceType": "datasetVersion"
    },
    {
     "datasetId": 179555,
     "sourceId": 403916,
     "sourceType": "datasetVersion"
    },
    {
     "datasetId": 4549,
     "sourceId": 466349,
     "sourceType": "datasetVersion"
    },
    {
     "datasetId": 2478,
     "sourceId": 1151655,
     "sourceType": "datasetVersion"
    },
    {
     "datasetId": 10128,
     "sourceId": 5438389,
     "sourceType": "datasetVersion"
    }
   ],
   "isGpuEnabled": false,
   "isInternetEnabled": false,
   "language": "python",
   "sourceType": "notebook"
  },
  "kernelspec": {
   "display_name": "Python 3",
   "language": "python",
   "name": "python3"
  },
  "language_info": {
   "codemirror_mode": {
    "name": "ipython",
    "version": 3
   },
   "file_extension": ".py",
   "mimetype": "text/x-python",
   "name": "python",
   "nbconvert_exporter": "python",
   "pygments_lexer": "ipython3",
   "version": "3.11.13"
  },
  "papermill": {
   "default_parameters": {},
   "duration": 18.408555,
   "end_time": "2025-08-29T15:26:17.406665",
   "environment_variables": {},
   "exception": null,
   "input_path": "__notebook__.ipynb",
   "output_path": "__notebook__.ipynb",
   "parameters": {},
   "start_time": "2025-08-29T15:25:58.998110",
   "version": "2.6.0"
  }
 },
 "nbformat": 4,
 "nbformat_minor": 5
}
