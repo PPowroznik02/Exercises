{
 "cells": [
  {
   "cell_type": "markdown",
   "id": "93e2d34e",
   "metadata": {
    "papermill": {
     "duration": 0.00458,
     "end_time": "2025-09-01T07:22:33.146406",
     "exception": false,
     "start_time": "2025-09-01T07:22:33.141826",
     "status": "completed"
    },
    "tags": []
   },
   "source": [
    "**This notebook is an exercise in the [Introduction to Machine Learning](https://www.kaggle.com/learn/intro-to-machine-learning) course.  You can reference the tutorial at [this link](https://www.kaggle.com/dansbecker/your-first-machine-learning-model).**\n",
    "\n",
    "---\n"
   ]
  },
  {
   "cell_type": "markdown",
   "id": "bdc55e17",
   "metadata": {
    "papermill": {
     "duration": 0.003396,
     "end_time": "2025-09-01T07:22:33.153606",
     "exception": false,
     "start_time": "2025-09-01T07:22:33.150210",
     "status": "completed"
    },
    "tags": []
   },
   "source": [
    "## Recap\n",
    "So far, you have loaded your data and reviewed it with the following code. Run this cell to set up your coding environment where the previous step left off."
   ]
  },
  {
   "cell_type": "code",
   "execution_count": 1,
   "id": "a74b234c",
   "metadata": {
    "execution": {
     "iopub.execute_input": "2025-09-01T07:22:33.162910Z",
     "iopub.status.busy": "2025-09-01T07:22:33.162594Z",
     "iopub.status.idle": "2025-09-01T07:22:36.984524Z",
     "shell.execute_reply": "2025-09-01T07:22:36.983412Z"
    },
    "papermill": {
     "duration": 3.828404,
     "end_time": "2025-09-01T07:22:36.986222",
     "exception": false,
     "start_time": "2025-09-01T07:22:33.157818",
     "status": "completed"
    },
    "tags": []
   },
   "outputs": [
    {
     "name": "stdout",
     "output_type": "stream",
     "text": [
      "Setup Complete\n"
     ]
    }
   ],
   "source": [
    "# Code you have previously used to load data\n",
    "import pandas as pd\n",
    "\n",
    "# Path of the file to read\n",
    "iowa_file_path = '../input/home-data-for-ml-course/train.csv'\n",
    "\n",
    "home_data = pd.read_csv(iowa_file_path)\n",
    "\n",
    "# Set up code checking\n",
    "from learntools.core import binder\n",
    "binder.bind(globals())\n",
    "from learntools.machine_learning.ex3 import *\n",
    "\n",
    "print(\"Setup Complete\")"
   ]
  },
  {
   "cell_type": "markdown",
   "id": "e6ca0133",
   "metadata": {
    "papermill": {
     "duration": 0.003433,
     "end_time": "2025-09-01T07:22:36.993813",
     "exception": false,
     "start_time": "2025-09-01T07:22:36.990380",
     "status": "completed"
    },
    "tags": []
   },
   "source": [
    "# Exercises\n",
    "\n",
    "## Step 1: Specify Prediction Target\n",
    "Select the target variable, which corresponds to the sales price. Save this to a new variable called `y`. You'll need to print a list of the columns to find the name of the column you need.\n"
   ]
  },
  {
   "cell_type": "code",
   "execution_count": 2,
   "id": "3f9d3ff8",
   "metadata": {
    "execution": {
     "iopub.execute_input": "2025-09-01T07:22:37.002674Z",
     "iopub.status.busy": "2025-09-01T07:22:37.002190Z",
     "iopub.status.idle": "2025-09-01T07:22:37.009950Z",
     "shell.execute_reply": "2025-09-01T07:22:37.008760Z"
    },
    "papermill": {
     "duration": 0.01405,
     "end_time": "2025-09-01T07:22:37.011673",
     "exception": false,
     "start_time": "2025-09-01T07:22:36.997623",
     "status": "completed"
    },
    "tags": []
   },
   "outputs": [
    {
     "name": "stdout",
     "output_type": "stream",
     "text": [
      "Index(['Id', 'MSSubClass', 'MSZoning', 'LotFrontage', 'LotArea', 'Street',\n",
      "       'Alley', 'LotShape', 'LandContour', 'Utilities', 'LotConfig',\n",
      "       'LandSlope', 'Neighborhood', 'Condition1', 'Condition2', 'BldgType',\n",
      "       'HouseStyle', 'OverallQual', 'OverallCond', 'YearBuilt', 'YearRemodAdd',\n",
      "       'RoofStyle', 'RoofMatl', 'Exterior1st', 'Exterior2nd', 'MasVnrType',\n",
      "       'MasVnrArea', 'ExterQual', 'ExterCond', 'Foundation', 'BsmtQual',\n",
      "       'BsmtCond', 'BsmtExposure', 'BsmtFinType1', 'BsmtFinSF1',\n",
      "       'BsmtFinType2', 'BsmtFinSF2', 'BsmtUnfSF', 'TotalBsmtSF', 'Heating',\n",
      "       'HeatingQC', 'CentralAir', 'Electrical', '1stFlrSF', '2ndFlrSF',\n",
      "       'LowQualFinSF', 'GrLivArea', 'BsmtFullBath', 'BsmtHalfBath', 'FullBath',\n",
      "       'HalfBath', 'BedroomAbvGr', 'KitchenAbvGr', 'KitchenQual',\n",
      "       'TotRmsAbvGrd', 'Functional', 'Fireplaces', 'FireplaceQu', 'GarageType',\n",
      "       'GarageYrBlt', 'GarageFinish', 'GarageCars', 'GarageArea', 'GarageQual',\n",
      "       'GarageCond', 'PavedDrive', 'WoodDeckSF', 'OpenPorchSF',\n",
      "       'EnclosedPorch', '3SsnPorch', 'ScreenPorch', 'PoolArea', 'PoolQC',\n",
      "       'Fence', 'MiscFeature', 'MiscVal', 'MoSold', 'YrSold', 'SaleType',\n",
      "       'SaleCondition', 'SalePrice'],\n",
      "      dtype='object')\n"
     ]
    }
   ],
   "source": [
    "# print the list of columns in the dataset to find the name of the prediction target\n",
    "print(home_data.columns)"
   ]
  },
  {
   "cell_type": "code",
   "execution_count": 3,
   "id": "7948c47c",
   "metadata": {
    "execution": {
     "iopub.execute_input": "2025-09-01T07:22:37.020609Z",
     "iopub.status.busy": "2025-09-01T07:22:37.020275Z",
     "iopub.status.idle": "2025-09-01T07:22:37.032352Z",
     "shell.execute_reply": "2025-09-01T07:22:37.031515Z"
    },
    "papermill": {
     "duration": 0.018136,
     "end_time": "2025-09-01T07:22:37.033699",
     "exception": false,
     "start_time": "2025-09-01T07:22:37.015563",
     "status": "completed"
    },
    "tags": []
   },
   "outputs": [
    {
     "data": {
      "application/javascript": [
       "parent.postMessage({\"jupyterEvent\": \"custom.exercise_interaction\", \"data\": {\"outcomeType\": 1, \"valueTowardsCompletion\": 0.25, \"interactionType\": 1, \"questionType\": 2, \"questionId\": \"1_SetTarget\", \"learnToolsVersion\": \"0.3.5\", \"failureMessage\": \"\", \"exceptionClass\": \"\", \"trace\": \"\"}}, \"*\")"
      ],
      "text/plain": [
       "<IPython.core.display.Javascript object>"
      ]
     },
     "metadata": {},
     "output_type": "display_data"
    },
    {
     "data": {
      "text/markdown": [
       "<span style=\"color:#33cc33\">Correct</span>"
      ],
      "text/plain": [
       "Correct"
      ]
     },
     "metadata": {},
     "output_type": "display_data"
    }
   ],
   "source": [
    "y = home_data.SalePrice\n",
    "\n",
    "# Check your answer\n",
    "step_1.check()"
   ]
  },
  {
   "cell_type": "code",
   "execution_count": 4,
   "id": "58a66715",
   "metadata": {
    "collapsed": true,
    "execution": {
     "iopub.execute_input": "2025-09-01T07:22:37.042982Z",
     "iopub.status.busy": "2025-09-01T07:22:37.042665Z",
     "iopub.status.idle": "2025-09-01T07:22:37.046877Z",
     "shell.execute_reply": "2025-09-01T07:22:37.045940Z"
    },
    "jupyter": {
     "outputs_hidden": true
    },
    "papermill": {
     "duration": 0.010756,
     "end_time": "2025-09-01T07:22:37.048598",
     "exception": false,
     "start_time": "2025-09-01T07:22:37.037842",
     "status": "completed"
    },
    "tags": []
   },
   "outputs": [],
   "source": [
    "# The lines below will show you a hint or the solution.\n",
    "# step_1.hint() \n",
    "# step_1.solution()"
   ]
  },
  {
   "cell_type": "markdown",
   "id": "8d4a1c27",
   "metadata": {
    "papermill": {
     "duration": 0.003543,
     "end_time": "2025-09-01T07:22:37.056197",
     "exception": false,
     "start_time": "2025-09-01T07:22:37.052654",
     "status": "completed"
    },
    "tags": []
   },
   "source": [
    "## Step 2: Create X\n",
    "Now you will create a DataFrame called `X` holding the predictive features.\n",
    "\n",
    "Since you want only some columns from the original data, you'll first create a list with the names of the columns you want in `X`.\n",
    "\n",
    "You'll use just the following columns in the list (you can copy and paste the whole list to save some typing, though you'll still need to add quotes):\n",
    "  * LotArea\n",
    "  * YearBuilt\n",
    "  * 1stFlrSF\n",
    "  * 2ndFlrSF\n",
    "  * FullBath\n",
    "  * BedroomAbvGr\n",
    "  * TotRmsAbvGrd\n",
    "\n",
    "After you've created that list of features, use it to create the DataFrame that you'll use to fit the model."
   ]
  },
  {
   "cell_type": "code",
   "execution_count": 5,
   "id": "5add7f59",
   "metadata": {
    "execution": {
     "iopub.execute_input": "2025-09-01T07:22:37.066671Z",
     "iopub.status.busy": "2025-09-01T07:22:37.066360Z",
     "iopub.status.idle": "2025-09-01T07:22:37.077879Z",
     "shell.execute_reply": "2025-09-01T07:22:37.076836Z"
    },
    "papermill": {
     "duration": 0.017857,
     "end_time": "2025-09-01T07:22:37.079302",
     "exception": false,
     "start_time": "2025-09-01T07:22:37.061445",
     "status": "completed"
    },
    "tags": []
   },
   "outputs": [
    {
     "data": {
      "application/javascript": [
       "parent.postMessage({\"jupyterEvent\": \"custom.exercise_interaction\", \"data\": {\"outcomeType\": 1, \"valueTowardsCompletion\": 0.25, \"interactionType\": 1, \"questionType\": 2, \"questionId\": \"2_SelectPredictionData\", \"learnToolsVersion\": \"0.3.5\", \"failureMessage\": \"\", \"exceptionClass\": \"\", \"trace\": \"\"}}, \"*\")"
      ],
      "text/plain": [
       "<IPython.core.display.Javascript object>"
      ]
     },
     "metadata": {},
     "output_type": "display_data"
    },
    {
     "data": {
      "text/markdown": [
       "<span style=\"color:#33cc33\">Correct</span>"
      ],
      "text/plain": [
       "Correct"
      ]
     },
     "metadata": {},
     "output_type": "display_data"
    }
   ],
   "source": [
    "# Create the list of features below\n",
    "feature_names = ['LotArea', 'YearBuilt', '1stFlrSF', '2ndFlrSF', 'FullBath', 'BedroomAbvGr', 'TotRmsAbvGrd']\n",
    "\n",
    "# Select data corresponding to features in feature_names\n",
    "X = home_data[feature_names]\n",
    "\n",
    "# Check your answer\n",
    "step_2.check()"
   ]
  },
  {
   "cell_type": "code",
   "execution_count": 6,
   "id": "327f16dd",
   "metadata": {
    "collapsed": true,
    "execution": {
     "iopub.execute_input": "2025-09-01T07:22:37.088787Z",
     "iopub.status.busy": "2025-09-01T07:22:37.088478Z",
     "iopub.status.idle": "2025-09-01T07:22:37.092836Z",
     "shell.execute_reply": "2025-09-01T07:22:37.091793Z"
    },
    "jupyter": {
     "outputs_hidden": true
    },
    "papermill": {
     "duration": 0.010904,
     "end_time": "2025-09-01T07:22:37.094394",
     "exception": false,
     "start_time": "2025-09-01T07:22:37.083490",
     "status": "completed"
    },
    "tags": []
   },
   "outputs": [],
   "source": [
    "# step_2.hint()\n",
    "# step_2.solution()"
   ]
  },
  {
   "cell_type": "markdown",
   "id": "0cf399f8",
   "metadata": {
    "papermill": {
     "duration": 0.00374,
     "end_time": "2025-09-01T07:22:37.102313",
     "exception": false,
     "start_time": "2025-09-01T07:22:37.098573",
     "status": "completed"
    },
    "tags": []
   },
   "source": [
    "## Review Data\n",
    "Before building a model, take a quick look at **X** to verify it looks sensible"
   ]
  },
  {
   "cell_type": "code",
   "execution_count": 7,
   "id": "ac6d2e94",
   "metadata": {
    "execution": {
     "iopub.execute_input": "2025-09-01T07:22:37.111613Z",
     "iopub.status.busy": "2025-09-01T07:22:37.111280Z",
     "iopub.status.idle": "2025-09-01T07:22:37.146874Z",
     "shell.execute_reply": "2025-09-01T07:22:37.145857Z"
    },
    "papermill": {
     "duration": 0.042143,
     "end_time": "2025-09-01T07:22:37.148431",
     "exception": false,
     "start_time": "2025-09-01T07:22:37.106288",
     "status": "completed"
    },
    "tags": []
   },
   "outputs": [
    {
     "name": "stdout",
     "output_type": "stream",
     "text": [
      "             LotArea    YearBuilt     1stFlrSF     2ndFlrSF     FullBath  \\\n",
      "count    1460.000000  1460.000000  1460.000000  1460.000000  1460.000000   \n",
      "mean    10516.828082  1971.267808  1162.626712   346.992466     1.565068   \n",
      "std      9981.264932    30.202904   386.587738   436.528436     0.550916   \n",
      "min      1300.000000  1872.000000   334.000000     0.000000     0.000000   \n",
      "25%      7553.500000  1954.000000   882.000000     0.000000     1.000000   \n",
      "50%      9478.500000  1973.000000  1087.000000     0.000000     2.000000   \n",
      "75%     11601.500000  2000.000000  1391.250000   728.000000     2.000000   \n",
      "max    215245.000000  2010.000000  4692.000000  2065.000000     3.000000   \n",
      "\n",
      "       BedroomAbvGr  TotRmsAbvGrd  \n",
      "count   1460.000000   1460.000000  \n",
      "mean       2.866438      6.517808  \n",
      "std        0.815778      1.625393  \n",
      "min        0.000000      2.000000  \n",
      "25%        2.000000      5.000000  \n",
      "50%        3.000000      6.000000  \n",
      "75%        3.000000      7.000000  \n",
      "max        8.000000     14.000000  \n",
      "   LotArea  YearBuilt  1stFlrSF  2ndFlrSF  FullBath  BedroomAbvGr  \\\n",
      "0     8450       2003       856       854         2             3   \n",
      "1     9600       1976      1262         0         2             3   \n",
      "2    11250       2001       920       866         2             3   \n",
      "3     9550       1915       961       756         1             3   \n",
      "4    14260       2000      1145      1053         2             4   \n",
      "\n",
      "   TotRmsAbvGrd  \n",
      "0             8  \n",
      "1             6  \n",
      "2             6  \n",
      "3             7  \n",
      "4             9  \n"
     ]
    }
   ],
   "source": [
    "# Review data\n",
    "# print description or statistics from X\n",
    "print(X.describe())\n",
    "\n",
    "# print the top few lines\n",
    "print(X.head())"
   ]
  },
  {
   "cell_type": "markdown",
   "id": "17031274",
   "metadata": {
    "papermill": {
     "duration": 0.003913,
     "end_time": "2025-09-01T07:22:37.156559",
     "exception": false,
     "start_time": "2025-09-01T07:22:37.152646",
     "status": "completed"
    },
    "tags": []
   },
   "source": [
    "## Step 3: Specify and Fit Model\n",
    "Create a `DecisionTreeRegressor` and save it iowa_model. Ensure you've done the relevant import from sklearn to run this command.\n",
    "\n",
    "Then fit the model you just created using the data in `X` and `y` that you saved above."
   ]
  },
  {
   "cell_type": "code",
   "execution_count": 8,
   "id": "0ce62968",
   "metadata": {
    "execution": {
     "iopub.execute_input": "2025-09-01T07:22:37.166487Z",
     "iopub.status.busy": "2025-09-01T07:22:37.165669Z",
     "iopub.status.idle": "2025-09-01T07:22:37.182090Z",
     "shell.execute_reply": "2025-09-01T07:22:37.181165Z"
    },
    "papermill": {
     "duration": 0.022848,
     "end_time": "2025-09-01T07:22:37.183460",
     "exception": false,
     "start_time": "2025-09-01T07:22:37.160612",
     "status": "completed"
    },
    "tags": []
   },
   "outputs": [
    {
     "data": {
      "application/javascript": [
       "parent.postMessage({\"jupyterEvent\": \"custom.exercise_interaction\", \"data\": {\"outcomeType\": 1, \"valueTowardsCompletion\": 0.25, \"interactionType\": 1, \"questionType\": 2, \"questionId\": \"3_CreateModel\", \"learnToolsVersion\": \"0.3.5\", \"failureMessage\": \"\", \"exceptionClass\": \"\", \"trace\": \"\"}}, \"*\")"
      ],
      "text/plain": [
       "<IPython.core.display.Javascript object>"
      ]
     },
     "metadata": {},
     "output_type": "display_data"
    },
    {
     "data": {
      "text/markdown": [
       "<span style=\"color:#33cc33\">Correct</span>"
      ],
      "text/plain": [
       "Correct"
      ]
     },
     "metadata": {},
     "output_type": "display_data"
    }
   ],
   "source": [
    "from sklearn.tree import DecisionTreeRegressor\n",
    "#specify the model. \n",
    "#For model reproducibility, set a numeric value for random_state when specifying the model\n",
    "iowa_model = DecisionTreeRegressor(random_state=1)\n",
    "\n",
    "# Fit the model\n",
    "iowa_model.fit(X, y)\n",
    "\n",
    "# Check your answer\n",
    "step_3.check()"
   ]
  },
  {
   "cell_type": "code",
   "execution_count": 9,
   "id": "eaa334fa",
   "metadata": {
    "collapsed": true,
    "execution": {
     "iopub.execute_input": "2025-09-01T07:22:37.194272Z",
     "iopub.status.busy": "2025-09-01T07:22:37.193471Z",
     "iopub.status.idle": "2025-09-01T07:22:37.197703Z",
     "shell.execute_reply": "2025-09-01T07:22:37.196577Z"
    },
    "jupyter": {
     "outputs_hidden": true
    },
    "papermill": {
     "duration": 0.011269,
     "end_time": "2025-09-01T07:22:37.199386",
     "exception": false,
     "start_time": "2025-09-01T07:22:37.188117",
     "status": "completed"
    },
    "tags": []
   },
   "outputs": [],
   "source": [
    "# step_3.hint()\n",
    "# step_3.solution()"
   ]
  },
  {
   "cell_type": "markdown",
   "id": "8f264904",
   "metadata": {
    "papermill": {
     "duration": 0.004139,
     "end_time": "2025-09-01T07:22:37.208206",
     "exception": false,
     "start_time": "2025-09-01T07:22:37.204067",
     "status": "completed"
    },
    "tags": []
   },
   "source": [
    "## Step 4: Make Predictions\n",
    "Make predictions with the model's `predict` command using `X` as the data. Save the results to a variable called `predictions`."
   ]
  },
  {
   "cell_type": "code",
   "execution_count": 10,
   "id": "46d234e3",
   "metadata": {
    "execution": {
     "iopub.execute_input": "2025-09-01T07:22:37.218526Z",
     "iopub.status.busy": "2025-09-01T07:22:37.218126Z",
     "iopub.status.idle": "2025-09-01T07:22:37.229950Z",
     "shell.execute_reply": "2025-09-01T07:22:37.229201Z"
    },
    "papermill": {
     "duration": 0.018505,
     "end_time": "2025-09-01T07:22:37.231248",
     "exception": false,
     "start_time": "2025-09-01T07:22:37.212743",
     "status": "completed"
    },
    "tags": []
   },
   "outputs": [
    {
     "name": "stdout",
     "output_type": "stream",
     "text": [
      "[208500. 181500. 223500. ... 266500. 142125. 147500.]\n"
     ]
    },
    {
     "data": {
      "application/javascript": [
       "parent.postMessage({\"jupyterEvent\": \"custom.exercise_interaction\", \"data\": {\"outcomeType\": 1, \"valueTowardsCompletion\": 0.25, \"interactionType\": 1, \"questionType\": 2, \"questionId\": \"4_MakePredictions\", \"learnToolsVersion\": \"0.3.5\", \"failureMessage\": \"\", \"exceptionClass\": \"\", \"trace\": \"\"}}, \"*\")"
      ],
      "text/plain": [
       "<IPython.core.display.Javascript object>"
      ]
     },
     "metadata": {},
     "output_type": "display_data"
    },
    {
     "data": {
      "text/markdown": [
       "<span style=\"color:#33cc33\">Correct</span>"
      ],
      "text/plain": [
       "Correct"
      ]
     },
     "metadata": {},
     "output_type": "display_data"
    }
   ],
   "source": [
    "predictions = iowa_model.predict(X)\n",
    "print(predictions)\n",
    "\n",
    "# Check your answer\n",
    "step_4.check()"
   ]
  },
  {
   "cell_type": "code",
   "execution_count": 11,
   "id": "c5ade341",
   "metadata": {
    "collapsed": true,
    "execution": {
     "iopub.execute_input": "2025-09-01T07:22:37.241962Z",
     "iopub.status.busy": "2025-09-01T07:22:37.241609Z",
     "iopub.status.idle": "2025-09-01T07:22:37.246234Z",
     "shell.execute_reply": "2025-09-01T07:22:37.245318Z"
    },
    "jupyter": {
     "outputs_hidden": true
    },
    "papermill": {
     "duration": 0.011736,
     "end_time": "2025-09-01T07:22:37.247765",
     "exception": false,
     "start_time": "2025-09-01T07:22:37.236029",
     "status": "completed"
    },
    "tags": []
   },
   "outputs": [],
   "source": [
    "# step_4.hint()\n",
    "# step_4.solution()"
   ]
  },
  {
   "cell_type": "markdown",
   "id": "58064f4f",
   "metadata": {
    "papermill": {
     "duration": 0.004859,
     "end_time": "2025-09-01T07:22:37.257505",
     "exception": false,
     "start_time": "2025-09-01T07:22:37.252646",
     "status": "completed"
    },
    "tags": []
   },
   "source": [
    "## Think About Your Results\n",
    "\n",
    "Use the `head` method to compare the top few predictions to the actual home values (in `y`) for those same homes. Anything surprising?\n"
   ]
  },
  {
   "cell_type": "code",
   "execution_count": 12,
   "id": "ad18943d",
   "metadata": {
    "execution": {
     "iopub.execute_input": "2025-09-01T07:22:37.268459Z",
     "iopub.status.busy": "2025-09-01T07:22:37.268178Z",
     "iopub.status.idle": "2025-09-01T07:22:37.272238Z",
     "shell.execute_reply": "2025-09-01T07:22:37.271285Z"
    },
    "papermill": {
     "duration": 0.010955,
     "end_time": "2025-09-01T07:22:37.273709",
     "exception": false,
     "start_time": "2025-09-01T07:22:37.262754",
     "status": "completed"
    },
    "tags": []
   },
   "outputs": [],
   "source": [
    "# You can write code in this cell\n"
   ]
  },
  {
   "cell_type": "markdown",
   "id": "25a0cec3",
   "metadata": {
    "papermill": {
     "duration": 0.004387,
     "end_time": "2025-09-01T07:22:37.282917",
     "exception": false,
     "start_time": "2025-09-01T07:22:37.278530",
     "status": "completed"
    },
    "tags": []
   },
   "source": [
    "It's natural to ask how accurate the model's predictions will be and how you can improve that. That will be you're next step.\n",
    "\n",
    "# Keep Going\n",
    "\n",
    "You are ready for **[Model Validation](https://www.kaggle.com/dansbecker/model-validation).**\n"
   ]
  },
  {
   "cell_type": "markdown",
   "id": "621fcc63",
   "metadata": {
    "papermill": {
     "duration": 0.004343,
     "end_time": "2025-09-01T07:22:37.292037",
     "exception": false,
     "start_time": "2025-09-01T07:22:37.287694",
     "status": "completed"
    },
    "tags": []
   },
   "source": [
    "---\n",
    "\n",
    "\n",
    "\n",
    "\n",
    "*Have questions or comments? Visit the [course discussion forum](https://www.kaggle.com/learn/intro-to-machine-learning/discussion) to chat with other learners.*"
   ]
  }
 ],
 "metadata": {
  "kaggle": {
   "accelerator": "none",
   "dataSources": [
    {
     "databundleVersionId": 111096,
     "sourceId": 10211,
     "sourceType": "competition"
    },
    {
     "datasetId": 11167,
     "sourceId": 15520,
     "sourceType": "datasetVersion"
    },
    {
     "datasetId": 2709,
     "sourceId": 38454,
     "sourceType": "datasetVersion"
    }
   ],
   "isGpuEnabled": false,
   "isInternetEnabled": false,
   "language": "python",
   "sourceType": "notebook"
  },
  "kernelspec": {
   "display_name": "Python 3",
   "language": "python",
   "name": "python3"
  },
  "language_info": {
   "codemirror_mode": {
    "name": "ipython",
    "version": 3
   },
   "file_extension": ".py",
   "mimetype": "text/x-python",
   "name": "python",
   "nbconvert_exporter": "python",
   "pygments_lexer": "ipython3",
   "version": "3.11.13"
  },
  "papermill": {
   "default_parameters": {},
   "duration": 10.443594,
   "end_time": "2025-09-01T07:22:38.018946",
   "environment_variables": {},
   "exception": null,
   "input_path": "__notebook__.ipynb",
   "output_path": "__notebook__.ipynb",
   "parameters": {},
   "start_time": "2025-09-01T07:22:27.575352",
   "version": "2.6.0"
  }
 },
 "nbformat": 4,
 "nbformat_minor": 5
}
