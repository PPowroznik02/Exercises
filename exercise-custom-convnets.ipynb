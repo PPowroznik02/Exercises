{
 "cells": [
  {
   "cell_type": "markdown",
   "id": "be5a01e0",
   "metadata": {
    "papermill": {
     "duration": 0.003614,
     "end_time": "2025-08-31T15:57:08.029121",
     "exception": false,
     "start_time": "2025-08-31T15:57:08.025507",
     "status": "completed"
    },
    "tags": []
   },
   "source": [
    "**This notebook is an exercise in the [Computer Vision](https://www.kaggle.com/learn/computer-vision) course.  You can reference the tutorial at [this link](https://www.kaggle.com/ryanholbrook/custom-convnets).**\n",
    "\n",
    "---\n"
   ]
  },
  {
   "cell_type": "markdown",
   "id": "95e9b9b6",
   "metadata": {
    "papermill": {
     "duration": 0.002618,
     "end_time": "2025-08-31T15:57:08.034880",
     "exception": false,
     "start_time": "2025-08-31T15:57:08.032262",
     "status": "completed"
    },
    "tags": []
   },
   "source": [
    "# Introduction #\n",
    "\n",
    "In these exercises, you'll build a custom convnet with performance competitive to the VGG16 model from Lesson 1.\n",
    "\n",
    "Get started by running the code cell below."
   ]
  },
  {
   "cell_type": "code",
   "execution_count": 1,
   "id": "a131b46e",
   "metadata": {
    "execution": {
     "iopub.execute_input": "2025-08-31T15:57:08.041992Z",
     "iopub.status.busy": "2025-08-31T15:57:08.041650Z",
     "iopub.status.idle": "2025-08-31T15:57:36.556807Z",
     "shell.execute_reply": "2025-08-31T15:57:36.555842Z"
    },
    "papermill": {
     "duration": 28.521311,
     "end_time": "2025-08-31T15:57:36.559091",
     "exception": false,
     "start_time": "2025-08-31T15:57:08.037780",
     "status": "completed"
    },
    "tags": []
   },
   "outputs": [
    {
     "name": "stderr",
     "output_type": "stream",
     "text": [
      "2025-08-31 15:57:11.598271: E external/local_xla/xla/stream_executor/cuda/cuda_dnn.cc:9261] Unable to register cuDNN factory: Attempting to register factory for plugin cuDNN when one has already been registered\n",
      "2025-08-31 15:57:11.598397: E external/local_xla/xla/stream_executor/cuda/cuda_fft.cc:607] Unable to register cuFFT factory: Attempting to register factory for plugin cuFFT when one has already been registered\n",
      "2025-08-31 15:57:11.769467: E external/local_xla/xla/stream_executor/cuda/cuda_blas.cc:1515] Unable to register cuBLAS factory: Attempting to register factory for plugin cuBLAS when one has already been registered\n"
     ]
    },
    {
     "name": "stdout",
     "output_type": "stream",
     "text": [
      "Found 5117 files belonging to 2 classes.\n",
      "Found 5051 files belonging to 2 classes.\n"
     ]
    }
   ],
   "source": [
    "# Setup feedback system\n",
    "from learntools.core import binder\n",
    "binder.bind(globals())\n",
    "from learntools.computer_vision.ex5 import *\n",
    "\n",
    "# Imports\n",
    "import os, warnings\n",
    "import matplotlib.pyplot as plt\n",
    "from matplotlib import gridspec\n",
    "\n",
    "import numpy as np\n",
    "import tensorflow as tf\n",
    "from tensorflow.keras.preprocessing import image_dataset_from_directory\n",
    "\n",
    "# Reproducability\n",
    "def set_seed(seed=31415):\n",
    "    np.random.seed(seed)\n",
    "    tf.random.set_seed(seed)\n",
    "    os.environ['PYTHONHASHSEED'] = str(seed)\n",
    "    os.environ['TF_DETERMINISTIC_OPS'] = '1'\n",
    "set_seed()\n",
    "\n",
    "# Set Matplotlib defaults\n",
    "plt.rc('figure', autolayout=True)\n",
    "plt.rc('axes', labelweight='bold', labelsize='large',\n",
    "       titleweight='bold', titlesize=18, titlepad=10)\n",
    "plt.rc('image', cmap='magma')\n",
    "warnings.filterwarnings(\"ignore\") # to clean up output cells\n",
    "\n",
    "\n",
    "# Load training and validation sets\n",
    "ds_train_ = image_dataset_from_directory(\n",
    "    '../input/car-or-truck/train',\n",
    "    labels='inferred',\n",
    "    label_mode='binary',\n",
    "    image_size=[128, 128],\n",
    "    interpolation='nearest',\n",
    "    batch_size=64,\n",
    "    shuffle=True,\n",
    ")\n",
    "ds_valid_ = image_dataset_from_directory(\n",
    "    '../input/car-or-truck/valid',\n",
    "    labels='inferred',\n",
    "    label_mode='binary',\n",
    "    image_size=[128, 128],\n",
    "    interpolation='nearest',\n",
    "    batch_size=64,\n",
    "    shuffle=False,\n",
    ")\n",
    "\n",
    "# Data Pipeline\n",
    "def convert_to_float(image, label):\n",
    "    image = tf.image.convert_image_dtype(image, dtype=tf.float32)\n",
    "    return image, label\n",
    "\n",
    "AUTOTUNE = tf.data.experimental.AUTOTUNE\n",
    "ds_train = (\n",
    "    ds_train_\n",
    "    .map(convert_to_float)\n",
    "    .cache()\n",
    "    .prefetch(buffer_size=AUTOTUNE)\n",
    ")\n",
    "ds_valid = (\n",
    "    ds_valid_\n",
    "    .map(convert_to_float)\n",
    "    .cache()\n",
    "    .prefetch(buffer_size=AUTOTUNE)\n",
    ")\n"
   ]
  },
  {
   "cell_type": "markdown",
   "id": "c2b66764",
   "metadata": {
    "papermill": {
     "duration": 0.002935,
     "end_time": "2025-08-31T15:57:36.565532",
     "exception": false,
     "start_time": "2025-08-31T15:57:36.562597",
     "status": "completed"
    },
    "tags": []
   },
   "source": [
    "# Design a Convnet #\n",
    "\n",
    "Let's design a convolutional network with a block architecture like we saw in the tutorial. The model from the example had three blocks, each with a single convolutional layer. Its performance on the \"Car or Truck\" problem was okay, but far from what the pretrained VGG16 could achieve. It might be that our simple network lacks the ability to extract sufficiently complex features. We could try improving the model either by adding more blocks or by adding convolutions to the blocks we have.\n",
    "\n",
    "Let's go with the second approach. We'll keep the three block structure, but increase the number of `Conv2D` layer in the second block to two, and in the third block to three.\n",
    "\n",
    "<figure>\n",
    "<!-- <img src=\"./images/2-convmodel-2.png\" width=\"250\" alt=\"Diagram of a convolutional model.\"> -->\n",
    "<img src=\"https://storage.googleapis.com/kaggle-media/learn/images/Vko6nCK.png\" width=\"250\" alt=\"Diagram of a convolutional model.\">\n",
    "</figure>\n",
    "\n",
    "# 1) Define Model #\n",
    "\n",
    "Given the diagram above, complete the model by defining the layers of the third block."
   ]
  },
  {
   "cell_type": "code",
   "execution_count": 2,
   "id": "e3ad9891",
   "metadata": {
    "execution": {
     "iopub.execute_input": "2025-08-31T15:57:36.573281Z",
     "iopub.status.busy": "2025-08-31T15:57:36.572913Z",
     "iopub.status.idle": "2025-08-31T15:57:36.728336Z",
     "shell.execute_reply": "2025-08-31T15:57:36.727286Z"
    },
    "lines_to_next_cell": 0,
    "papermill": {
     "duration": 0.161581,
     "end_time": "2025-08-31T15:57:36.730223",
     "exception": false,
     "start_time": "2025-08-31T15:57:36.568642",
     "status": "completed"
    },
    "tags": []
   },
   "outputs": [
    {
     "data": {
      "application/javascript": [
       "parent.postMessage({\"jupyterEvent\": \"custom.exercise_interaction\", \"data\": {\"outcomeType\": 1, \"valueTowardsCompletion\": 0.3333333333333333, \"interactionType\": 1, \"questionType\": 2, \"questionId\": \"1_Q1\", \"learnToolsVersion\": \"0.3.4\", \"failureMessage\": \"\", \"exceptionClass\": \"\", \"trace\": \"\"}}, \"*\")"
      ],
      "text/plain": [
       "<IPython.core.display.Javascript object>"
      ]
     },
     "metadata": {},
     "output_type": "display_data"
    },
    {
     "data": {
      "text/markdown": [
       "<span style=\"color:#33cc33\">Correct</span>"
      ],
      "text/plain": [
       "Correct"
      ]
     },
     "metadata": {},
     "output_type": "display_data"
    }
   ],
   "source": [
    "from tensorflow import keras\n",
    "from tensorflow.keras import layers\n",
    "\n",
    "model = keras.Sequential([\n",
    "    # Block One\n",
    "    layers.Conv2D(filters=32, kernel_size=3, activation='relu', padding='same',\n",
    "                  input_shape=[128, 128, 3]),\n",
    "    layers.MaxPool2D(),\n",
    "\n",
    "    # Block Two\n",
    "    layers.Conv2D(filters=64, kernel_size=3, activation='relu', padding='same'),\n",
    "    layers.MaxPool2D(),\n",
    "\n",
    "    # Block Three\n",
    "    layers.Conv2D(filters=128, kernel_size=3, activation='relu', padding='same'),\n",
    "    layers.Conv2D(filters=128, kernel_size=3, activation='relu', padding='same'),\n",
    "    layers.MaxPool2D(),\n",
    "\n",
    "    # Head\n",
    "    layers.Flatten(),\n",
    "    layers.Dense(6, activation='relu'),\n",
    "    layers.Dropout(0.2),\n",
    "    layers.Dense(1, activation='sigmoid'),\n",
    "])\n",
    "\n",
    "# Check your answer\n",
    "q_1.check()"
   ]
  },
  {
   "cell_type": "code",
   "execution_count": 3,
   "id": "b1da5d07",
   "metadata": {
    "execution": {
     "iopub.execute_input": "2025-08-31T15:57:36.738345Z",
     "iopub.status.busy": "2025-08-31T15:57:36.737653Z",
     "iopub.status.idle": "2025-08-31T15:57:36.741275Z",
     "shell.execute_reply": "2025-08-31T15:57:36.740477Z"
    },
    "papermill": {
     "duration": 0.009124,
     "end_time": "2025-08-31T15:57:36.742805",
     "exception": false,
     "start_time": "2025-08-31T15:57:36.733681",
     "status": "completed"
    },
    "tags": []
   },
   "outputs": [],
   "source": [
    "# Lines below will give you a hint or solution code\n",
    "#q_1.hint()\n",
    "#q_1.solution()"
   ]
  },
  {
   "cell_type": "markdown",
   "id": "b485f14a",
   "metadata": {
    "papermill": {
     "duration": 0.003186,
     "end_time": "2025-08-31T15:57:36.749273",
     "exception": false,
     "start_time": "2025-08-31T15:57:36.746087",
     "status": "completed"
    },
    "tags": []
   },
   "source": [
    "# 2) Compile #\n",
    "\n",
    "To prepare for training, compile the model with an appropriate loss and accuracy metric for the \"Car or Truck\" dataset."
   ]
  },
  {
   "cell_type": "code",
   "execution_count": 4,
   "id": "d90ae31b",
   "metadata": {
    "execution": {
     "iopub.execute_input": "2025-08-31T15:57:36.756601Z",
     "iopub.status.busy": "2025-08-31T15:57:36.756365Z",
     "iopub.status.idle": "2025-08-31T15:57:36.957717Z",
     "shell.execute_reply": "2025-08-31T15:57:36.956833Z"
    },
    "lines_to_next_cell": 0,
    "papermill": {
     "duration": 0.207219,
     "end_time": "2025-08-31T15:57:36.959681",
     "exception": false,
     "start_time": "2025-08-31T15:57:36.752462",
     "status": "completed"
    },
    "tags": []
   },
   "outputs": [
    {
     "data": {
      "application/javascript": [
       "parent.postMessage({\"jupyterEvent\": \"custom.exercise_interaction\", \"data\": {\"outcomeType\": 1, \"valueTowardsCompletion\": 0.3333333333333333, \"interactionType\": 1, \"questionType\": 2, \"questionId\": \"2_Q2\", \"learnToolsVersion\": \"0.3.4\", \"failureMessage\": \"\", \"exceptionClass\": \"\", \"trace\": \"\"}}, \"*\")"
      ],
      "text/plain": [
       "<IPython.core.display.Javascript object>"
      ]
     },
     "metadata": {},
     "output_type": "display_data"
    },
    {
     "data": {
      "text/markdown": [
       "<span style=\"color:#33cc33\">Correct</span>"
      ],
      "text/plain": [
       "Correct"
      ]
     },
     "metadata": {},
     "output_type": "display_data"
    }
   ],
   "source": [
    "model.compile(\n",
    "    optimizer=tf.keras.optimizers.Adam(epsilon=0.01),\n",
    "    # YOUR CODE HERE: Add loss and metric\n",
    "    loss='binary_crossentropy',\n",
    "    metrics=['binary_accuracy']\n",
    ")\n",
    "\n",
    "# Check your answer\n",
    "q_2.check()"
   ]
  },
  {
   "cell_type": "code",
   "execution_count": 5,
   "id": "df405e1d",
   "metadata": {
    "execution": {
     "iopub.execute_input": "2025-08-31T15:57:36.968084Z",
     "iopub.status.busy": "2025-08-31T15:57:36.967531Z",
     "iopub.status.idle": "2025-08-31T15:57:36.979298Z",
     "shell.execute_reply": "2025-08-31T15:57:36.978471Z"
    },
    "lines_to_next_cell": 0,
    "papermill": {
     "duration": 0.017611,
     "end_time": "2025-08-31T15:57:36.980969",
     "exception": false,
     "start_time": "2025-08-31T15:57:36.963358",
     "status": "completed"
    },
    "tags": []
   },
   "outputs": [
    {
     "data": {
      "application/javascript": [
       "parent.postMessage({\"jupyterEvent\": \"custom.exercise_interaction\", \"data\": {\"outcomeType\": 1, \"valueTowardsCompletion\": 0.3333333333333333, \"interactionType\": 1, \"questionType\": 2, \"questionId\": \"2_Q2\", \"learnToolsVersion\": \"0.3.4\", \"failureMessage\": \"\", \"exceptionClass\": \"\", \"trace\": \"\"}}, \"*\")"
      ],
      "text/plain": [
       "<IPython.core.display.Javascript object>"
      ]
     },
     "metadata": {},
     "output_type": "display_data"
    },
    {
     "data": {
      "text/markdown": [
       "<span style=\"color:#33cc33\">Correct</span>"
      ],
      "text/plain": [
       "Correct"
      ]
     },
     "metadata": {},
     "output_type": "display_data"
    }
   ],
   "source": [
    "model.compile(\n",
    "    optimizer=tf.keras.optimizers.Adam(epsilon=0.01),\n",
    "    loss='binary_crossentropy',\n",
    "    metrics=['binary_accuracy'],\n",
    ")\n",
    "q_2.assert_check_passed()"
   ]
  },
  {
   "cell_type": "code",
   "execution_count": 6,
   "id": "b975be10",
   "metadata": {
    "execution": {
     "iopub.execute_input": "2025-08-31T15:57:36.989324Z",
     "iopub.status.busy": "2025-08-31T15:57:36.989050Z",
     "iopub.status.idle": "2025-08-31T15:57:36.992400Z",
     "shell.execute_reply": "2025-08-31T15:57:36.991498Z"
    },
    "lines_to_next_cell": 0,
    "papermill": {
     "duration": 0.009649,
     "end_time": "2025-08-31T15:57:36.994196",
     "exception": false,
     "start_time": "2025-08-31T15:57:36.984547",
     "status": "completed"
    },
    "tags": []
   },
   "outputs": [],
   "source": [
    "# Lines below will give you a hint or solution code\n",
    "#q_2.hint()\n",
    "#q_2.solution()"
   ]
  },
  {
   "cell_type": "markdown",
   "id": "931ca702",
   "metadata": {
    "papermill": {
     "duration": 0.003559,
     "end_time": "2025-08-31T15:57:37.001369",
     "exception": false,
     "start_time": "2025-08-31T15:57:36.997810",
     "status": "completed"
    },
    "tags": []
   },
   "source": [
    "Finally, let's test the performance of this new model. First run this cell to fit the model to the training set."
   ]
  },
  {
   "cell_type": "code",
   "execution_count": 7,
   "id": "73a73732",
   "metadata": {
    "execution": {
     "iopub.execute_input": "2025-08-31T15:57:37.010365Z",
     "iopub.status.busy": "2025-08-31T15:57:37.010148Z",
     "iopub.status.idle": "2025-08-31T16:00:34.960041Z",
     "shell.execute_reply": "2025-08-31T16:00:34.958985Z"
    },
    "papermill": {
     "duration": 177.957231,
     "end_time": "2025-08-31T16:00:34.962175",
     "exception": false,
     "start_time": "2025-08-31T15:57:37.004944",
     "status": "completed"
    },
    "tags": []
   },
   "outputs": [
    {
     "name": "stdout",
     "output_type": "stream",
     "text": [
      "Epoch 1/50\n"
     ]
    },
    {
     "name": "stderr",
     "output_type": "stream",
     "text": [
      "WARNING: All log messages before absl::InitializeLog() is called are written to STDERR\n",
      "I0000 00:00:1756655861.384195      72 device_compiler.h:186] Compiled cluster using XLA!  This line is logged at most once for the lifetime of the process.\n"
     ]
    },
    {
     "name": "stdout",
     "output_type": "stream",
     "text": [
      "80/80 [==============================] - 18s 158ms/step - loss: 0.6757 - binary_accuracy: 0.5789 - val_loss: 0.6636 - val_binary_accuracy: 0.5785\n",
      "Epoch 2/50\n",
      "80/80 [==============================] - 3s 41ms/step - loss: 0.6620 - binary_accuracy: 0.5787 - val_loss: 0.6535 - val_binary_accuracy: 0.5785\n",
      "Epoch 3/50\n",
      "80/80 [==============================] - 3s 41ms/step - loss: 0.6539 - binary_accuracy: 0.5955 - val_loss: 0.6463 - val_binary_accuracy: 0.5906\n",
      "Epoch 4/50\n",
      "80/80 [==============================] - 3s 41ms/step - loss: 0.6461 - binary_accuracy: 0.6226 - val_loss: 0.6383 - val_binary_accuracy: 0.6230\n",
      "Epoch 5/50\n",
      "80/80 [==============================] - 3s 40ms/step - loss: 0.6359 - binary_accuracy: 0.6402 - val_loss: 0.6354 - val_binary_accuracy: 0.6104\n",
      "Epoch 6/50\n",
      "80/80 [==============================] - 3s 40ms/step - loss: 0.6290 - binary_accuracy: 0.6480 - val_loss: 0.6172 - val_binary_accuracy: 0.6559\n",
      "Epoch 7/50\n",
      "80/80 [==============================] - 3s 40ms/step - loss: 0.6137 - binary_accuracy: 0.6631 - val_loss: 0.6067 - val_binary_accuracy: 0.6662\n",
      "Epoch 8/50\n",
      "80/80 [==============================] - 3s 40ms/step - loss: 0.6036 - binary_accuracy: 0.6777 - val_loss: 0.6021 - val_binary_accuracy: 0.6741\n",
      "Epoch 9/50\n",
      "80/80 [==============================] - 3s 40ms/step - loss: 0.5966 - binary_accuracy: 0.6795 - val_loss: 0.5964 - val_binary_accuracy: 0.6745\n",
      "Epoch 10/50\n",
      "80/80 [==============================] - 3s 40ms/step - loss: 0.5828 - binary_accuracy: 0.6883 - val_loss: 0.5884 - val_binary_accuracy: 0.6900\n",
      "Epoch 11/50\n",
      "80/80 [==============================] - 3s 40ms/step - loss: 0.5753 - binary_accuracy: 0.7004 - val_loss: 0.5821 - val_binary_accuracy: 0.6917\n",
      "Epoch 12/50\n",
      "80/80 [==============================] - 3s 40ms/step - loss: 0.5549 - binary_accuracy: 0.7246 - val_loss: 0.5543 - val_binary_accuracy: 0.7177\n",
      "Epoch 13/50\n",
      "80/80 [==============================] - 3s 40ms/step - loss: 0.5397 - binary_accuracy: 0.7319 - val_loss: 0.5430 - val_binary_accuracy: 0.7232\n",
      "Epoch 14/50\n",
      "80/80 [==============================] - 3s 40ms/step - loss: 0.5275 - binary_accuracy: 0.7450 - val_loss: 0.5345 - val_binary_accuracy: 0.7292\n",
      "Epoch 15/50\n",
      "80/80 [==============================] - 3s 40ms/step - loss: 0.5082 - binary_accuracy: 0.7583 - val_loss: 0.5218 - val_binary_accuracy: 0.7347\n",
      "Epoch 16/50\n",
      "80/80 [==============================] - 3s 40ms/step - loss: 0.4778 - binary_accuracy: 0.7739 - val_loss: 0.5040 - val_binary_accuracy: 0.7513\n",
      "Epoch 17/50\n",
      "80/80 [==============================] - 3s 40ms/step - loss: 0.4556 - binary_accuracy: 0.7885 - val_loss: 0.4946 - val_binary_accuracy: 0.7571\n",
      "Epoch 18/50\n",
      "80/80 [==============================] - 3s 40ms/step - loss: 0.4377 - binary_accuracy: 0.8044 - val_loss: 0.4739 - val_binary_accuracy: 0.7707\n",
      "Epoch 19/50\n",
      "80/80 [==============================] - 3s 40ms/step - loss: 0.4097 - binary_accuracy: 0.8179 - val_loss: 0.4523 - val_binary_accuracy: 0.7919\n",
      "Epoch 20/50\n",
      "80/80 [==============================] - 3s 40ms/step - loss: 0.3830 - binary_accuracy: 0.8310 - val_loss: 0.4348 - val_binary_accuracy: 0.8014\n",
      "Epoch 21/50\n",
      "80/80 [==============================] - 3s 40ms/step - loss: 0.3567 - binary_accuracy: 0.8478 - val_loss: 0.4196 - val_binary_accuracy: 0.8058\n",
      "Epoch 22/50\n",
      "80/80 [==============================] - 3s 41ms/step - loss: 0.3276 - binary_accuracy: 0.8618 - val_loss: 0.4375 - val_binary_accuracy: 0.7884\n",
      "Epoch 23/50\n",
      "80/80 [==============================] - 3s 40ms/step - loss: 0.3134 - binary_accuracy: 0.8654 - val_loss: 0.4689 - val_binary_accuracy: 0.7751\n",
      "Epoch 24/50\n",
      "80/80 [==============================] - 3s 40ms/step - loss: 0.2962 - binary_accuracy: 0.8822 - val_loss: 0.4179 - val_binary_accuracy: 0.8105\n",
      "Epoch 25/50\n",
      "80/80 [==============================] - 3s 40ms/step - loss: 0.2752 - binary_accuracy: 0.8870 - val_loss: 0.4276 - val_binary_accuracy: 0.8042\n",
      "Epoch 26/50\n",
      "80/80 [==============================] - 3s 40ms/step - loss: 0.2516 - binary_accuracy: 0.8984 - val_loss: 0.4302 - val_binary_accuracy: 0.8006\n",
      "Epoch 27/50\n",
      "80/80 [==============================] - 3s 40ms/step - loss: 0.2550 - binary_accuracy: 0.8921 - val_loss: 0.4267 - val_binary_accuracy: 0.8117\n",
      "Epoch 28/50\n",
      "80/80 [==============================] - 3s 40ms/step - loss: 0.2287 - binary_accuracy: 0.9119 - val_loss: 0.4422 - val_binary_accuracy: 0.8272\n",
      "Epoch 29/50\n",
      "80/80 [==============================] - 3s 40ms/step - loss: 0.2418 - binary_accuracy: 0.9009 - val_loss: 0.5097 - val_binary_accuracy: 0.8226\n",
      "Epoch 30/50\n",
      "80/80 [==============================] - 3s 40ms/step - loss: 0.2245 - binary_accuracy: 0.9117 - val_loss: 0.4396 - val_binary_accuracy: 0.8234\n",
      "Epoch 31/50\n",
      "80/80 [==============================] - 3s 40ms/step - loss: 0.2028 - binary_accuracy: 0.9232 - val_loss: 0.4837 - val_binary_accuracy: 0.8188\n",
      "Epoch 32/50\n",
      "80/80 [==============================] - 3s 40ms/step - loss: 0.2050 - binary_accuracy: 0.9226 - val_loss: 0.5092 - val_binary_accuracy: 0.8133\n",
      "Epoch 33/50\n",
      "80/80 [==============================] - 3s 40ms/step - loss: 0.1613 - binary_accuracy: 0.9439 - val_loss: 0.5056 - val_binary_accuracy: 0.8173\n",
      "Epoch 34/50\n",
      "80/80 [==============================] - 3s 40ms/step - loss: 0.1308 - binary_accuracy: 0.9562 - val_loss: 0.7414 - val_binary_accuracy: 0.8036\n",
      "Epoch 35/50\n",
      "80/80 [==============================] - 3s 40ms/step - loss: 0.1288 - binary_accuracy: 0.9547 - val_loss: 0.6500 - val_binary_accuracy: 0.8153\n",
      "Epoch 36/50\n",
      "80/80 [==============================] - 3s 40ms/step - loss: 0.1198 - binary_accuracy: 0.9654 - val_loss: 0.6507 - val_binary_accuracy: 0.8214\n",
      "Epoch 37/50\n",
      "80/80 [==============================] - 3s 40ms/step - loss: 0.1174 - binary_accuracy: 0.9652 - val_loss: 0.7171 - val_binary_accuracy: 0.8248\n",
      "Epoch 38/50\n",
      "80/80 [==============================] - 3s 40ms/step - loss: 0.1319 - binary_accuracy: 0.9552 - val_loss: 0.5451 - val_binary_accuracy: 0.8382\n",
      "Epoch 39/50\n",
      "80/80 [==============================] - 3s 40ms/step - loss: 0.1198 - binary_accuracy: 0.9621 - val_loss: 0.5152 - val_binary_accuracy: 0.8464\n",
      "Epoch 40/50\n",
      "80/80 [==============================] - 3s 40ms/step - loss: 0.1198 - binary_accuracy: 0.9609 - val_loss: 0.4640 - val_binary_accuracy: 0.8476\n",
      "Epoch 41/50\n",
      "80/80 [==============================] - 3s 40ms/step - loss: 0.1006 - binary_accuracy: 0.9699 - val_loss: 0.5080 - val_binary_accuracy: 0.8444\n",
      "Epoch 42/50\n",
      "80/80 [==============================] - 3s 40ms/step - loss: 0.0815 - binary_accuracy: 0.9797 - val_loss: 0.5461 - val_binary_accuracy: 0.8313\n",
      "Epoch 43/50\n",
      "80/80 [==============================] - 3s 41ms/step - loss: 0.0709 - binary_accuracy: 0.9846 - val_loss: 0.5839 - val_binary_accuracy: 0.8422\n",
      "Epoch 44/50\n",
      "80/80 [==============================] - 3s 41ms/step - loss: 0.0672 - binary_accuracy: 0.9853 - val_loss: 0.6053 - val_binary_accuracy: 0.8412\n",
      "Epoch 45/50\n",
      "80/80 [==============================] - 3s 40ms/step - loss: 0.0664 - binary_accuracy: 0.9873 - val_loss: 0.6152 - val_binary_accuracy: 0.8466\n",
      "Epoch 46/50\n",
      "80/80 [==============================] - 3s 40ms/step - loss: 0.0602 - binary_accuracy: 0.9865 - val_loss: 0.6630 - val_binary_accuracy: 0.8501\n",
      "Epoch 47/50\n",
      "80/80 [==============================] - 3s 40ms/step - loss: 0.0554 - binary_accuracy: 0.9883 - val_loss: 0.7206 - val_binary_accuracy: 0.8493\n",
      "Epoch 48/50\n",
      "80/80 [==============================] - 3s 40ms/step - loss: 0.0520 - binary_accuracy: 0.9898 - val_loss: 0.6427 - val_binary_accuracy: 0.8446\n",
      "Epoch 49/50\n",
      "80/80 [==============================] - 3s 40ms/step - loss: 0.0493 - binary_accuracy: 0.9920 - val_loss: 0.6617 - val_binary_accuracy: 0.8497\n",
      "Epoch 50/50\n",
      "80/80 [==============================] - 3s 40ms/step - loss: 0.0452 - binary_accuracy: 0.9924 - val_loss: 0.6999 - val_binary_accuracy: 0.8535\n"
     ]
    }
   ],
   "source": [
    "history = model.fit(\n",
    "    ds_train,\n",
    "    validation_data=ds_valid,\n",
    "    epochs=50,\n",
    ")"
   ]
  },
  {
   "cell_type": "markdown",
   "id": "0efbd9ff",
   "metadata": {
    "papermill": {
     "duration": 0.09683,
     "end_time": "2025-08-31T16:00:35.199449",
     "exception": false,
     "start_time": "2025-08-31T16:00:35.102619",
     "status": "completed"
    },
    "tags": []
   },
   "source": [
    "And now run the cell below to plot the loss and metric curves for this training run."
   ]
  },
  {
   "cell_type": "code",
   "execution_count": 8,
   "id": "7cc977e8",
   "metadata": {
    "execution": {
     "iopub.execute_input": "2025-08-31T16:00:35.390411Z",
     "iopub.status.busy": "2025-08-31T16:00:35.390059Z",
     "iopub.status.idle": "2025-08-31T16:00:35.933504Z",
     "shell.execute_reply": "2025-08-31T16:00:35.932675Z"
    },
    "papermill": {
     "duration": 0.641231,
     "end_time": "2025-08-31T16:00:35.935376",
     "exception": false,
     "start_time": "2025-08-31T16:00:35.294145",
     "status": "completed"
    },
    "tags": []
   },
   "outputs": [
    {
     "data": {
      "image/png": "[encoded data removed]",
      "text/plain": [
       "<Figure size 640x480 with 1 Axes>"
      ]
     },
     "metadata": {},
     "output_type": "display_data"
    },
    {
     "data": {
      "image/png": "[encoded data removed]",
      "text/plain": [
       "<Figure size 640x480 with 1 Axes>"
      ]
     },
     "metadata": {},
     "output_type": "display_data"
    }
   ],
   "source": [
    "import pandas as pd\n",
    "history_frame = pd.DataFrame(history.history)\n",
    "history_frame.loc[:, ['loss', 'val_loss']].plot()\n",
    "history_frame.loc[:, ['binary_accuracy', 'val_binary_accuracy']].plot();"
   ]
  },
  {
   "cell_type": "markdown",
   "id": "9b928037",
   "metadata": {
    "papermill": {
     "duration": 0.097074,
     "end_time": "2025-08-31T16:00:36.129051",
     "exception": false,
     "start_time": "2025-08-31T16:00:36.031977",
     "status": "completed"
    },
    "tags": []
   },
   "source": [
    "# 3) Train the Model #\n",
    "\n",
    "How would you interpret these training curves? Did this model improve upon the model from the tutorial?"
   ]
  },
  {
   "cell_type": "code",
   "execution_count": 9,
   "id": "ce699ef7",
   "metadata": {
    "execution": {
     "iopub.execute_input": "2025-08-31T16:00:36.332899Z",
     "iopub.status.busy": "2025-08-31T16:00:36.332521Z",
     "iopub.status.idle": "2025-08-31T16:00:36.339791Z",
     "shell.execute_reply": "2025-08-31T16:00:36.338994Z"
    },
    "lines_to_next_cell": 0,
    "papermill": {
     "duration": 0.114032,
     "end_time": "2025-08-31T16:00:36.341466",
     "exception": false,
     "start_time": "2025-08-31T16:00:36.227434",
     "status": "completed"
    },
    "tags": []
   },
   "outputs": [
    {
     "data": {
      "application/javascript": [
       "parent.postMessage({\"jupyterEvent\": \"custom.exercise_interaction\", \"data\": {\"outcomeType\": 1, \"valueTowardsCompletion\": 0.3333333333333333, \"interactionType\": 1, \"questionType\": 4, \"questionId\": \"3_Q3\", \"learnToolsVersion\": \"0.3.4\", \"failureMessage\": \"\", \"exceptionClass\": \"\", \"trace\": \"\"}}, \"*\")"
      ],
      "text/plain": [
       "<IPython.core.display.Javascript object>"
      ]
     },
     "metadata": {},
     "output_type": "display_data"
    },
    {
     "data": {
      "text/markdown": [
       "<span style=\"color:#33cc33\">Correct:</span> \n",
       "\n",
       "\n",
       "The learning curves for the model from the tutorial diverged fairly rapidly. This would indicate that it was prone to overfitting and in need of some regularization. The additional layer in our new model would make it even more prone to overfitting. However, adding some regularization with the `Dropout` layer helped prevent this. These changes improved the validation accuracy of the model by several points.\n"
      ],
      "text/plain": [
       "Correct: \n",
       "\n",
       "\n",
       "The learning curves for the model from the tutorial diverged fairly rapidly. This would indicate that it was prone to overfitting and in need of some regularization. The additional layer in our new model would make it even more prone to overfitting. However, adding some regularization with the `Dropout` layer helped prevent this. These changes improved the validation accuracy of the model by several points."
      ]
     },
     "metadata": {},
     "output_type": "display_data"
    }
   ],
   "source": [
    "# View the solution (Run this code cell to receive credit!)\n",
    "q_3.check()"
   ]
  },
  {
   "cell_type": "markdown",
   "id": "c0c69ff9",
   "metadata": {
    "papermill": {
     "duration": 0.099405,
     "end_time": "2025-08-31T16:00:36.543002",
     "exception": false,
     "start_time": "2025-08-31T16:00:36.443597",
     "status": "completed"
    },
    "tags": []
   },
   "source": [
    "# Conclusion #\n",
    "\n",
    "These exercises showed you how to design a custom convolutional network to solve a specific classification problem. Though most models these days will be built on top of a pretrained base, it certain circumstances a smaller custom convnet might still be preferable -- such as with a smaller or unusual dataset or when computing resources are very limited. As you saw here, for certain problems they can perform just as well as a pretrained model.\n",
    "\n",
    "# Keep Going #\n",
    "\n",
    "Continue on to [**Lesson 6**](https://www.kaggle.com/ryanholbrook/data-augmentation), where you'll learn a widely-used technique that can give a boost to your training data: **data augmentation**."
   ]
  },
  {
   "cell_type": "markdown",
   "id": "f9ce076d",
   "metadata": {
    "papermill": {
     "duration": 0.095317,
     "end_time": "2025-08-31T16:00:36.776842",
     "exception": false,
     "start_time": "2025-08-31T16:00:36.681525",
     "status": "completed"
    },
    "tags": []
   },
   "source": [
    "---\n",
    "\n",
    "\n",
    "\n",
    "\n",
    "*Have questions or comments? Visit the [course discussion forum](https://www.kaggle.com/learn/computer-vision/discussion) to chat with other learners.*"
   ]
  }
 ],
 "metadata": {
  "jupytext": {
   "formats": "md,ipynb"
  },
  "kaggle": {
   "accelerator": "gpu",
   "dataSources": [
    {
     "datasetId": 708136,
     "sourceId": 1338830,
     "sourceType": "datasetVersion"
    },
    {
     "datasetId": 701538,
     "sourceId": 1363948,
     "sourceType": "datasetVersion"
    },
    {
     "datasetId": 878523,
     "sourceId": 1495782,
     "sourceType": "datasetVersion"
    }
   ],
   "dockerImageVersionId": 30648,
   "isGpuEnabled": true,
   "isInternetEnabled": false,
   "language": "python",
   "sourceType": "notebook"
  },
  "kernelspec": {
   "display_name": "Python 3",
   "language": "python",
   "name": "python3"
  },
  "language_info": {
   "codemirror_mode": {
    "name": "ipython",
    "version": 3
   },
   "file_extension": ".py",
   "mimetype": "text/x-python",
   "name": "python",
   "nbconvert_exporter": "python",
   "pygments_lexer": "ipython3",
   "version": "3.10.13"
  },
  "papermill": {
   "default_parameters": {},
   "duration": 214.405405,
   "end_time": "2025-08-31T16:00:39.592143",
   "environment_variables": {},
   "exception": null,
   "input_path": "__notebook__.ipynb",
   "output_path": "__notebook__.ipynb",
   "parameters": {},
   "start_time": "2025-08-31T15:57:05.186738",
   "version": "2.5.0"
  }
 },
 "nbformat": 4,
 "nbformat_minor": 5
}
