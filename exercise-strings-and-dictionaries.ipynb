{
 "cells": [
  {
   "cell_type": "markdown",
   "id": "2ebb06fc",
   "metadata": {
    "papermill": {
     "duration": 0.004874,
     "end_time": "2025-08-30T11:01:45.071176",
     "exception": false,
     "start_time": "2025-08-30T11:01:45.066302",
     "status": "completed"
    },
    "tags": []
   },
   "source": [
    "**This notebook is an exercise in the [Python](https://www.kaggle.com/learn/python) course.  You can reference the tutorial at [this link](https://www.kaggle.com/colinmorris/strings-and-dictionaries).**\n",
    "\n",
    "---\n"
   ]
  },
  {
   "cell_type": "markdown",
   "id": "49246294",
   "metadata": {
    "papermill": {
     "duration": 0.003406,
     "end_time": "2025-08-30T11:01:45.078493",
     "exception": false,
     "start_time": "2025-08-30T11:01:45.075087",
     "status": "completed"
    },
    "tags": []
   },
   "source": [
    "You are almost done with the course. Nice job!\n",
    "\n",
    "We have a couple more interesting problems for you before you go. \n",
    "\n",
    "As always, run the setup code below before working on the questions."
   ]
  },
  {
   "cell_type": "code",
   "execution_count": 1,
   "id": "98fd624c",
   "metadata": {
    "execution": {
     "iopub.execute_input": "2025-08-30T11:01:45.087232Z",
     "iopub.status.busy": "2025-08-30T11:01:45.086902Z",
     "iopub.status.idle": "2025-08-30T11:01:47.067071Z",
     "shell.execute_reply": "2025-08-30T11:01:47.065762Z"
    },
    "papermill": {
     "duration": 1.986602,
     "end_time": "2025-08-30T11:01:47.068897",
     "exception": false,
     "start_time": "2025-08-30T11:01:45.082295",
     "status": "completed"
    },
    "tags": []
   },
   "outputs": [
    {
     "name": "stdout",
     "output_type": "stream",
     "text": [
      "Setup complete.\n"
     ]
    }
   ],
   "source": [
    "from learntools.core import binder; binder.bind(globals())\n",
    "from learntools.python.ex6 import *\n",
    "print('Setup complete.')"
   ]
  },
  {
   "cell_type": "markdown",
   "id": "e9ceaed1",
   "metadata": {
    "papermill": {
     "duration": 0.003604,
     "end_time": "2025-08-30T11:01:47.076532",
     "exception": false,
     "start_time": "2025-08-30T11:01:47.072928",
     "status": "completed"
    },
    "tags": []
   },
   "source": [
    "Let's start with a string lightning round to warm up. What are the lengths of the strings below?\n",
    "\n",
    "For each of the five strings below, predict what `len()` would return when passed that string. Use the variable `length` to record your answer, then run the cell to check whether you were right.  \n",
    "\n",
    "# 0a."
   ]
  },
  {
   "cell_type": "code",
   "execution_count": 2,
   "id": "aae1e972",
   "metadata": {
    "execution": {
     "iopub.execute_input": "2025-08-30T11:01:47.085272Z",
     "iopub.status.busy": "2025-08-30T11:01:47.084831Z",
     "iopub.status.idle": "2025-08-30T11:01:47.096149Z",
     "shell.execute_reply": "2025-08-30T11:01:47.094949Z"
    },
    "papermill": {
     "duration": 0.018724,
     "end_time": "2025-08-30T11:01:47.098912",
     "exception": false,
     "start_time": "2025-08-30T11:01:47.080188",
     "status": "completed"
    },
    "tags": []
   },
   "outputs": [
    {
     "data": {
      "application/javascript": [
       "parent.postMessage({\"jupyterEvent\": \"custom.exercise_interaction\", \"data\": {\"outcomeType\": 1, \"valueTowardsCompletion\": 0.3333333333333333, \"interactionType\": 1, \"questionType\": 1, \"questionId\": \"0.1_ZA\", \"learnToolsVersion\": \"0.3.5\", \"failureMessage\": \"\", \"exceptionClass\": \"\", \"trace\": \"\"}}, \"*\")"
      ],
      "text/plain": [
       "<IPython.core.display.Javascript object>"
      ]
     },
     "metadata": {},
     "output_type": "display_data"
    },
    {
     "data": {
      "text/markdown": [
       "<span style=\"color:#33cc33\">Correct:</span> \n",
       "\n",
       "The empty string has length zero. Note that the empty string is also the only string that Python considers as False when converting to boolean."
      ],
      "text/plain": [
       "Correct: \n",
       "\n",
       "The empty string has length zero. Note that the empty string is also the only string that Python considers as False when converting to boolean."
      ]
     },
     "metadata": {},
     "output_type": "display_data"
    }
   ],
   "source": [
    "a = \"\"\n",
    "length = 0\n",
    "q0.a.check()"
   ]
  },
  {
   "cell_type": "markdown",
   "id": "ddb45e7e",
   "metadata": {
    "papermill": {
     "duration": 0.003668,
     "end_time": "2025-08-30T11:01:47.107114",
     "exception": false,
     "start_time": "2025-08-30T11:01:47.103446",
     "status": "completed"
    },
    "tags": []
   },
   "source": [
    "# 0b."
   ]
  },
  {
   "cell_type": "code",
   "execution_count": 3,
   "id": "b0ec7efd",
   "metadata": {
    "execution": {
     "iopub.execute_input": "2025-08-30T11:01:47.115787Z",
     "iopub.status.busy": "2025-08-30T11:01:47.115533Z",
     "iopub.status.idle": "2025-08-30T11:01:47.122920Z",
     "shell.execute_reply": "2025-08-30T11:01:47.122234Z"
    },
    "papermill": {
     "duration": 0.013406,
     "end_time": "2025-08-30T11:01:47.124318",
     "exception": false,
     "start_time": "2025-08-30T11:01:47.110912",
     "status": "completed"
    },
    "tags": []
   },
   "outputs": [
    {
     "data": {
      "application/javascript": [
       "parent.postMessage({\"jupyterEvent\": \"custom.exercise_interaction\", \"data\": {\"outcomeType\": 1, \"valueTowardsCompletion\": 0.3333333333333333, \"interactionType\": 1, \"questionType\": 1, \"questionId\": \"0.2_ZB\", \"learnToolsVersion\": \"0.3.5\", \"failureMessage\": \"\", \"exceptionClass\": \"\", \"trace\": \"\"}}, \"*\")"
      ],
      "text/plain": [
       "<IPython.core.display.Javascript object>"
      ]
     },
     "metadata": {},
     "output_type": "display_data"
    },
    {
     "data": {
      "text/markdown": [
       "<span style=\"color:#33cc33\">Correct:</span> \n",
       "\n",
       "Keep in mind Python includes spaces (and punctuation) when counting string length."
      ],
      "text/plain": [
       "Correct: \n",
       "\n",
       "Keep in mind Python includes spaces (and punctuation) when counting string length."
      ]
     },
     "metadata": {},
     "output_type": "display_data"
    }
   ],
   "source": [
    "b = \"it's ok\"\n",
    "length = 7\n",
    "q0.b.check()"
   ]
  },
  {
   "cell_type": "markdown",
   "id": "8e05930e",
   "metadata": {
    "papermill": {
     "duration": 0.003868,
     "end_time": "2025-08-30T11:01:47.132488",
     "exception": false,
     "start_time": "2025-08-30T11:01:47.128620",
     "status": "completed"
    },
    "tags": []
   },
   "source": [
    "# 0c."
   ]
  },
  {
   "cell_type": "code",
   "execution_count": 4,
   "id": "2fa0e52d",
   "metadata": {
    "execution": {
     "iopub.execute_input": "2025-08-30T11:01:47.142779Z",
     "iopub.status.busy": "2025-08-30T11:01:47.142422Z",
     "iopub.status.idle": "2025-08-30T11:01:47.149762Z",
     "shell.execute_reply": "2025-08-30T11:01:47.148899Z"
    },
    "papermill": {
     "duration": 0.013951,
     "end_time": "2025-08-30T11:01:47.151350",
     "exception": false,
     "start_time": "2025-08-30T11:01:47.137399",
     "status": "completed"
    },
    "tags": []
   },
   "outputs": [
    {
     "data": {
      "application/javascript": [
       "parent.postMessage({\"jupyterEvent\": \"custom.exercise_interaction\", \"data\": {\"outcomeType\": 1, \"valueTowardsCompletion\": 0.3333333333333333, \"interactionType\": 1, \"questionType\": 1, \"questionId\": \"0.3_ZC\", \"learnToolsVersion\": \"0.3.5\", \"failureMessage\": \"\", \"exceptionClass\": \"\", \"trace\": \"\"}}, \"*\")"
      ],
      "text/plain": [
       "<IPython.core.display.Javascript object>"
      ]
     },
     "metadata": {},
     "output_type": "display_data"
    },
    {
     "data": {
      "text/markdown": [
       "<span style=\"color:#33cc33\">Correct:</span> \n",
       "\n",
       "Even though we use different syntax to create it, the string `c` is identical to `b`. In particular, note that the backslash is not part of the string, so it doesn't contribute to its length."
      ],
      "text/plain": [
       "Correct: \n",
       "\n",
       "Even though we use different syntax to create it, the string `c` is identical to `b`. In particular, note that the backslash is not part of the string, so it doesn't contribute to its length."
      ]
     },
     "metadata": {},
     "output_type": "display_data"
    }
   ],
   "source": [
    "c = 'it\\'s ok'\n",
    "length = 7\n",
    "q0.c.check()"
   ]
  },
  {
   "cell_type": "markdown",
   "id": "86497b42",
   "metadata": {
    "papermill": {
     "duration": 0.004427,
     "end_time": "2025-08-30T11:01:47.160240",
     "exception": false,
     "start_time": "2025-08-30T11:01:47.155813",
     "status": "completed"
    },
    "tags": []
   },
   "source": [
    "# 0d."
   ]
  },
  {
   "cell_type": "code",
   "execution_count": 5,
   "id": "752a3167",
   "metadata": {
    "execution": {
     "iopub.execute_input": "2025-08-30T11:01:47.170598Z",
     "iopub.status.busy": "2025-08-30T11:01:47.169629Z",
     "iopub.status.idle": "2025-08-30T11:01:47.178470Z",
     "shell.execute_reply": "2025-08-30T11:01:47.177701Z"
    },
    "papermill": {
     "duration": 0.01558,
     "end_time": "2025-08-30T11:01:47.179978",
     "exception": false,
     "start_time": "2025-08-30T11:01:47.164398",
     "status": "completed"
    },
    "tags": []
   },
   "outputs": [
    {
     "data": {
      "application/javascript": [
       "parent.postMessage({\"jupyterEvent\": \"custom.exercise_interaction\", \"data\": {\"outcomeType\": 1, \"valueTowardsCompletion\": 0.3333333333333333, \"interactionType\": 1, \"questionType\": 1, \"questionId\": \"0.4_ZD\", \"learnToolsVersion\": \"0.3.5\", \"failureMessage\": \"\", \"exceptionClass\": \"\", \"trace\": \"\"}}, \"*\")"
      ],
      "text/plain": [
       "<IPython.core.display.Javascript object>"
      ]
     },
     "metadata": {},
     "output_type": "display_data"
    },
    {
     "data": {
      "text/markdown": [
       "<span style=\"color:#33cc33\">Correct:</span> \n",
       "\n",
       "The fact that this string was created using triple-quote syntax doesn't make any difference in terms of its content or length. This string is exactly the same as `'hey'`."
      ],
      "text/plain": [
       "Correct: \n",
       "\n",
       "The fact that this string was created using triple-quote syntax doesn't make any difference in terms of its content or length. This string is exactly the same as `'hey'`."
      ]
     },
     "metadata": {},
     "output_type": "display_data"
    }
   ],
   "source": [
    "d = \"\"\"hey\"\"\"\n",
    "length = 3\n",
    "q0.d.check()"
   ]
  },
  {
   "cell_type": "markdown",
   "id": "d6b8fed9",
   "metadata": {
    "papermill": {
     "duration": 0.004063,
     "end_time": "2025-08-30T11:01:47.188648",
     "exception": false,
     "start_time": "2025-08-30T11:01:47.184585",
     "status": "completed"
    },
    "tags": []
   },
   "source": [
    "# 0e."
   ]
  },
  {
   "cell_type": "code",
   "execution_count": 6,
   "id": "04333431",
   "metadata": {
    "execution": {
     "iopub.execute_input": "2025-08-30T11:01:47.199080Z",
     "iopub.status.busy": "2025-08-30T11:01:47.198655Z",
     "iopub.status.idle": "2025-08-30T11:01:47.205860Z",
     "shell.execute_reply": "2025-08-30T11:01:47.204824Z"
    },
    "papermill": {
     "duration": 0.014491,
     "end_time": "2025-08-30T11:01:47.207540",
     "exception": false,
     "start_time": "2025-08-30T11:01:47.193049",
     "status": "completed"
    },
    "tags": []
   },
   "outputs": [
    {
     "data": {
      "application/javascript": [
       "parent.postMessage({\"jupyterEvent\": \"custom.exercise_interaction\", \"data\": {\"outcomeType\": 1, \"valueTowardsCompletion\": 0.3333333333333333, \"interactionType\": 1, \"questionType\": 1, \"questionId\": \"0.5_ZE\", \"learnToolsVersion\": \"0.3.5\", \"failureMessage\": \"\", \"exceptionClass\": \"\", \"trace\": \"\"}}, \"*\")"
      ],
      "text/plain": [
       "<IPython.core.display.Javascript object>"
      ]
     },
     "metadata": {},
     "output_type": "display_data"
    },
    {
     "data": {
      "text/markdown": [
       "<span style=\"color:#33cc33\">Correct:</span> \n",
       "\n",
       "The newline character is just a single character! (Even though we represent it to Python using a combination of two characters.)"
      ],
      "text/plain": [
       "Correct: \n",
       "\n",
       "The newline character is just a single character! (Even though we represent it to Python using a combination of two characters.)"
      ]
     },
     "metadata": {},
     "output_type": "display_data"
    }
   ],
   "source": [
    "e = '\\n'\n",
    "length = 1\n",
    "q0.e.check()"
   ]
  },
  {
   "cell_type": "markdown",
   "id": "8c0de84b",
   "metadata": {
    "papermill": {
     "duration": 0.004416,
     "end_time": "2025-08-30T11:01:47.216824",
     "exception": false,
     "start_time": "2025-08-30T11:01:47.212408",
     "status": "completed"
    },
    "tags": []
   },
   "source": [
    "# 1.\n",
    "\n",
    "There is a saying that \"Data scientists spend 80% of their time cleaning data, and 20% of their time complaining about cleaning data.\" Let's see if you can write a function to help clean US zip code data. Given a string, it should return whether or not that string represents a valid zip code. For our purposes, a valid zip code is any string consisting of exactly 5 digits.\n",
    "\n",
    "HINT: `str` has a method that will be useful here. Use `help(str)` to review a list of string methods."
   ]
  },
  {
   "cell_type": "code",
   "execution_count": 7,
   "id": "55146e18",
   "metadata": {
    "execution": {
     "iopub.execute_input": "2025-08-30T11:01:47.227125Z",
     "iopub.status.busy": "2025-08-30T11:01:47.226770Z",
     "iopub.status.idle": "2025-08-30T11:01:47.230919Z",
     "shell.execute_reply": "2025-08-30T11:01:47.230071Z"
    },
    "papermill": {
     "duration": 0.011001,
     "end_time": "2025-08-30T11:01:47.232380",
     "exception": false,
     "start_time": "2025-08-30T11:01:47.221379",
     "status": "completed"
    },
    "tags": []
   },
   "outputs": [],
   "source": [
    "# help(str)"
   ]
  },
  {
   "cell_type": "code",
   "execution_count": 8,
   "id": "f8f99de1",
   "metadata": {
    "execution": {
     "iopub.execute_input": "2025-08-30T11:01:47.242948Z",
     "iopub.status.busy": "2025-08-30T11:01:47.242590Z",
     "iopub.status.idle": "2025-08-30T11:01:47.250389Z",
     "shell.execute_reply": "2025-08-30T11:01:47.249502Z"
    },
    "papermill": {
     "duration": 0.014507,
     "end_time": "2025-08-30T11:01:47.251644",
     "exception": false,
     "start_time": "2025-08-30T11:01:47.237137",
     "status": "completed"
    },
    "tags": []
   },
   "outputs": [
    {
     "data": {
      "application/javascript": [
       "parent.postMessage({\"jupyterEvent\": \"custom.exercise_interaction\", \"data\": {\"outcomeType\": 1, \"valueTowardsCompletion\": 0.3333333333333333, \"interactionType\": 1, \"questionType\": 2, \"questionId\": \"1_ZipValidator\", \"learnToolsVersion\": \"0.3.5\", \"failureMessage\": \"\", \"exceptionClass\": \"\", \"trace\": \"\"}}, \"*\")"
      ],
      "text/plain": [
       "<IPython.core.display.Javascript object>"
      ]
     },
     "metadata": {},
     "output_type": "display_data"
    },
    {
     "data": {
      "text/markdown": [
       "<span style=\"color:#33cc33\">Correct</span>"
      ],
      "text/plain": [
       "Correct"
      ]
     },
     "metadata": {},
     "output_type": "display_data"
    }
   ],
   "source": [
    "def is_valid_zip(zip_code):\n",
    "    \"\"\"Returns whether the input string is a valid (5 digit) zip code\n",
    "    \"\"\"\n",
    "    return True if len(zip_code) == 5 and zip_code.isdigit() else False\n",
    "\n",
    "# Check your answer\n",
    "q1.check()"
   ]
  },
  {
   "cell_type": "code",
   "execution_count": 9,
   "id": "84936c4b",
   "metadata": {
    "execution": {
     "iopub.execute_input": "2025-08-30T11:01:47.262884Z",
     "iopub.status.busy": "2025-08-30T11:01:47.262035Z",
     "iopub.status.idle": "2025-08-30T11:01:47.266337Z",
     "shell.execute_reply": "2025-08-30T11:01:47.265306Z"
    },
    "papermill": {
     "duration": 0.011536,
     "end_time": "2025-08-30T11:01:47.268065",
     "exception": false,
     "start_time": "2025-08-30T11:01:47.256529",
     "status": "completed"
    },
    "tags": []
   },
   "outputs": [],
   "source": [
    "#q1.hint()\n",
    "#q1.solution()"
   ]
  },
  {
   "cell_type": "markdown",
   "id": "9066cf8f",
   "metadata": {
    "papermill": {
     "duration": 0.004497,
     "end_time": "2025-08-30T11:01:47.277921",
     "exception": false,
     "start_time": "2025-08-30T11:01:47.273424",
     "status": "completed"
    },
    "tags": []
   },
   "source": [
    "# 2.\n",
    "\n",
    "A researcher has gathered thousands of news articles. But she wants to focus her attention on articles including a specific word. Complete the function below to help her filter her list of articles.\n",
    "\n",
    "Your function should meet the following criteria:\n",
    "\n",
    "- Do not include documents where the keyword string shows up only as a part of a larger word. For example, if she were looking for the keyword “closed”, you would not include the string “enclosed.” \n",
    "- She does not want you to distinguish upper case from lower case letters. So the phrase “Closed the case.” would be included when the keyword is “closed”\n",
    "- Do not let periods or commas affect what is matched. “It is closed.” would be included when the keyword is “closed”. But you can assume there are no other types of punctuation."
   ]
  },
  {
   "cell_type": "code",
   "execution_count": 10,
   "id": "bf53896d",
   "metadata": {
    "execution": {
     "iopub.execute_input": "2025-08-30T11:01:47.288639Z",
     "iopub.status.busy": "2025-08-30T11:01:47.288371Z",
     "iopub.status.idle": "2025-08-30T11:01:47.291887Z",
     "shell.execute_reply": "2025-08-30T11:01:47.291137Z"
    },
    "papermill": {
     "duration": 0.010845,
     "end_time": "2025-08-30T11:01:47.293359",
     "exception": false,
     "start_time": "2025-08-30T11:01:47.282514",
     "status": "completed"
    },
    "tags": []
   },
   "outputs": [],
   "source": [
    "# help(str)"
   ]
  },
  {
   "cell_type": "code",
   "execution_count": 11,
   "id": "66b1c3db",
   "metadata": {
    "execution": {
     "iopub.execute_input": "2025-08-30T11:01:47.304287Z",
     "iopub.status.busy": "2025-08-30T11:01:47.304009Z",
     "iopub.status.idle": "2025-08-30T11:01:47.312388Z",
     "shell.execute_reply": "2025-08-30T11:01:47.311598Z"
    },
    "papermill": {
     "duration": 0.015504,
     "end_time": "2025-08-30T11:01:47.313867",
     "exception": false,
     "start_time": "2025-08-30T11:01:47.298363",
     "status": "completed"
    },
    "tags": []
   },
   "outputs": [
    {
     "data": {
      "application/javascript": [
       "parent.postMessage({\"jupyterEvent\": \"custom.exercise_interaction\", \"data\": {\"outcomeType\": 1, \"valueTowardsCompletion\": 0.3333333333333333, \"interactionType\": 1, \"questionType\": 2, \"questionId\": \"2_WordSearch\", \"learnToolsVersion\": \"0.3.5\", \"failureMessage\": \"\", \"exceptionClass\": \"\", \"trace\": \"\"}}, \"*\")"
      ],
      "text/plain": [
       "<IPython.core.display.Javascript object>"
      ]
     },
     "metadata": {},
     "output_type": "display_data"
    },
    {
     "data": {
      "text/markdown": [
       "<span style=\"color:#33cc33\">Correct</span>"
      ],
      "text/plain": [
       "Correct"
      ]
     },
     "metadata": {},
     "output_type": "display_data"
    }
   ],
   "source": [
    "def word_search(doc_list, keyword):\n",
    "    \"\"\"\n",
    "    Takes a list of documents (each document is a string) and a keyword. \n",
    "    Returns list of the index values into the original list for all documents \n",
    "    containing the keyword.\n",
    "\n",
    "    Example:\n",
    "    doc_list = [\"The Learn Python Challenge Casino.\", \"They bought a car\", \"Casinoville\"]\n",
    "    >>> word_search(doc_list, 'casino')\n",
    "    >>> [0]\n",
    "    \"\"\"\n",
    "    indexes = []\n",
    "    for i, str in enumerate(doc_list):\n",
    "        str = str.lower()\n",
    "\n",
    "        tokens = str.split()\n",
    "        tokens = [token.rstrip('.,') for token in tokens]\n",
    "        \n",
    "        if keyword in tokens:\n",
    "            indexes.append(i)\n",
    "\n",
    "    return(indexes)\n",
    "\n",
    "# Check your answer\n",
    "q2.check()"
   ]
  },
  {
   "cell_type": "code",
   "execution_count": 12,
   "id": "f6b1d087",
   "metadata": {
    "execution": {
     "iopub.execute_input": "2025-08-30T11:01:47.325306Z",
     "iopub.status.busy": "2025-08-30T11:01:47.325004Z",
     "iopub.status.idle": "2025-08-30T11:01:47.329233Z",
     "shell.execute_reply": "2025-08-30T11:01:47.328214Z"
    },
    "papermill": {
     "duration": 0.011768,
     "end_time": "2025-08-30T11:01:47.330949",
     "exception": false,
     "start_time": "2025-08-30T11:01:47.319181",
     "status": "completed"
    },
    "tags": []
   },
   "outputs": [],
   "source": [
    "#q2.hint()\n",
    "#q2.solution()"
   ]
  },
  {
   "cell_type": "markdown",
   "id": "08584226",
   "metadata": {
    "papermill": {
     "duration": 0.00452,
     "end_time": "2025-08-30T11:01:47.340589",
     "exception": false,
     "start_time": "2025-08-30T11:01:47.336069",
     "status": "completed"
    },
    "tags": []
   },
   "source": [
    "# 3.\n",
    "\n",
    "Now the researcher wants to supply multiple keywords to search for. Complete the function below to help her.\n",
    "\n",
    "(You're encouraged to use the `word_search` function you just wrote when implementing this function. Reusing code in this way makes your programs more robust and readable - and it saves typing!)"
   ]
  },
  {
   "cell_type": "code",
   "execution_count": 13,
   "id": "91d6d72b",
   "metadata": {
    "execution": {
     "iopub.execute_input": "2025-08-30T11:01:47.353525Z",
     "iopub.status.busy": "2025-08-30T11:01:47.353214Z",
     "iopub.status.idle": "2025-08-30T11:01:47.361857Z",
     "shell.execute_reply": "2025-08-30T11:01:47.361083Z"
    },
    "papermill": {
     "duration": 0.017774,
     "end_time": "2025-08-30T11:01:47.363145",
     "exception": false,
     "start_time": "2025-08-30T11:01:47.345371",
     "status": "completed"
    },
    "tags": []
   },
   "outputs": [
    {
     "data": {
      "application/javascript": [
       "parent.postMessage({\"jupyterEvent\": \"custom.exercise_interaction\", \"data\": {\"outcomeType\": 1, \"valueTowardsCompletion\": 0.3333333333333333, \"interactionType\": 1, \"questionType\": 2, \"questionId\": \"3_MultiWordSearch\", \"learnToolsVersion\": \"0.3.5\", \"failureMessage\": \"\", \"exceptionClass\": \"\", \"trace\": \"\"}}, \"*\")"
      ],
      "text/plain": [
       "<IPython.core.display.Javascript object>"
      ]
     },
     "metadata": {},
     "output_type": "display_data"
    },
    {
     "data": {
      "text/markdown": [
       "<span style=\"color:#33cc33\">Correct</span>"
      ],
      "text/plain": [
       "Correct"
      ]
     },
     "metadata": {},
     "output_type": "display_data"
    }
   ],
   "source": [
    "def multi_word_search(doc_list, keywords):\n",
    "    \"\"\"\n",
    "    Takes list of documents (each document is a string) and a list of keywords.  \n",
    "    Returns a dictionary where each key is a keyword, and the value is a list of indices\n",
    "    (from doc_list) of the documents containing that keyword\n",
    "\n",
    "    >>> doc_list = [\"The Learn Python Challenge Casino.\", \"They bought a car and a casino\", \"Casinoville\"]\n",
    "    >>> keywords = ['casino', 'they']\n",
    "    >>> multi_word_search(doc_list, keywords)\n",
    "    {'casino': [0, 1], 'they': [1]}\n",
    "    \"\"\"\n",
    "    return {keyword: word_search(doc_list, keyword) for keyword in keywords}\n",
    "\n",
    "# Check your answer\n",
    "q3.check()"
   ]
  },
  {
   "cell_type": "code",
   "execution_count": 14,
   "id": "c7a05668",
   "metadata": {
    "execution": {
     "iopub.execute_input": "2025-08-30T11:01:47.374552Z",
     "iopub.status.busy": "2025-08-30T11:01:47.374277Z",
     "iopub.status.idle": "2025-08-30T11:01:47.378034Z",
     "shell.execute_reply": "2025-08-30T11:01:47.377080Z"
    },
    "papermill": {
     "duration": 0.011397,
     "end_time": "2025-08-30T11:01:47.379650",
     "exception": false,
     "start_time": "2025-08-30T11:01:47.368253",
     "status": "completed"
    },
    "tags": []
   },
   "outputs": [],
   "source": [
    "#q3.solution()"
   ]
  },
  {
   "cell_type": "markdown",
   "id": "db02d6ae",
   "metadata": {
    "papermill": {
     "duration": 0.005199,
     "end_time": "2025-08-30T11:01:47.390224",
     "exception": false,
     "start_time": "2025-08-30T11:01:47.385025",
     "status": "completed"
    },
    "tags": []
   },
   "source": [
    "# Keep Going\n",
    "\n",
    "You've learned a lot. But even the best programmers rely heavily on \"libraries\" of code from other programmers. You'll learn about that in **[the last lesson](https://www.kaggle.com/colinmorris/working-with-external-libraries)**.\n"
   ]
  },
  {
   "cell_type": "markdown",
   "id": "792e2195",
   "metadata": {
    "papermill": {
     "duration": 0.004801,
     "end_time": "2025-08-30T11:01:47.400691",
     "exception": false,
     "start_time": "2025-08-30T11:01:47.395890",
     "status": "completed"
    },
    "tags": []
   },
   "source": [
    "---\n",
    "\n",
    "\n",
    "\n",
    "\n",
    "*Have questions or comments? Visit the [course discussion forum](https://www.kaggle.com/learn/python/discussion) to chat with other learners.*"
   ]
  }
 ],
 "metadata": {
  "kaggle": {
   "accelerator": "none",
   "dataSources": [],
   "isGpuEnabled": false,
   "isInternetEnabled": false,
   "language": "python",
   "sourceType": "notebook"
  },
  "kernelspec": {
   "display_name": "Python 3",
   "language": "python",
   "name": "python3"
  },
  "language_info": {
   "codemirror_mode": {
    "name": "ipython",
    "version": 3
   },
   "file_extension": ".py",
   "mimetype": "text/x-python",
   "name": "python",
   "nbconvert_exporter": "python",
   "pygments_lexer": "ipython3",
   "version": "3.11.13"
  },
  "learntools_metadata": {
   "lesson_index": 5,
   "type": "exercise"
  },
  "papermill": {
   "default_parameters": {},
   "duration": 8.542201,
   "end_time": "2025-08-30T11:01:47.926289",
   "environment_variables": {},
   "exception": null,
   "input_path": "__notebook__.ipynb",
   "output_path": "__notebook__.ipynb",
   "parameters": {},
   "start_time": "2025-08-30T11:01:39.384088",
   "version": "2.6.0"
  }
 },
 "nbformat": 4,
 "nbformat_minor": 5
}
