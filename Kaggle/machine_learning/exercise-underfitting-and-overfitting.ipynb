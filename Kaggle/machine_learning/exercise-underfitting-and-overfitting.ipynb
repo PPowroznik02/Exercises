{
 "cells": [
  {
   "cell_type": "markdown",
   "id": "3a548d9d",
   "metadata": {
    "papermill": {
     "duration": 0.003174,
     "end_time": "2025-09-03T10:52:23.751838",
     "exception": false,
     "start_time": "2025-09-03T10:52:23.748664",
     "status": "completed"
    },
    "tags": []
   },
   "source": [
    "**This notebook is an exercise in the [Introduction to Machine Learning](https://www.kaggle.com/learn/intro-to-machine-learning) course.  You can reference the tutorial at [this link](https://www.kaggle.com/dansbecker/underfitting-and-overfitting).**\n",
    "\n",
    "---\n"
   ]
  },
  {
   "cell_type": "markdown",
   "id": "68471b28",
   "metadata": {
    "papermill": {
     "duration": 0.002429,
     "end_time": "2025-09-03T10:52:23.757325",
     "exception": false,
     "start_time": "2025-09-03T10:52:23.754896",
     "status": "completed"
    },
    "tags": []
   },
   "source": [
    "## Recap\n",
    "You've built your first model, and now it's time to optimize the size of the tree to make better predictions. Run this cell to set up your coding environment where the previous step left off."
   ]
  },
  {
   "cell_type": "code",
   "execution_count": 1,
   "id": "87a69a7d",
   "metadata": {
    "execution": {
     "iopub.execute_input": "2025-09-03T10:52:23.764361Z",
     "iopub.status.busy": "2025-09-03T10:52:23.763390Z",
     "iopub.status.idle": "2025-09-03T10:52:27.591069Z",
     "shell.execute_reply": "2025-09-03T10:52:27.590075Z"
    },
    "papermill": {
     "duration": 3.832691,
     "end_time": "2025-09-03T10:52:27.592640",
     "exception": false,
     "start_time": "2025-09-03T10:52:23.759949",
     "status": "completed"
    },
    "tags": []
   },
   "outputs": [
    {
     "name": "stdout",
     "output_type": "stream",
     "text": [
      "Validation MAE: 29,653\n",
      "\n",
      "Setup complete\n"
     ]
    }
   ],
   "source": [
    "# Code you have previously used to load data\n",
    "import pandas as pd\n",
    "from sklearn.metrics import mean_absolute_error\n",
    "from sklearn.model_selection import train_test_split\n",
    "from sklearn.tree import DecisionTreeRegressor\n",
    "\n",
    "\n",
    "# Path of the file to read\n",
    "iowa_file_path = '../input/home-data-for-ml-course/train.csv'\n",
    "\n",
    "home_data = pd.read_csv(iowa_file_path)\n",
    "# Create target object and call it y\n",
    "y = home_data.SalePrice\n",
    "# Create X\n",
    "features = ['LotArea', 'YearBuilt', '1stFlrSF', '2ndFlrSF', 'FullBath', 'BedroomAbvGr', 'TotRmsAbvGrd']\n",
    "X = home_data[features]\n",
    "\n",
    "# Split into validation and training data\n",
    "train_X, val_X, train_y, val_y = train_test_split(X, y, random_state=1)\n",
    "\n",
    "# Specify Model\n",
    "iowa_model = DecisionTreeRegressor(random_state=1)\n",
    "# Fit Model\n",
    "iowa_model.fit(train_X, train_y)\n",
    "\n",
    "# Make validation predictions and calculate mean absolute error\n",
    "val_predictions = iowa_model.predict(val_X)\n",
    "val_mae = mean_absolute_error(val_predictions, val_y)\n",
    "print(\"Validation MAE: {:,.0f}\".format(val_mae))\n",
    "\n",
    "# Set up code checking\n",
    "from learntools.core import binder\n",
    "binder.bind(globals())\n",
    "from learntools.machine_learning.ex5 import *\n",
    "print(\"\\nSetup complete\")"
   ]
  },
  {
   "cell_type": "markdown",
   "id": "f466b7db",
   "metadata": {
    "papermill": {
     "duration": 0.002514,
     "end_time": "2025-09-03T10:52:27.597910",
     "exception": false,
     "start_time": "2025-09-03T10:52:27.595396",
     "status": "completed"
    },
    "tags": []
   },
   "source": [
    "# Exercises\n",
    "You could write the function `get_mae` yourself. For now, we'll supply it. This is the same function you read about in the previous lesson. Just run the cell below."
   ]
  },
  {
   "cell_type": "code",
   "execution_count": 2,
   "id": "bf09c4e5",
   "metadata": {
    "execution": {
     "iopub.execute_input": "2025-09-03T10:52:27.606027Z",
     "iopub.status.busy": "2025-09-03T10:52:27.605715Z",
     "iopub.status.idle": "2025-09-03T10:52:27.610812Z",
     "shell.execute_reply": "2025-09-03T10:52:27.609971Z"
    },
    "papermill": {
     "duration": 0.010755,
     "end_time": "2025-09-03T10:52:27.612507",
     "exception": false,
     "start_time": "2025-09-03T10:52:27.601752",
     "status": "completed"
    },
    "tags": []
   },
   "outputs": [],
   "source": [
    "def get_mae(max_leaf_nodes, train_X, val_X, train_y, val_y):\n",
    "    model = DecisionTreeRegressor(max_leaf_nodes=max_leaf_nodes, random_state=0)\n",
    "    model.fit(train_X, train_y)\n",
    "    preds_val = model.predict(val_X)\n",
    "    mae = mean_absolute_error(val_y, preds_val)\n",
    "    return(mae)"
   ]
  },
  {
   "cell_type": "markdown",
   "id": "0fe788ce",
   "metadata": {
    "papermill": {
     "duration": 0.002428,
     "end_time": "2025-09-03T10:52:27.617820",
     "exception": false,
     "start_time": "2025-09-03T10:52:27.615392",
     "status": "completed"
    },
    "tags": []
   },
   "source": [
    "## Step 1: Compare Different Tree Sizes\n",
    "Write a loop that tries the following values for *max_leaf_nodes* from a set of possible values.\n",
    "\n",
    "Call the *get_mae* function on each value of max_leaf_nodes. Store the output in some way that allows you to select the value of `max_leaf_nodes` that gives the most accurate model on your data."
   ]
  },
  {
   "cell_type": "code",
   "execution_count": 3,
   "id": "8eae24de",
   "metadata": {
    "execution": {
     "iopub.execute_input": "2025-09-03T10:52:27.624910Z",
     "iopub.status.busy": "2025-09-03T10:52:27.624602Z",
     "iopub.status.idle": "2025-09-03T10:52:27.671409Z",
     "shell.execute_reply": "2025-09-03T10:52:27.670529Z"
    },
    "papermill": {
     "duration": 0.052217,
     "end_time": "2025-09-03T10:52:27.672733",
     "exception": false,
     "start_time": "2025-09-03T10:52:27.620516",
     "status": "completed"
    },
    "tags": []
   },
   "outputs": [
    {
     "data": {
      "application/javascript": [
       "parent.postMessage({\"jupyterEvent\": \"custom.exercise_interaction\", \"data\": {\"outcomeType\": 1, \"valueTowardsCompletion\": 0.5, \"interactionType\": 1, \"questionType\": 1, \"questionId\": \"1_BestTreeSize\", \"learnToolsVersion\": \"0.3.5\", \"failureMessage\": \"\", \"exceptionClass\": \"\", \"trace\": \"\"}}, \"*\")"
      ],
      "text/plain": [
       "<IPython.core.display.Javascript object>"
      ]
     },
     "metadata": {},
     "output_type": "display_data"
    },
    {
     "data": {
      "text/markdown": [
       "<span style=\"color:#33cc33\">Correct</span>"
      ],
      "text/plain": [
       "Correct"
      ]
     },
     "metadata": {},
     "output_type": "display_data"
    }
   ],
   "source": [
    "candidate_max_leaf_nodes = [5, 25, 50, 100, 250, 500]\n",
    "mae_measueres = {}\n",
    "# Write loop to find the ideal tree size from candidate_max_leaf_nodes\n",
    "for nodes_num in candidate_max_leaf_nodes:\n",
    "    mae_measueres[get_mae(nodes_num, train_X, val_X, train_y, val_y)] = nodes_num\n",
    "\n",
    "# Store the best value of max_leaf_nodes (it will be either 5, 25, 50, 100, 250 or 500)\n",
    "best_tree_size = mae_measueres[min(mae_measueres.keys())]\n",
    "\n",
    "# Check your answer\n",
    "step_1.check()"
   ]
  },
  {
   "cell_type": "code",
   "execution_count": 4,
   "id": "9c9adc1e",
   "metadata": {
    "execution": {
     "iopub.execute_input": "2025-09-03T10:52:27.679813Z",
     "iopub.status.busy": "2025-09-03T10:52:27.679499Z",
     "iopub.status.idle": "2025-09-03T10:52:27.683577Z",
     "shell.execute_reply": "2025-09-03T10:52:27.682783Z"
    },
    "papermill": {
     "duration": 0.009429,
     "end_time": "2025-09-03T10:52:27.685071",
     "exception": false,
     "start_time": "2025-09-03T10:52:27.675642",
     "status": "completed"
    },
    "tags": []
   },
   "outputs": [],
   "source": [
    "# The lines below will show you a hint or the solution.\n",
    "# step_1.hint() \n",
    "# step_1.solution()"
   ]
  },
  {
   "cell_type": "markdown",
   "id": "7b23e16d",
   "metadata": {
    "papermill": {
     "duration": 0.002482,
     "end_time": "2025-09-03T10:52:27.691060",
     "exception": false,
     "start_time": "2025-09-03T10:52:27.688578",
     "status": "completed"
    },
    "tags": []
   },
   "source": [
    "## Step 2: Fit Model Using All Data\n",
    "You know the best tree size. If you were going to deploy this model in practice, you would make it even more accurate by using all of the data and keeping that tree size.  That is, you don't need to hold out the validation data now that you've made all your modeling decisions."
   ]
  },
  {
   "cell_type": "code",
   "execution_count": 5,
   "id": "14c8a19a",
   "metadata": {
    "execution": {
     "iopub.execute_input": "2025-09-03T10:52:27.697525Z",
     "iopub.status.busy": "2025-09-03T10:52:27.697217Z",
     "iopub.status.idle": "2025-09-03T10:52:27.711776Z",
     "shell.execute_reply": "2025-09-03T10:52:27.710913Z"
    },
    "papermill": {
     "duration": 0.01946,
     "end_time": "2025-09-03T10:52:27.713219",
     "exception": false,
     "start_time": "2025-09-03T10:52:27.693759",
     "status": "completed"
    },
    "tags": []
   },
   "outputs": [
    {
     "data": {
      "application/javascript": [
       "parent.postMessage({\"jupyterEvent\": \"custom.exercise_interaction\", \"data\": {\"outcomeType\": 1, \"valueTowardsCompletion\": 0.5, \"interactionType\": 1, \"questionType\": 2, \"questionId\": \"2_FitModelWithAllData\", \"learnToolsVersion\": \"0.3.5\", \"failureMessage\": \"\", \"exceptionClass\": \"\", \"trace\": \"\"}}, \"*\")"
      ],
      "text/plain": [
       "<IPython.core.display.Javascript object>"
      ]
     },
     "metadata": {},
     "output_type": "display_data"
    },
    {
     "data": {
      "text/markdown": [
       "<span style=\"color:#33cc33\">Correct</span>"
      ],
      "text/plain": [
       "Correct"
      ]
     },
     "metadata": {},
     "output_type": "display_data"
    }
   ],
   "source": [
    "# Fill in argument to make optimal size and uncomment\n",
    "final_model = DecisionTreeRegressor(max_leaf_nodes=best_tree_size, random_state=0)\n",
    "\n",
    "# fit the final model and uncomment the next two lines\n",
    "final_model.fit(X, y)\n",
    "\n",
    "# Check your answer\n",
    "step_2.check()"
   ]
  },
  {
   "cell_type": "code",
   "execution_count": 6,
   "id": "c2dcdc6f",
   "metadata": {
    "execution": {
     "iopub.execute_input": "2025-09-03T10:52:27.720707Z",
     "iopub.status.busy": "2025-09-03T10:52:27.720061Z",
     "iopub.status.idle": "2025-09-03T10:52:27.724060Z",
     "shell.execute_reply": "2025-09-03T10:52:27.723362Z"
    },
    "papermill": {
     "duration": 0.009218,
     "end_time": "2025-09-03T10:52:27.725519",
     "exception": false,
     "start_time": "2025-09-03T10:52:27.716301",
     "status": "completed"
    },
    "tags": []
   },
   "outputs": [],
   "source": [
    "# step_2.hint()\n",
    "# step_2.solution()"
   ]
  },
  {
   "cell_type": "markdown",
   "id": "0f94e0dd",
   "metadata": {
    "papermill": {
     "duration": 0.002843,
     "end_time": "2025-09-03T10:52:27.731458",
     "exception": false,
     "start_time": "2025-09-03T10:52:27.728615",
     "status": "completed"
    },
    "tags": []
   },
   "source": [
    "You've tuned this model and improved your results. But we are still using Decision Tree models, which are not very sophisticated by modern machine learning standards. In the next step you will learn to use Random Forests to improve your models even more.\n",
    "\n",
    "# Keep Going\n",
    "\n",
    "You are ready for **[Random Forests](https://www.kaggle.com/dansbecker/random-forests).**\n"
   ]
  },
  {
   "cell_type": "markdown",
   "id": "f473b313",
   "metadata": {
    "papermill": {
     "duration": 0.003268,
     "end_time": "2025-09-03T10:52:27.737953",
     "exception": false,
     "start_time": "2025-09-03T10:52:27.734685",
     "status": "completed"
    },
    "tags": []
   },
   "source": [
    "---\n",
    "\n",
    "\n",
    "\n",
    "\n",
    "*Have questions or comments? Visit the [course discussion forum](https://www.kaggle.com/learn/intro-to-machine-learning/discussion) to chat with other learners.*"
   ]
  }
 ],
 "metadata": {
  "kaggle": {
   "accelerator": "none",
   "dataSources": [
    {
     "databundleVersionId": 111096,
     "sourceId": 10211,
     "sourceType": "competition"
    },
    {
     "datasetId": 11167,
     "sourceId": 15520,
     "sourceType": "datasetVersion"
    },
    {
     "datasetId": 2709,
     "sourceId": 38454,
     "sourceType": "datasetVersion"
    }
   ],
   "isGpuEnabled": false,
   "isInternetEnabled": false,
   "language": "python",
   "sourceType": "notebook"
  },
  "kernelspec": {
   "display_name": "Python 3",
   "language": "python",
   "name": "python3"
  },
  "language_info": {
   "codemirror_mode": {
    "name": "ipython",
    "version": 3
   },
   "file_extension": ".py",
   "mimetype": "text/x-python",
   "name": "python",
   "nbconvert_exporter": "python",
   "pygments_lexer": "ipython3",
   "version": "3.11.13"
  },
  "papermill": {
   "default_parameters": {},
   "duration": 9.844616,
   "end_time": "2025-09-03T10:52:28.460172",
   "environment_variables": {},
   "exception": null,
   "input_path": "__notebook__.ipynb",
   "output_path": "__notebook__.ipynb",
   "parameters": {},
   "start_time": "2025-09-03T10:52:18.615556",
   "version": "2.6.0"
  }
 },
 "nbformat": 4,
 "nbformat_minor": 5
}
