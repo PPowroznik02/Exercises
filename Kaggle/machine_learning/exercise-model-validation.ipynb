{
 "cells": [
  {
   "cell_type": "markdown",
   "id": "fe34b53d",
   "metadata": {
    "papermill": {
     "duration": 0.004395,
     "end_time": "2025-09-03T10:56:45.126556",
     "exception": false,
     "start_time": "2025-09-03T10:56:45.122161",
     "status": "completed"
    },
    "tags": []
   },
   "source": [
    "**This notebook is an exercise in the [Introduction to Machine Learning](https://www.kaggle.com/learn/intro-to-machine-learning) course.  You can reference the tutorial at [this link](https://www.kaggle.com/dansbecker/model-validation).**\n",
    "\n",
    "---\n"
   ]
  },
  {
   "cell_type": "markdown",
   "id": "d319f561",
   "metadata": {
    "papermill": {
     "duration": 0.003157,
     "end_time": "2025-09-03T10:56:45.133705",
     "exception": false,
     "start_time": "2025-09-03T10:56:45.130548",
     "status": "completed"
    },
    "tags": []
   },
   "source": [
    "## Recap\n",
    "You've built a model. In this exercise you will test how good your model is.\n",
    "\n",
    "Run the cell below to set up your coding environment where the previous exercise left off."
   ]
  },
  {
   "cell_type": "code",
   "execution_count": 1,
   "id": "290c6741",
   "metadata": {
    "execution": {
     "iopub.execute_input": "2025-09-03T10:56:45.142250Z",
     "iopub.status.busy": "2025-09-03T10:56:45.141931Z",
     "iopub.status.idle": "2025-09-03T10:56:49.531121Z",
     "shell.execute_reply": "2025-09-03T10:56:49.530044Z"
    },
    "papermill": {
     "duration": 4.395456,
     "end_time": "2025-09-03T10:56:49.532750",
     "exception": false,
     "start_time": "2025-09-03T10:56:45.137294",
     "status": "completed"
    },
    "tags": []
   },
   "outputs": [
    {
     "name": "stdout",
     "output_type": "stream",
     "text": [
      "First in-sample predictions: [208500. 181500. 223500. 140000. 250000.]\n",
      "Actual target values for those homes: [208500, 181500, 223500, 140000, 250000]\n",
      "Setup Complete\n"
     ]
    }
   ],
   "source": [
    "# Code you have previously used to load data\n",
    "import pandas as pd\n",
    "from sklearn.tree import DecisionTreeRegressor\n",
    "\n",
    "# Path of the file to read\n",
    "iowa_file_path = '../input/home-data-for-ml-course/train.csv'\n",
    "\n",
    "home_data = pd.read_csv(iowa_file_path)\n",
    "y = home_data.SalePrice\n",
    "feature_columns = ['LotArea', 'YearBuilt', '1stFlrSF', '2ndFlrSF', 'FullBath', 'BedroomAbvGr', 'TotRmsAbvGrd']\n",
    "X = home_data[feature_columns]\n",
    "\n",
    "# Specify Model\n",
    "iowa_model = DecisionTreeRegressor()\n",
    "# Fit Model\n",
    "iowa_model.fit(X, y)\n",
    "\n",
    "print(\"First in-sample predictions:\", iowa_model.predict(X.head()))\n",
    "print(\"Actual target values for those homes:\", y.head().tolist())\n",
    "\n",
    "# Set up code checking\n",
    "from learntools.core import binder\n",
    "binder.bind(globals())\n",
    "from learntools.machine_learning.ex4 import *\n",
    "print(\"Setup Complete\")"
   ]
  },
  {
   "cell_type": "markdown",
   "id": "a34bf1be",
   "metadata": {
    "papermill": {
     "duration": 0.003417,
     "end_time": "2025-09-03T10:56:49.539990",
     "exception": false,
     "start_time": "2025-09-03T10:56:49.536573",
     "status": "completed"
    },
    "tags": []
   },
   "source": [
    "# Exercises\n",
    "\n",
    "## Step 1: Split Your Data\n",
    "Use the `train_test_split` function to split up your data.\n",
    "\n",
    "Give it the argument `random_state=1` so the `check` functions know what to expect when verifying your code.\n",
    "\n",
    "Recall, your features are loaded in the DataFrame **X** and your target is loaded in **y**.\n"
   ]
  },
  {
   "cell_type": "code",
   "execution_count": 2,
   "id": "8c029e7f",
   "metadata": {
    "execution": {
     "iopub.execute_input": "2025-09-03T10:56:49.548651Z",
     "iopub.status.busy": "2025-09-03T10:56:49.547784Z",
     "iopub.status.idle": "2025-09-03T10:56:49.564573Z",
     "shell.execute_reply": "2025-09-03T10:56:49.563667Z"
    },
    "papermill": {
     "duration": 0.022605,
     "end_time": "2025-09-03T10:56:49.566096",
     "exception": false,
     "start_time": "2025-09-03T10:56:49.543491",
     "status": "completed"
    },
    "tags": []
   },
   "outputs": [
    {
     "data": {
      "application/javascript": [
       "parent.postMessage({\"jupyterEvent\": \"custom.exercise_interaction\", \"data\": {\"outcomeType\": 1, \"valueTowardsCompletion\": 0.25, \"interactionType\": 1, \"questionType\": 2, \"questionId\": \"1_SplitData\", \"learnToolsVersion\": \"0.3.5\", \"failureMessage\": \"\", \"exceptionClass\": \"\", \"trace\": \"\"}}, \"*\")"
      ],
      "text/plain": [
       "<IPython.core.display.Javascript object>"
      ]
     },
     "metadata": {},
     "output_type": "display_data"
    },
    {
     "data": {
      "text/markdown": [
       "<span style=\"color:#33cc33\">Correct</span>"
      ],
      "text/plain": [
       "Correct"
      ]
     },
     "metadata": {},
     "output_type": "display_data"
    }
   ],
   "source": [
    "# Import the train_test_split function and uncomment\n",
    "from sklearn.model_selection import train_test_split\n",
    "\n",
    "# fill in and uncomment\n",
    "train_X, val_X, train_y, val_y = train_test_split(X, y, random_state=1)\n",
    "\n",
    "# Check your answer\n",
    "step_1.check()"
   ]
  },
  {
   "cell_type": "code",
   "execution_count": 3,
   "id": "4ba9cb6b",
   "metadata": {
    "execution": {
     "iopub.execute_input": "2025-09-03T10:56:49.574917Z",
     "iopub.status.busy": "2025-09-03T10:56:49.574627Z",
     "iopub.status.idle": "2025-09-03T10:56:49.578864Z",
     "shell.execute_reply": "2025-09-03T10:56:49.577930Z"
    },
    "papermill": {
     "duration": 0.010703,
     "end_time": "2025-09-03T10:56:49.580533",
     "exception": false,
     "start_time": "2025-09-03T10:56:49.569830",
     "status": "completed"
    },
    "tags": []
   },
   "outputs": [],
   "source": [
    "# The lines below will show you a hint or the solution.\n",
    "# step_1.hint() \n",
    "# step_1.solution()\n"
   ]
  },
  {
   "cell_type": "markdown",
   "id": "0b714fb6",
   "metadata": {
    "papermill": {
     "duration": 0.003349,
     "end_time": "2025-09-03T10:56:49.587632",
     "exception": false,
     "start_time": "2025-09-03T10:56:49.584283",
     "status": "completed"
    },
    "tags": []
   },
   "source": [
    "## Step 2: Specify and Fit the Model\n",
    "\n",
    "Create a `DecisionTreeRegressor` model and fit it to the relevant data.\n",
    "Set `random_state` to 1 again when creating the model."
   ]
  },
  {
   "cell_type": "code",
   "execution_count": 4,
   "id": "ba9c3a55",
   "metadata": {
    "execution": {
     "iopub.execute_input": "2025-09-03T10:56:49.596083Z",
     "iopub.status.busy": "2025-09-03T10:56:49.595769Z",
     "iopub.status.idle": "2025-09-03T10:56:49.621674Z",
     "shell.execute_reply": "2025-09-03T10:56:49.620624Z"
    },
    "papermill": {
     "duration": 0.032016,
     "end_time": "2025-09-03T10:56:49.623255",
     "exception": false,
     "start_time": "2025-09-03T10:56:49.591239",
     "status": "completed"
    },
    "tags": []
   },
   "outputs": [
    {
     "name": "stdout",
     "output_type": "stream",
     "text": [
      "[186500. 184000. 130000.  92000. 164500. 220000. 335000. 144152. 215000.\n",
      " 262000.]\n",
      "[186500. 184000. 130000.  92000. 164500. 220000. 335000. 144152. 215000.\n",
      " 262000.]\n"
     ]
    },
    {
     "data": {
      "application/javascript": [
       "parent.postMessage({\"jupyterEvent\": \"custom.exercise_interaction\", \"data\": {\"outcomeType\": 1, \"valueTowardsCompletion\": 0.25, \"interactionType\": 1, \"questionType\": 2, \"questionId\": \"2_FitModelWithTrain\", \"learnToolsVersion\": \"0.3.5\", \"failureMessage\": \"\", \"exceptionClass\": \"\", \"trace\": \"\"}}, \"*\")"
      ],
      "text/plain": [
       "<IPython.core.display.Javascript object>"
      ]
     },
     "metadata": {},
     "output_type": "display_data"
    },
    {
     "data": {
      "text/markdown": [
       "<span style=\"color:#33cc33\">Correct</span>"
      ],
      "text/plain": [
       "Correct"
      ]
     },
     "metadata": {},
     "output_type": "display_data"
    }
   ],
   "source": [
    "# You imported DecisionTreeRegressor in your last exercise\n",
    "# and that code has been copied to the setup code above. So, no need to\n",
    "# import it again\n",
    "\n",
    "# Specify the model\n",
    "iowa_model = DecisionTreeRegressor(random_state=1)\n",
    "\n",
    "# Fit iowa_model with the training data.\n",
    "iowa_model.fit(train_X, train_y)\n",
    "\n",
    "# Check your answer\n",
    "step_2.check()"
   ]
  },
  {
   "cell_type": "code",
   "execution_count": 5,
   "id": "d9c6ae5c",
   "metadata": {
    "execution": {
     "iopub.execute_input": "2025-09-03T10:56:49.632605Z",
     "iopub.status.busy": "2025-09-03T10:56:49.632237Z",
     "iopub.status.idle": "2025-09-03T10:56:49.636672Z",
     "shell.execute_reply": "2025-09-03T10:56:49.635716Z"
    },
    "papermill": {
     "duration": 0.010982,
     "end_time": "2025-09-03T10:56:49.638503",
     "exception": false,
     "start_time": "2025-09-03T10:56:49.627521",
     "status": "completed"
    },
    "tags": []
   },
   "outputs": [],
   "source": [
    "# step_2.hint()\n",
    "# step_2.solution()"
   ]
  },
  {
   "cell_type": "markdown",
   "id": "b7a0a1cc",
   "metadata": {
    "papermill": {
     "duration": 0.00356,
     "end_time": "2025-09-03T10:56:49.647176",
     "exception": false,
     "start_time": "2025-09-03T10:56:49.643616",
     "status": "completed"
    },
    "tags": []
   },
   "source": [
    "## Step 3: Make Predictions with Validation data\n"
   ]
  },
  {
   "cell_type": "code",
   "execution_count": 6,
   "id": "3f051c3a",
   "metadata": {
    "execution": {
     "iopub.execute_input": "2025-09-03T10:56:49.656154Z",
     "iopub.status.busy": "2025-09-03T10:56:49.655817Z",
     "iopub.status.idle": "2025-09-03T10:56:49.667039Z",
     "shell.execute_reply": "2025-09-03T10:56:49.666088Z"
    },
    "papermill": {
     "duration": 0.017581,
     "end_time": "2025-09-03T10:56:49.668536",
     "exception": false,
     "start_time": "2025-09-03T10:56:49.650955",
     "status": "completed"
    },
    "tags": []
   },
   "outputs": [
    {
     "data": {
      "application/javascript": [
       "parent.postMessage({\"jupyterEvent\": \"custom.exercise_interaction\", \"data\": {\"outcomeType\": 1, \"valueTowardsCompletion\": 0.25, \"interactionType\": 1, \"questionType\": 2, \"questionId\": \"3_ValPreds\", \"learnToolsVersion\": \"0.3.5\", \"failureMessage\": \"\", \"exceptionClass\": \"\", \"trace\": \"\"}}, \"*\")"
      ],
      "text/plain": [
       "<IPython.core.display.Javascript object>"
      ]
     },
     "metadata": {},
     "output_type": "display_data"
    },
    {
     "data": {
      "text/markdown": [
       "<span style=\"color:#33cc33\">Correct</span>"
      ],
      "text/plain": [
       "Correct"
      ]
     },
     "metadata": {},
     "output_type": "display_data"
    }
   ],
   "source": [
    "# Predict with all validation observations\n",
    "val_predictions = iowa_model.predict(val_X)\n",
    "\n",
    "# Check your answer\n",
    "step_3.check()"
   ]
  },
  {
   "cell_type": "code",
   "execution_count": 7,
   "id": "9b3dd37c",
   "metadata": {
    "execution": {
     "iopub.execute_input": "2025-09-03T10:56:49.677906Z",
     "iopub.status.busy": "2025-09-03T10:56:49.677619Z",
     "iopub.status.idle": "2025-09-03T10:56:49.681680Z",
     "shell.execute_reply": "2025-09-03T10:56:49.680774Z"
    },
    "papermill": {
     "duration": 0.010565,
     "end_time": "2025-09-03T10:56:49.683232",
     "exception": false,
     "start_time": "2025-09-03T10:56:49.672667",
     "status": "completed"
    },
    "tags": []
   },
   "outputs": [],
   "source": [
    "# step_3.hint()\n",
    "# step_3.solution()"
   ]
  },
  {
   "cell_type": "markdown",
   "id": "d054c7fa",
   "metadata": {
    "papermill": {
     "duration": 0.003754,
     "end_time": "2025-09-03T10:56:49.691121",
     "exception": false,
     "start_time": "2025-09-03T10:56:49.687367",
     "status": "completed"
    },
    "tags": []
   },
   "source": [
    "Inspect your predictions and actual values from validation data."
   ]
  },
  {
   "cell_type": "code",
   "execution_count": 8,
   "id": "f1224859",
   "metadata": {
    "execution": {
     "iopub.execute_input": "2025-09-03T10:56:49.700904Z",
     "iopub.status.busy": "2025-09-03T10:56:49.700572Z",
     "iopub.status.idle": "2025-09-03T10:56:49.707366Z",
     "shell.execute_reply": "2025-09-03T10:56:49.706113Z"
    },
    "papermill": {
     "duration": 0.013956,
     "end_time": "2025-09-03T10:56:49.708955",
     "exception": false,
     "start_time": "2025-09-03T10:56:49.694999",
     "status": "completed"
    },
    "tags": []
   },
   "outputs": [
    {
     "name": "stdout",
     "output_type": "stream",
     "text": [
      "[186500. 184000. 130000.  92000. 164500.]\n",
      "258     231500\n",
      "267     179500\n",
      "288     122000\n",
      "649      84500\n",
      "1233    142000\n",
      "Name: SalePrice, dtype: int64\n"
     ]
    }
   ],
   "source": [
    "# print the top few validation predictions\n",
    "print(val_predictions[:5])\n",
    "# print the top few actual prices from validation data\n",
    "print(val_y[:5])"
   ]
  },
  {
   "cell_type": "markdown",
   "id": "002cb0af",
   "metadata": {
    "papermill": {
     "duration": 0.003926,
     "end_time": "2025-09-03T10:56:49.717348",
     "exception": false,
     "start_time": "2025-09-03T10:56:49.713422",
     "status": "completed"
    },
    "tags": []
   },
   "source": [
    "What do you notice that is different from what you saw with in-sample predictions (which are printed after the top code cell in this page).\n",
    "\n",
    "Do you remember why validation predictions differ from in-sample (or training) predictions? This is an important idea from the last lesson.\n",
    "\n",
    "## Step 4: Calculate the Mean Absolute Error in Validation Data\n"
   ]
  },
  {
   "cell_type": "code",
   "execution_count": 9,
   "id": "3208aad7",
   "metadata": {
    "execution": {
     "iopub.execute_input": "2025-09-03T10:56:49.726652Z",
     "iopub.status.busy": "2025-09-03T10:56:49.726295Z",
     "iopub.status.idle": "2025-09-03T10:56:49.735392Z",
     "shell.execute_reply": "2025-09-03T10:56:49.734373Z"
    },
    "papermill": {
     "duration": 0.015651,
     "end_time": "2025-09-03T10:56:49.737022",
     "exception": false,
     "start_time": "2025-09-03T10:56:49.721371",
     "status": "completed"
    },
    "tags": []
   },
   "outputs": [
    {
     "data": {
      "application/javascript": [
       "parent.postMessage({\"jupyterEvent\": \"custom.exercise_interaction\", \"data\": {\"outcomeType\": 1, \"valueTowardsCompletion\": 0.25, \"interactionType\": 1, \"questionType\": 1, \"questionId\": \"4_MAE\", \"learnToolsVersion\": \"0.3.5\", \"failureMessage\": \"\", \"exceptionClass\": \"\", \"trace\": \"\"}}, \"*\")"
      ],
      "text/plain": [
       "<IPython.core.display.Javascript object>"
      ]
     },
     "metadata": {},
     "output_type": "display_data"
    },
    {
     "data": {
      "text/markdown": [
       "<span style=\"color:#33cc33\">Correct</span>"
      ],
      "text/plain": [
       "Correct"
      ]
     },
     "metadata": {},
     "output_type": "display_data"
    }
   ],
   "source": [
    "from sklearn.metrics import mean_absolute_error\n",
    "val_mae = mean_absolute_error(val_y, val_predictions)\n",
    "\n",
    "# uncomment following line to see the validation_mae\n",
    "#print(val_mae)\n",
    "\n",
    "# Check your answer\n",
    "step_4.check()"
   ]
  },
  {
   "cell_type": "code",
   "execution_count": 10,
   "id": "7c293179",
   "metadata": {
    "execution": {
     "iopub.execute_input": "2025-09-03T10:56:49.747135Z",
     "iopub.status.busy": "2025-09-03T10:56:49.746802Z",
     "iopub.status.idle": "2025-09-03T10:56:49.751271Z",
     "shell.execute_reply": "2025-09-03T10:56:49.749993Z"
    },
    "papermill": {
     "duration": 0.011401,
     "end_time": "2025-09-03T10:56:49.752966",
     "exception": false,
     "start_time": "2025-09-03T10:56:49.741565",
     "status": "completed"
    },
    "tags": []
   },
   "outputs": [],
   "source": [
    "# step_4.hint()\n",
    "# step_4.solution()"
   ]
  },
  {
   "cell_type": "markdown",
   "id": "0b0984c7",
   "metadata": {
    "papermill": {
     "duration": 0.003977,
     "end_time": "2025-09-03T10:56:49.761436",
     "exception": false,
     "start_time": "2025-09-03T10:56:49.757459",
     "status": "completed"
    },
    "tags": []
   },
   "source": [
    "Is that MAE good?  There isn't a general rule for what values are good that applies across applications. But you'll see how to use (and improve) this number in the next step.\n",
    "\n",
    "# Keep Going\n",
    "\n",
    "You are ready for **[Underfitting and Overfitting](https://www.kaggle.com/dansbecker/underfitting-and-overfitting).**\n"
   ]
  },
  {
   "cell_type": "markdown",
   "id": "d4e208fb",
   "metadata": {
    "papermill": {
     "duration": 0.004276,
     "end_time": "2025-09-03T10:56:49.769945",
     "exception": false,
     "start_time": "2025-09-03T10:56:49.765669",
     "status": "completed"
    },
    "tags": []
   },
   "source": [
    "---\n",
    "\n",
    "\n",
    "\n",
    "\n",
    "*Have questions or comments? Visit the [course discussion forum](https://www.kaggle.com/learn/intro-to-machine-learning/discussion) to chat with other learners.*"
   ]
  }
 ],
 "metadata": {
  "kaggle": {
   "accelerator": "none",
   "dataSources": [
    {
     "databundleVersionId": 111096,
     "sourceId": 10211,
     "sourceType": "competition"
    },
    {
     "datasetId": 11167,
     "sourceId": 15520,
     "sourceType": "datasetVersion"
    },
    {
     "datasetId": 2709,
     "sourceId": 38454,
     "sourceType": "datasetVersion"
    }
   ],
   "isGpuEnabled": false,
   "isInternetEnabled": false,
   "language": "python",
   "sourceType": "notebook"
  },
  "kernelspec": {
   "display_name": "Python 3",
   "language": "python",
   "name": "python3"
  },
  "language_info": {
   "codemirror_mode": {
    "name": "ipython",
    "version": 3
   },
   "file_extension": ".py",
   "mimetype": "text/x-python",
   "name": "python",
   "nbconvert_exporter": "python",
   "pygments_lexer": "ipython3",
   "version": "3.11.13"
  },
  "papermill": {
   "default_parameters": {},
   "duration": 11.492308,
   "end_time": "2025-09-03T10:56:50.495026",
   "environment_variables": {},
   "exception": null,
   "input_path": "__notebook__.ipynb",
   "output_path": "__notebook__.ipynb",
   "parameters": {},
   "start_time": "2025-09-03T10:56:39.002718",
   "version": "2.6.0"
  }
 },
 "nbformat": 4,
 "nbformat_minor": 5
}
