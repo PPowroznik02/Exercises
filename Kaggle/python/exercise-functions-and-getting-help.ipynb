{
 "cells": [
  {
   "cell_type": "markdown",
   "id": "7aeb9497",
   "metadata": {
    "papermill": {
     "duration": 0.004764,
     "end_time": "2025-09-03T10:56:12.592842",
     "exception": false,
     "start_time": "2025-09-03T10:56:12.588078",
     "status": "completed"
    },
    "tags": []
   },
   "source": [
    "**This notebook is an exercise in the [Python](https://www.kaggle.com/learn/python) course.  You can reference the tutorial at [this link](https://www.kaggle.com/colinmorris/functions-and-getting-help).**\n",
    "\n",
    "---\n"
   ]
  },
  {
   "cell_type": "markdown",
   "id": "0b257a83",
   "metadata": {
    "papermill": {
     "duration": 0.004457,
     "end_time": "2025-09-03T10:56:12.601584",
     "exception": false,
     "start_time": "2025-09-03T10:56:12.597127",
     "status": "completed"
    },
    "tags": []
   },
   "source": [
    "Functions are powerful. Try writing some yourself.\n",
    "\n",
    "As before, don't forget to run the setup code below before jumping into question 1."
   ]
  },
  {
   "cell_type": "code",
   "execution_count": 1,
   "id": "4fb2035a",
   "metadata": {
    "_kg_hide-input": true,
    "_kg_hide-output": true,
    "execution": {
     "iopub.execute_input": "2025-09-03T10:56:12.611148Z",
     "iopub.status.busy": "2025-09-03T10:56:12.610724Z",
     "iopub.status.idle": "2025-09-03T10:56:14.854038Z",
     "shell.execute_reply": "2025-09-03T10:56:14.852552Z"
    },
    "papermill": {
     "duration": 2.250132,
     "end_time": "2025-09-03T10:56:14.855746",
     "exception": false,
     "start_time": "2025-09-03T10:56:12.605614",
     "status": "completed"
    },
    "tags": []
   },
   "outputs": [
    {
     "name": "stdout",
     "output_type": "stream",
     "text": [
      "Setup complete.\n"
     ]
    }
   ],
   "source": [
    "# SETUP. You don't need to worry for now about what this code does or how it works.\n",
    "from learntools.core import binder; binder.bind(globals())\n",
    "from learntools.python.ex2 import *\n",
    "print('Setup complete.')"
   ]
  },
  {
   "cell_type": "markdown",
   "id": "70e5a0f4",
   "metadata": {
    "papermill": {
     "duration": 0.00333,
     "end_time": "2025-09-03T10:56:14.863019",
     "exception": false,
     "start_time": "2025-09-03T10:56:14.859689",
     "status": "completed"
    },
    "tags": []
   },
   "source": [
    "# 1.\n",
    "\n",
    "Complete the body of the following function according to its docstring.\n",
    "\n",
    "HINT: Python has a built-in function `round`."
   ]
  },
  {
   "cell_type": "code",
   "execution_count": 2,
   "id": "570cfccc",
   "metadata": {
    "execution": {
     "iopub.execute_input": "2025-09-03T10:56:14.871243Z",
     "iopub.status.busy": "2025-09-03T10:56:14.870743Z",
     "iopub.status.idle": "2025-09-03T10:56:14.880709Z",
     "shell.execute_reply": "2025-09-03T10:56:14.879767Z"
    },
    "papermill": {
     "duration": 0.01606,
     "end_time": "2025-09-03T10:56:14.882453",
     "exception": false,
     "start_time": "2025-09-03T10:56:14.866393",
     "status": "completed"
    },
    "tags": []
   },
   "outputs": [
    {
     "data": {
      "application/javascript": [
       "parent.postMessage({\"jupyterEvent\": \"custom.exercise_interaction\", \"data\": {\"outcomeType\": 1, \"valueTowardsCompletion\": 0.16666666666666666, \"interactionType\": 1, \"questionType\": 2, \"questionId\": \"1_RoundFunctionProblem\", \"learnToolsVersion\": \"0.3.5\", \"failureMessage\": \"\", \"exceptionClass\": \"\", \"trace\": \"\"}}, \"*\")"
      ],
      "text/plain": [
       "<IPython.core.display.Javascript object>"
      ]
     },
     "metadata": {},
     "output_type": "display_data"
    },
    {
     "data": {
      "text/markdown": [
       "<span style=\"color:#33cc33\">Correct</span>"
      ],
      "text/plain": [
       "Correct"
      ]
     },
     "metadata": {},
     "output_type": "display_data"
    }
   ],
   "source": [
    "def round_to_two_places(num):\n",
    "    \"\"\"Return the given number rounded to two decimal places. \n",
    "    \n",
    "    >>> round_to_two_places(3.14159)\n",
    "    3.14\n",
    "    \"\"\"\n",
    "    # Replace this body with your own code.\n",
    "    # (\"pass\" is a keyword that does literally nothing. We used it as a placeholder\n",
    "    # because after we begin a code block, Python requires at least one line of code)\n",
    "    return(round(num, 2))\n",
    "\n",
    "# Check your answer\n",
    "q1.check()"
   ]
  },
  {
   "cell_type": "code",
   "execution_count": 3,
   "id": "a8920e46",
   "metadata": {
    "execution": {
     "iopub.execute_input": "2025-09-03T10:56:14.890940Z",
     "iopub.status.busy": "2025-09-03T10:56:14.890639Z",
     "iopub.status.idle": "2025-09-03T10:56:14.895145Z",
     "shell.execute_reply": "2025-09-03T10:56:14.894293Z"
    },
    "papermill": {
     "duration": 0.010603,
     "end_time": "2025-09-03T10:56:14.896736",
     "exception": false,
     "start_time": "2025-09-03T10:56:14.886133",
     "status": "completed"
    },
    "tags": []
   },
   "outputs": [],
   "source": [
    "# Uncomment the following for a hint\n",
    "#q1.hint()\n",
    "# Or uncomment the following to peek at the solution\n",
    "#q1.solution()"
   ]
  },
  {
   "cell_type": "markdown",
   "id": "0c3c8906",
   "metadata": {
    "papermill": {
     "duration": 0.003364,
     "end_time": "2025-09-03T10:56:14.903909",
     "exception": false,
     "start_time": "2025-09-03T10:56:14.900545",
     "status": "completed"
    },
    "tags": []
   },
   "source": [
    "# 2.\n",
    "The help for `round` says that `ndigits` (the second argument) may be negative.\n",
    "What do you think will happen when it is? Try some examples in the following cell."
   ]
  },
  {
   "cell_type": "code",
   "execution_count": 4,
   "id": "fbd3049d",
   "metadata": {
    "execution": {
     "iopub.execute_input": "2025-09-03T10:56:14.912169Z",
     "iopub.status.busy": "2025-09-03T10:56:14.911764Z",
     "iopub.status.idle": "2025-09-03T10:56:14.917878Z",
     "shell.execute_reply": "2025-09-03T10:56:14.916852Z"
    },
    "papermill": {
     "duration": 0.012254,
     "end_time": "2025-09-03T10:56:14.919622",
     "exception": false,
     "start_time": "2025-09-03T10:56:14.907368",
     "status": "completed"
    },
    "tags": []
   },
   "outputs": [
    {
     "data": {
      "text/plain": [
       "338000.0"
      ]
     },
     "execution_count": 4,
     "metadata": {},
     "output_type": "execute_result"
    }
   ],
   "source": [
    "# Put your test code here\n",
    "round(338424.24, ndigits=-3)"
   ]
  },
  {
   "cell_type": "markdown",
   "id": "e421d81a",
   "metadata": {
    "papermill": {
     "duration": 0.0034,
     "end_time": "2025-09-03T10:56:14.926985",
     "exception": false,
     "start_time": "2025-09-03T10:56:14.923585",
     "status": "completed"
    },
    "tags": []
   },
   "source": [
    "Can you think of a case where this would be useful?  Once you're ready, run the code cell below to see the answer and to receive credit for completing the problem."
   ]
  },
  {
   "cell_type": "code",
   "execution_count": 5,
   "id": "c8d37773",
   "metadata": {
    "execution": {
     "iopub.execute_input": "2025-09-03T10:56:14.935392Z",
     "iopub.status.busy": "2025-09-03T10:56:14.935046Z",
     "iopub.status.idle": "2025-09-03T10:56:14.942407Z",
     "shell.execute_reply": "2025-09-03T10:56:14.941555Z"
    },
    "papermill": {
     "duration": 0.013403,
     "end_time": "2025-09-03T10:56:14.943986",
     "exception": false,
     "start_time": "2025-09-03T10:56:14.930583",
     "status": "completed"
    },
    "tags": []
   },
   "outputs": [
    {
     "data": {
      "application/javascript": [
       "parent.postMessage({\"jupyterEvent\": \"custom.exercise_interaction\", \"data\": {\"interactionType\": 3, \"questionType\": 4, \"questionId\": \"2_RoundNdigitsProblem\", \"learnToolsVersion\": \"0.3.5\", \"valueTowardsCompletion\": 0.0, \"failureMessage\": \"\", \"exceptionClass\": \"\", \"trace\": \"\", \"outcomeType\": 4}}, \"*\")"
      ],
      "text/plain": [
       "<IPython.core.display.Javascript object>"
      ]
     },
     "metadata": {},
     "output_type": "display_data"
    },
    {
     "data": {
      "text/markdown": [
       "<span style=\"color:#33cc99\">Solution:</span> As you've seen, `ndigits=-1` rounds to the nearest 10, `ndigits=-2` rounds to the nearest 100 and so on. Where might this be useful? Suppose we're dealing with large numbers:\n",
       "\n",
       "> The area of Finland is 338,424 km²  \n",
       "> The area of Greenland is 2,166,086 km²\n",
       "\n",
       "We probably don't care whether it's really 338,424, or 338,425, or 338,177. All those digits of accuracy are just distracting. We can chop them off by calling `round()` with `ndigits=-3`:\n",
       "\n",
       "> The area of Finland is 338,000 km²  \n",
       "> The area of Greenland is 2,166,000 km²\n",
       "\n",
       "(We'll talk about how we would get the commas later when we talk about string formatting :))\n"
      ],
      "text/plain": [
       "Solution: As you've seen, `ndigits=-1` rounds to the nearest 10, `ndigits=-2` rounds to the nearest 100 and so on. Where might this be useful? Suppose we're dealing with large numbers:\n",
       "\n",
       "> The area of Finland is 338,424 km²  \n",
       "> The area of Greenland is 2,166,086 km²\n",
       "\n",
       "We probably don't care whether it's really 338,424, or 338,425, or 338,177. All those digits of accuracy are just distracting. We can chop them off by calling `round()` with `ndigits=-3`:\n",
       "\n",
       "> The area of Finland is 338,000 km²  \n",
       "> The area of Greenland is 2,166,000 km²\n",
       "\n",
       "(We'll talk about how we would get the commas later when we talk about string formatting :))"
      ]
     },
     "metadata": {},
     "output_type": "display_data"
    }
   ],
   "source": [
    "# Check your answer (Run this code cell to receive credit!)\n",
    "q2.solution()"
   ]
  },
  {
   "cell_type": "markdown",
   "id": "913d0f23",
   "metadata": {
    "papermill": {
     "duration": 0.003741,
     "end_time": "2025-09-03T10:56:14.952697",
     "exception": false,
     "start_time": "2025-09-03T10:56:14.948956",
     "status": "completed"
    },
    "tags": []
   },
   "source": [
    "# 3.\n",
    "\n",
    "In the previous exercise, the candy-sharing friends Alice, Bob and Carol tried to split candies evenly. For the sake of their friendship, any candies left over would be smashed. For example, if they collectively bring home 91 candies, they'll take 30 each and smash 1.\n",
    "\n",
    "Below is a simple function that will calculate the number of candies to smash for *any* number of total candies.\n",
    "\n",
    "Modify it so that it optionally takes a second argument representing the number of friends the candies are being split between. If no second argument is provided, it should assume 3 friends, as before.\n",
    "\n",
    "Update the docstring to reflect this new behaviour."
   ]
  },
  {
   "cell_type": "code",
   "execution_count": 6,
   "id": "66c7ab8a",
   "metadata": {
    "execution": {
     "iopub.execute_input": "2025-09-03T10:56:14.962103Z",
     "iopub.status.busy": "2025-09-03T10:56:14.961810Z",
     "iopub.status.idle": "2025-09-03T10:56:14.969771Z",
     "shell.execute_reply": "2025-09-03T10:56:14.968804Z"
    },
    "papermill": {
     "duration": 0.014384,
     "end_time": "2025-09-03T10:56:14.971361",
     "exception": false,
     "start_time": "2025-09-03T10:56:14.956977",
     "status": "completed"
    },
    "tags": []
   },
   "outputs": [
    {
     "data": {
      "application/javascript": [
       "parent.postMessage({\"jupyterEvent\": \"custom.exercise_interaction\", \"data\": {\"outcomeType\": 1, \"valueTowardsCompletion\": 0.16666666666666666, \"interactionType\": 1, \"questionType\": 2, \"questionId\": \"3_CandySmashingFunctionProblem\", \"learnToolsVersion\": \"0.3.5\", \"failureMessage\": \"\", \"exceptionClass\": \"\", \"trace\": \"\"}}, \"*\")"
      ],
      "text/plain": [
       "<IPython.core.display.Javascript object>"
      ]
     },
     "metadata": {},
     "output_type": "display_data"
    },
    {
     "data": {
      "text/markdown": [
       "<span style=\"color:#33cc33\">Correct</span>"
      ],
      "text/plain": [
       "Correct"
      ]
     },
     "metadata": {},
     "output_type": "display_data"
    }
   ],
   "source": [
    "def to_smash(total_candies, num_friends=3):\n",
    "    \"\"\"Return the number of leftover candies that must be smashed after distributing\n",
    "    the given number of candies evenly between 3 friends.\n",
    "    \n",
    "    >>> to_smash(91)\n",
    "    1\n",
    "    \"\"\"\n",
    "    return total_candies % num_friends\n",
    "\n",
    "# Check your answer\n",
    "q3.check()"
   ]
  },
  {
   "cell_type": "code",
   "execution_count": 7,
   "id": "a79dfc49",
   "metadata": {
    "execution": {
     "iopub.execute_input": "2025-09-03T10:56:14.981293Z",
     "iopub.status.busy": "2025-09-03T10:56:14.980956Z",
     "iopub.status.idle": "2025-09-03T10:56:14.985303Z",
     "shell.execute_reply": "2025-09-03T10:56:14.984228Z"
    },
    "papermill": {
     "duration": 0.011135,
     "end_time": "2025-09-03T10:56:14.986792",
     "exception": false,
     "start_time": "2025-09-03T10:56:14.975657",
     "status": "completed"
    },
    "tags": []
   },
   "outputs": [],
   "source": [
    "#q3.hint()"
   ]
  },
  {
   "cell_type": "code",
   "execution_count": 8,
   "id": "534a9cb9",
   "metadata": {
    "execution": {
     "iopub.execute_input": "2025-09-03T10:56:14.996360Z",
     "iopub.status.busy": "2025-09-03T10:56:14.996033Z",
     "iopub.status.idle": "2025-09-03T10:56:15.000598Z",
     "shell.execute_reply": "2025-09-03T10:56:14.999478Z"
    },
    "papermill": {
     "duration": 0.010958,
     "end_time": "2025-09-03T10:56:15.002069",
     "exception": false,
     "start_time": "2025-09-03T10:56:14.991111",
     "status": "completed"
    },
    "tags": []
   },
   "outputs": [],
   "source": [
    "#q3.solution()"
   ]
  },
  {
   "cell_type": "markdown",
   "id": "d324f8b4",
   "metadata": {
    "papermill": {
     "duration": 0.003902,
     "end_time": "2025-09-03T10:56:15.010328",
     "exception": false,
     "start_time": "2025-09-03T10:56:15.006426",
     "status": "completed"
    },
    "tags": []
   },
   "source": [
    "# 4. (Optional)\n",
    "\n",
    "It may not be fun, but reading and understanding error messages will be an important part of your Python career.\n",
    "\n",
    "Each code cell below contains some commented buggy code. For each cell...\n",
    "\n",
    "1. Read the code and predict what you think will happen when it's run.\n",
    "2. Then uncomment the code and run it to see what happens. (**Tip**: In the kernel editor, you can highlight several lines and press `ctrl`+`/` to toggle commenting.)\n",
    "3. Fix the code (so that it accomplishes its intended purpose without throwing an exception)\n",
    "\n",
    "<!-- TODO: should this be autochecked? Delta is probably pretty small. -->"
   ]
  },
  {
   "cell_type": "code",
   "execution_count": 9,
   "id": "4e22a0b6",
   "metadata": {
    "execution": {
     "iopub.execute_input": "2025-09-03T10:56:15.019905Z",
     "iopub.status.busy": "2025-09-03T10:56:15.019574Z",
     "iopub.status.idle": "2025-09-03T10:56:15.025193Z",
     "shell.execute_reply": "2025-09-03T10:56:15.024362Z"
    },
    "papermill": {
     "duration": 0.012082,
     "end_time": "2025-09-03T10:56:15.026604",
     "exception": false,
     "start_time": "2025-09-03T10:56:15.014522",
     "status": "completed"
    },
    "tags": []
   },
   "outputs": [
    {
     "data": {
      "text/plain": [
       "10.0"
      ]
     },
     "execution_count": 9,
     "metadata": {},
     "output_type": "execute_result"
    }
   ],
   "source": [
    "round_to_two_places(9.9999)"
   ]
  },
  {
   "cell_type": "code",
   "execution_count": 10,
   "id": "e87156c4",
   "metadata": {
    "execution": {
     "iopub.execute_input": "2025-09-03T10:56:15.037285Z",
     "iopub.status.busy": "2025-09-03T10:56:15.036548Z",
     "iopub.status.idle": "2025-09-03T10:56:15.041301Z",
     "shell.execute_reply": "2025-09-03T10:56:15.040428Z"
    },
    "papermill": {
     "duration": 0.011785,
     "end_time": "2025-09-03T10:56:15.042863",
     "exception": false,
     "start_time": "2025-09-03T10:56:15.031078",
     "status": "completed"
    },
    "tags": []
   },
   "outputs": [],
   "source": [
    "x = -10\n",
    "y = 5\n",
    "# # Which of the two variables above has the smallest absolute value?\n",
    "smallest_abs = min(abs(x), abs(y))"
   ]
  },
  {
   "cell_type": "code",
   "execution_count": 11,
   "id": "3f8b027e",
   "metadata": {
    "execution": {
     "iopub.execute_input": "2025-09-03T10:56:15.052539Z",
     "iopub.status.busy": "2025-09-03T10:56:15.052188Z",
     "iopub.status.idle": "2025-09-03T10:56:15.057118Z",
     "shell.execute_reply": "2025-09-03T10:56:15.056202Z"
    },
    "papermill": {
     "duration": 0.011807,
     "end_time": "2025-09-03T10:56:15.058972",
     "exception": false,
     "start_time": "2025-09-03T10:56:15.047165",
     "status": "completed"
    },
    "tags": []
   },
   "outputs": [
    {
     "name": "stdout",
     "output_type": "stream",
     "text": [
      "5\n"
     ]
    }
   ],
   "source": [
    "def f(x):\n",
    "    y = abs(x)\n",
    "    return y\n",
    "\n",
    "print(f(5))"
   ]
  },
  {
   "cell_type": "markdown",
   "id": "900005e3",
   "metadata": {
    "papermill": {
     "duration": 0.00391,
     "end_time": "2025-09-03T10:56:15.067296",
     "exception": false,
     "start_time": "2025-09-03T10:56:15.063386",
     "status": "completed"
    },
    "tags": []
   },
   "source": [
    "# Keep Going\n",
    "\n",
    "Nice job with the code. Next up, you'll learn about *conditionals*, which you'll need to **[write interesting programs](https://www.kaggle.com/colinmorris/booleans-and-conditionals)**. "
   ]
  },
  {
   "cell_type": "markdown",
   "id": "cf5dfab9",
   "metadata": {
    "papermill": {
     "duration": 0.003842,
     "end_time": "2025-09-03T10:56:15.075396",
     "exception": false,
     "start_time": "2025-09-03T10:56:15.071554",
     "status": "completed"
    },
    "tags": []
   },
   "source": [
    "---\n",
    "\n",
    "\n",
    "\n",
    "\n",
    "*Have questions or comments? Visit the [course discussion forum](https://www.kaggle.com/learn/python/discussion) to chat with other learners.*"
   ]
  }
 ],
 "metadata": {
  "kaggle": {
   "accelerator": "none",
   "dataSources": [],
   "isGpuEnabled": false,
   "isInternetEnabled": false,
   "language": "python",
   "sourceType": "notebook"
  },
  "kernelspec": {
   "display_name": "Python 3",
   "language": "python",
   "name": "python3"
  },
  "language_info": {
   "codemirror_mode": {
    "name": "ipython",
    "version": 3
   },
   "file_extension": ".py",
   "mimetype": "text/x-python",
   "name": "python",
   "nbconvert_exporter": "python",
   "pygments_lexer": "ipython3",
   "version": "3.11.13"
  },
  "learntools_metadata": {
   "lesson_index": 1,
   "type": "exercise"
  },
  "papermill": {
   "default_parameters": {},
   "duration": 9.002563,
   "end_time": "2025-09-03T10:56:15.600794",
   "environment_variables": {},
   "exception": null,
   "input_path": "__notebook__.ipynb",
   "output_path": "__notebook__.ipynb",
   "parameters": {},
   "start_time": "2025-09-03T10:56:06.598231",
   "version": "2.6.0"
  }
 },
 "nbformat": 4,
 "nbformat_minor": 5
}
