{
 "cells": [
  {
   "cell_type": "markdown",
   "id": "5ca5b3ca",
   "metadata": {
    "papermill": {
     "duration": 0.006779,
     "end_time": "2025-09-03T11:03:09.712721",
     "exception": false,
     "start_time": "2025-09-03T11:03:09.705942",
     "status": "completed"
    },
    "tags": []
   },
   "source": [
    "**This notebook is an exercise in the [Python](https://www.kaggle.com/learn/python) course.  You can reference the tutorial at [this link](https://www.kaggle.com/colinmorris/hello-python).**\n",
    "\n",
    "---\n"
   ]
  },
  {
   "cell_type": "markdown",
   "id": "34d56f3e",
   "metadata": {
    "papermill": {
     "duration": 0.004449,
     "end_time": "2025-09-03T11:03:09.722260",
     "exception": false,
     "start_time": "2025-09-03T11:03:09.717811",
     "status": "completed"
    },
    "tags": []
   },
   "source": [
    "Welcome to your first set of Python coding problems.  If this is your first time using Kaggle Notebooks, welcome! \n",
    "\n",
    "Notebooks are composed of blocks (called \"cells\") of text and code. Each of these is editable, though you'll mainly be editing the code cells to answer some questions.\n",
    "\n",
    "To get started, try running the code cell below (by pressing the ► button, or clicking on the cell and pressing ctrl+enter on your keyboard)."
   ]
  },
  {
   "cell_type": "code",
   "execution_count": 1,
   "id": "2f6db47e",
   "metadata": {
    "execution": {
     "iopub.execute_input": "2025-09-03T11:03:09.733198Z",
     "iopub.status.busy": "2025-09-03T11:03:09.732645Z",
     "iopub.status.idle": "2025-09-03T11:03:09.742679Z",
     "shell.execute_reply": "2025-09-03T11:03:09.741437Z"
    },
    "papermill": {
     "duration": 0.017865,
     "end_time": "2025-09-03T11:03:09.744784",
     "exception": false,
     "start_time": "2025-09-03T11:03:09.726919",
     "status": "completed"
    },
    "tags": []
   },
   "outputs": [
    {
     "name": "stdout",
     "output_type": "stream",
     "text": [
      "You've successfully run some Python code\n",
      "Congratulations!\n"
     ]
    }
   ],
   "source": [
    "print(\"You've successfully run some Python code\")\n",
    "print(\"Congratulations!\")"
   ]
  },
  {
   "cell_type": "markdown",
   "id": "98a0cdd0",
   "metadata": {
    "papermill": {
     "duration": 0.004519,
     "end_time": "2025-09-03T11:03:09.754362",
     "exception": false,
     "start_time": "2025-09-03T11:03:09.749843",
     "status": "completed"
    },
    "tags": []
   },
   "source": [
    "Try adding another line of code in the cell above and re-running it. \n",
    "\n",
    "Now let's get a little fancier:  Add a new code cell by clicking on an existing code cell, hitting the escape key, and then hitting the `a` or `b` key.  The `a` key will add a cell above the current cell, and `b` adds a cell below.\n",
    "\n",
    "Great! Now you know how to use Notebooks.\n",
    "\n",
    "Each hands-on exercise starts by setting up our feedback and code checking mechanism. Run the code cell below to do that. Then you'll be ready to move on to question 0."
   ]
  },
  {
   "cell_type": "code",
   "execution_count": 2,
   "id": "27b80979",
   "metadata": {
    "_kg_hide-input": true,
    "_kg_hide-output": true,
    "execution": {
     "iopub.execute_input": "2025-09-03T11:03:09.766874Z",
     "iopub.status.busy": "2025-09-03T11:03:09.766532Z",
     "iopub.status.idle": "2025-09-03T11:03:12.049064Z",
     "shell.execute_reply": "2025-09-03T11:03:12.047872Z"
    },
    "papermill": {
     "duration": 2.29053,
     "end_time": "2025-09-03T11:03:12.050865",
     "exception": false,
     "start_time": "2025-09-03T11:03:09.760335",
     "status": "completed"
    },
    "tags": []
   },
   "outputs": [
    {
     "name": "stdout",
     "output_type": "stream",
     "text": [
      "Setup complete! You're ready to start question 0.\n"
     ]
    }
   ],
   "source": [
    "from learntools.core import binder; binder.bind(globals())\n",
    "from learntools.python.ex1 import *\n",
    "print(\"Setup complete! You're ready to start question 0.\")"
   ]
  },
  {
   "cell_type": "markdown",
   "id": "d3c6824b",
   "metadata": {
    "papermill": {
     "duration": 0.004566,
     "end_time": "2025-09-03T11:03:12.060399",
     "exception": false,
     "start_time": "2025-09-03T11:03:12.055833",
     "status": "completed"
    },
    "tags": []
   },
   "source": [
    "# 0.\n",
    "\n",
    "*This is a silly question intended as an introduction to the format we use for hands-on exercises throughout all Kaggle courses.*\n",
    "\n",
    "**What is your favorite color? **\n",
    "\n",
    "To complete this question, create a variable called `color` in the cell below with an appropriate value. The function call `q0.check()` (which we've already provided in the cell below) will check your answer."
   ]
  },
  {
   "cell_type": "code",
   "execution_count": 3,
   "id": "c99c769f",
   "metadata": {
    "execution": {
     "iopub.execute_input": "2025-09-03T11:03:12.071905Z",
     "iopub.status.busy": "2025-09-03T11:03:12.071487Z",
     "iopub.status.idle": "2025-09-03T11:03:12.081698Z",
     "shell.execute_reply": "2025-09-03T11:03:12.080562Z"
    },
    "papermill": {
     "duration": 0.017644,
     "end_time": "2025-09-03T11:03:12.083328",
     "exception": false,
     "start_time": "2025-09-03T11:03:12.065684",
     "status": "completed"
    },
    "tags": []
   },
   "outputs": [
    {
     "data": {
      "application/javascript": [
       "parent.postMessage({\"jupyterEvent\": \"custom.exercise_interaction\", \"data\": {\"outcomeType\": 1, \"valueTowardsCompletion\": 0.25, \"interactionType\": 1, \"questionType\": 2, \"questionId\": \"0_ExerciseFormatTutorial\", \"learnToolsVersion\": \"0.3.5\", \"failureMessage\": \"\", \"exceptionClass\": \"\", \"trace\": \"\"}}, \"*\")"
      ],
      "text/plain": [
       "<IPython.core.display.Javascript object>"
      ]
     },
     "metadata": {},
     "output_type": "display_data"
    },
    {
     "data": {
      "text/markdown": [
       "<span style=\"color:#33cc33\">Correct:</span> What?! You got it right without needing a hint or anything? Drats. Well hey, you should still continue to the next step to get some practice asking for a hint and checking solutions. (Even though you obviously don't need any help here.)"
      ],
      "text/plain": [
       "Correct: What?! You got it right without needing a hint or anything? Drats. Well hey, you should still continue to the next step to get some practice asking for a hint and checking solutions. (Even though you obviously don't need any help here.)"
      ]
     },
     "metadata": {},
     "output_type": "display_data"
    }
   ],
   "source": [
    "# create a variable called color with an appropriate value on the line below\n",
    "# (Remember, strings in Python must be enclosed in 'single' or \"double\" quotes)\n",
    "color = \"Blue\"\n",
    "\n",
    "# Check your answer\n",
    "q0.check()"
   ]
  },
  {
   "cell_type": "markdown",
   "id": "12dd53d7",
   "metadata": {
    "papermill": {
     "duration": 0.004552,
     "end_time": "2025-09-03T11:03:12.094016",
     "exception": false,
     "start_time": "2025-09-03T11:03:12.089464",
     "status": "completed"
    },
    "tags": []
   },
   "source": [
    "Didn't get the right answer? How do you not even know your own favorite color?!\n",
    "\n",
    "Delete the `#` in the line below to make one of the lines run. You can choose between getting a hint or the full answer by choosing which line to remove the `#` from. \n",
    "\n",
    "Removing the `#` is called uncommenting, because it changes that line from a \"comment\" which Python doesn't run to code, which Python does run."
   ]
  },
  {
   "cell_type": "code",
   "execution_count": 4,
   "id": "6843ad99",
   "metadata": {
    "execution": {
     "iopub.execute_input": "2025-09-03T11:03:12.105349Z",
     "iopub.status.busy": "2025-09-03T11:03:12.105015Z",
     "iopub.status.idle": "2025-09-03T11:03:12.109883Z",
     "shell.execute_reply": "2025-09-03T11:03:12.109139Z"
    },
    "papermill": {
     "duration": 0.012719,
     "end_time": "2025-09-03T11:03:12.111723",
     "exception": false,
     "start_time": "2025-09-03T11:03:12.099004",
     "status": "completed"
    },
    "tags": []
   },
   "outputs": [],
   "source": [
    "# q0.hint()\n",
    "#q0.solution()"
   ]
  },
  {
   "cell_type": "markdown",
   "id": "e8031cd8",
   "metadata": {
    "papermill": {
     "duration": 0.004751,
     "end_time": "2025-09-03T11:03:12.121577",
     "exception": false,
     "start_time": "2025-09-03T11:03:12.116826",
     "status": "completed"
    },
    "tags": []
   },
   "source": [
    "The upcoming questions work the same way. The only thing that will change are the question numbers. For the next question, you'll call `q1.check()`, `q1.hint()`, `q1.solution()`, for question 2, you'll call `q2.check()`, and so on."
   ]
  },
  {
   "cell_type": "markdown",
   "id": "62c57cd6",
   "metadata": {
    "papermill": {
     "duration": 0.004512,
     "end_time": "2025-09-03T11:03:12.130899",
     "exception": false,
     "start_time": "2025-09-03T11:03:12.126387",
     "status": "completed"
    },
    "tags": []
   },
   "source": [
    "<hr/>\n",
    "\n",
    "# 1.\n",
    "\n",
    "Complete the code below. In case it's helpful, here is the table of available arithmetic operations:\n",
    "\n",
    "\n",
    "\n",
    "| Operator     | Name           | Description                                            |\n",
    "|--------------|----------------|--------------------------------------------------------|\n",
    "| ``a + b``    | Addition       | Sum of ``a`` and ``b``                                 |\n",
    "| ``a - b``    | Subtraction    | Difference of ``a`` and ``b``                          |\n",
    "| ``a * b``    | Multiplication | Product of ``a`` and ``b``                             |\n",
    "| ``a / b``    | True division  | Quotient of ``a`` and ``b``                            |\n",
    "| ``a // b``   | Floor division | Quotient of ``a`` and ``b``, removing fractional parts |\n",
    "| ``a % b``    | Modulus        | Integer remainder after division of ``a`` by ``b``     |\n",
    "| ``a ** b``   | Exponentiation | ``a`` raised to the power of ``b``                     |\n",
    "| ``-a``       | Negation       | The negative of ``a``                                  |\n",
    "\n",
    "<span style=\"display:none\"></span>\n"
   ]
  },
  {
   "cell_type": "code",
   "execution_count": 5,
   "id": "d132272f",
   "metadata": {
    "execution": {
     "iopub.execute_input": "2025-09-03T11:03:12.142165Z",
     "iopub.status.busy": "2025-09-03T11:03:12.141807Z",
     "iopub.status.idle": "2025-09-03T11:03:12.149973Z",
     "shell.execute_reply": "2025-09-03T11:03:12.149117Z"
    },
    "papermill": {
     "duration": 0.017587,
     "end_time": "2025-09-03T11:03:12.153346",
     "exception": false,
     "start_time": "2025-09-03T11:03:12.135759",
     "status": "completed"
    },
    "tags": []
   },
   "outputs": [
    {
     "data": {
      "application/javascript": [
       "parent.postMessage({\"jupyterEvent\": \"custom.exercise_interaction\", \"data\": {\"outcomeType\": 1, \"valueTowardsCompletion\": 0.25, \"interactionType\": 1, \"questionType\": 1, \"questionId\": \"1_CircleArea\", \"learnToolsVersion\": \"0.3.5\", \"failureMessage\": \"\", \"exceptionClass\": \"\", \"trace\": \"\"}}, \"*\")"
      ],
      "text/plain": [
       "<IPython.core.display.Javascript object>"
      ]
     },
     "metadata": {},
     "output_type": "display_data"
    },
    {
     "data": {
      "text/markdown": [
       "<span style=\"color:#33cc33\">Correct</span>"
      ],
      "text/plain": [
       "Correct"
      ]
     },
     "metadata": {},
     "output_type": "display_data"
    }
   ],
   "source": [
    "pi = 3.14159 # approximate\n",
    "diameter = 3\n",
    "\n",
    "# Create a variable called 'radius' equal to half the diameter\n",
    "radius = diameter/2\n",
    "\n",
    "# Create a variable called 'area', using the formula for the area of a circle: pi times the radius squared\n",
    "area = pi*radius**2\n",
    "\n",
    "# Check your answer\n",
    "q1.check()"
   ]
  },
  {
   "cell_type": "code",
   "execution_count": 6,
   "id": "7b1c0dac",
   "metadata": {
    "execution": {
     "iopub.execute_input": "2025-09-03T11:03:12.166152Z",
     "iopub.status.busy": "2025-09-03T11:03:12.165799Z",
     "iopub.status.idle": "2025-09-03T11:03:12.170347Z",
     "shell.execute_reply": "2025-09-03T11:03:12.169437Z"
    },
    "papermill": {
     "duration": 0.012809,
     "end_time": "2025-09-03T11:03:12.171871",
     "exception": false,
     "start_time": "2025-09-03T11:03:12.159062",
     "status": "completed"
    },
    "tags": []
   },
   "outputs": [],
   "source": [
    "# Uncomment and run the lines below if you need help.\n",
    "#q1.hint()\n",
    "#q1.solution()"
   ]
  },
  {
   "cell_type": "markdown",
   "id": "1f23ed39",
   "metadata": {
    "papermill": {
     "duration": 0.004933,
     "end_time": "2025-09-03T11:03:12.182193",
     "exception": false,
     "start_time": "2025-09-03T11:03:12.177260",
     "status": "completed"
    },
    "tags": []
   },
   "source": [
    "<hr/>\n",
    "\n",
    "# 2.\n",
    "\n",
    "Add code to the following cell to swap variables `a` and `b` (so that `a` refers to the object previously referred to by `b` and vice versa)."
   ]
  },
  {
   "cell_type": "code",
   "execution_count": 7,
   "id": "69892274",
   "metadata": {
    "execution": {
     "iopub.execute_input": "2025-09-03T11:03:12.193578Z",
     "iopub.status.busy": "2025-09-03T11:03:12.193289Z",
     "iopub.status.idle": "2025-09-03T11:03:12.202773Z",
     "shell.execute_reply": "2025-09-03T11:03:12.201792Z"
    },
    "papermill": {
     "duration": 0.017282,
     "end_time": "2025-09-03T11:03:12.204566",
     "exception": false,
     "start_time": "2025-09-03T11:03:12.187284",
     "status": "completed"
    },
    "tags": []
   },
   "outputs": [
    {
     "data": {
      "application/javascript": [
       "parent.postMessage({\"jupyterEvent\": \"custom.exercise_interaction\", \"data\": {\"outcomeType\": 1, \"valueTowardsCompletion\": 0.25, \"interactionType\": 1, \"questionType\": 2, \"questionId\": \"2_VariableSwap\", \"learnToolsVersion\": \"0.3.5\", \"failureMessage\": \"\", \"exceptionClass\": \"\", \"trace\": \"\"}}, \"*\")"
      ],
      "text/plain": [
       "<IPython.core.display.Javascript object>"
      ]
     },
     "metadata": {},
     "output_type": "display_data"
    },
    {
     "data": {
      "text/markdown": [
       "<span style=\"color:#33cc33\">Correct:</span> \n",
       "\n",
       "The most straightforward solution is to use a third variable to temporarily store one of the old values. e.g.:\n",
       "\n",
       "    tmp = a\n",
       "    a = b\n",
       "    b = tmp\n",
       "\n",
       "If you've read lots of Python code, you might have seen the following trick to swap two variables in one line:\n",
       "\n",
       "    a, b = b, a\n",
       "\n",
       "We'll demystify this bit of Python magic later when we talk about *tuples*."
      ],
      "text/plain": [
       "Correct: \n",
       "\n",
       "The most straightforward solution is to use a third variable to temporarily store one of the old values. e.g.:\n",
       "\n",
       "    tmp = a\n",
       "    a = b\n",
       "    b = tmp\n",
       "\n",
       "If you've read lots of Python code, you might have seen the following trick to swap two variables in one line:\n",
       "\n",
       "    a, b = b, a\n",
       "\n",
       "We'll demystify this bit of Python magic later when we talk about *tuples*."
      ]
     },
     "metadata": {},
     "output_type": "display_data"
    }
   ],
   "source": [
    "########### Setup code - don't touch this part ######################\n",
    "# If you're curious, these are examples of lists. We'll talk about \n",
    "# them in depth a few lessons from now. For now, just know that they're\n",
    "# yet another type of Python object, like int or float.\n",
    "a = [1, 2, 3]\n",
    "b = [3, 2, 1]\n",
    "q2.store_original_ids()\n",
    "######################################################################\n",
    "\n",
    "# Your code goes here. Swap the values to which a and b refer.\n",
    "# If you get stuck, you can always uncomment one or both of the lines in\n",
    "# the next cell for a hint, or to peek at the solution.\n",
    "a, b = b, a\n",
    "\n",
    "######################################################################\n",
    "\n",
    "# Check your answer\n",
    "q2.check()"
   ]
  },
  {
   "cell_type": "code",
   "execution_count": 8,
   "id": "fbdd1ba2",
   "metadata": {
    "execution": {
     "iopub.execute_input": "2025-09-03T11:03:12.217155Z",
     "iopub.status.busy": "2025-09-03T11:03:12.216797Z",
     "iopub.status.idle": "2025-09-03T11:03:12.221799Z",
     "shell.execute_reply": "2025-09-03T11:03:12.220702Z"
    },
    "papermill": {
     "duration": 0.013682,
     "end_time": "2025-09-03T11:03:12.223822",
     "exception": false,
     "start_time": "2025-09-03T11:03:12.210140",
     "status": "completed"
    },
    "tags": []
   },
   "outputs": [],
   "source": [
    "#q2.hint()"
   ]
  },
  {
   "cell_type": "code",
   "execution_count": 9,
   "id": "0a12f9e0",
   "metadata": {
    "execution": {
     "iopub.execute_input": "2025-09-03T11:03:12.235975Z",
     "iopub.status.busy": "2025-09-03T11:03:12.235619Z",
     "iopub.status.idle": "2025-09-03T11:03:12.240405Z",
     "shell.execute_reply": "2025-09-03T11:03:12.239224Z"
    },
    "papermill": {
     "duration": 0.012774,
     "end_time": "2025-09-03T11:03:12.242114",
     "exception": false,
     "start_time": "2025-09-03T11:03:12.229340",
     "status": "completed"
    },
    "tags": []
   },
   "outputs": [],
   "source": [
    "#q2.solution()"
   ]
  },
  {
   "cell_type": "markdown",
   "id": "7050f39d",
   "metadata": {
    "papermill": {
     "duration": 0.00506,
     "end_time": "2025-09-03T11:03:12.252861",
     "exception": false,
     "start_time": "2025-09-03T11:03:12.247801",
     "status": "completed"
    },
    "tags": []
   },
   "source": [
    "<hr/>\n",
    "\n",
    "# 3a.\n",
    "\n",
    "Add parentheses to the following expression so that it evaluates to 1."
   ]
  },
  {
   "cell_type": "code",
   "execution_count": 10,
   "id": "6f6268f5",
   "metadata": {
    "execution": {
     "iopub.execute_input": "2025-09-03T11:03:12.265928Z",
     "iopub.status.busy": "2025-09-03T11:03:12.265640Z",
     "iopub.status.idle": "2025-09-03T11:03:12.272580Z",
     "shell.execute_reply": "2025-09-03T11:03:12.271386Z"
    },
    "papermill": {
     "duration": 0.015522,
     "end_time": "2025-09-03T11:03:12.274115",
     "exception": false,
     "start_time": "2025-09-03T11:03:12.258593",
     "status": "completed"
    },
    "tags": []
   },
   "outputs": [
    {
     "data": {
      "text/plain": [
       "1"
      ]
     },
     "execution_count": 10,
     "metadata": {},
     "output_type": "execute_result"
    }
   ],
   "source": [
    "(5 - 3) // 2"
   ]
  },
  {
   "cell_type": "code",
   "execution_count": 11,
   "id": "e4a2b550",
   "metadata": {
    "execution": {
     "iopub.execute_input": "2025-09-03T11:03:12.287655Z",
     "iopub.status.busy": "2025-09-03T11:03:12.286585Z",
     "iopub.status.idle": "2025-09-03T11:03:12.292284Z",
     "shell.execute_reply": "2025-09-03T11:03:12.291175Z"
    },
    "papermill": {
     "duration": 0.014162,
     "end_time": "2025-09-03T11:03:12.293829",
     "exception": false,
     "start_time": "2025-09-03T11:03:12.279667",
     "status": "completed"
    },
    "tags": []
   },
   "outputs": [],
   "source": [
    "#q3.a.hint()"
   ]
  },
  {
   "cell_type": "code",
   "execution_count": 12,
   "id": "8170674e",
   "metadata": {
    "execution": {
     "iopub.execute_input": "2025-09-03T11:03:12.305995Z",
     "iopub.status.busy": "2025-09-03T11:03:12.305662Z",
     "iopub.status.idle": "2025-09-03T11:03:12.313822Z",
     "shell.execute_reply": "2025-09-03T11:03:12.312836Z"
    },
    "papermill": {
     "duration": 0.016119,
     "end_time": "2025-09-03T11:03:12.315471",
     "exception": false,
     "start_time": "2025-09-03T11:03:12.299352",
     "status": "completed"
    },
    "tags": []
   },
   "outputs": [
    {
     "data": {
      "application/javascript": [
       "parent.postMessage({\"jupyterEvent\": \"custom.exercise_interaction\", \"data\": {\"interactionType\": 3, \"questionType\": 4, \"questionId\": \"3.1_ArithmeticParensEasy\", \"learnToolsVersion\": \"0.3.5\", \"valueTowardsCompletion\": 0.0, \"failureMessage\": \"\", \"exceptionClass\": \"\", \"trace\": \"\", \"outcomeType\": 4}}, \"*\")"
      ],
      "text/plain": [
       "<IPython.core.display.Javascript object>"
      ]
     },
     "metadata": {},
     "output_type": "display_data"
    },
    {
     "data": {
      "text/markdown": [
       "<span style=\"color:#33cc99\">Solution:</span> \n",
       "```python\n",
       "(5 - 3) // 2\n",
       "```"
      ],
      "text/plain": [
       "Solution: \n",
       "```python\n",
       "(5 - 3) // 2\n",
       "```"
      ]
     },
     "metadata": {},
     "output_type": "display_data"
    }
   ],
   "source": [
    "# Check your answer (Run this code cell to receive credit!)\n",
    "q3.a.solution()"
   ]
  },
  {
   "cell_type": "markdown",
   "id": "3ba04daa",
   "metadata": {
    "papermill": {
     "duration": 0.005331,
     "end_time": "2025-09-03T11:03:12.326538",
     "exception": false,
     "start_time": "2025-09-03T11:03:12.321207",
     "status": "completed"
    },
    "tags": []
   },
   "source": [
    "# 3b.  <span title=\"A bit spicy\" style=\"color: darkgreen \">🌶️</span>\n",
    "\n",
    "<small>Questions, like this one, marked a spicy pepper are a bit harder.</small>\n",
    "\n",
    "Add parentheses to the following expression so that it evaluates to 0."
   ]
  },
  {
   "cell_type": "code",
   "execution_count": 13,
   "id": "b4726ee0",
   "metadata": {
    "execution": {
     "iopub.execute_input": "2025-09-03T11:03:12.339640Z",
     "iopub.status.busy": "2025-09-03T11:03:12.339256Z",
     "iopub.status.idle": "2025-09-03T11:03:12.345467Z",
     "shell.execute_reply": "2025-09-03T11:03:12.344521Z"
    },
    "papermill": {
     "duration": 0.015107,
     "end_time": "2025-09-03T11:03:12.347142",
     "exception": false,
     "start_time": "2025-09-03T11:03:12.332035",
     "status": "completed"
    },
    "tags": []
   },
   "outputs": [
    {
     "data": {
      "text/plain": [
       "0"
      ]
     },
     "execution_count": 13,
     "metadata": {},
     "output_type": "execute_result"
    }
   ],
   "source": [
    "8 - 3 * 2 - (1 + 1)"
   ]
  },
  {
   "cell_type": "code",
   "execution_count": 14,
   "id": "6154c8b4",
   "metadata": {
    "execution": {
     "iopub.execute_input": "2025-09-03T11:03:12.361222Z",
     "iopub.status.busy": "2025-09-03T11:03:12.360876Z",
     "iopub.status.idle": "2025-09-03T11:03:12.365701Z",
     "shell.execute_reply": "2025-09-03T11:03:12.364550Z"
    },
    "papermill": {
     "duration": 0.014179,
     "end_time": "2025-09-03T11:03:12.367452",
     "exception": false,
     "start_time": "2025-09-03T11:03:12.353273",
     "status": "completed"
    },
    "tags": []
   },
   "outputs": [],
   "source": [
    "#q3.b.hint()"
   ]
  },
  {
   "cell_type": "code",
   "execution_count": 15,
   "id": "ef2216a4",
   "metadata": {
    "execution": {
     "iopub.execute_input": "2025-09-03T11:03:12.380381Z",
     "iopub.status.busy": "2025-09-03T11:03:12.380101Z",
     "iopub.status.idle": "2025-09-03T11:03:12.387562Z",
     "shell.execute_reply": "2025-09-03T11:03:12.386694Z"
    },
    "papermill": {
     "duration": 0.015835,
     "end_time": "2025-09-03T11:03:12.389188",
     "exception": false,
     "start_time": "2025-09-03T11:03:12.373353",
     "status": "completed"
    },
    "tags": []
   },
   "outputs": [
    {
     "data": {
      "application/javascript": [
       "parent.postMessage({\"jupyterEvent\": \"custom.exercise_interaction\", \"data\": {\"interactionType\": 3, \"questionType\": 4, \"questionId\": \"3.2_ArithmeticParensHard\", \"learnToolsVersion\": \"0.3.5\", \"valueTowardsCompletion\": 0.0, \"failureMessage\": \"\", \"exceptionClass\": \"\", \"trace\": \"\", \"outcomeType\": 4}}, \"*\")"
      ],
      "text/plain": [
       "<IPython.core.display.Javascript object>"
      ]
     },
     "metadata": {},
     "output_type": "display_data"
    },
    {
     "data": {
      "text/markdown": [
       "<span style=\"color:#33cc99\">Solution:</span> `(8 - 3) * (2 - (1 + 1))` is one solution. There may be others."
      ],
      "text/plain": [
       "Solution: `(8 - 3) * (2 - (1 + 1))` is one solution. There may be others."
      ]
     },
     "metadata": {},
     "output_type": "display_data"
    }
   ],
   "source": [
    "# Check your answer (Run this code cell to receive credit!)\n",
    "q3.b.solution()"
   ]
  },
  {
   "cell_type": "markdown",
   "id": "eee207cb",
   "metadata": {
    "papermill": {
     "duration": 0.005661,
     "end_time": "2025-09-03T11:03:12.401140",
     "exception": false,
     "start_time": "2025-09-03T11:03:12.395479",
     "status": "completed"
    },
    "tags": []
   },
   "source": [
    "<hr/>\n",
    "\n",
    "# 4. \n",
    "Alice, Bob and Carol have agreed to pool their Halloween candy and split it evenly among themselves.\n",
    "For the sake of their friendship, any candies left over will be smashed. For example, if they collectively\n",
    "bring home 91 candies, they'll take 30 each and smash 1.\n",
    "\n",
    "Write an arithmetic expression below to calculate how many candies they must smash for a given haul."
   ]
  },
  {
   "cell_type": "code",
   "execution_count": 16,
   "id": "05e0d268",
   "metadata": {
    "execution": {
     "iopub.execute_input": "2025-09-03T11:03:12.413993Z",
     "iopub.status.busy": "2025-09-03T11:03:12.413684Z",
     "iopub.status.idle": "2025-09-03T11:03:12.422321Z",
     "shell.execute_reply": "2025-09-03T11:03:12.421348Z"
    },
    "papermill": {
     "duration": 0.016941,
     "end_time": "2025-09-03T11:03:12.423929",
     "exception": false,
     "start_time": "2025-09-03T11:03:12.406988",
     "status": "completed"
    },
    "tags": []
   },
   "outputs": [
    {
     "data": {
      "application/javascript": [
       "parent.postMessage({\"jupyterEvent\": \"custom.exercise_interaction\", \"data\": {\"outcomeType\": 1, \"valueTowardsCompletion\": 0.25, \"interactionType\": 1, \"questionType\": 1, \"questionId\": \"4_CandySplitting\", \"learnToolsVersion\": \"0.3.5\", \"failureMessage\": \"\", \"exceptionClass\": \"\", \"trace\": \"\"}}, \"*\")"
      ],
      "text/plain": [
       "<IPython.core.display.Javascript object>"
      ]
     },
     "metadata": {},
     "output_type": "display_data"
    },
    {
     "data": {
      "text/markdown": [
       "<span style=\"color:#33cc33\">Correct</span>"
      ],
      "text/plain": [
       "Correct"
      ]
     },
     "metadata": {},
     "output_type": "display_data"
    }
   ],
   "source": [
    "# Variables representing the number of candies collected by alice, bob, and carol\n",
    "alice_candies = 121\n",
    "bob_candies = 77\n",
    "carol_candies = 109\n",
    "\n",
    "# Your code goes here! Replace the right-hand side of this assignment with an expression\n",
    "# involving alice_candies, bob_candies, and carol_candies\n",
    "to_smash = (alice_candies + bob_candies + carol_candies) % 3\n",
    "\n",
    "# Check your answer\n",
    "q4.check()"
   ]
  },
  {
   "cell_type": "code",
   "execution_count": 17,
   "id": "a116dab0",
   "metadata": {
    "execution": {
     "iopub.execute_input": "2025-09-03T11:03:12.437696Z",
     "iopub.status.busy": "2025-09-03T11:03:12.437353Z",
     "iopub.status.idle": "2025-09-03T11:03:12.441980Z",
     "shell.execute_reply": "2025-09-03T11:03:12.441038Z"
    },
    "papermill": {
     "duration": 0.013527,
     "end_time": "2025-09-03T11:03:12.443594",
     "exception": false,
     "start_time": "2025-09-03T11:03:12.430067",
     "status": "completed"
    },
    "tags": []
   },
   "outputs": [],
   "source": [
    "#q4.hint()\n",
    "#q4.solution()"
   ]
  },
  {
   "cell_type": "markdown",
   "id": "76bcc7c3",
   "metadata": {
    "papermill": {
     "duration": 0.006309,
     "end_time": "2025-09-03T11:03:12.456157",
     "exception": false,
     "start_time": "2025-09-03T11:03:12.449848",
     "status": "completed"
    },
    "tags": []
   },
   "source": [
    "# Keep Going\n",
    "\n",
    "Next up, you'll **[learn to write new functions and understand functions others write](https://www.kaggle.com/colinmorris/functions-and-getting-help)**. This will make you at least 10 times more productive as a Python programmer. "
   ]
  },
  {
   "cell_type": "markdown",
   "id": "0b58f9a4",
   "metadata": {
    "papermill": {
     "duration": 0.005869,
     "end_time": "2025-09-03T11:03:12.468144",
     "exception": false,
     "start_time": "2025-09-03T11:03:12.462275",
     "status": "completed"
    },
    "tags": []
   },
   "source": [
    "---\n",
    "\n",
    "\n",
    "\n",
    "\n",
    "*Have questions or comments? Visit the [course discussion forum](https://www.kaggle.com/learn/python/discussion) to chat with other learners.*"
   ]
  }
 ],
 "metadata": {
  "kaggle": {
   "accelerator": "none",
   "dataSources": [],
   "isGpuEnabled": false,
   "isInternetEnabled": false,
   "language": "python",
   "sourceType": "notebook"
  },
  "kernelspec": {
   "display_name": "Python 3",
   "language": "python",
   "name": "python3"
  },
  "language_info": {
   "codemirror_mode": {
    "name": "ipython",
    "version": 3
   },
   "file_extension": ".py",
   "mimetype": "text/x-python",
   "name": "python",
   "nbconvert_exporter": "python",
   "pygments_lexer": "ipython3",
   "version": "3.11.13"
  },
  "learntools_metadata": {
   "lesson_index": 0,
   "type": "exercise"
  },
  "papermill": {
   "default_parameters": {},
   "duration": 9.819082,
   "end_time": "2025-09-03T11:03:13.095543",
   "environment_variables": {},
   "exception": null,
   "input_path": "__notebook__.ipynb",
   "output_path": "__notebook__.ipynb",
   "parameters": {},
   "start_time": "2025-09-03T11:03:03.276461",
   "version": "2.6.0"
  }
 },
 "nbformat": 4,
 "nbformat_minor": 5
}
