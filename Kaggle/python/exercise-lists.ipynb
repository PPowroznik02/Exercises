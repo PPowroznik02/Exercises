{
 "cells": [
  {
   "cell_type": "markdown",
   "id": "6e53c6f3",
   "metadata": {
    "papermill": {
     "duration": 0.004529,
     "end_time": "2025-09-03T10:56:02.247549",
     "exception": false,
     "start_time": "2025-09-03T10:56:02.243020",
     "status": "completed"
    },
    "tags": []
   },
   "source": [
    "**This notebook is an exercise in the [Python](https://www.kaggle.com/learn/python) course.  You can reference the tutorial at [this link](https://www.kaggle.com/colinmorris/lists).**\n",
    "\n",
    "---\n"
   ]
  },
  {
   "cell_type": "markdown",
   "id": "2ce50b76",
   "metadata": {
    "papermill": {
     "duration": 0.003259,
     "end_time": "2025-09-03T10:56:02.254654",
     "exception": false,
     "start_time": "2025-09-03T10:56:02.251395",
     "status": "completed"
    },
    "tags": []
   },
   "source": [
    "Things get more interesting with lists. You'll apply your new knowledge to solve the questions below. Remember to run the following cell first."
   ]
  },
  {
   "cell_type": "code",
   "execution_count": 1,
   "id": "b44d3812",
   "metadata": {
    "execution": {
     "iopub.execute_input": "2025-09-03T10:56:02.263122Z",
     "iopub.status.busy": "2025-09-03T10:56:02.262800Z",
     "iopub.status.idle": "2025-09-03T10:56:04.562482Z",
     "shell.execute_reply": "2025-09-03T10:56:04.561359Z"
    },
    "papermill": {
     "duration": 2.305931,
     "end_time": "2025-09-03T10:56:04.564205",
     "exception": false,
     "start_time": "2025-09-03T10:56:02.258274",
     "status": "completed"
    },
    "tags": []
   },
   "outputs": [
    {
     "name": "stdout",
     "output_type": "stream",
     "text": [
      "Setup complete.\n"
     ]
    }
   ],
   "source": [
    "from learntools.core import binder; binder.bind(globals())\n",
    "from learntools.python.ex4 import *\n",
    "print('Setup complete.')"
   ]
  },
  {
   "cell_type": "markdown",
   "id": "814cbd77",
   "metadata": {
    "papermill": {
     "duration": 0.003891,
     "end_time": "2025-09-03T10:56:04.572096",
     "exception": false,
     "start_time": "2025-09-03T10:56:04.568205",
     "status": "completed"
    },
    "tags": []
   },
   "source": [
    "# 1.\n",
    "\n",
    "Complete the function below according to its docstring."
   ]
  },
  {
   "cell_type": "code",
   "execution_count": 2,
   "id": "235e9ea2",
   "metadata": {
    "execution": {
     "iopub.execute_input": "2025-09-03T10:56:04.581803Z",
     "iopub.status.busy": "2025-09-03T10:56:04.581331Z",
     "iopub.status.idle": "2025-09-03T10:56:04.591727Z",
     "shell.execute_reply": "2025-09-03T10:56:04.590468Z"
    },
    "papermill": {
     "duration": 0.017143,
     "end_time": "2025-09-03T10:56:04.593335",
     "exception": false,
     "start_time": "2025-09-03T10:56:04.576192",
     "status": "completed"
    },
    "tags": []
   },
   "outputs": [
    {
     "data": {
      "application/javascript": [
       "parent.postMessage({\"jupyterEvent\": \"custom.exercise_interaction\", \"data\": {\"outcomeType\": 1, \"valueTowardsCompletion\": 0.2, \"interactionType\": 1, \"questionType\": 2, \"questionId\": \"1_SelectSecondItem\", \"learnToolsVersion\": \"0.3.5\", \"failureMessage\": \"\", \"exceptionClass\": \"\", \"trace\": \"\"}}, \"*\")"
      ],
      "text/plain": [
       "<IPython.core.display.Javascript object>"
      ]
     },
     "metadata": {},
     "output_type": "display_data"
    },
    {
     "data": {
      "text/markdown": [
       "<span style=\"color:#33cc33\">Correct</span>"
      ],
      "text/plain": [
       "Correct"
      ]
     },
     "metadata": {},
     "output_type": "display_data"
    }
   ],
   "source": [
    "def select_second(L):\n",
    "    \"\"\"Return the second element of the given list. If the list has no second\n",
    "    element, return None.\n",
    "    \"\"\"\n",
    "    if len(L) > 1:\n",
    "        return L[1]\n",
    "    else:\n",
    "        return None\n",
    "# Check your answer\n",
    "q1.check()"
   ]
  },
  {
   "cell_type": "code",
   "execution_count": 3,
   "id": "cef9ed9f",
   "metadata": {
    "collapsed": true,
    "execution": {
     "iopub.execute_input": "2025-09-03T10:56:04.605663Z",
     "iopub.status.busy": "2025-09-03T10:56:04.604200Z",
     "iopub.status.idle": "2025-09-03T10:56:04.609748Z",
     "shell.execute_reply": "2025-09-03T10:56:04.608599Z"
    },
    "jupyter": {
     "outputs_hidden": true
    },
    "papermill": {
     "duration": 0.01381,
     "end_time": "2025-09-03T10:56:04.611700",
     "exception": false,
     "start_time": "2025-09-03T10:56:04.597890",
     "status": "completed"
    },
    "tags": []
   },
   "outputs": [],
   "source": [
    "#q1.hint()\n",
    "#q1.solution()"
   ]
  },
  {
   "cell_type": "markdown",
   "id": "ef54187b",
   "metadata": {
    "papermill": {
     "duration": 0.003725,
     "end_time": "2025-09-03T10:56:04.619682",
     "exception": false,
     "start_time": "2025-09-03T10:56:04.615957",
     "status": "completed"
    },
    "tags": []
   },
   "source": [
    "# 2.\n",
    "\n",
    "You are analyzing sports teams.  Members of each team are stored in a list. The Coach is the first name in the list, the captain is the second name in the list, and other players are listed after that. \n",
    "These lists are stored in another list, which starts with the best team and proceeds through the list to the worst team last.  Complete the function below to select the **captain** of the worst team."
   ]
  },
  {
   "cell_type": "code",
   "execution_count": 4,
   "id": "fcf10f3b",
   "metadata": {
    "execution": {
     "iopub.execute_input": "2025-09-03T10:56:04.629646Z",
     "iopub.status.busy": "2025-09-03T10:56:04.629195Z",
     "iopub.status.idle": "2025-09-03T10:56:04.637974Z",
     "shell.execute_reply": "2025-09-03T10:56:04.636921Z"
    },
    "papermill": {
     "duration": 0.016012,
     "end_time": "2025-09-03T10:56:04.639781",
     "exception": false,
     "start_time": "2025-09-03T10:56:04.623769",
     "status": "completed"
    },
    "tags": []
   },
   "outputs": [
    {
     "data": {
      "application/javascript": [
       "parent.postMessage({\"jupyterEvent\": \"custom.exercise_interaction\", \"data\": {\"outcomeType\": 1, \"valueTowardsCompletion\": 0.2, \"interactionType\": 1, \"questionType\": 2, \"questionId\": \"2_LosingTeamCaptain\", \"learnToolsVersion\": \"0.3.5\", \"failureMessage\": \"\", \"exceptionClass\": \"\", \"trace\": \"\"}}, \"*\")"
      ],
      "text/plain": [
       "<IPython.core.display.Javascript object>"
      ]
     },
     "metadata": {},
     "output_type": "display_data"
    },
    {
     "data": {
      "text/markdown": [
       "<span style=\"color:#33cc33\">Correct</span>"
      ],
      "text/plain": [
       "Correct"
      ]
     },
     "metadata": {},
     "output_type": "display_data"
    }
   ],
   "source": [
    "def losing_team_captain(teams):\n",
    "    \"\"\"Given a list of teams, where each team is a list of names, return the 2nd player (captain)\n",
    "    from the last listed team\n",
    "    \"\"\"\n",
    "    return teams[-1][1]\n",
    "\n",
    "# Check your answer\n",
    "q2.check()"
   ]
  },
  {
   "cell_type": "code",
   "execution_count": 5,
   "id": "f72448e9",
   "metadata": {
    "collapsed": true,
    "execution": {
     "iopub.execute_input": "2025-09-03T10:56:04.649573Z",
     "iopub.status.busy": "2025-09-03T10:56:04.649262Z",
     "iopub.status.idle": "2025-09-03T10:56:04.653734Z",
     "shell.execute_reply": "2025-09-03T10:56:04.652586Z"
    },
    "jupyter": {
     "outputs_hidden": true
    },
    "papermill": {
     "duration": 0.0113,
     "end_time": "2025-09-03T10:56:04.655606",
     "exception": false,
     "start_time": "2025-09-03T10:56:04.644306",
     "status": "completed"
    },
    "tags": []
   },
   "outputs": [],
   "source": [
    "#q2.hint()\n",
    "#q2.solution()"
   ]
  },
  {
   "cell_type": "markdown",
   "id": "ef7167d1",
   "metadata": {
    "papermill": {
     "duration": 0.003713,
     "end_time": "2025-09-03T10:56:04.664496",
     "exception": false,
     "start_time": "2025-09-03T10:56:04.660783",
     "status": "completed"
    },
    "tags": []
   },
   "source": [
    "# 3.\n",
    "\n",
    "The next iteration of Mario Kart will feature an extra-infuriating new item, the *Purple Shell*. When used, it warps the last place racer into first place and the first place racer into last place. Complete the function below to implement the Purple Shell's effect."
   ]
  },
  {
   "cell_type": "code",
   "execution_count": 6,
   "id": "88e7dd8d",
   "metadata": {
    "execution": {
     "iopub.execute_input": "2025-09-03T10:56:04.673643Z",
     "iopub.status.busy": "2025-09-03T10:56:04.673331Z",
     "iopub.status.idle": "2025-09-03T10:56:04.681758Z",
     "shell.execute_reply": "2025-09-03T10:56:04.680822Z"
    },
    "papermill": {
     "duration": 0.015038,
     "end_time": "2025-09-03T10:56:04.683441",
     "exception": false,
     "start_time": "2025-09-03T10:56:04.668403",
     "status": "completed"
    },
    "tags": []
   },
   "outputs": [
    {
     "data": {
      "application/javascript": [
       "parent.postMessage({\"jupyterEvent\": \"custom.exercise_interaction\", \"data\": {\"outcomeType\": 1, \"valueTowardsCompletion\": 0.2, \"interactionType\": 1, \"questionType\": 2, \"questionId\": \"3_PurpleShell\", \"learnToolsVersion\": \"0.3.5\", \"failureMessage\": \"\", \"exceptionClass\": \"\", \"trace\": \"\"}}, \"*\")"
      ],
      "text/plain": [
       "<IPython.core.display.Javascript object>"
      ]
     },
     "metadata": {},
     "output_type": "display_data"
    },
    {
     "data": {
      "text/markdown": [
       "<span style=\"color:#33cc33\">Correct</span>"
      ],
      "text/plain": [
       "Correct"
      ]
     },
     "metadata": {},
     "output_type": "display_data"
    }
   ],
   "source": [
    "def purple_shell(racers):\n",
    "    \"\"\"Given a list of racers, set the first place racer (at the front of the list) to last\n",
    "    place and vice versa.\n",
    "    \n",
    "    >>> r = [\"Mario\", \"Bowser\", \"Luigi\"]\n",
    "    >>> purple_shell(r)\n",
    "    >>> r\n",
    "    [\"Luigi\", \"Bowser\", \"Mario\"]\n",
    "    \"\"\"\n",
    "    racers[0], racers[-1] = racers[-1], racers[0]\n",
    "    \n",
    "\n",
    "# Check your answer\n",
    "q3.check()"
   ]
  },
  {
   "cell_type": "code",
   "execution_count": 7,
   "id": "db7bcce1",
   "metadata": {
    "collapsed": true,
    "execution": {
     "iopub.execute_input": "2025-09-03T10:56:04.694138Z",
     "iopub.status.busy": "2025-09-03T10:56:04.693845Z",
     "iopub.status.idle": "2025-09-03T10:56:04.698587Z",
     "shell.execute_reply": "2025-09-03T10:56:04.697190Z"
    },
    "jupyter": {
     "outputs_hidden": true
    },
    "papermill": {
     "duration": 0.012324,
     "end_time": "2025-09-03T10:56:04.700532",
     "exception": false,
     "start_time": "2025-09-03T10:56:04.688208",
     "status": "completed"
    },
    "tags": []
   },
   "outputs": [],
   "source": [
    "#q3.hint()\n",
    "#q3.solution()"
   ]
  },
  {
   "cell_type": "markdown",
   "id": "b68d845e",
   "metadata": {
    "papermill": {
     "duration": 0.004461,
     "end_time": "2025-09-03T10:56:04.709940",
     "exception": false,
     "start_time": "2025-09-03T10:56:04.705479",
     "status": "completed"
    },
    "tags": []
   },
   "source": [
    "# 4.\n",
    "\n",
    "What are the lengths of the following lists? Fill in the variable `lengths` with your predictions. (Try to make a prediction for each list *without* just calling `len()` on it.)"
   ]
  },
  {
   "cell_type": "code",
   "execution_count": 8,
   "id": "d3365b5f",
   "metadata": {
    "execution": {
     "iopub.execute_input": "2025-09-03T10:56:04.721146Z",
     "iopub.status.busy": "2025-09-03T10:56:04.720850Z",
     "iopub.status.idle": "2025-09-03T10:56:04.729203Z",
     "shell.execute_reply": "2025-09-03T10:56:04.728395Z"
    },
    "papermill": {
     "duration": 0.015876,
     "end_time": "2025-09-03T10:56:04.730781",
     "exception": false,
     "start_time": "2025-09-03T10:56:04.714905",
     "status": "completed"
    },
    "tags": []
   },
   "outputs": [
    {
     "data": {
      "application/javascript": [
       "parent.postMessage({\"jupyterEvent\": \"custom.exercise_interaction\", \"data\": {\"outcomeType\": 1, \"valueTowardsCompletion\": 0.2, \"interactionType\": 1, \"questionType\": 1, \"questionId\": \"4_UnderstandLen\", \"learnToolsVersion\": \"0.3.5\", \"failureMessage\": \"\", \"exceptionClass\": \"\", \"trace\": \"\"}}, \"*\")"
      ],
      "text/plain": [
       "<IPython.core.display.Javascript object>"
      ]
     },
     "metadata": {},
     "output_type": "display_data"
    },
    {
     "data": {
      "text/markdown": [
       "<span style=\"color:#33cc33\">Correct:</span> \n",
       "\n",
       "\n",
       "- a: There are three items in this list. Nothing tricky yet.\n",
       "- b: The list `[2, 3]` counts as a single item. It has one item before it. So we have 2 items in the list\n",
       "- c: The empty list has 0 items\n",
       "- d: The expression is the same as the list `[2, 3]`, which has length 2."
      ],
      "text/plain": [
       "Correct: \n",
       "\n",
       "\n",
       "- a: There are three items in this list. Nothing tricky yet.\n",
       "- b: The list `[2, 3]` counts as a single item. It has one item before it. So we have 2 items in the list\n",
       "- c: The empty list has 0 items\n",
       "- d: The expression is the same as the list `[2, 3]`, which has length 2."
      ]
     },
     "metadata": {},
     "output_type": "display_data"
    }
   ],
   "source": [
    "a = [1, 2, 3]\n",
    "b = [1, [2, 3]]\n",
    "c = []\n",
    "d = [1, 2, 3][1:]\n",
    "\n",
    "# Put your predictions in the list below. Lengths should contain 4 numbers, the\n",
    "# first being the length of a, the second being the length of b and so on.\n",
    "lengths = [3, 2, 0, 2]\n",
    "\n",
    "# Check your answer\n",
    "q4.check()"
   ]
  },
  {
   "cell_type": "code",
   "execution_count": 9,
   "id": "185eef71",
   "metadata": {
    "collapsed": true,
    "execution": {
     "iopub.execute_input": "2025-09-03T10:56:04.741505Z",
     "iopub.status.busy": "2025-09-03T10:56:04.741168Z",
     "iopub.status.idle": "2025-09-03T10:56:04.745485Z",
     "shell.execute_reply": "2025-09-03T10:56:04.744508Z"
    },
    "jupyter": {
     "outputs_hidden": true
    },
    "papermill": {
     "duration": 0.011633,
     "end_time": "2025-09-03T10:56:04.747215",
     "exception": false,
     "start_time": "2025-09-03T10:56:04.735582",
     "status": "completed"
    },
    "tags": []
   },
   "outputs": [],
   "source": [
    "# line below provides some explanation\n",
    "#q4.solution()"
   ]
  },
  {
   "cell_type": "markdown",
   "id": "a6486367",
   "metadata": {
    "papermill": {
     "duration": 0.004255,
     "end_time": "2025-09-03T10:56:04.756075",
     "exception": false,
     "start_time": "2025-09-03T10:56:04.751820",
     "status": "completed"
    },
    "tags": []
   },
   "source": [
    "# 5. <span title=\"A bit spicy\" style=\"color: darkgreen \">🌶️</span>\n",
    "\n",
    "We're using lists to record people who attended our party and what order they arrived in. For example, the following list represents a party with 7 guests, in which Adela showed up first and Ford was the last to arrive:\n",
    "\n",
    "    party_attendees = ['Adela', 'Fleda', 'Owen', 'May', 'Mona', 'Gilbert', 'Ford']\n",
    "\n",
    "A guest is considered 'fashionably late' if they arrived after at least half of the party's guests. However, they must not be the very last guest (that's taking it too far). In the above example, Mona and Gilbert are the only guests who were fashionably late.\n",
    "\n",
    "Complete the function below which takes a list of party attendees as well as a person, and tells us whether that person is fashionably late."
   ]
  },
  {
   "cell_type": "code",
   "execution_count": 10,
   "id": "5b5656f7",
   "metadata": {
    "execution": {
     "iopub.execute_input": "2025-09-03T10:56:04.767640Z",
     "iopub.status.busy": "2025-09-03T10:56:04.767300Z",
     "iopub.status.idle": "2025-09-03T10:56:04.775471Z",
     "shell.execute_reply": "2025-09-03T10:56:04.774598Z"
    },
    "papermill": {
     "duration": 0.016316,
     "end_time": "2025-09-03T10:56:04.777105",
     "exception": false,
     "start_time": "2025-09-03T10:56:04.760789",
     "status": "completed"
    },
    "tags": []
   },
   "outputs": [
    {
     "data": {
      "application/javascript": [
       "parent.postMessage({\"jupyterEvent\": \"custom.exercise_interaction\", \"data\": {\"outcomeType\": 1, \"valueTowardsCompletion\": 0.2, \"interactionType\": 1, \"questionType\": 2, \"questionId\": \"5_FashionablyLate\", \"learnToolsVersion\": \"0.3.5\", \"failureMessage\": \"\", \"exceptionClass\": \"\", \"trace\": \"\"}}, \"*\")"
      ],
      "text/plain": [
       "<IPython.core.display.Javascript object>"
      ]
     },
     "metadata": {},
     "output_type": "display_data"
    },
    {
     "data": {
      "text/markdown": [
       "<span style=\"color:#33cc33\">Correct</span>"
      ],
      "text/plain": [
       "Correct"
      ]
     },
     "metadata": {},
     "output_type": "display_data"
    }
   ],
   "source": [
    "def fashionably_late(arrivals, name):\n",
    "    \"\"\"Given an ordered list of arrivals to the party and a name, return whether the guest with that\n",
    "    name was fashionably late.\n",
    "    \"\"\"\n",
    "    if name in arrivals:\n",
    "        idx = arrivals.index(name)\n",
    "        if idx == len(arrivals) - 1:\n",
    "            return False\n",
    "        elif idx < len(arrivals)/2:\n",
    "            return False\n",
    "        else:\n",
    "            return True\n",
    "\n",
    "# Check your answer\n",
    "q5.check()"
   ]
  },
  {
   "cell_type": "code",
   "execution_count": 11,
   "id": "9a65d6c3",
   "metadata": {
    "collapsed": true,
    "execution": {
     "iopub.execute_input": "2025-09-03T10:56:04.787963Z",
     "iopub.status.busy": "2025-09-03T10:56:04.787649Z",
     "iopub.status.idle": "2025-09-03T10:56:04.792061Z",
     "shell.execute_reply": "2025-09-03T10:56:04.791176Z"
    },
    "jupyter": {
     "outputs_hidden": true
    },
    "papermill": {
     "duration": 0.011955,
     "end_time": "2025-09-03T10:56:04.793966",
     "exception": false,
     "start_time": "2025-09-03T10:56:04.782011",
     "status": "completed"
    },
    "tags": []
   },
   "outputs": [],
   "source": [
    "#q5.hint()\n",
    "#q5.solution()"
   ]
  },
  {
   "cell_type": "markdown",
   "id": "ee1f40b9",
   "metadata": {
    "papermill": {
     "duration": 0.00522,
     "end_time": "2025-09-03T10:56:04.804647",
     "exception": false,
     "start_time": "2025-09-03T10:56:04.799427",
     "status": "completed"
    },
    "tags": []
   },
   "source": [
    "# Keep Going\n",
    "\n",
    "That's it for lists and tuples! Now you have the baseline knowledge to **[learn about loops](https://www.kaggle.com/colinmorris/loops-and-list-comprehensions)**, which is where lists and tuples get really interesting. "
   ]
  },
  {
   "cell_type": "markdown",
   "id": "2a09f5a2",
   "metadata": {
    "papermill": {
     "duration": 0.004293,
     "end_time": "2025-09-03T10:56:04.813555",
     "exception": false,
     "start_time": "2025-09-03T10:56:04.809262",
     "status": "completed"
    },
    "tags": []
   },
   "source": [
    "---\n",
    "\n",
    "\n",
    "\n",
    "\n",
    "*Have questions or comments? Visit the [course discussion forum](https://www.kaggle.com/learn/python/discussion) to chat with other learners.*"
   ]
  }
 ],
 "metadata": {
  "kaggle": {
   "accelerator": "none",
   "dataSources": [],
   "isGpuEnabled": false,
   "isInternetEnabled": false,
   "language": "python",
   "sourceType": "notebook"
  },
  "kernelspec": {
   "display_name": "Python 3",
   "language": "python",
   "name": "python3"
  },
  "language_info": {
   "codemirror_mode": {
    "name": "ipython",
    "version": 3
   },
   "file_extension": ".py",
   "mimetype": "text/x-python",
   "name": "python",
   "nbconvert_exporter": "python",
   "pygments_lexer": "ipython3",
   "version": "3.11.13"
  },
  "learntools_metadata": {
   "lesson_index": 3,
   "type": "exercise"
  },
  "papermill": {
   "default_parameters": {},
   "duration": 9.264467,
   "end_time": "2025-09-03T10:56:05.439791",
   "environment_variables": {},
   "exception": null,
   "input_path": "__notebook__.ipynb",
   "output_path": "__notebook__.ipynb",
   "parameters": {},
   "start_time": "2025-09-03T10:55:56.175324",
   "version": "2.6.0"
  }
 },
 "nbformat": 4,
 "nbformat_minor": 5
}
