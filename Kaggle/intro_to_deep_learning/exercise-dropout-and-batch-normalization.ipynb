{
 "cells": [
  {
   "cell_type": "markdown",
   "id": "aa81b709",
   "metadata": {
    "papermill": {
     "duration": 0.004589,
     "end_time": "2025-09-01T22:20:35.362373",
     "exception": false,
     "start_time": "2025-09-01T22:20:35.357784",
     "status": "completed"
    },
    "tags": []
   },
   "source": [
    "**This notebook is an exercise in the [Intro to Deep Learning](https://www.kaggle.com/learn/intro-to-deep-learning) course.  You can reference the tutorial at [this link](https://www.kaggle.com/ryanholbrook/dropout-and-batch-normalization).**\n",
    "\n",
    "---\n"
   ]
  },
  {
   "cell_type": "markdown",
   "id": "6f3cc6f9",
   "metadata": {
    "papermill": {
     "duration": 0.003646,
     "end_time": "2025-09-01T22:20:35.369801",
     "exception": false,
     "start_time": "2025-09-01T22:20:35.366155",
     "status": "completed"
    },
    "tags": []
   },
   "source": [
    "# Introduction #\n",
    "\n",
    "In this exercise, you'll add dropout to the *Spotify* model from Exercise 4 and see how batch normalization can let you successfully train models on difficult datasets.\n",
    "\n",
    "Run the next cell to get started!"
   ]
  },
  {
   "cell_type": "code",
   "execution_count": 1,
   "id": "123d2d3a",
   "metadata": {
    "execution": {
     "iopub.execute_input": "2025-09-01T22:20:35.378501Z",
     "iopub.status.busy": "2025-09-01T22:20:35.378129Z",
     "iopub.status.idle": "2025-09-01T22:20:36.125466Z",
     "shell.execute_reply": "2025-09-01T22:20:36.124590Z"
    },
    "papermill": {
     "duration": 0.753949,
     "end_time": "2025-09-01T22:20:36.127433",
     "exception": false,
     "start_time": "2025-09-01T22:20:35.373484",
     "status": "completed"
    },
    "tags": []
   },
   "outputs": [
    {
     "name": "stderr",
     "output_type": "stream",
     "text": [
      "/tmp/ipykernel_26/195640296.py:3: MatplotlibDeprecationWarning: The seaborn styles shipped by Matplotlib are deprecated since 3.6, as they no longer correspond to the styles shipped by seaborn. However, they will remain available as 'seaborn-v0_8-<style>'. Alternatively, directly use the seaborn API instead.\n",
      "  plt.style.use('seaborn-whitegrid')\n"
     ]
    }
   ],
   "source": [
    "# Setup plotting\n",
    "import matplotlib.pyplot as plt\n",
    "plt.style.use('seaborn-whitegrid')\n",
    "# Set Matplotlib defaults\n",
    "plt.rc('figure', autolayout=True)\n",
    "plt.rc('axes', labelweight='bold', labelsize='large',\n",
    "       titleweight='bold', titlesize=18, titlepad=10)\n",
    "plt.rc('animation', html='html5')\n",
    "\n",
    "# Setup feedback system\n",
    "from learntools.core import binder\n",
    "binder.bind(globals())\n",
    "from learntools.deep_learning_intro.ex5 import *"
   ]
  },
  {
   "cell_type": "markdown",
   "id": "8f2dd0c9",
   "metadata": {
    "papermill": {
     "duration": 0.003662,
     "end_time": "2025-09-01T22:20:36.135219",
     "exception": false,
     "start_time": "2025-09-01T22:20:36.131557",
     "status": "completed"
    },
    "tags": []
   },
   "source": [
    "First load the *Spotify* dataset."
   ]
  },
  {
   "cell_type": "code",
   "execution_count": 2,
   "id": "8e66250c",
   "metadata": {
    "execution": {
     "iopub.execute_input": "2025-09-01T22:20:36.144030Z",
     "iopub.status.busy": "2025-09-01T22:20:36.143688Z",
     "iopub.status.idle": "2025-09-01T22:20:49.675161Z",
     "shell.execute_reply": "2025-09-01T22:20:49.674108Z"
    },
    "papermill": {
     "duration": 13.538344,
     "end_time": "2025-09-01T22:20:49.677305",
     "exception": false,
     "start_time": "2025-09-01T22:20:36.138961",
     "status": "completed"
    },
    "tags": []
   },
   "outputs": [
    {
     "name": "stderr",
     "output_type": "stream",
     "text": [
      "2025-09-01 22:20:39.066599: E external/local_xla/xla/stream_executor/cuda/cuda_dnn.cc:9261] Unable to register cuDNN factory: Attempting to register factory for plugin cuDNN when one has already been registered\n",
      "2025-09-01 22:20:39.066763: E external/local_xla/xla/stream_executor/cuda/cuda_fft.cc:607] Unable to register cuFFT factory: Attempting to register factory for plugin cuFFT when one has already been registered\n",
      "2025-09-01 22:20:39.202272: E external/local_xla/xla/stream_executor/cuda/cuda_blas.cc:1515] Unable to register cuBLAS factory: Attempting to register factory for plugin cuBLAS when one has already been registered\n"
     ]
    },
    {
     "name": "stdout",
     "output_type": "stream",
     "text": [
      "Input shape: [18]\n"
     ]
    }
   ],
   "source": [
    "import pandas as pd\n",
    "from sklearn.preprocessing import StandardScaler, OneHotEncoder\n",
    "from sklearn.compose import make_column_transformer\n",
    "from sklearn.model_selection import GroupShuffleSplit\n",
    "\n",
    "from tensorflow import keras\n",
    "from tensorflow.keras import layers\n",
    "from tensorflow.keras import callbacks\n",
    "\n",
    "spotify = pd.read_csv('../input/dl-course-data/spotify.csv')\n",
    "\n",
    "X = spotify.copy().dropna()\n",
    "y = X.pop('track_popularity')\n",
    "artists = X['track_artist']\n",
    "\n",
    "features_num = ['danceability', 'energy', 'key', 'loudness', 'mode',\n",
    "                'speechiness', 'acousticness', 'instrumentalness',\n",
    "                'liveness', 'valence', 'tempo', 'duration_ms']\n",
    "features_cat = ['playlist_genre']\n",
    "\n",
    "preprocessor = make_column_transformer(\n",
    "    (StandardScaler(), features_num),\n",
    "    (OneHotEncoder(), features_cat),\n",
    ")\n",
    "\n",
    "def group_split(X, y, group, train_size=0.75):\n",
    "    splitter = GroupShuffleSplit(train_size=train_size)\n",
    "    train, test = next(splitter.split(X, y, groups=group))\n",
    "    return (X.iloc[train], X.iloc[test], y.iloc[train], y.iloc[test])\n",
    "\n",
    "X_train, X_valid, y_train, y_valid = group_split(X, y, artists)\n",
    "\n",
    "X_train = preprocessor.fit_transform(X_train)\n",
    "X_valid = preprocessor.transform(X_valid)\n",
    "y_train = y_train / 100\n",
    "y_valid = y_valid / 100\n",
    "\n",
    "input_shape = [X_train.shape[1]]\n",
    "print(\"Input shape: {}\".format(input_shape))"
   ]
  },
  {
   "cell_type": "markdown",
   "id": "e1627143",
   "metadata": {
    "papermill": {
     "duration": 0.004497,
     "end_time": "2025-09-01T22:20:49.696502",
     "exception": false,
     "start_time": "2025-09-01T22:20:49.692005",
     "status": "completed"
    },
    "tags": []
   },
   "source": [
    "# 1) Add Dropout to Spotify Model\n",
    "\n",
    "Here is the last model from Exercise 4. Add two dropout layers, one after the `Dense` layer with 128 units, and one after the `Dense` layer with 64 units. Set the dropout rate on both to `0.3`."
   ]
  },
  {
   "cell_type": "code",
   "execution_count": 3,
   "id": "f1692827",
   "metadata": {
    "execution": {
     "iopub.execute_input": "2025-09-01T22:20:49.706513Z",
     "iopub.status.busy": "2025-09-01T22:20:49.706195Z",
     "iopub.status.idle": "2025-09-01T22:20:50.659492Z",
     "shell.execute_reply": "2025-09-01T22:20:50.658695Z"
    },
    "lines_to_next_cell": 2,
    "papermill": {
     "duration": 0.960958,
     "end_time": "2025-09-01T22:20:50.661662",
     "exception": false,
     "start_time": "2025-09-01T22:20:49.700704",
     "status": "completed"
    },
    "tags": []
   },
   "outputs": [
    {
     "data": {
      "application/javascript": [
       "parent.postMessage({\"jupyterEvent\": \"custom.exercise_interaction\", \"data\": {\"outcomeType\": 1, \"valueTowardsCompletion\": 0.25, \"interactionType\": 1, \"questionType\": 2, \"questionId\": \"1_Q1\", \"learnToolsVersion\": \"0.3.4\", \"failureMessage\": \"\", \"exceptionClass\": \"\", \"trace\": \"\"}}, \"*\")"
      ],
      "text/plain": [
       "<IPython.core.display.Javascript object>"
      ]
     },
     "metadata": {},
     "output_type": "display_data"
    },
    {
     "data": {
      "text/markdown": [
       "<span style=\"color:#33cc33\">Correct</span>"
      ],
      "text/plain": [
       "Correct"
      ]
     },
     "metadata": {},
     "output_type": "display_data"
    }
   ],
   "source": [
    "# YOUR CODE HERE: Add two 30% dropout layers, one after 128 and one after 64\n",
    "model = keras.Sequential([\n",
    "    layers.Dense(128, activation='relu', input_shape=input_shape),\n",
    "    layers.Dropout(0.3),\n",
    "    layers.Dense(64, activation='relu'),\n",
    "    layers.Dropout(0.3),\n",
    "    layers.Dense(1)\n",
    "])\n",
    "\n",
    "# Check your answer\n",
    "q_1.check()"
   ]
  },
  {
   "cell_type": "code",
   "execution_count": 4,
   "id": "43f374f5",
   "metadata": {
    "execution": {
     "iopub.execute_input": "2025-09-01T22:20:50.671293Z",
     "iopub.status.busy": "2025-09-01T22:20:50.671026Z",
     "iopub.status.idle": "2025-09-01T22:20:50.674316Z",
     "shell.execute_reply": "2025-09-01T22:20:50.673602Z"
    },
    "papermill": {
     "duration": 0.010022,
     "end_time": "2025-09-01T22:20:50.675921",
     "exception": false,
     "start_time": "2025-09-01T22:20:50.665899",
     "status": "completed"
    },
    "tags": []
   },
   "outputs": [],
   "source": [
    "# Lines below will give you a hint or solution code\n",
    "#q_1.hint()\n",
    "#q_1.solution()"
   ]
  },
  {
   "cell_type": "markdown",
   "id": "75561f52",
   "metadata": {
    "papermill": {
     "duration": 0.003895,
     "end_time": "2025-09-01T22:20:50.684040",
     "exception": false,
     "start_time": "2025-09-01T22:20:50.680145",
     "status": "completed"
    },
    "tags": []
   },
   "source": [
    "Now run this next cell to train the model see the effect of adding dropout."
   ]
  },
  {
   "cell_type": "code",
   "execution_count": 5,
   "id": "0d9900b1",
   "metadata": {
    "execution": {
     "iopub.execute_input": "2025-09-01T22:20:50.693873Z",
     "iopub.status.busy": "2025-09-01T22:20:50.693635Z",
     "iopub.status.idle": "2025-09-01T22:21:02.186925Z",
     "shell.execute_reply": "2025-09-01T22:21:02.186028Z"
    },
    "papermill": {
     "duration": 11.500904,
     "end_time": "2025-09-01T22:21:02.188807",
     "exception": false,
     "start_time": "2025-09-01T22:20:50.687903",
     "status": "completed"
    },
    "tags": []
   },
   "outputs": [
    {
     "name": "stderr",
     "output_type": "stream",
     "text": [
      "WARNING: All log messages before absl::InitializeLog() is called are written to STDERR\n",
      "I0000 00:00:1756765253.106250      66 device_compiler.h:186] Compiled cluster using XLA!  This line is logged at most once for the lifetime of the process.\n"
     ]
    },
    {
     "name": "stdout",
     "output_type": "stream",
     "text": [
      "Minimum Validation Loss: 0.1944\n"
     ]
    },
    {
     "data": {
      "image/png": "[encoded data removed]",
      "text/plain": [
       "<Figure size 640x480 with 1 Axes>"
      ]
     },
     "metadata": {},
     "output_type": "display_data"
    }
   ],
   "source": [
    "model.compile(\n",
    "    optimizer='adam',\n",
    "    loss='mae',\n",
    ")\n",
    "history = model.fit(\n",
    "    X_train, y_train,\n",
    "    validation_data=(X_valid, y_valid),\n",
    "    batch_size=512,\n",
    "    epochs=50,\n",
    "    verbose=0,\n",
    ")\n",
    "history_df = pd.DataFrame(history.history)\n",
    "history_df.loc[:, ['loss', 'val_loss']].plot()\n",
    "print(\"Minimum Validation Loss: {:0.4f}\".format(history_df['val_loss'].min()))"
   ]
  },
  {
   "cell_type": "markdown",
   "id": "f5a19bba",
   "metadata": {
    "papermill": {
     "duration": 0.004456,
     "end_time": "2025-09-01T22:21:02.198243",
     "exception": false,
     "start_time": "2025-09-01T22:21:02.193787",
     "status": "completed"
    },
    "tags": []
   },
   "source": [
    "# 2) Evaluate Dropout\n",
    "\n",
    "Recall from Exercise 4 that this model tended to overfit the data around epoch 5. Did adding dropout seem to help prevent overfitting this time?"
   ]
  },
  {
   "cell_type": "code",
   "execution_count": 6,
   "id": "6abac149",
   "metadata": {
    "execution": {
     "iopub.execute_input": "2025-09-01T22:21:02.208927Z",
     "iopub.status.busy": "2025-09-01T22:21:02.208642Z",
     "iopub.status.idle": "2025-09-01T22:21:02.215934Z",
     "shell.execute_reply": "2025-09-01T22:21:02.215153Z"
    },
    "papermill": {
     "duration": 0.014585,
     "end_time": "2025-09-01T22:21:02.217708",
     "exception": false,
     "start_time": "2025-09-01T22:21:02.203123",
     "status": "completed"
    },
    "tags": []
   },
   "outputs": [
    {
     "data": {
      "application/javascript": [
       "parent.postMessage({\"jupyterEvent\": \"custom.exercise_interaction\", \"data\": {\"outcomeType\": 1, \"valueTowardsCompletion\": 0.25, \"interactionType\": 1, \"questionType\": 4, \"questionId\": \"2_Q2\", \"learnToolsVersion\": \"0.3.4\", \"failureMessage\": \"\", \"exceptionClass\": \"\", \"trace\": \"\"}}, \"*\")"
      ],
      "text/plain": [
       "<IPython.core.display.Javascript object>"
      ]
     },
     "metadata": {},
     "output_type": "display_data"
    },
    {
     "data": {
      "text/markdown": [
       "<span style=\"color:#33cc33\">Correct:</span> \n",
       "\n",
       "\n",
       "From the learning curves, you can see that the validation loss remains near a constant minimum even though the training loss continues to decrease. So we can see that adding dropout did prevent overfitting this time. Moreover, by making it harder for the network to fit spurious patterns, dropout may have encouraged the network to seek out more of the true patterns, possibly improving the validation loss some as well).\n"
      ],
      "text/plain": [
       "Correct: \n",
       "\n",
       "\n",
       "From the learning curves, you can see that the validation loss remains near a constant minimum even though the training loss continues to decrease. So we can see that adding dropout did prevent overfitting this time. Moreover, by making it harder for the network to fit spurious patterns, dropout may have encouraged the network to seek out more of the true patterns, possibly improving the validation loss some as well)."
      ]
     },
     "metadata": {},
     "output_type": "display_data"
    }
   ],
   "source": [
    "# View the solution (Run this cell to receive credit!)\n",
    "q_2.check()"
   ]
  },
  {
   "cell_type": "markdown",
   "id": "2cc859c4",
   "metadata": {
    "papermill": {
     "duration": 0.004684,
     "end_time": "2025-09-01T22:21:02.227427",
     "exception": false,
     "start_time": "2025-09-01T22:21:02.222743",
     "status": "completed"
    },
    "tags": []
   },
   "source": [
    "Now, we'll switch topics to explore how batch normalization can fix problems in training.\n",
    "\n",
    "Load the *Concrete* dataset. We won't do any standardization this time. This will make the effect of batch normalization much more apparent."
   ]
  },
  {
   "cell_type": "code",
   "execution_count": 7,
   "id": "af3bd05b",
   "metadata": {
    "execution": {
     "iopub.execute_input": "2025-09-01T22:21:02.238800Z",
     "iopub.status.busy": "2025-09-01T22:21:02.238155Z",
     "iopub.status.idle": "2025-09-01T22:21:02.255341Z",
     "shell.execute_reply": "2025-09-01T22:21:02.254688Z"
    },
    "papermill": {
     "duration": 0.024626,
     "end_time": "2025-09-01T22:21:02.257099",
     "exception": false,
     "start_time": "2025-09-01T22:21:02.232473",
     "status": "completed"
    },
    "tags": []
   },
   "outputs": [],
   "source": [
    "import pandas as pd\n",
    "\n",
    "concrete = pd.read_csv('../input/dl-course-data/concrete.csv')\n",
    "df = concrete.copy()\n",
    "\n",
    "df_train = df.sample(frac=0.7, random_state=0)\n",
    "df_valid = df.drop(df_train.index)\n",
    "\n",
    "X_train = df_train.drop('CompressiveStrength', axis=1)\n",
    "X_valid = df_valid.drop('CompressiveStrength', axis=1)\n",
    "y_train = df_train['CompressiveStrength']\n",
    "y_valid = df_valid['CompressiveStrength']\n",
    "\n",
    "input_shape = [X_train.shape[1]]"
   ]
  },
  {
   "cell_type": "markdown",
   "id": "bba1d048",
   "metadata": {
    "papermill": {
     "duration": 0.004446,
     "end_time": "2025-09-01T22:21:02.266381",
     "exception": false,
     "start_time": "2025-09-01T22:21:02.261935",
     "status": "completed"
    },
    "tags": []
   },
   "source": [
    "Run the following cell to train the network on the unstandardized *Concrete* data."
   ]
  },
  {
   "cell_type": "code",
   "execution_count": 8,
   "id": "23a9569f",
   "metadata": {
    "execution": {
     "iopub.execute_input": "2025-09-01T22:21:02.277222Z",
     "iopub.status.busy": "2025-09-01T22:21:02.276736Z",
     "iopub.status.idle": "2025-09-01T22:21:09.453000Z",
     "shell.execute_reply": "2025-09-01T22:21:09.452097Z"
    },
    "papermill": {
     "duration": 7.183829,
     "end_time": "2025-09-01T22:21:09.454958",
     "exception": false,
     "start_time": "2025-09-01T22:21:02.271129",
     "status": "completed"
    },
    "tags": []
   },
   "outputs": [
    {
     "name": "stdout",
     "output_type": "stream",
     "text": [
      "Minimum Validation Loss: nan\n"
     ]
    },
    {
     "data": {
      "image/png": "[encoded data removed]",
      "text/plain": [
       "<Figure size 640x480 with 1 Axes>"
      ]
     },
     "metadata": {},
     "output_type": "display_data"
    }
   ],
   "source": [
    "model = keras.Sequential([\n",
    "    layers.Dense(512, activation='relu', input_shape=input_shape),\n",
    "    layers.Dense(512, activation='relu'),    \n",
    "    layers.Dense(512, activation='relu'),\n",
    "    layers.Dense(1),\n",
    "])\n",
    "model.compile(\n",
    "    optimizer='sgd', # SGD is more sensitive to differences of scale\n",
    "    loss='mae',\n",
    "    metrics=['mae'],\n",
    ")\n",
    "history = model.fit(\n",
    "    X_train, y_train,\n",
    "    validation_data=(X_valid, y_valid),\n",
    "    batch_size=64,\n",
    "    epochs=100,\n",
    "    verbose=0,\n",
    ")\n",
    "\n",
    "history_df = pd.DataFrame(history.history)\n",
    "history_df.loc[0:, ['loss', 'val_loss']].plot()\n",
    "print((\"Minimum Validation Loss: {:0.4f}\").format(history_df['val_loss'].min()))"
   ]
  },
  {
   "cell_type": "markdown",
   "id": "feb6ba58",
   "metadata": {
    "papermill": {
     "duration": 0.007457,
     "end_time": "2025-09-01T22:21:09.471769",
     "exception": false,
     "start_time": "2025-09-01T22:21:09.464312",
     "status": "completed"
    },
    "tags": []
   },
   "source": [
    "Did you end up with a blank graph? Trying to train this network on this dataset will usually fail. Even when it does converge (due to a lucky weight initialization), it tends to converge to a very large number.\n",
    "\n",
    "# 3) Add Batch Normalization Layers\n",
    "\n",
    "Batch normalization can help correct problems like this.\n",
    "\n",
    "Add four `BatchNormalization` layers, one before each of the dense layers. (Remember to move the `input_shape` argument to the new first layer.)"
   ]
  },
  {
   "cell_type": "code",
   "execution_count": 9,
   "id": "d5509cdd",
   "metadata": {
    "execution": {
     "iopub.execute_input": "2025-09-01T22:21:09.484218Z",
     "iopub.status.busy": "2025-09-01T22:21:09.483925Z",
     "iopub.status.idle": "2025-09-01T22:21:09.605829Z",
     "shell.execute_reply": "2025-09-01T22:21:09.604971Z"
    },
    "lines_to_next_cell": 0,
    "papermill": {
     "duration": 0.130147,
     "end_time": "2025-09-01T22:21:09.607497",
     "exception": false,
     "start_time": "2025-09-01T22:21:09.477350",
     "status": "completed"
    },
    "tags": []
   },
   "outputs": [
    {
     "data": {
      "application/javascript": [
       "parent.postMessage({\"jupyterEvent\": \"custom.exercise_interaction\", \"data\": {\"outcomeType\": 1, \"valueTowardsCompletion\": 0.25, \"interactionType\": 1, \"questionType\": 2, \"questionId\": \"3_Q3\", \"learnToolsVersion\": \"0.3.4\", \"failureMessage\": \"\", \"exceptionClass\": \"\", \"trace\": \"\"}}, \"*\")"
      ],
      "text/plain": [
       "<IPython.core.display.Javascript object>"
      ]
     },
     "metadata": {},
     "output_type": "display_data"
    },
    {
     "data": {
      "text/markdown": [
       "<span style=\"color:#33cc33\">Correct</span>"
      ],
      "text/plain": [
       "Correct"
      ]
     },
     "metadata": {},
     "output_type": "display_data"
    }
   ],
   "source": [
    "# YOUR CODE HERE: Add a BatchNormalization layer before each Dense layer\n",
    "model = keras.Sequential([\n",
    "    layers.Input(shape=input_shape),\n",
    "    layers.BatchNormalization(),\n",
    "    layers.Dense(512, activation='relu'),\n",
    "    layers.BatchNormalization(),\n",
    "    layers.Dense(512, activation='relu'),\n",
    "    layers.BatchNormalization(),\n",
    "    layers.Dense(512, activation='relu'),\n",
    "    layers.BatchNormalization(),\n",
    "    layers.Dense(1),\n",
    "])\n",
    "\n",
    "# Check your answer\n",
    "q_3.check()"
   ]
  },
  {
   "cell_type": "code",
   "execution_count": 10,
   "id": "406e4f73",
   "metadata": {
    "execution": {
     "iopub.execute_input": "2025-09-01T22:21:09.619057Z",
     "iopub.status.busy": "2025-09-01T22:21:09.618824Z",
     "iopub.status.idle": "2025-09-01T22:21:09.622368Z",
     "shell.execute_reply": "2025-09-01T22:21:09.621512Z"
    },
    "papermill": {
     "duration": 0.011217,
     "end_time": "2025-09-01T22:21:09.624047",
     "exception": false,
     "start_time": "2025-09-01T22:21:09.612830",
     "status": "completed"
    },
    "tags": []
   },
   "outputs": [],
   "source": [
    "# Lines below will give you a hint or solution code\n",
    "#q_3.hint()\n",
    "#q_3.solution()"
   ]
  },
  {
   "cell_type": "markdown",
   "id": "c8c6f084",
   "metadata": {
    "papermill": {
     "duration": 0.005013,
     "end_time": "2025-09-01T22:21:09.634263",
     "exception": false,
     "start_time": "2025-09-01T22:21:09.629250",
     "status": "completed"
    },
    "tags": []
   },
   "source": [
    "Run the next cell to see if batch normalization will let us train the model."
   ]
  },
  {
   "cell_type": "code",
   "execution_count": 11,
   "id": "0ac23186",
   "metadata": {
    "execution": {
     "iopub.execute_input": "2025-09-01T22:21:09.645397Z",
     "iopub.status.busy": "2025-09-01T22:21:09.645148Z",
     "iopub.status.idle": "2025-09-01T22:21:20.668260Z",
     "shell.execute_reply": "2025-09-01T22:21:20.667387Z"
    },
    "papermill": {
     "duration": 11.030712,
     "end_time": "2025-09-01T22:21:20.670046",
     "exception": false,
     "start_time": "2025-09-01T22:21:09.639334",
     "status": "completed"
    },
    "tags": []
   },
   "outputs": [
    {
     "name": "stdout",
     "output_type": "stream",
     "text": [
      "Minimum Validation Loss: 4.0227\n"
     ]
    },
    {
     "data": {
      "image/png": "[encoded data removed]",
      "text/plain": [
       "<Figure size 640x480 with 1 Axes>"
      ]
     },
     "metadata": {},
     "output_type": "display_data"
    }
   ],
   "source": [
    "model.compile(\n",
    "    optimizer='sgd',\n",
    "    loss='mae',\n",
    "    metrics=['mae'],\n",
    ")\n",
    "EPOCHS = 100\n",
    "history = model.fit(\n",
    "    X_train, y_train,\n",
    "    validation_data=(X_valid, y_valid),\n",
    "    batch_size=64,\n",
    "    epochs=EPOCHS,\n",
    "    verbose=0,\n",
    ")\n",
    "\n",
    "history_df = pd.DataFrame(history.history)\n",
    "history_df.loc[0:, ['loss', 'val_loss']].plot()\n",
    "print((\"Minimum Validation Loss: {:0.4f}\").format(history_df['val_loss'].min()))"
   ]
  },
  {
   "cell_type": "markdown",
   "id": "e05c3512",
   "metadata": {
    "papermill": {
     "duration": 0.005785,
     "end_time": "2025-09-01T22:21:20.681917",
     "exception": false,
     "start_time": "2025-09-01T22:21:20.676132",
     "status": "completed"
    },
    "tags": []
   },
   "source": [
    "# 4) Evaluate Batch Normalization\n",
    "\n",
    "Did adding batch normalization help?"
   ]
  },
  {
   "cell_type": "code",
   "execution_count": 12,
   "id": "410be6d2",
   "metadata": {
    "execution": {
     "iopub.execute_input": "2025-09-01T22:21:20.694479Z",
     "iopub.status.busy": "2025-09-01T22:21:20.694209Z",
     "iopub.status.idle": "2025-09-01T22:21:20.700664Z",
     "shell.execute_reply": "2025-09-01T22:21:20.699875Z"
    },
    "lines_to_next_cell": 0,
    "papermill": {
     "duration": 0.014757,
     "end_time": "2025-09-01T22:21:20.702446",
     "exception": false,
     "start_time": "2025-09-01T22:21:20.687689",
     "status": "completed"
    },
    "tags": []
   },
   "outputs": [
    {
     "data": {
      "application/javascript": [
       "parent.postMessage({\"jupyterEvent\": \"custom.exercise_interaction\", \"data\": {\"outcomeType\": 1, \"valueTowardsCompletion\": 0.25, \"interactionType\": 1, \"questionType\": 4, \"questionId\": \"4_Q4\", \"learnToolsVersion\": \"0.3.4\", \"failureMessage\": \"\", \"exceptionClass\": \"\", \"trace\": \"\"}}, \"*\")"
      ],
      "text/plain": [
       "<IPython.core.display.Javascript object>"
      ]
     },
     "metadata": {},
     "output_type": "display_data"
    },
    {
     "data": {
      "text/markdown": [
       "<span style=\"color:#33cc33\">Correct:</span> \n",
       "\n",
       "\n",
       "You can see that adding batch normalization was a big improvement on the first attempt! By adaptively scaling the data as it passes through the network, batch normalization can let you train models on difficult datasets.\n"
      ],
      "text/plain": [
       "Correct: \n",
       "\n",
       "\n",
       "You can see that adding batch normalization was a big improvement on the first attempt! By adaptively scaling the data as it passes through the network, batch normalization can let you train models on difficult datasets."
      ]
     },
     "metadata": {},
     "output_type": "display_data"
    }
   ],
   "source": [
    "# View the solution (Run this cell to receive credit!)\n",
    "q_4.check()"
   ]
  },
  {
   "cell_type": "markdown",
   "id": "c65002a8",
   "metadata": {
    "papermill": {
     "duration": 0.006029,
     "end_time": "2025-09-01T22:21:20.714687",
     "exception": false,
     "start_time": "2025-09-01T22:21:20.708658",
     "status": "completed"
    },
    "tags": []
   },
   "source": [
    "# Keep Going #\n",
    "\n",
    "[**Create neural networks**](https://www.kaggle.com/ryanholbrook/binary-classification) for binary classification."
   ]
  },
  {
   "cell_type": "markdown",
   "id": "0b0c77c9",
   "metadata": {
    "papermill": {
     "duration": 0.005996,
     "end_time": "2025-09-01T22:21:20.726641",
     "exception": false,
     "start_time": "2025-09-01T22:21:20.720645",
     "status": "completed"
    },
    "tags": []
   },
   "source": [
    "---\n",
    "\n",
    "\n",
    "\n",
    "\n",
    "*Have questions or comments? Visit the [course discussion forum](https://www.kaggle.com/learn/intro-to-deep-learning/discussion) to chat with other learners.*"
   ]
  }
 ],
 "metadata": {
  "jupytext": {
   "cell_metadata_filter": "-all",
   "formats": "ipynb"
  },
  "kaggle": {
   "accelerator": "gpu",
   "dataSources": [
    {
     "datasetId": 829369,
     "sourceId": 1480608,
     "sourceType": "datasetVersion"
    }
   ],
   "dockerImageVersionId": 30648,
   "isGpuEnabled": true,
   "isInternetEnabled": false,
   "language": "python",
   "sourceType": "notebook"
  },
  "kernelspec": {
   "display_name": "Python 3",
   "language": "python",
   "name": "python3"
  },
  "language_info": {
   "codemirror_mode": {
    "name": "ipython",
    "version": 3
   },
   "file_extension": ".py",
   "mimetype": "text/x-python",
   "name": "python",
   "nbconvert_exporter": "python",
   "pygments_lexer": "ipython3",
   "version": "3.10.13"
  },
  "papermill": {
   "default_parameters": {},
   "duration": 50.02498,
   "end_time": "2025-09-01T22:21:22.756856",
   "environment_variables": {},
   "exception": null,
   "input_path": "__notebook__.ipynb",
   "output_path": "__notebook__.ipynb",
   "parameters": {},
   "start_time": "2025-09-01T22:20:32.731876",
   "version": "2.5.0"
  }
 },
 "nbformat": 4,
 "nbformat_minor": 5
}
