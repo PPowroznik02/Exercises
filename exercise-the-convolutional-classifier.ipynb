{
 "cells": [
  {
   "cell_type": "markdown",
   "id": "23b8671a",
   "metadata": {
    "papermill": {
     "duration": 0.003796,
     "end_time": "2025-08-31T15:56:22.833731",
     "exception": false,
     "start_time": "2025-08-31T15:56:22.829935",
     "status": "completed"
    },
    "tags": []
   },
   "source": [
    "**This notebook is an exercise in the [Computer Vision](https://www.kaggle.com/learn/computer-vision) course.  You can reference the tutorial at [this link](https://www.kaggle.com/ryanholbrook/the-convolutional-classifier).**\n",
    "\n",
    "---\n"
   ]
  },
  {
   "cell_type": "markdown",
   "id": "84370976",
   "metadata": {
    "papermill": {
     "duration": 0.003178,
     "end_time": "2025-08-31T15:56:22.840367",
     "exception": false,
     "start_time": "2025-08-31T15:56:22.837189",
     "status": "completed"
    },
    "tags": []
   },
   "source": [
    "<blockquote style=\"margin-right:auto; margin-left:auto; padding: 1em; margin:24px;\">\n",
    "    <strong>Accelerate Training with a Kaggle GPU!</strong><br>\n",
    "Did you know Kaggle offers free time with a GPU accelerator? You can speed up training neural networks in this course by switching to <strong>GPU</strong> in the <em>Accelerator</em> option on the right. (It may already be turned on.) Two things to be aware of:\n",
    "<ul>\n",
    "<li>Changing the <em>Accelerator</em> option will cause the notebook session to restart. You'll need to rerun any setup code.\n",
    "<li>You can have only one GPU session at a time, so be sure to shut the notebook down after you've finished the exercise.\n",
    "</ul>\n",
    "</blockquote>"
   ]
  },
  {
   "cell_type": "markdown",
   "id": "0985f1f7",
   "metadata": {
    "papermill": {
     "duration": 0.003091,
     "end_time": "2025-08-31T15:56:22.846813",
     "exception": false,
     "start_time": "2025-08-31T15:56:22.843722",
     "status": "completed"
    },
    "tags": []
   },
   "source": [
    "# Introduction #\n",
    "\n",
    "In the tutorial, we saw how to build an image classifier by attaching a head of dense layers to a pretrained base. The base we used was from a model called **VGG16**. We saw that the VGG16 architecture was prone to overfitting this dataset. Over this course, you'll learn a number of ways you can improve upon this initial attempt.\n",
    "\n",
    "The first way you'll see is to use a base more appropriate to the dataset. The base this model comes from is called **InceptionV1** (also known as GoogLeNet). InceptionV1 was one of the early winners of the ImageNet competition. One of its successors, InceptionV4, is among the state of the art today.\n",
    "\n",
    "To get started, run the code cell below to set everything up."
   ]
  },
  {
   "cell_type": "code",
   "execution_count": 1,
   "id": "55d931b2",
   "metadata": {
    "execution": {
     "iopub.execute_input": "2025-08-31T15:56:22.854456Z",
     "iopub.status.busy": "2025-08-31T15:56:22.854217Z",
     "iopub.status.idle": "2025-08-31T15:56:45.445954Z",
     "shell.execute_reply": "2025-08-31T15:56:45.445246Z"
    },
    "lines_to_next_cell": 2,
    "papermill": {
     "duration": 22.597772,
     "end_time": "2025-08-31T15:56:45.447878",
     "exception": false,
     "start_time": "2025-08-31T15:56:22.850106",
     "status": "completed"
    },
    "tags": []
   },
   "outputs": [
    {
     "name": "stderr",
     "output_type": "stream",
     "text": [
      "2025-08-31 15:56:25.268112: E external/local_xla/xla/stream_executor/cuda/cuda_dnn.cc:9261] Unable to register cuDNN factory: Attempting to register factory for plugin cuDNN when one has already been registered\n",
      "2025-08-31 15:56:25.268249: E external/local_xla/xla/stream_executor/cuda/cuda_fft.cc:607] Unable to register cuFFT factory: Attempting to register factory for plugin cuFFT when one has already been registered\n",
      "2025-08-31 15:56:25.400574: E external/local_xla/xla/stream_executor/cuda/cuda_blas.cc:1515] Unable to register cuBLAS factory: Attempting to register factory for plugin cuBLAS when one has already been registered\n"
     ]
    },
    {
     "name": "stdout",
     "output_type": "stream",
     "text": [
      "Found 5117 files belonging to 2 classes.\n",
      "Found 5051 files belonging to 2 classes.\n"
     ]
    }
   ],
   "source": [
    "# Setup feedback system\n",
    "from learntools.core import binder\n",
    "binder.bind(globals())\n",
    "from learntools.computer_vision.ex1 import *\n",
    "\n",
    "# Imports\n",
    "import os, warnings\n",
    "import matplotlib.pyplot as plt\n",
    "from matplotlib import gridspec\n",
    "\n",
    "import numpy as np\n",
    "import tensorflow as tf\n",
    "from tensorflow.keras.preprocessing import image_dataset_from_directory\n",
    "\n",
    "# Reproducability\n",
    "def set_seed(seed=31415):\n",
    "    np.random.seed(seed)\n",
    "    tf.random.set_seed(seed)\n",
    "    os.environ['PYTHONHASHSEED'] = str(seed)\n",
    "    os.environ['TF_DETERMINISTIC_OPS'] = '1'\n",
    "set_seed()\n",
    "\n",
    "# Set Matplotlib defaults\n",
    "plt.rc('figure', autolayout=True)\n",
    "plt.rc('axes', labelweight='bold', labelsize='large',\n",
    "       titleweight='bold', titlesize=18, titlepad=10)\n",
    "plt.rc('image', cmap='magma')\n",
    "warnings.filterwarnings(\"ignore\") # to clean up output cells\n",
    "\n",
    "\n",
    "# Load training and validation sets\n",
    "ds_train_ = image_dataset_from_directory(\n",
    "    '../input/car-or-truck/train',\n",
    "    labels='inferred',\n",
    "    label_mode='binary',\n",
    "    image_size=[128, 128],\n",
    "    interpolation='nearest',\n",
    "    batch_size=64,\n",
    "    shuffle=True,\n",
    ")\n",
    "ds_valid_ = image_dataset_from_directory(\n",
    "    '../input/car-or-truck/valid',\n",
    "    labels='inferred',\n",
    "    label_mode='binary',\n",
    "    image_size=[128, 128],\n",
    "    interpolation='nearest',\n",
    "    batch_size=64,\n",
    "    shuffle=False,\n",
    ")\n",
    "\n",
    "# Data Pipeline\n",
    "def convert_to_float(image, label):\n",
    "    image = tf.image.convert_image_dtype(image, dtype=tf.float32)\n",
    "    return image, label\n",
    "\n",
    "AUTOTUNE = tf.data.experimental.AUTOTUNE\n",
    "ds_train = (\n",
    "    ds_train_\n",
    "    .map(convert_to_float)\n",
    "    .cache()\n",
    "    .prefetch(buffer_size=AUTOTUNE)\n",
    ")\n",
    "ds_valid = (\n",
    "    ds_valid_\n",
    "    .map(convert_to_float)\n",
    "    .cache()\n",
    "    .prefetch(buffer_size=AUTOTUNE)\n",
    ")\n"
   ]
  },
  {
   "cell_type": "markdown",
   "id": "464286e7",
   "metadata": {
    "papermill": {
     "duration": 0.003495,
     "end_time": "2025-08-31T15:56:45.455229",
     "exception": false,
     "start_time": "2025-08-31T15:56:45.451734",
     "status": "completed"
    },
    "tags": []
   },
   "source": [
    "The **InceptionV1** model pretrained on ImageNet is available in the [TensorFlow Hub](https://www.tensorflow.org/hub/) repository, but we'll load it from a local copy. Run this cell to load InceptionV1 for your base."
   ]
  },
  {
   "cell_type": "code",
   "execution_count": 2,
   "id": "ecb84322",
   "metadata": {
    "execution": {
     "iopub.execute_input": "2025-08-31T15:56:45.463445Z",
     "iopub.status.busy": "2025-08-31T15:56:45.462888Z",
     "iopub.status.idle": "2025-08-31T15:56:48.622673Z",
     "shell.execute_reply": "2025-08-31T15:56:48.621963Z"
    },
    "lines_to_next_cell": 0,
    "papermill": {
     "duration": 3.171226,
     "end_time": "2025-08-31T15:56:48.629922",
     "exception": false,
     "start_time": "2025-08-31T15:56:45.458696",
     "status": "completed"
    },
    "tags": []
   },
   "outputs": [],
   "source": [
    "import tensorflow_hub as hub\n",
    "\n",
    "pretrained_base = tf.keras.models.load_model(\n",
    "    '../input/cv-course-models/cv-course-models/inceptionv1'\n",
    ")"
   ]
  },
  {
   "cell_type": "markdown",
   "id": "aca0b1d6",
   "metadata": {
    "papermill": {
     "duration": 0.003433,
     "end_time": "2025-08-31T15:56:48.637248",
     "exception": false,
     "start_time": "2025-08-31T15:56:48.633815",
     "status": "completed"
    },
    "tags": []
   },
   "source": [
    "# 1) Define Pretrained Base #\n",
    "\n",
    "Now that you have a pretrained base to do our feature extraction, decide whether this base should be trainable or not."
   ]
  },
  {
   "cell_type": "code",
   "execution_count": 3,
   "id": "bfb55fc0",
   "metadata": {
    "execution": {
     "iopub.execute_input": "2025-08-31T15:56:48.645372Z",
     "iopub.status.busy": "2025-08-31T15:56:48.645060Z",
     "iopub.status.idle": "2025-08-31T15:56:48.652706Z",
     "shell.execute_reply": "2025-08-31T15:56:48.651936Z"
    },
    "lines_to_next_cell": 0,
    "papermill": {
     "duration": 0.013503,
     "end_time": "2025-08-31T15:56:48.654273",
     "exception": false,
     "start_time": "2025-08-31T15:56:48.640770",
     "status": "completed"
    },
    "tags": []
   },
   "outputs": [
    {
     "data": {
      "application/javascript": [
       "parent.postMessage({\"jupyterEvent\": \"custom.exercise_interaction\", \"data\": {\"outcomeType\": 1, \"valueTowardsCompletion\": 0.25, \"interactionType\": 1, \"questionType\": 2, \"questionId\": \"1_Q1\", \"learnToolsVersion\": \"0.3.4\", \"failureMessage\": \"\", \"exceptionClass\": \"\", \"trace\": \"\"}}, \"*\")"
      ],
      "text/plain": [
       "<IPython.core.display.Javascript object>"
      ]
     },
     "metadata": {},
     "output_type": "display_data"
    },
    {
     "data": {
      "text/markdown": [
       "<span style=\"color:#33cc33\">Correct:</span> When doing transfer learning, it's generally not a good idea to retrain the entire base -- at least not without some care. The reason is that the random weights in the head will initially create large gradient updates, which propogate back into the base layers and destroy much of the pretraining. Using techniques known as **fine tuning** it's possible to further train the base on new data, but this requires some care to do well."
      ],
      "text/plain": [
       "Correct: When doing transfer learning, it's generally not a good idea to retrain the entire base -- at least not without some care. The reason is that the random weights in the head will initially create large gradient updates, which propogate back into the base layers and destroy much of the pretraining. Using techniques known as **fine tuning** it's possible to further train the base on new data, but this requires some care to do well."
      ]
     },
     "metadata": {},
     "output_type": "display_data"
    }
   ],
   "source": [
    "# YOUR_CODE_HERE\n",
    "pretrained_base.trainable = False\n",
    "\n",
    "# Check your answer\n",
    "q_1.check()"
   ]
  },
  {
   "cell_type": "code",
   "execution_count": 4,
   "id": "d6b20ad0",
   "metadata": {
    "execution": {
     "iopub.execute_input": "2025-08-31T15:56:48.662957Z",
     "iopub.status.busy": "2025-08-31T15:56:48.662375Z",
     "iopub.status.idle": "2025-08-31T15:56:48.665576Z",
     "shell.execute_reply": "2025-08-31T15:56:48.664872Z"
    },
    "papermill": {
     "duration": 0.00917,
     "end_time": "2025-08-31T15:56:48.667165",
     "exception": false,
     "start_time": "2025-08-31T15:56:48.657995",
     "status": "completed"
    },
    "tags": []
   },
   "outputs": [],
   "source": [
    "# Lines below will give you a hint or solution code\n",
    "#q_1.hint()\n",
    "#q_1.solution()"
   ]
  },
  {
   "cell_type": "markdown",
   "id": "7a2d6e2f",
   "metadata": {
    "papermill": {
     "duration": 0.003497,
     "end_time": "2025-08-31T15:56:48.675268",
     "exception": false,
     "start_time": "2025-08-31T15:56:48.671771",
     "status": "completed"
    },
    "tags": []
   },
   "source": [
    "# 2) Attach Head #\n",
    "\n",
    "Now that the base is defined to do the feature extraction, create a head of `Dense` layers to perform the classification, following this diagram:\n",
    "\n",
    "<figure>\n",
    "<img src=\"https://storage.googleapis.com/kaggle-media/learn/images/i5VU7Ry.png\" alt=\"Diagram of the dense head.\">\n",
    "</figure>\n"
   ]
  },
  {
   "cell_type": "code",
   "execution_count": 5,
   "id": "3bee1cbd",
   "metadata": {
    "execution": {
     "iopub.execute_input": "2025-08-31T15:56:48.683583Z",
     "iopub.status.busy": "2025-08-31T15:56:48.683377Z",
     "iopub.status.idle": "2025-08-31T15:56:48.698642Z",
     "shell.execute_reply": "2025-08-31T15:56:48.697899Z"
    },
    "lines_to_next_cell": 0,
    "papermill": {
     "duration": 0.021302,
     "end_time": "2025-08-31T15:56:48.700229",
     "exception": false,
     "start_time": "2025-08-31T15:56:48.678927",
     "status": "completed"
    },
    "tags": []
   },
   "outputs": [
    {
     "data": {
      "application/javascript": [
       "parent.postMessage({\"jupyterEvent\": \"custom.exercise_interaction\", \"data\": {\"outcomeType\": 1, \"valueTowardsCompletion\": 0.25, \"interactionType\": 1, \"questionType\": 2, \"questionId\": \"2_Q2\", \"learnToolsVersion\": \"0.3.4\", \"failureMessage\": \"\", \"exceptionClass\": \"\", \"trace\": \"\"}}, \"*\")"
      ],
      "text/plain": [
       "<IPython.core.display.Javascript object>"
      ]
     },
     "metadata": {},
     "output_type": "display_data"
    },
    {
     "data": {
      "text/markdown": [
       "<span style=\"color:#33cc33\">Correct</span>"
      ],
      "text/plain": [
       "Correct"
      ]
     },
     "metadata": {},
     "output_type": "display_data"
    }
   ],
   "source": [
    "from tensorflow import keras\n",
    "from tensorflow.keras import layers\n",
    "\n",
    "model = keras.Sequential([\n",
    "    pretrained_base,\n",
    "    layers.Flatten(),\n",
    "    layers.Dense(6, activation='relu'),\n",
    "    layers.Dense(1, activation='sigmoid')\n",
    "])\n",
    "\n",
    "# Check your answer\n",
    "q_2.check()"
   ]
  },
  {
   "cell_type": "code",
   "execution_count": 6,
   "id": "8cdd68eb",
   "metadata": {
    "execution": {
     "iopub.execute_input": "2025-08-31T15:56:48.708877Z",
     "iopub.status.busy": "2025-08-31T15:56:48.708651Z",
     "iopub.status.idle": "2025-08-31T15:56:48.711998Z",
     "shell.execute_reply": "2025-08-31T15:56:48.711237Z"
    },
    "papermill": {
     "duration": 0.009453,
     "end_time": "2025-08-31T15:56:48.713568",
     "exception": false,
     "start_time": "2025-08-31T15:56:48.704115",
     "status": "completed"
    },
    "tags": []
   },
   "outputs": [],
   "source": [
    "# Lines below will give you a hint or solution code\n",
    "#q_2.hint()\n",
    "#q_2.solution()"
   ]
  },
  {
   "cell_type": "markdown",
   "id": "0237823c",
   "metadata": {
    "papermill": {
     "duration": 0.003777,
     "end_time": "2025-08-31T15:56:48.721290",
     "exception": false,
     "start_time": "2025-08-31T15:56:48.717513",
     "status": "completed"
    },
    "tags": []
   },
   "source": [
    "# 3) Train #\n",
    "\n",
    "Before training a model in Keras, you need to specify an *optimizer* to perform the gradient descent, a *loss function* to be minimized, and (optionally) any *performance metrics*. The optimization algorithm we'll use for this course is called [\"Adam\"](https://keras.io/api/optimizers/adam/), which generally performs well regardless of what kind of problem you're trying to solve.\n",
    "\n",
    "The loss and the metrics, however, need to match the kind of problem you're trying to solve. Our problem is a **binary classification** problem: `Car` coded as 0, and `Truck` coded as 1. Choose an appropriate loss and an appropriate accuracy metric for binary classification."
   ]
  },
  {
   "cell_type": "code",
   "execution_count": 7,
   "id": "8205c3a1",
   "metadata": {
    "execution": {
     "iopub.execute_input": "2025-08-31T15:56:48.730133Z",
     "iopub.status.busy": "2025-08-31T15:56:48.729875Z",
     "iopub.status.idle": "2025-08-31T15:56:48.753737Z",
     "shell.execute_reply": "2025-08-31T15:56:48.752961Z"
    },
    "lines_to_next_cell": 0,
    "papermill": {
     "duration": 0.030078,
     "end_time": "2025-08-31T15:56:48.755190",
     "exception": false,
     "start_time": "2025-08-31T15:56:48.725112",
     "status": "completed"
    },
    "tags": []
   },
   "outputs": [
    {
     "data": {
      "application/javascript": [
       "parent.postMessage({\"jupyterEvent\": \"custom.exercise_interaction\", \"data\": {\"outcomeType\": 1, \"valueTowardsCompletion\": 0.25, \"interactionType\": 1, \"questionType\": 2, \"questionId\": \"3_Q3\", \"learnToolsVersion\": \"0.3.4\", \"failureMessage\": \"\", \"exceptionClass\": \"\", \"trace\": \"\"}}, \"*\")"
      ],
      "text/plain": [
       "<IPython.core.display.Javascript object>"
      ]
     },
     "metadata": {},
     "output_type": "display_data"
    },
    {
     "data": {
      "text/markdown": [
       "<span style=\"color:#33cc33\">Correct</span>"
      ],
      "text/plain": [
       "Correct"
      ]
     },
     "metadata": {},
     "output_type": "display_data"
    }
   ],
   "source": [
    "# YOUR CODE HERE: what loss function should you use for a binary\n",
    "# classification problem? (Your answer for each should be a string.)\n",
    "optimizer = tf.keras.optimizers.Adam(epsilon=0.01)\n",
    "model.compile(\n",
    "    optimizer=optimizer,\n",
    "    loss = 'binary_crossentropy',\n",
    "    metrics=['binary_accuracy'],\n",
    ")\n",
    "\n",
    "# Check your answer\n",
    "q_3.check()"
   ]
  },
  {
   "cell_type": "code",
   "execution_count": 8,
   "id": "c18ae996",
   "metadata": {
    "execution": {
     "iopub.execute_input": "2025-08-31T15:56:48.764058Z",
     "iopub.status.busy": "2025-08-31T15:56:48.763833Z",
     "iopub.status.idle": "2025-08-31T15:56:48.767158Z",
     "shell.execute_reply": "2025-08-31T15:56:48.766367Z"
    },
    "lines_to_next_cell": 0,
    "papermill": {
     "duration": 0.009584,
     "end_time": "2025-08-31T15:56:48.768800",
     "exception": false,
     "start_time": "2025-08-31T15:56:48.759216",
     "status": "completed"
    },
    "tags": []
   },
   "outputs": [],
   "source": [
    "# Lines below will give you a hint or solution code\n",
    "#q_3.hint()\n",
    "#q_3.solution()"
   ]
  },
  {
   "cell_type": "code",
   "execution_count": 9,
   "id": "608f24a9",
   "metadata": {
    "execution": {
     "iopub.execute_input": "2025-08-31T15:56:48.778287Z",
     "iopub.status.busy": "2025-08-31T15:56:48.777644Z",
     "iopub.status.idle": "2025-08-31T15:58:44.577719Z",
     "shell.execute_reply": "2025-08-31T15:58:44.576892Z"
    },
    "papermill": {
     "duration": 115.806585,
     "end_time": "2025-08-31T15:58:44.579549",
     "exception": false,
     "start_time": "2025-08-31T15:56:48.772964",
     "status": "completed"
    },
    "tags": []
   },
   "outputs": [
    {
     "name": "stdout",
     "output_type": "stream",
     "text": [
      "Epoch 1/30\n"
     ]
    },
    {
     "name": "stderr",
     "output_type": "stream",
     "text": [
      "WARNING: All log messages before absl::InitializeLog() is called are written to STDERR\n",
      "I0000 00:00:1756655815.860266      74 device_compiler.h:186] Compiled cluster using XLA!  This line is logged at most once for the lifetime of the process.\n"
     ]
    },
    {
     "name": "stdout",
     "output_type": "stream",
     "text": [
      "80/80 [==============================] - 21s 167ms/step - loss: 0.6112 - binary_accuracy: 0.6676 - val_loss: 0.5505 - val_binary_accuracy: 0.7589\n",
      "Epoch 2/30\n",
      "80/80 [==============================] - 3s 41ms/step - loss: 0.5375 - binary_accuracy: 0.7731 - val_loss: 0.5132 - val_binary_accuracy: 0.7895\n",
      "Epoch 3/30\n",
      "80/80 [==============================] - 3s 41ms/step - loss: 0.5080 - binary_accuracy: 0.8003 - val_loss: 0.4938 - val_binary_accuracy: 0.8038\n",
      "Epoch 4/30\n",
      "80/80 [==============================] - 3s 41ms/step - loss: 0.4682 - binary_accuracy: 0.8214 - val_loss: 0.4118 - val_binary_accuracy: 0.8254\n",
      "Epoch 5/30\n",
      "80/80 [==============================] - 3s 41ms/step - loss: 0.3952 - binary_accuracy: 0.8349 - val_loss: 0.3790 - val_binary_accuracy: 0.8367\n",
      "Epoch 6/30\n",
      "80/80 [==============================] - 3s 41ms/step - loss: 0.3736 - binary_accuracy: 0.8401 - val_loss: 0.3686 - val_binary_accuracy: 0.8402\n",
      "Epoch 7/30\n",
      "80/80 [==============================] - 3s 41ms/step - loss: 0.3610 - binary_accuracy: 0.8456 - val_loss: 0.3618 - val_binary_accuracy: 0.8440\n",
      "Epoch 8/30\n",
      "80/80 [==============================] - 3s 41ms/step - loss: 0.3513 - binary_accuracy: 0.8491 - val_loss: 0.3576 - val_binary_accuracy: 0.8450\n",
      "Epoch 9/30\n",
      "80/80 [==============================] - 3s 41ms/step - loss: 0.3429 - binary_accuracy: 0.8532 - val_loss: 0.3538 - val_binary_accuracy: 0.8468\n",
      "Epoch 10/30\n",
      "80/80 [==============================] - 3s 41ms/step - loss: 0.3350 - binary_accuracy: 0.8583 - val_loss: 0.3498 - val_binary_accuracy: 0.8483\n",
      "Epoch 11/30\n",
      "80/80 [==============================] - 3s 41ms/step - loss: 0.3278 - binary_accuracy: 0.8618 - val_loss: 0.3468 - val_binary_accuracy: 0.8497\n",
      "Epoch 12/30\n",
      "80/80 [==============================] - 3s 41ms/step - loss: 0.3214 - binary_accuracy: 0.8654 - val_loss: 0.3452 - val_binary_accuracy: 0.8491\n",
      "Epoch 13/30\n",
      "80/80 [==============================] - 3s 41ms/step - loss: 0.3157 - binary_accuracy: 0.8702 - val_loss: 0.3426 - val_binary_accuracy: 0.8509\n",
      "Epoch 14/30\n",
      "80/80 [==============================] - 3s 41ms/step - loss: 0.3101 - binary_accuracy: 0.8726 - val_loss: 0.3410 - val_binary_accuracy: 0.8511\n",
      "Epoch 15/30\n",
      "80/80 [==============================] - 3s 41ms/step - loss: 0.3047 - binary_accuracy: 0.8767 - val_loss: 0.3402 - val_binary_accuracy: 0.8545\n",
      "Epoch 16/30\n",
      "80/80 [==============================] - 3s 41ms/step - loss: 0.2995 - binary_accuracy: 0.8782 - val_loss: 0.3392 - val_binary_accuracy: 0.8537\n",
      "Epoch 17/30\n",
      "80/80 [==============================] - 3s 41ms/step - loss: 0.2948 - binary_accuracy: 0.8794 - val_loss: 0.3387 - val_binary_accuracy: 0.8535\n",
      "Epoch 18/30\n",
      "80/80 [==============================] - 3s 41ms/step - loss: 0.2897 - binary_accuracy: 0.8845 - val_loss: 0.3383 - val_binary_accuracy: 0.8515\n",
      "Epoch 19/30\n",
      "80/80 [==============================] - 3s 41ms/step - loss: 0.2854 - binary_accuracy: 0.8868 - val_loss: 0.3361 - val_binary_accuracy: 0.8561\n",
      "Epoch 20/30\n",
      "80/80 [==============================] - 3s 41ms/step - loss: 0.2802 - binary_accuracy: 0.8884 - val_loss: 0.3374 - val_binary_accuracy: 0.8553\n",
      "Epoch 21/30\n",
      "80/80 [==============================] - 3s 41ms/step - loss: 0.2761 - binary_accuracy: 0.8913 - val_loss: 0.3364 - val_binary_accuracy: 0.8551\n",
      "Epoch 22/30\n",
      "80/80 [==============================] - 3s 41ms/step - loss: 0.2719 - binary_accuracy: 0.8933 - val_loss: 0.3372 - val_binary_accuracy: 0.8539\n",
      "Epoch 23/30\n",
      "80/80 [==============================] - 3s 41ms/step - loss: 0.2677 - binary_accuracy: 0.8956 - val_loss: 0.3359 - val_binary_accuracy: 0.8545\n",
      "Epoch 24/30\n",
      "80/80 [==============================] - 3s 41ms/step - loss: 0.2636 - binary_accuracy: 0.8974 - val_loss: 0.3364 - val_binary_accuracy: 0.8549\n",
      "Epoch 25/30\n",
      "80/80 [==============================] - 3s 41ms/step - loss: 0.2604 - binary_accuracy: 0.8976 - val_loss: 0.3366 - val_binary_accuracy: 0.8543\n",
      "Epoch 26/30\n",
      "80/80 [==============================] - 3s 41ms/step - loss: 0.2575 - binary_accuracy: 0.9005 - val_loss: 0.3362 - val_binary_accuracy: 0.8565\n",
      "Epoch 27/30\n",
      "80/80 [==============================] - 3s 41ms/step - loss: 0.2572 - binary_accuracy: 0.9005 - val_loss: 0.3342 - val_binary_accuracy: 0.8602\n",
      "Epoch 28/30\n",
      "80/80 [==============================] - 3s 41ms/step - loss: 0.2527 - binary_accuracy: 0.9017 - val_loss: 0.3357 - val_binary_accuracy: 0.8590\n",
      "Epoch 29/30\n",
      "80/80 [==============================] - 3s 41ms/step - loss: 0.2505 - binary_accuracy: 0.9013 - val_loss: 0.3364 - val_binary_accuracy: 0.8594\n",
      "Epoch 30/30\n",
      "80/80 [==============================] - 3s 41ms/step - loss: 0.2455 - binary_accuracy: 0.9062 - val_loss: 0.3377 - val_binary_accuracy: 0.8575\n"
     ]
    }
   ],
   "source": [
    "history = model.fit(\n",
    "    ds_train,\n",
    "    validation_data=ds_valid,\n",
    "    epochs=30,\n",
    ")"
   ]
  },
  {
   "cell_type": "markdown",
   "id": "50c402ac",
   "metadata": {
    "papermill": {
     "duration": 0.042281,
     "end_time": "2025-08-31T15:58:44.667669",
     "exception": false,
     "start_time": "2025-08-31T15:58:44.625388",
     "status": "completed"
    },
    "tags": []
   },
   "source": [
    "Run the cell below to plot the loss and metric curves for this training run."
   ]
  },
  {
   "cell_type": "code",
   "execution_count": 10,
   "id": "9bd8376e",
   "metadata": {
    "execution": {
     "iopub.execute_input": "2025-08-31T15:58:44.753666Z",
     "iopub.status.busy": "2025-08-31T15:58:44.753398Z",
     "iopub.status.idle": "2025-08-31T15:58:45.262018Z",
     "shell.execute_reply": "2025-08-31T15:58:45.261139Z"
    },
    "papermill": {
     "duration": 0.553345,
     "end_time": "2025-08-31T15:58:45.263595",
     "exception": false,
     "start_time": "2025-08-31T15:58:44.710250",
     "status": "completed"
    },
    "tags": []
   },
   "outputs": [
    {
     "data": {
      "image/png": "[encoded data removed]",
      "text/plain": [
       "<Figure size 640x480 with 1 Axes>"
      ]
     },
     "metadata": {},
     "output_type": "display_data"
    },
    {
     "data": {
      "image/png": "[encoded data removed]",
      "text/plain": [
       "<Figure size 640x480 with 1 Axes>"
      ]
     },
     "metadata": {},
     "output_type": "display_data"
    }
   ],
   "source": [
    "import pandas as pd\n",
    "history_frame = pd.DataFrame(history.history)\n",
    "history_frame.loc[:, ['loss', 'val_loss']].plot()\n",
    "history_frame.loc[:, ['binary_accuracy', 'val_binary_accuracy']].plot();"
   ]
  },
  {
   "cell_type": "markdown",
   "id": "d87d23f1",
   "metadata": {
    "papermill": {
     "duration": 0.04284,
     "end_time": "2025-08-31T15:58:45.390746",
     "exception": false,
     "start_time": "2025-08-31T15:58:45.347906",
     "status": "completed"
    },
    "tags": []
   },
   "source": [
    "# 4) Examine Loss and Accuracy #\n",
    "\n",
    "Do you notice a difference between these learning curves and the curves for VGG16 from the tutorial? What does this difference tell you about what this model (InceptionV2) learned compared to VGG16? Are there ways in which one is better than the other? Worse?\n",
    "\n",
    "After you've thought about it, run the cell below to see the answer."
   ]
  },
  {
   "cell_type": "code",
   "execution_count": 11,
   "id": "b17f04ed",
   "metadata": {
    "execution": {
     "iopub.execute_input": "2025-08-31T15:58:45.477893Z",
     "iopub.status.busy": "2025-08-31T15:58:45.477585Z",
     "iopub.status.idle": "2025-08-31T15:58:45.484432Z",
     "shell.execute_reply": "2025-08-31T15:58:45.483724Z"
    },
    "papermill": {
     "duration": 0.05202,
     "end_time": "2025-08-31T15:58:45.485971",
     "exception": false,
     "start_time": "2025-08-31T15:58:45.433951",
     "status": "completed"
    },
    "tags": []
   },
   "outputs": [
    {
     "data": {
      "application/javascript": [
       "parent.postMessage({\"jupyterEvent\": \"custom.exercise_interaction\", \"data\": {\"outcomeType\": 1, \"valueTowardsCompletion\": 0.25, \"interactionType\": 1, \"questionType\": 4, \"questionId\": \"4_Q4\", \"learnToolsVersion\": \"0.3.4\", \"failureMessage\": \"\", \"exceptionClass\": \"\", \"trace\": \"\"}}, \"*\")"
      ],
      "text/plain": [
       "<IPython.core.display.Javascript object>"
      ]
     },
     "metadata": {},
     "output_type": "display_data"
    },
    {
     "data": {
      "text/markdown": [
       "<span style=\"color:#33cc33\">Correct:</span> \n",
       "\n",
       "That the training loss and validation loss stay fairly close is evidence that the model isn't just memorizing the training data, but rather learning general properties of the two classes. But, because this model converges at a loss greater than the VGG16 model, it's likely that it is underfitting some, and could benefit from some extra capacity.\n"
      ],
      "text/plain": [
       "Correct: \n",
       "\n",
       "That the training loss and validation loss stay fairly close is evidence that the model isn't just memorizing the training data, but rather learning general properties of the two classes. But, because this model converges at a loss greater than the VGG16 model, it's likely that it is underfitting some, and could benefit from some extra capacity."
      ]
     },
     "metadata": {},
     "output_type": "display_data"
    }
   ],
   "source": [
    "# View the solution (Run this code cell to receive credit!)\n",
    "q_4.check()"
   ]
  },
  {
   "cell_type": "markdown",
   "id": "d97508ca",
   "metadata": {
    "papermill": {
     "duration": 0.043435,
     "end_time": "2025-08-31T15:58:45.573140",
     "exception": false,
     "start_time": "2025-08-31T15:58:45.529705",
     "status": "completed"
    },
    "tags": []
   },
   "source": [
    "# Conclusion #\n",
    "\n",
    "In this first lesson, you learned the basics of **convolutional image classifiers**, that they consist of a **base** for extracting features from images, and a **head** which uses the features to decide the image's class. You also saw how to build a classifier with **transfer learning** on pretrained base. "
   ]
  },
  {
   "cell_type": "markdown",
   "id": "437fadc9",
   "metadata": {
    "papermill": {
     "duration": 0.042975,
     "end_time": "2025-08-31T15:58:45.661606",
     "exception": false,
     "start_time": "2025-08-31T15:58:45.618631",
     "status": "completed"
    },
    "tags": []
   },
   "source": [
    "# Keep Going #\n",
    "\n",
    "Move on to [**Lesson 2**](https://www.kaggle.com/ryanholbrook/convolution-and-relu) for a detailed look at how the base does this feature extraction. (It's really cool!)"
   ]
  },
  {
   "cell_type": "markdown",
   "id": "9f768eca",
   "metadata": {
    "papermill": {
     "duration": 0.043159,
     "end_time": "2025-08-31T15:58:45.747669",
     "exception": false,
     "start_time": "2025-08-31T15:58:45.704510",
     "status": "completed"
    },
    "tags": []
   },
   "source": [
    "---\n",
    "\n",
    "\n",
    "\n",
    "\n",
    "*Have questions or comments? Visit the [course discussion forum](https://www.kaggle.com/learn/computer-vision/discussion) to chat with other learners.*"
   ]
  }
 ],
 "metadata": {
  "jupytext": {
   "formats": "ipynb,md",
   "split_at_heading": true
  },
  "kaggle": {
   "accelerator": "gpu",
   "dataSources": [
    {
     "datasetId": 708136,
     "sourceId": 1338830,
     "sourceType": "datasetVersion"
    },
    {
     "datasetId": 701538,
     "sourceId": 1363948,
     "sourceType": "datasetVersion"
    },
    {
     "datasetId": 878523,
     "sourceId": 1495782,
     "sourceType": "datasetVersion"
    }
   ],
   "dockerImageVersionId": 30648,
   "isGpuEnabled": true,
   "isInternetEnabled": false,
   "language": "python",
   "sourceType": "notebook"
  },
  "kernelspec": {
   "display_name": "Python 3",
   "language": "python",
   "name": "python3"
  },
  "language_info": {
   "codemirror_mode": {
    "name": "ipython",
    "version": 3
   },
   "file_extension": ".py",
   "mimetype": "text/x-python",
   "name": "python",
   "nbconvert_exporter": "python",
   "pygments_lexer": "ipython3",
   "version": "3.10.13"
  },
  "papermill": {
   "default_parameters": {},
   "duration": 148.111301,
   "end_time": "2025-08-31T15:58:48.555592",
   "environment_variables": {},
   "exception": null,
   "input_path": "__notebook__.ipynb",
   "output_path": "__notebook__.ipynb",
   "parameters": {},
   "start_time": "2025-08-31T15:56:20.444291",
   "version": "2.5.0"
  }
 },
 "nbformat": 4,
 "nbformat_minor": 5
}
