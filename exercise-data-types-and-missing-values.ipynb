{
 "cells": [
  {
   "cell_type": "markdown",
   "id": "3bdc5874",
   "metadata": {
    "papermill": {
     "duration": 0.003718,
     "end_time": "2025-08-29T15:30:20.648615",
     "exception": false,
     "start_time": "2025-08-29T15:30:20.644897",
     "status": "completed"
    },
    "tags": []
   },
   "source": [
    "**This notebook is an exercise in the [Pandas](https://www.kaggle.com/learn/pandas) course.  You can reference the tutorial at [this link](https://www.kaggle.com/residentmario/data-types-and-missing-values).**\n",
    "\n",
    "---\n"
   ]
  },
  {
   "cell_type": "markdown",
   "id": "66120e39",
   "metadata": {
    "papermill": {
     "duration": 0.002652,
     "end_time": "2025-08-29T15:30:20.654444",
     "exception": false,
     "start_time": "2025-08-29T15:30:20.651792",
     "status": "completed"
    },
    "tags": []
   },
   "source": [
    "# Introduction\n",
    "\n",
    "Run the following cell to load your data and some utility functions."
   ]
  },
  {
   "cell_type": "code",
   "execution_count": 1,
   "id": "cb1d9c13",
   "metadata": {
    "execution": {
     "iopub.execute_input": "2025-08-29T15:30:20.662021Z",
     "iopub.status.busy": "2025-08-29T15:30:20.661116Z",
     "iopub.status.idle": "2025-08-29T15:30:25.428881Z",
     "shell.execute_reply": "2025-08-29T15:30:25.427511Z"
    },
    "papermill": {
     "duration": 4.773167,
     "end_time": "2025-08-29T15:30:25.430482",
     "exception": false,
     "start_time": "2025-08-29T15:30:20.657315",
     "status": "completed"
    },
    "tags": []
   },
   "outputs": [
    {
     "name": "stdout",
     "output_type": "stream",
     "text": [
      "Setup complete.\n"
     ]
    }
   ],
   "source": [
    "import pandas as pd\n",
    "\n",
    "reviews = pd.read_csv(\"../input/wine-reviews/winemag-data-130k-v2.csv\", index_col=0)\n",
    "\n",
    "from learntools.core import binder; binder.bind(globals())\n",
    "from learntools.pandas.data_types_and_missing_data import *\n",
    "print(\"Setup complete.\")"
   ]
  },
  {
   "cell_type": "markdown",
   "id": "6ae48195",
   "metadata": {
    "papermill": {
     "duration": 0.002732,
     "end_time": "2025-08-29T15:30:25.436479",
     "exception": false,
     "start_time": "2025-08-29T15:30:25.433747",
     "status": "completed"
    },
    "tags": []
   },
   "source": [
    "# Exercises"
   ]
  },
  {
   "cell_type": "markdown",
   "id": "4447f570",
   "metadata": {
    "papermill": {
     "duration": 0.00303,
     "end_time": "2025-08-29T15:30:25.443381",
     "exception": false,
     "start_time": "2025-08-29T15:30:25.440351",
     "status": "completed"
    },
    "tags": []
   },
   "source": [
    "## 1. \n",
    "What is the data type of the `points` column in the dataset?"
   ]
  },
  {
   "cell_type": "code",
   "execution_count": 2,
   "id": "4cfaed02",
   "metadata": {
    "execution": {
     "iopub.execute_input": "2025-08-29T15:30:25.450503Z",
     "iopub.status.busy": "2025-08-29T15:30:25.450203Z",
     "iopub.status.idle": "2025-08-29T15:30:25.458837Z",
     "shell.execute_reply": "2025-08-29T15:30:25.457700Z"
    },
    "papermill": {
     "duration": 0.013996,
     "end_time": "2025-08-29T15:30:25.460396",
     "exception": false,
     "start_time": "2025-08-29T15:30:25.446400",
     "status": "completed"
    },
    "tags": []
   },
   "outputs": [
    {
     "data": {
      "application/javascript": [
       "parent.postMessage({\"jupyterEvent\": \"custom.exercise_interaction\", \"data\": {\"outcomeType\": 1, \"valueTowardsCompletion\": 0.25, \"interactionType\": 1, \"questionType\": 1, \"questionId\": \"1_PointsDtype\", \"learnToolsVersion\": \"0.3.5\", \"failureMessage\": \"\", \"exceptionClass\": \"\", \"trace\": \"\"}}, \"*\")"
      ],
      "text/plain": [
       "<IPython.core.display.Javascript object>"
      ]
     },
     "metadata": {},
     "output_type": "display_data"
    },
    {
     "data": {
      "text/markdown": [
       "<span style=\"color:#33cc33\">Correct</span>"
      ],
      "text/plain": [
       "Correct"
      ]
     },
     "metadata": {},
     "output_type": "display_data"
    }
   ],
   "source": [
    "# Your code here\n",
    "dtype = reviews.points.dtype\n",
    "\n",
    "# Check your answer\n",
    "q1.check()"
   ]
  },
  {
   "cell_type": "code",
   "execution_count": 3,
   "id": "dd2a9842",
   "metadata": {
    "execution": {
     "iopub.execute_input": "2025-08-29T15:30:25.469474Z",
     "iopub.status.busy": "2025-08-29T15:30:25.469169Z",
     "iopub.status.idle": "2025-08-29T15:30:25.473766Z",
     "shell.execute_reply": "2025-08-29T15:30:25.472759Z"
    },
    "papermill": {
     "duration": 0.010606,
     "end_time": "2025-08-29T15:30:25.475370",
     "exception": false,
     "start_time": "2025-08-29T15:30:25.464764",
     "status": "completed"
    },
    "tags": []
   },
   "outputs": [],
   "source": [
    "#q1.hint()\n",
    "#q1.solution()"
   ]
  },
  {
   "cell_type": "markdown",
   "id": "3f7484b2",
   "metadata": {
    "papermill": {
     "duration": 0.002902,
     "end_time": "2025-08-29T15:30:25.481784",
     "exception": false,
     "start_time": "2025-08-29T15:30:25.478882",
     "status": "completed"
    },
    "tags": []
   },
   "source": [
    "## 2. \n",
    "Create a Series from entries in the `points` column, but convert the entries to strings. Hint: strings are `str` in native Python."
   ]
  },
  {
   "cell_type": "code",
   "execution_count": 4,
   "id": "d9d0a6e4",
   "metadata": {
    "execution": {
     "iopub.execute_input": "2025-08-29T15:30:25.489718Z",
     "iopub.status.busy": "2025-08-29T15:30:25.489399Z",
     "iopub.status.idle": "2025-08-29T15:30:25.525707Z",
     "shell.execute_reply": "2025-08-29T15:30:25.524619Z"
    },
    "papermill": {
     "duration": 0.042022,
     "end_time": "2025-08-29T15:30:25.527102",
     "exception": false,
     "start_time": "2025-08-29T15:30:25.485080",
     "status": "completed"
    },
    "tags": []
   },
   "outputs": [
    {
     "data": {
      "application/javascript": [
       "parent.postMessage({\"jupyterEvent\": \"custom.exercise_interaction\", \"data\": {\"outcomeType\": 1, \"valueTowardsCompletion\": 0.25, \"interactionType\": 1, \"questionType\": 1, \"questionId\": \"2_StrPoints\", \"learnToolsVersion\": \"0.3.5\", \"failureMessage\": \"\", \"exceptionClass\": \"\", \"trace\": \"\"}}, \"*\")"
      ],
      "text/plain": [
       "<IPython.core.display.Javascript object>"
      ]
     },
     "metadata": {},
     "output_type": "display_data"
    },
    {
     "data": {
      "text/markdown": [
       "<span style=\"color:#33cc33\">Correct</span>"
      ],
      "text/plain": [
       "Correct"
      ]
     },
     "metadata": {},
     "output_type": "display_data"
    }
   ],
   "source": [
    "point_strings = reviews.points.astype('str')\n",
    "\n",
    "# Check your answer\n",
    "q2.check()"
   ]
  },
  {
   "cell_type": "code",
   "execution_count": 5,
   "id": "249595ee",
   "metadata": {
    "execution": {
     "iopub.execute_input": "2025-08-29T15:30:25.537298Z",
     "iopub.status.busy": "2025-08-29T15:30:25.536780Z",
     "iopub.status.idle": "2025-08-29T15:30:25.542217Z",
     "shell.execute_reply": "2025-08-29T15:30:25.540863Z"
    },
    "papermill": {
     "duration": 0.012716,
     "end_time": "2025-08-29T15:30:25.544020",
     "exception": false,
     "start_time": "2025-08-29T15:30:25.531304",
     "status": "completed"
    },
    "tags": []
   },
   "outputs": [],
   "source": [
    "#q2.hint()\n",
    "#q2.solution()"
   ]
  },
  {
   "cell_type": "markdown",
   "id": "474c394b",
   "metadata": {
    "papermill": {
     "duration": 0.003684,
     "end_time": "2025-08-29T15:30:25.551652",
     "exception": false,
     "start_time": "2025-08-29T15:30:25.547968",
     "status": "completed"
    },
    "tags": []
   },
   "source": [
    "## 3.\n",
    "Sometimes the price column is null. How many reviews in the dataset are missing a price?"
   ]
  },
  {
   "cell_type": "code",
   "execution_count": 6,
   "id": "4b6706e9",
   "metadata": {
    "execution": {
     "iopub.execute_input": "2025-08-29T15:30:25.559688Z",
     "iopub.status.busy": "2025-08-29T15:30:25.559417Z",
     "iopub.status.idle": "2025-08-29T15:30:25.574941Z",
     "shell.execute_reply": "2025-08-29T15:30:25.573899Z"
    },
    "papermill": {
     "duration": 0.021552,
     "end_time": "2025-08-29T15:30:25.576781",
     "exception": false,
     "start_time": "2025-08-29T15:30:25.555229",
     "status": "completed"
    },
    "tags": []
   },
   "outputs": [
    {
     "data": {
      "application/javascript": [
       "parent.postMessage({\"jupyterEvent\": \"custom.exercise_interaction\", \"data\": {\"outcomeType\": 1, \"valueTowardsCompletion\": 0.25, \"interactionType\": 1, \"questionType\": 1, \"questionId\": \"3_CountMissingPrices\", \"learnToolsVersion\": \"0.3.5\", \"failureMessage\": \"\", \"exceptionClass\": \"\", \"trace\": \"\"}}, \"*\")"
      ],
      "text/plain": [
       "<IPython.core.display.Javascript object>"
      ]
     },
     "metadata": {},
     "output_type": "display_data"
    },
    {
     "data": {
      "text/markdown": [
       "<span style=\"color:#33cc33\">Correct</span>"
      ],
      "text/plain": [
       "Correct"
      ]
     },
     "metadata": {},
     "output_type": "display_data"
    }
   ],
   "source": [
    "n_missing_prices = reviews[pd.isnull(reviews.price)].shape[0]\n",
    "\n",
    "# Check your answer\n",
    "q3.check()"
   ]
  },
  {
   "cell_type": "code",
   "execution_count": 7,
   "id": "176fab6f",
   "metadata": {
    "execution": {
     "iopub.execute_input": "2025-08-29T15:30:25.585214Z",
     "iopub.status.busy": "2025-08-29T15:30:25.584871Z",
     "iopub.status.idle": "2025-08-29T15:30:25.589016Z",
     "shell.execute_reply": "2025-08-29T15:30:25.588209Z"
    },
    "papermill": {
     "duration": 0.009811,
     "end_time": "2025-08-29T15:30:25.590467",
     "exception": false,
     "start_time": "2025-08-29T15:30:25.580656",
     "status": "completed"
    },
    "tags": []
   },
   "outputs": [],
   "source": [
    "#q3.hint()\n",
    "#q3.solution()"
   ]
  },
  {
   "cell_type": "markdown",
   "id": "2cb7c101",
   "metadata": {
    "papermill": {
     "duration": 0.003426,
     "end_time": "2025-08-29T15:30:25.597584",
     "exception": false,
     "start_time": "2025-08-29T15:30:25.594158",
     "status": "completed"
    },
    "tags": []
   },
   "source": [
    "## 4.\n",
    "What are the most common wine-producing regions? Create a Series counting the number of times each value occurs in the `region_1` field. This field is often missing data, so replace missing values with `Unknown`. Sort in descending order.  Your output should look something like this:\n",
    "\n",
    "```\n",
    "Unknown                    21247\n",
    "Napa Valley                 4480\n",
    "                           ...  \n",
    "Bardolino Superiore            1\n",
    "Primitivo del Tarantino        1\n",
    "Name: region_1, Length: 1230, dtype: int64\n",
    "```"
   ]
  },
  {
   "cell_type": "code",
   "execution_count": 8,
   "id": "e16678f8",
   "metadata": {
    "execution": {
     "iopub.execute_input": "2025-08-29T15:30:25.605864Z",
     "iopub.status.busy": "2025-08-29T15:30:25.605344Z",
     "iopub.status.idle": "2025-08-29T15:30:25.647150Z",
     "shell.execute_reply": "2025-08-29T15:30:25.646286Z"
    },
    "papermill": {
     "duration": 0.047802,
     "end_time": "2025-08-29T15:30:25.648813",
     "exception": false,
     "start_time": "2025-08-29T15:30:25.601011",
     "status": "completed"
    },
    "tags": []
   },
   "outputs": [
    {
     "data": {
      "application/javascript": [
       "parent.postMessage({\"jupyterEvent\": \"custom.exercise_interaction\", \"data\": {\"outcomeType\": 1, \"valueTowardsCompletion\": 0.25, \"interactionType\": 1, \"questionType\": 2, \"questionId\": \"4_ReviewsPerRegion\", \"learnToolsVersion\": \"0.3.5\", \"failureMessage\": \"\", \"exceptionClass\": \"\", \"trace\": \"\"}}, \"*\")"
      ],
      "text/plain": [
       "<IPython.core.display.Javascript object>"
      ]
     },
     "metadata": {},
     "output_type": "display_data"
    },
    {
     "data": {
      "text/markdown": [
       "<span style=\"color:#33cc33\">Correct</span>"
      ],
      "text/plain": [
       "Correct"
      ]
     },
     "metadata": {},
     "output_type": "display_data"
    }
   ],
   "source": [
    "reviews_per_region = reviews.region_1.fillna(\"Unknown\").value_counts().sort_values(ascending=False)\n",
    "\n",
    "# Check your answer\n",
    "q4.check()"
   ]
  },
  {
   "cell_type": "code",
   "execution_count": 9,
   "id": "a8a00723",
   "metadata": {
    "execution": {
     "iopub.execute_input": "2025-08-29T15:30:25.658637Z",
     "iopub.status.busy": "2025-08-29T15:30:25.658073Z",
     "iopub.status.idle": "2025-08-29T15:30:25.661797Z",
     "shell.execute_reply": "2025-08-29T15:30:25.660860Z"
    },
    "papermill": {
     "duration": 0.010416,
     "end_time": "2025-08-29T15:30:25.663570",
     "exception": false,
     "start_time": "2025-08-29T15:30:25.653154",
     "status": "completed"
    },
    "tags": []
   },
   "outputs": [],
   "source": [
    "# q4.hint()\n",
    "#q4.solution()"
   ]
  },
  {
   "cell_type": "markdown",
   "id": "ece995e1",
   "metadata": {
    "papermill": {
     "duration": 0.003388,
     "end_time": "2025-08-29T15:30:25.670918",
     "exception": false,
     "start_time": "2025-08-29T15:30:25.667530",
     "status": "completed"
    },
    "tags": []
   },
   "source": [
    "# Keep going\n",
    "\n",
    "Move on to **[renaming and combining](https://www.kaggle.com/residentmario/renaming-and-combining)**."
   ]
  },
  {
   "cell_type": "markdown",
   "id": "b3f1e5e2",
   "metadata": {
    "papermill": {
     "duration": 0.003368,
     "end_time": "2025-08-29T15:30:25.677862",
     "exception": false,
     "start_time": "2025-08-29T15:30:25.674494",
     "status": "completed"
    },
    "tags": []
   },
   "source": [
    "---\n",
    "\n",
    "\n",
    "\n",
    "\n",
    "*Have questions or comments? Visit the [course discussion forum](https://www.kaggle.com/learn/pandas/discussion) to chat with other learners.*"
   ]
  }
 ],
 "metadata": {
  "kaggle": {
   "accelerator": "none",
   "dataSources": [
    {
     "datasetId": 655,
     "sourceId": 1252,
     "sourceType": "datasetVersion"
    },
    {
     "datasetId": 2321,
     "sourceId": 3919,
     "sourceType": "datasetVersion"
    },
    {
     "datasetId": 2894,
     "sourceId": 4877,
     "sourceType": "datasetVersion"
    },
    {
     "datasetId": 3491,
     "sourceId": 5624,
     "sourceType": "datasetVersion"
    },
    {
     "datasetId": 1442,
     "sourceId": 8172,
     "sourceType": "datasetVersion"
    },
    {
     "datasetId": 9366,
     "sourceId": 13206,
     "sourceType": "datasetVersion"
    },
    {
     "datasetId": 179555,
     "sourceId": 403916,
     "sourceType": "datasetVersion"
    },
    {
     "datasetId": 4549,
     "sourceId": 466349,
     "sourceType": "datasetVersion"
    },
    {
     "datasetId": 2478,
     "sourceId": 1151655,
     "sourceType": "datasetVersion"
    },
    {
     "datasetId": 10128,
     "sourceId": 5438389,
     "sourceType": "datasetVersion"
    }
   ],
   "isGpuEnabled": false,
   "isInternetEnabled": false,
   "language": "python",
   "sourceType": "notebook"
  },
  "kernelspec": {
   "display_name": "Python 3",
   "language": "python",
   "name": "python3"
  },
  "language_info": {
   "codemirror_mode": {
    "name": "ipython",
    "version": 3
   },
   "file_extension": ".py",
   "mimetype": "text/x-python",
   "name": "python",
   "nbconvert_exporter": "python",
   "pygments_lexer": "ipython3",
   "version": "3.11.13"
  },
  "papermill": {
   "default_parameters": {},
   "duration": 11.451341,
   "end_time": "2025-08-29T15:30:26.201469",
   "environment_variables": {},
   "exception": null,
   "input_path": "__notebook__.ipynb",
   "output_path": "__notebook__.ipynb",
   "parameters": {},
   "start_time": "2025-08-29T15:30:14.750128",
   "version": "2.6.0"
  }
 },
 "nbformat": 4,
 "nbformat_minor": 5
}
