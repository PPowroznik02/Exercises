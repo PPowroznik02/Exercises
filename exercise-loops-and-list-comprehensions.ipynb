{
 "cells": [
  {
   "cell_type": "markdown",
   "id": "803ee4df",
   "metadata": {
    "papermill": {
     "duration": 0.004497,
     "end_time": "2025-08-30T11:01:29.638367",
     "exception": false,
     "start_time": "2025-08-30T11:01:29.633870",
     "status": "completed"
    },
    "tags": []
   },
   "source": [
    "**This notebook is an exercise in the [Python](https://www.kaggle.com/learn/python) course.  You can reference the tutorial at [this link](https://www.kaggle.com/colinmorris/loops-and-list-comprehensions).**\n",
    "\n",
    "---\n"
   ]
  },
  {
   "cell_type": "markdown",
   "id": "ca1c2273",
   "metadata": {
    "papermill": {
     "duration": 0.003287,
     "end_time": "2025-08-30T11:01:29.645434",
     "exception": false,
     "start_time": "2025-08-30T11:01:29.642147",
     "status": "completed"
    },
    "tags": []
   },
   "source": [
    "With all you've learned, you can start writing much more interesting programs. See if you can solve the problems below.\n",
    "\n",
    "As always, run the setup code below before working on the questions."
   ]
  },
  {
   "cell_type": "code",
   "execution_count": 1,
   "id": "514efe29",
   "metadata": {
    "execution": {
     "iopub.execute_input": "2025-08-30T11:01:29.653653Z",
     "iopub.status.busy": "2025-08-30T11:01:29.653346Z",
     "iopub.status.idle": "2025-08-30T11:01:31.453890Z",
     "shell.execute_reply": "2025-08-30T11:01:31.452961Z"
    },
    "papermill": {
     "duration": 1.806336,
     "end_time": "2025-08-30T11:01:31.455348",
     "exception": false,
     "start_time": "2025-08-30T11:01:29.649012",
     "status": "completed"
    },
    "tags": []
   },
   "outputs": [
    {
     "name": "stdout",
     "output_type": "stream",
     "text": [
      "Setup complete.\n"
     ]
    }
   ],
   "source": [
    "from learntools.core import binder; binder.bind(globals())\n",
    "from learntools.python.ex5 import *\n",
    "print('Setup complete.')"
   ]
  },
  {
   "cell_type": "markdown",
   "id": "86982a54",
   "metadata": {
    "papermill": {
     "duration": 0.003491,
     "end_time": "2025-08-30T11:01:31.462607",
     "exception": false,
     "start_time": "2025-08-30T11:01:31.459116",
     "status": "completed"
    },
    "tags": []
   },
   "source": [
    "# 1.\n",
    "\n",
    "Have you ever felt debugging involved a bit of luck? The following program has a bug. Try to identify the bug and fix it."
   ]
  },
  {
   "cell_type": "code",
   "execution_count": 2,
   "id": "fe019f8f",
   "metadata": {
    "execution": {
     "iopub.execute_input": "2025-08-30T11:01:31.470817Z",
     "iopub.status.busy": "2025-08-30T11:01:31.470400Z",
     "iopub.status.idle": "2025-08-30T11:01:31.475045Z",
     "shell.execute_reply": "2025-08-30T11:01:31.474253Z"
    },
    "papermill": {
     "duration": 0.010331,
     "end_time": "2025-08-30T11:01:31.476433",
     "exception": false,
     "start_time": "2025-08-30T11:01:31.466102",
     "status": "completed"
    },
    "tags": []
   },
   "outputs": [],
   "source": [
    "def has_lucky_number(nums):\n",
    "    \"\"\"Return whether the given list of numbers is lucky. A lucky list contains\n",
    "    at least one number divisible by 7.\n",
    "    \"\"\"\n",
    "    for num in nums:\n",
    "        if num % 7 == 0:\n",
    "            return True\n",
    "        else:\n",
    "            return False"
   ]
  },
  {
   "cell_type": "markdown",
   "id": "00c1b794",
   "metadata": {
    "papermill": {
     "duration": 0.003249,
     "end_time": "2025-08-30T11:01:31.483379",
     "exception": false,
     "start_time": "2025-08-30T11:01:31.480130",
     "status": "completed"
    },
    "tags": []
   },
   "source": [
    "Try to identify the bug and fix it in the cell below:"
   ]
  },
  {
   "cell_type": "code",
   "execution_count": 3,
   "id": "07b0e77a",
   "metadata": {
    "execution": {
     "iopub.execute_input": "2025-08-30T11:01:31.491271Z",
     "iopub.status.busy": "2025-08-30T11:01:31.490997Z",
     "iopub.status.idle": "2025-08-30T11:01:31.498698Z",
     "shell.execute_reply": "2025-08-30T11:01:31.497929Z"
    },
    "papermill": {
     "duration": 0.013281,
     "end_time": "2025-08-30T11:01:31.499989",
     "exception": false,
     "start_time": "2025-08-30T11:01:31.486708",
     "status": "completed"
    },
    "tags": []
   },
   "outputs": [
    {
     "data": {
      "application/javascript": [
       "parent.postMessage({\"jupyterEvent\": \"custom.exercise_interaction\", \"data\": {\"outcomeType\": 1, \"valueTowardsCompletion\": 0.25, \"interactionType\": 1, \"questionType\": 2, \"questionId\": \"1_EarlyExitDebugging\", \"learnToolsVersion\": \"0.3.5\", \"failureMessage\": \"\", \"exceptionClass\": \"\", \"trace\": \"\"}}, \"*\")"
      ],
      "text/plain": [
       "<IPython.core.display.Javascript object>"
      ]
     },
     "metadata": {},
     "output_type": "display_data"
    },
    {
     "data": {
      "text/markdown": [
       "<span style=\"color:#33cc33\">Correct:</span> \n",
       "\n",
       "Remember that `return` causes a function to exit immediately. So our original implementation always ran for just one iteration. We can only return `False` if we've looked at every element of the list (and confirmed that none of them are lucky). Though we can return early if the answer is `True`:\n",
       "\n",
       "```python\n",
       "def has_lucky_number(nums):\n",
       "    for num in nums:\n",
       "        if num % 7 == 0:\n",
       "            return True\n",
       "    # We've exhausted the list without finding a lucky number\n",
       "    return False\n",
       "```\n",
       "\n",
       "Here's a one-line version using a list comprehension with Python's `any` function (you can read about what it does by calling `help(any)`):\n",
       "\n",
       "```python\n",
       "def has_lucky_number(nums):\n",
       "    return any([num % 7 == 0 for num in nums])\n",
       "```\n"
      ],
      "text/plain": [
       "Correct: \n",
       "\n",
       "Remember that `return` causes a function to exit immediately. So our original implementation always ran for just one iteration. We can only return `False` if we've looked at every element of the list (and confirmed that none of them are lucky). Though we can return early if the answer is `True`:\n",
       "\n",
       "```python\n",
       "def has_lucky_number(nums):\n",
       "    for num in nums:\n",
       "        if num % 7 == 0:\n",
       "            return True\n",
       "    # We've exhausted the list without finding a lucky number\n",
       "    return False\n",
       "```\n",
       "\n",
       "Here's a one-line version using a list comprehension with Python's `any` function (you can read about what it does by calling `help(any)`):\n",
       "\n",
       "```python\n",
       "def has_lucky_number(nums):\n",
       "    return any([num % 7 == 0 for num in nums])\n",
       "```"
      ]
     },
     "metadata": {},
     "output_type": "display_data"
    }
   ],
   "source": [
    "def has_lucky_number(nums):\n",
    "    \"\"\"Return whether the given list of numbers is lucky. A lucky list contains\n",
    "    at least one number divisible by 7.\n",
    "    \"\"\"\n",
    "    for num in nums:\n",
    "        if num % 7 == 0:\n",
    "            return True\n",
    "            \n",
    "    return False\n",
    "\n",
    "# Check your answer\n",
    "q1.check()"
   ]
  },
  {
   "cell_type": "code",
   "execution_count": 4,
   "id": "8d97b567",
   "metadata": {
    "execution": {
     "iopub.execute_input": "2025-08-30T11:01:31.508739Z",
     "iopub.status.busy": "2025-08-30T11:01:31.508483Z",
     "iopub.status.idle": "2025-08-30T11:01:31.511879Z",
     "shell.execute_reply": "2025-08-30T11:01:31.511237Z"
    },
    "papermill": {
     "duration": 0.009298,
     "end_time": "2025-08-30T11:01:31.513145",
     "exception": false,
     "start_time": "2025-08-30T11:01:31.503847",
     "status": "completed"
    },
    "tags": []
   },
   "outputs": [],
   "source": [
    "#q1.hint()\n",
    "#q1.solution()"
   ]
  },
  {
   "cell_type": "markdown",
   "id": "56b84797",
   "metadata": {
    "papermill": {
     "duration": 0.003468,
     "end_time": "2025-08-30T11:01:31.521308",
     "exception": false,
     "start_time": "2025-08-30T11:01:31.517840",
     "status": "completed"
    },
    "tags": []
   },
   "source": [
    "# 2.\n",
    "Look at the Python expression below. What do you think we'll get when we run it? When you've made your prediction, uncomment the code and run the cell to see if you were right."
   ]
  },
  {
   "cell_type": "code",
   "execution_count": 5,
   "id": "754cb3ac",
   "metadata": {
    "execution": {
     "iopub.execute_input": "2025-08-30T11:01:31.529693Z",
     "iopub.status.busy": "2025-08-30T11:01:31.529429Z",
     "iopub.status.idle": "2025-08-30T11:01:31.535284Z",
     "shell.execute_reply": "2025-08-30T11:01:31.534550Z"
    },
    "papermill": {
     "duration": 0.011494,
     "end_time": "2025-08-30T11:01:31.536456",
     "exception": false,
     "start_time": "2025-08-30T11:01:31.524962",
     "status": "completed"
    },
    "tags": []
   },
   "outputs": [
    {
     "data": {
      "text/plain": [
       "[False, False, True, True]"
      ]
     },
     "execution_count": 5,
     "metadata": {},
     "output_type": "execute_result"
    }
   ],
   "source": [
    "[ num > 2 for num in [1, 2, 3, 4]]"
   ]
  },
  {
   "cell_type": "markdown",
   "id": "3cf24c84",
   "metadata": {
    "papermill": {
     "duration": 0.003644,
     "end_time": "2025-08-30T11:01:31.544039",
     "exception": false,
     "start_time": "2025-08-30T11:01:31.540395",
     "status": "completed"
    },
    "tags": []
   },
   "source": [
    "R and Python have some libraries (like numpy and pandas) compare each element of the list to 2 (i.e. do an 'element-wise' comparison) and give us a list of booleans like `[False, False, True, True]`. \n",
    "\n",
    "Implement a function that reproduces this behaviour, returning a list of booleans corresponding to whether the corresponding element is greater than n."
   ]
  },
  {
   "cell_type": "code",
   "execution_count": 6,
   "id": "1b1f9b38",
   "metadata": {
    "execution": {
     "iopub.execute_input": "2025-08-30T11:01:31.552821Z",
     "iopub.status.busy": "2025-08-30T11:01:31.552569Z",
     "iopub.status.idle": "2025-08-30T11:01:31.559628Z",
     "shell.execute_reply": "2025-08-30T11:01:31.558963Z"
    },
    "papermill": {
     "duration": 0.012992,
     "end_time": "2025-08-30T11:01:31.560837",
     "exception": false,
     "start_time": "2025-08-30T11:01:31.547845",
     "status": "completed"
    },
    "tags": []
   },
   "outputs": [
    {
     "data": {
      "application/javascript": [
       "parent.postMessage({\"jupyterEvent\": \"custom.exercise_interaction\", \"data\": {\"outcomeType\": 1, \"valueTowardsCompletion\": 0.25, \"interactionType\": 1, \"questionType\": 2, \"questionId\": \"2_ElementWiseComparison\", \"learnToolsVersion\": \"0.3.5\", \"failureMessage\": \"\", \"exceptionClass\": \"\", \"trace\": \"\"}}, \"*\")"
      ],
      "text/plain": [
       "<IPython.core.display.Javascript object>"
      ]
     },
     "metadata": {},
     "output_type": "display_data"
    },
    {
     "data": {
      "text/markdown": [
       "<span style=\"color:#33cc33\">Correct:</span> \n",
       "\n",
       "Here's one solution:\n",
       "```python\n",
       "def elementwise_greater_than(L, thresh):\n",
       "    res = []\n",
       "    for ele in L:\n",
       "        res.append(ele > thresh)\n",
       "    return res\n",
       "```\n",
       "\n",
       "And here's the list comprehension version:\n",
       "```python\n",
       "def elementwise_greater_than(L, thresh):\n",
       "    return [ele > thresh for ele in L]\n",
       "```\n"
      ],
      "text/plain": [
       "Correct: \n",
       "\n",
       "Here's one solution:\n",
       "```python\n",
       "def elementwise_greater_than(L, thresh):\n",
       "    res = []\n",
       "    for ele in L:\n",
       "        res.append(ele > thresh)\n",
       "    return res\n",
       "```\n",
       "\n",
       "And here's the list comprehension version:\n",
       "```python\n",
       "def elementwise_greater_than(L, thresh):\n",
       "    return [ele > thresh for ele in L]\n",
       "```"
      ]
     },
     "metadata": {},
     "output_type": "display_data"
    }
   ],
   "source": [
    "def elementwise_greater_than(L, thresh):\n",
    "    \"\"\"Return a list with the same length as L, where the value at index i is \n",
    "    True if L[i] is greater than thresh, and False otherwise.\n",
    "    \n",
    "    >>> elementwise_greater_than([1, 2, 3, 4], 2)\n",
    "    [False, False, True, True]\n",
    "    \"\"\"\n",
    "    return [num > thresh for num in L]\n",
    "    \n",
    "\n",
    "# Check your answer\n",
    "q2.check()"
   ]
  },
  {
   "cell_type": "code",
   "execution_count": 7,
   "id": "118c267c",
   "metadata": {
    "execution": {
     "iopub.execute_input": "2025-08-30T11:01:31.570051Z",
     "iopub.status.busy": "2025-08-30T11:01:31.569746Z",
     "iopub.status.idle": "2025-08-30T11:01:31.573298Z",
     "shell.execute_reply": "2025-08-30T11:01:31.572661Z"
    },
    "papermill": {
     "duration": 0.009599,
     "end_time": "2025-08-30T11:01:31.574584",
     "exception": false,
     "start_time": "2025-08-30T11:01:31.564985",
     "status": "completed"
    },
    "tags": []
   },
   "outputs": [],
   "source": [
    "#q2.solution()"
   ]
  },
  {
   "cell_type": "markdown",
   "id": "17b64c2c",
   "metadata": {
    "papermill": {
     "duration": 0.00392,
     "end_time": "2025-08-30T11:01:31.582661",
     "exception": false,
     "start_time": "2025-08-30T11:01:31.578741",
     "status": "completed"
    },
    "tags": []
   },
   "source": [
    "# 3.\n",
    "\n",
    "Complete the body of the function below according to its docstring."
   ]
  },
  {
   "cell_type": "code",
   "execution_count": 8,
   "id": "00407f54",
   "metadata": {
    "execution": {
     "iopub.execute_input": "2025-08-30T11:01:31.592195Z",
     "iopub.status.busy": "2025-08-30T11:01:31.591638Z",
     "iopub.status.idle": "2025-08-30T11:01:31.598634Z",
     "shell.execute_reply": "2025-08-30T11:01:31.597956Z"
    },
    "papermill": {
     "duration": 0.0131,
     "end_time": "2025-08-30T11:01:31.599882",
     "exception": false,
     "start_time": "2025-08-30T11:01:31.586782",
     "status": "completed"
    },
    "tags": []
   },
   "outputs": [
    {
     "data": {
      "application/javascript": [
       "parent.postMessage({\"jupyterEvent\": \"custom.exercise_interaction\", \"data\": {\"outcomeType\": 1, \"valueTowardsCompletion\": 0.25, \"interactionType\": 1, \"questionType\": 2, \"questionId\": \"3_BoringMenu\", \"learnToolsVersion\": \"0.3.5\", \"failureMessage\": \"\", \"exceptionClass\": \"\", \"trace\": \"\"}}, \"*\")"
      ],
      "text/plain": [
       "<IPython.core.display.Javascript object>"
      ]
     },
     "metadata": {},
     "output_type": "display_data"
    },
    {
     "data": {
      "text/markdown": [
       "<span style=\"color:#33cc33\">Correct:</span> \n",
       "\n",
       "\n",
       "\n",
       "```python\n",
       "def menu_is_boring(meals):\n",
       "    # Iterate over all indices of the list, except the last one\n",
       "    for i in range(len(meals)-1):\n",
       "        if meals[i] == meals[i+1]:\n",
       "            return True\n",
       "    return False\n",
       "```\n",
       "\n",
       "The key to our solution is the call to `range`. `range(len(meals))` would give us all the indices of `meals`. If we had used that range, the last iteration of the loop would be comparing the last element to the element after it, which is... `IndexError`! `range(len(meals)-1)` gives us all the indices except the index of the last element.\n",
       "\n",
       "But don't we need to check if `meals` is empty? Turns out that `range(0) == range(-1)` - they're both empty. So if `meals` has length 0 or 1, we just won't do any iterations of our for loop.\n"
      ],
      "text/plain": [
       "Correct: \n",
       "\n",
       "\n",
       "\n",
       "```python\n",
       "def menu_is_boring(meals):\n",
       "    # Iterate over all indices of the list, except the last one\n",
       "    for i in range(len(meals)-1):\n",
       "        if meals[i] == meals[i+1]:\n",
       "            return True\n",
       "    return False\n",
       "```\n",
       "\n",
       "The key to our solution is the call to `range`. `range(len(meals))` would give us all the indices of `meals`. If we had used that range, the last iteration of the loop would be comparing the last element to the element after it, which is... `IndexError`! `range(len(meals)-1)` gives us all the indices except the index of the last element.\n",
       "\n",
       "But don't we need to check if `meals` is empty? Turns out that `range(0) == range(-1)` - they're both empty. So if `meals` has length 0 or 1, we just won't do any iterations of our for loop."
      ]
     },
     "metadata": {},
     "output_type": "display_data"
    }
   ],
   "source": [
    "def menu_is_boring(meals):\n",
    "    \"\"\"Given a list of meals served over some period of time, return True if the\n",
    "    same meal has ever been served two days in a row, and False otherwise.\n",
    "    \"\"\"\n",
    "    previous = \"\"\n",
    "    for meal in meals:\n",
    "        if meal == previous:\n",
    "            return True\n",
    "        previous = meal\n",
    "\n",
    "    return False\n",
    "    \n",
    "\n",
    "# Check your answer\n",
    "q3.check()"
   ]
  },
  {
   "cell_type": "code",
   "execution_count": 9,
   "id": "89a8e941",
   "metadata": {
    "execution": {
     "iopub.execute_input": "2025-08-30T11:01:31.609814Z",
     "iopub.status.busy": "2025-08-30T11:01:31.609529Z",
     "iopub.status.idle": "2025-08-30T11:01:31.613012Z",
     "shell.execute_reply": "2025-08-30T11:01:31.612231Z"
    },
    "papermill": {
     "duration": 0.010051,
     "end_time": "2025-08-30T11:01:31.614425",
     "exception": false,
     "start_time": "2025-08-30T11:01:31.604374",
     "status": "completed"
    },
    "tags": []
   },
   "outputs": [],
   "source": [
    "#q3.hint()\n",
    "#q3.solution()"
   ]
  },
  {
   "cell_type": "markdown",
   "id": "29f61eb7",
   "metadata": {
    "papermill": {
     "duration": 0.004027,
     "end_time": "2025-08-30T11:01:31.623045",
     "exception": false,
     "start_time": "2025-08-30T11:01:31.619018",
     "status": "completed"
    },
    "tags": []
   },
   "source": [
    "# 4. <span title=\"A bit spicy\" style=\"color: darkgreen \">🌶️</span>\n",
    "\n",
    "Next to the Blackjack table, the Python Challenge Casino has a slot machine. You can get a result from the slot machine by calling `play_slot_machine()`. The number it returns is your winnings in dollars. Usually it returns 0.  But sometimes you'll get lucky and get a big payday. Try running it below:"
   ]
  },
  {
   "cell_type": "code",
   "execution_count": 10,
   "id": "a2e85416",
   "metadata": {
    "execution": {
     "iopub.execute_input": "2025-08-30T11:01:31.632646Z",
     "iopub.status.busy": "2025-08-30T11:01:31.632373Z",
     "iopub.status.idle": "2025-08-30T11:01:31.637313Z",
     "shell.execute_reply": "2025-08-30T11:01:31.636673Z"
    },
    "papermill": {
     "duration": 0.011239,
     "end_time": "2025-08-30T11:01:31.638492",
     "exception": false,
     "start_time": "2025-08-30T11:01:31.627253",
     "status": "completed"
    },
    "tags": []
   },
   "outputs": [
    {
     "data": {
      "text/plain": [
       "0"
      ]
     },
     "execution_count": 10,
     "metadata": {},
     "output_type": "execute_result"
    }
   ],
   "source": [
    "play_slot_machine()"
   ]
  },
  {
   "cell_type": "markdown",
   "id": "88fdf095",
   "metadata": {
    "papermill": {
     "duration": 0.004116,
     "end_time": "2025-08-30T11:01:31.647018",
     "exception": false,
     "start_time": "2025-08-30T11:01:31.642902",
     "status": "completed"
    },
    "tags": []
   },
   "source": [
    "By the way, did we mention that each play costs $1? Don't worry, we'll send you the bill later.\n",
    "\n",
    "On average, how much money can you expect to gain (or lose) every time you play the machine?  The casino keeps it a secret, but you can estimate the average value of each pull using a technique called the **Monte Carlo method**. To estimate the average outcome, we simulate the scenario many times, and return the average result.\n",
    "\n",
    "Complete the following function to calculate the average value per play of the slot machine."
   ]
  },
  {
   "cell_type": "code",
   "execution_count": 11,
   "id": "6be36c94",
   "metadata": {
    "execution": {
     "iopub.execute_input": "2025-08-30T11:01:31.657191Z",
     "iopub.status.busy": "2025-08-30T11:01:31.656730Z",
     "iopub.status.idle": "2025-08-30T11:01:31.671739Z",
     "shell.execute_reply": "2025-08-30T11:01:31.670958Z"
    },
    "papermill": {
     "duration": 0.02166,
     "end_time": "2025-08-30T11:01:31.672966",
     "exception": false,
     "start_time": "2025-08-30T11:01:31.651306",
     "status": "completed"
    },
    "tags": []
   },
   "outputs": [
    {
     "name": "stdout",
     "output_type": "stream",
     "text": [
      "0.01044\n"
     ]
    }
   ],
   "source": [
    "def estimate_average_slot_payout(n_runs):\n",
    "    \"\"\"Run the slot machine n_runs times and return the average net profit per run.\n",
    "    Example calls (note that return value is nondeterministic!):\n",
    "    >>> estimate_average_slot_payout(1)\n",
    "    -1\n",
    "    >>> estimate_average_slot_payout(1)\n",
    "    0.5\n",
    "    \"\"\"\n",
    "    outcomes = [play_slot_machine() - 1 for i in range(n_runs)]\n",
    "    return(sum(outcomes) / n_runs)\n",
    "\n",
    "print(estimate_average_slot_payout(50000))"
   ]
  },
  {
   "cell_type": "markdown",
   "id": "f7811c74",
   "metadata": {
    "papermill": {
     "duration": 0.00416,
     "end_time": "2025-08-30T11:01:31.681731",
     "exception": false,
     "start_time": "2025-08-30T11:01:31.677571",
     "status": "completed"
    },
    "tags": []
   },
   "source": [
    "When you think you know the expected value per spin, run the code cell below to view the solution and get credit for answering the question."
   ]
  },
  {
   "cell_type": "code",
   "execution_count": 12,
   "id": "cc7d526d",
   "metadata": {
    "execution": {
     "iopub.execute_input": "2025-08-30T11:01:31.691712Z",
     "iopub.status.busy": "2025-08-30T11:01:31.691407Z",
     "iopub.status.idle": "2025-08-30T11:01:31.698034Z",
     "shell.execute_reply": "2025-08-30T11:01:31.697250Z"
    },
    "papermill": {
     "duration": 0.013174,
     "end_time": "2025-08-30T11:01:31.699254",
     "exception": false,
     "start_time": "2025-08-30T11:01:31.686080",
     "status": "completed"
    },
    "tags": []
   },
   "outputs": [
    {
     "data": {
      "application/javascript": [
       "parent.postMessage({\"jupyterEvent\": \"custom.exercise_interaction\", \"data\": {\"interactionType\": 3, \"questionType\": 4, \"questionId\": \"4_ExpectedSlotsPayout\", \"learnToolsVersion\": \"0.3.5\", \"valueTowardsCompletion\": 0.0, \"failureMessage\": \"\", \"exceptionClass\": \"\", \"trace\": \"\", \"outcomeType\": 4}}, \"*\")"
      ],
      "text/plain": [
       "<IPython.core.display.Javascript object>"
      ]
     },
     "metadata": {},
     "output_type": "display_data"
    },
    {
     "data": {
      "text/markdown": [
       "<span style=\"color:#33cc99\">Solution:</span> \n",
       "    \n",
       "The exact expected value of one pull of the slot machine is 0.025 - i.e. a little more than 2 cents.  See?  Not every game in the Python Challenge Casino is rigged against the player!\n",
       "\n",
       "In order to get this answer, you'll need to implement the `estimate_average_slot_payout(n_runs)` function to simulate pulling the slot machine `n_runs` times.  It should return the payout averaged over those `n_runs`.\n",
       "\n",
       "Then, once the function is defined, in order to estimate the average slot payout, we need only call the function.\n",
       "\n",
       "Because of the high variance of the outcome (there are some very rare high payout results that significantly affect the average) you might need to run your function with a very high value of `n_runs` to get a stable answer close to the true expectation.  For instance, you might use a value for `n_runs` of 1000000.\n",
       "\n",
       "Here's an example for how the function could look:\n",
       "```python\n",
       "def estimate_average_slot_payout(n_runs):\n",
       "    # Play slot machine n_runs times, calculate payout of each\n",
       "    payouts = [play_slot_machine()-1 for i in range(n_runs)]\n",
       "    # Calculate the average value\n",
       "    avg_payout = sum(payouts) / n_runs\n",
       "    return avg_payout\n",
       "    \n",
       "estimate_average_slot_payout(10000000)\n",
       "\n",
       "```\n",
       "\n",
       "This should return an answer close to 0.025!\n",
       "            \n"
      ],
      "text/plain": [
       "Solution: \n",
       "    \n",
       "The exact expected value of one pull of the slot machine is 0.025 - i.e. a little more than 2 cents.  See?  Not every game in the Python Challenge Casino is rigged against the player!\n",
       "\n",
       "In order to get this answer, you'll need to implement the `estimate_average_slot_payout(n_runs)` function to simulate pulling the slot machine `n_runs` times.  It should return the payout averaged over those `n_runs`.\n",
       "\n",
       "Then, once the function is defined, in order to estimate the average slot payout, we need only call the function.\n",
       "\n",
       "Because of the high variance of the outcome (there are some very rare high payout results that significantly affect the average) you might need to run your function with a very high value of `n_runs` to get a stable answer close to the true expectation.  For instance, you might use a value for `n_runs` of 1000000.\n",
       "\n",
       "Here's an example for how the function could look:\n",
       "```python\n",
       "def estimate_average_slot_payout(n_runs):\n",
       "    # Play slot machine n_runs times, calculate payout of each\n",
       "    payouts = [play_slot_machine()-1 for i in range(n_runs)]\n",
       "    # Calculate the average value\n",
       "    avg_payout = sum(payouts) / n_runs\n",
       "    return avg_payout\n",
       "    \n",
       "estimate_average_slot_payout(10000000)\n",
       "\n",
       "```\n",
       "\n",
       "This should return an answer close to 0.025!\n",
       "            "
      ]
     },
     "metadata": {},
     "output_type": "display_data"
    }
   ],
   "source": [
    "# Check your answer (Run this code cell to receive credit!)\n",
    "q4.solution()"
   ]
  },
  {
   "cell_type": "markdown",
   "id": "00a868c7",
   "metadata": {
    "papermill": {
     "duration": 0.004459,
     "end_time": "2025-08-30T11:01:31.708596",
     "exception": false,
     "start_time": "2025-08-30T11:01:31.704137",
     "status": "completed"
    },
    "tags": []
   },
   "source": [
    "# Keep Going\n",
    "\n",
    "Many programmers report that dictionaries are their favorite data structure. You'll get to **[learn about them](https://www.kaggle.com/colinmorris/strings-and-dictionaries)** (as well as strings) in the next lesson."
   ]
  },
  {
   "cell_type": "markdown",
   "id": "9ce5936d",
   "metadata": {
    "papermill": {
     "duration": 0.004289,
     "end_time": "2025-08-30T11:01:31.717424",
     "exception": false,
     "start_time": "2025-08-30T11:01:31.713135",
     "status": "completed"
    },
    "tags": []
   },
   "source": [
    "---\n",
    "\n",
    "\n",
    "\n",
    "\n",
    "*Have questions or comments? Visit the [course discussion forum](https://www.kaggle.com/learn/python/discussion) to chat with other learners.*"
   ]
  }
 ],
 "metadata": {
  "kaggle": {
   "accelerator": "none",
   "dataSources": [],
   "isGpuEnabled": false,
   "isInternetEnabled": false,
   "language": "python",
   "sourceType": "notebook"
  },
  "kernelspec": {
   "display_name": "Python 3",
   "language": "python",
   "name": "python3"
  },
  "language_info": {
   "codemirror_mode": {
    "name": "ipython",
    "version": 3
   },
   "file_extension": ".py",
   "mimetype": "text/x-python",
   "name": "python",
   "nbconvert_exporter": "python",
   "pygments_lexer": "ipython3",
   "version": "3.11.13"
  },
  "learntools_metadata": {
   "lesson_index": 4,
   "type": "exercise"
  },
  "papermill": {
   "default_parameters": {},
   "duration": 7.500954,
   "end_time": "2025-08-30T11:01:32.140145",
   "environment_variables": {},
   "exception": null,
   "input_path": "__notebook__.ipynb",
   "output_path": "__notebook__.ipynb",
   "parameters": {},
   "start_time": "2025-08-30T11:01:24.639191",
   "version": "2.6.0"
  }
 },
 "nbformat": 4,
 "nbformat_minor": 5
}
